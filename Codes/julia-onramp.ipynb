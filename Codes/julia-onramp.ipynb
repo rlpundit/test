{
 "cells": [
  {
   "cell_type": "markdown",
   "metadata": {},
   "source": [
    "# Lab. \\#1: ${\\tt Julia}$ Onramp\n",
    "---"
   ]
  },
  {
   "cell_type": "markdown",
   "metadata": {},
   "source": [
    "### GOALS\n",
    "- Enter commands in ${\\tt Julia}$ REPL to create variables and perform calculations;\n",
    "- Write and save programs;\n",
    "- Use indexing to extract and modify rows, columns, and elements of ${\\tt Julia}$ tensors."
   ]
  },
  {
   "cell_type": "markdown",
   "metadata": {},
   "source": [
    "${\\tt Julia}$ is a standalone program which can be downloaded from [https://julialang.org/downloads/](https://julialang.org/downloads/)"
   ]
  },
  {
   "cell_type": "markdown",
   "metadata": {
    "tags": []
   },
   "source": [
    "**Getting around**"
   ]
  },
  {
   "cell_type": "markdown",
   "metadata": {},
   "source": [
    "By default, Julia runs in an interactive terminal called the REPL. In this mode, Some useful commands are:\n",
    "1. `^C` aborts execution\n",
    "1. `^D` exits Julia\n",
    "1. `?` enters help mode\n",
    "1. `;` enters system shell mode\n",
    "1. `]` enters package manager mode\n",
    "1. `^l` clears screen"
   ]
  },
  {
   "cell_type": "markdown",
   "metadata": {},
   "source": [
    "We begin first by activating the environement within the desired folder."
   ]
  },
  {
   "cell_type": "markdown",
   "metadata": {},
   "source": [
    "From the REPL interface, either type\n",
    "```julia\n",
    "using Pkg  \n",
    "pkg\"activate .\"\n",
    "```\n",
    "or access the package mode by typing `]` and simply write\n",
    "```julia\n",
    "activate .\n",
    "```\n",
    "Always within the package mode, to see the full list of installed packages\n",
    "```julia\n",
    "st\n",
    "```"
   ]
  },
  {
   "cell_type": "code",
   "execution_count": 1,
   "metadata": {},
   "outputs": [
    {
     "name": "stderr",
     "output_type": "stream",
     "text": [
      "\u001b[32m\u001b[1m  Activating\u001b[22m\u001b[39m project at `~/MEGA/git-repos/infodev/Codes`\n"
     ]
    }
   ],
   "source": [
    "using Pkg\n",
    "pkg\"activate .\""
   ]
  },
  {
   "cell_type": "code",
   "execution_count": 2,
   "metadata": {},
   "outputs": [
    {
     "name": "stdout",
     "output_type": "stream",
     "text": [
      "\u001b[32m\u001b[1mStatus\u001b[22m\u001b[39m `~/MEGA/git-repos/infodev/Codes/Project.toml`\n",
      "  \u001b[90m[336ed68f] \u001b[39mCSV v0.10.12\n",
      "  \u001b[90m[8f4d0f93] \u001b[39mConda v1.10.0\n",
      "  \u001b[90m[a93c6f00] \u001b[39mDataFrames v1.6.1\n",
      "  \u001b[90m[e9467ef8] \u001b[39mGLMakie v0.9.5\n",
      "\u001b[32m⌃\u001b[39m \u001b[90m[a59fdf5c] \u001b[39mGenieFramework v1.26.10\n",
      "  \u001b[90m[cd3eb016] \u001b[39mHTTP v1.10.1\n",
      "  \u001b[90m[7073ff75] \u001b[39mIJulia v1.24.2\n",
      "  \u001b[90m[824d6782] \u001b[39mJSServe v2.3.1\n",
      "  \u001b[90m[ee78f7c6] \u001b[39mMakie v0.20.4\n",
      "  \u001b[90m[5fb14364] \u001b[39mOhMyREPL v0.5.23\n",
      "  \u001b[90m[a03496cd] \u001b[39mPlotlyBase v0.8.19\n",
      "  \u001b[90m[91a5bcdd] \u001b[39mPlots v1.39.0\n",
      "  \u001b[90m[c3e4b0f8] \u001b[39mPluto v0.19.36\n",
      "  \u001b[90m[438e738f] \u001b[39mPyCall v1.96.4\n",
      "  \u001b[90m[276b4fcb] \u001b[39mWGLMakie v0.9.4\n",
      "  \u001b[90m[d6f4376e] \u001b[39mMarkdown\n",
      "\u001b[36m\u001b[1mInfo\u001b[22m\u001b[39m Packages marked with \u001b[32m⌃\u001b[39m have new versions available and may be upgradable.\n"
     ]
    }
   ],
   "source": [
    "]st"
   ]
  },
  {
   "cell_type": "markdown",
   "metadata": {},
   "source": [
    "To add the **Markdown** package for instance, we write"
   ]
  },
  {
   "cell_type": "code",
   "execution_count": 3,
   "metadata": {
    "tags": []
   },
   "outputs": [
    {
     "name": "stderr",
     "output_type": "stream",
     "text": [
      "\u001b[32m\u001b[1m    Updating\u001b[22m\u001b[39m registry at `~/.julia/registries/General.toml`\n",
      "\u001b[32m\u001b[1m   Resolving\u001b[22m\u001b[39m package versions...\n",
      "\u001b[32m\u001b[1m  No Changes\u001b[22m\u001b[39m to `~/MEGA/git-repos/infodev/Codes/Project.toml`\n",
      "\u001b[32m\u001b[1m    Updating\u001b[22m\u001b[39m `~/MEGA/git-repos/infodev/Codes/Manifest.toml`\n",
      "  \u001b[90m[b27032c2] \u001b[39m\u001b[95m↓ LibCURL v0.6.4 ⇒ v0.6.3\u001b[39m\n",
      "  \u001b[90m[44cfe95a] \u001b[39m\u001b[95m↓ Pkg v1.10.0 ⇒ v1.9.2\u001b[39m\n",
      "  \u001b[90m[2f01184e] \u001b[39m\u001b[93m~ SparseArrays v1.10.0 ⇒ \u001b[39m\n",
      "  \u001b[90m[10745b16] \u001b[39m\u001b[95m↓ Statistics v1.10.0 ⇒ v1.9.0\u001b[39m\n",
      "  \u001b[90m[e66e0078] \u001b[39m\u001b[95m↓ CompilerSupportLibraries_jll v1.0.5+1 ⇒ v1.0.5+0\u001b[39m\n",
      "  \u001b[90m[781609d7] \u001b[39m\u001b[95m↓ GMP_jll v6.2.1+6 ⇒ v6.2.1+2\u001b[39m\n",
      "  \u001b[90m[deac9b47] \u001b[39m\u001b[95m↓ LibCURL_jll v8.4.0+0 ⇒ v7.84.0+0\u001b[39m\n",
      "  \u001b[90m[e37daf67] \u001b[39m\u001b[91m- LibGit2_jll v1.6.4+0\u001b[39m\n",
      "  \u001b[90m[29816b5a] \u001b[39m\u001b[95m↓ LibSSH2_jll v1.11.0+1 ⇒ v1.10.2+0\u001b[39m\n",
      "  \u001b[90m[c8ffd9c3] \u001b[39m\u001b[95m↓ MbedTLS_jll v2.28.2+1 ⇒ v2.28.2+0\u001b[39m\n",
      "  \u001b[90m[14a3606d] \u001b[39m\u001b[95m↓ MozillaCACerts_jll v2023.1.10 ⇒ v2022.10.11\u001b[39m\n",
      "  \u001b[90m[4536629a] \u001b[39m\u001b[95m↓ OpenBLAS_jll v0.3.23+2 ⇒ v0.3.21+4\u001b[39m\n",
      "  \u001b[90m[05823500] \u001b[39m\u001b[95m↓ OpenLibm_jll v0.8.1+2 ⇒ v0.8.1+0\u001b[39m\n",
      "  \u001b[90m[efcefdf7] \u001b[39m\u001b[95m↓ PCRE2_jll v10.42.0+1 ⇒ v10.42.0+0\u001b[39m\n",
      "  \u001b[90m[bea87d4a] \u001b[39m\u001b[95m↓ SuiteSparse_jll v7.2.1+1 ⇒ v5.10.1+6\u001b[39m\n",
      "  \u001b[90m[83775a58] \u001b[39m\u001b[95m↓ Zlib_jll v1.2.13+1 ⇒ v1.2.13+0\u001b[39m\n",
      "  \u001b[90m[8e850b90] \u001b[39m\u001b[95m↓ libblastrampoline_jll v5.8.0+1 ⇒ v5.8.0+0\u001b[39m\n",
      "  \u001b[90m[8e850ede] \u001b[39m\u001b[95m↓ nghttp2_jll v1.52.0+1 ⇒ v1.48.0+0\u001b[39m\n",
      "  \u001b[90m[3f19e933] \u001b[39m\u001b[95m↓ p7zip_jll v17.4.0+2 ⇒ v17.4.0+0\u001b[39m\n",
      "\u001b[32m\u001b[1mPrecompiling\u001b[22m\u001b[39m project...\n",
      "\u001b[32m  ✓ \u001b[39m\u001b[90mWidgetsBase\u001b[39m\n",
      "\u001b[32m  ✓ \u001b[39m\u001b[90mWoodburyMatrices\u001b[39m\n",
      "\u001b[32m  ✓ \u001b[39m\u001b[90mIterTools\u001b[39m\n",
      "\u001b[32m  ✓ \u001b[39m\u001b[90mExpressionExplorer\u001b[39m\n",
      "\u001b[32m  ✓ \u001b[39m\u001b[90mHyperscript\u001b[39m\n",
      "\u001b[32m  ✓ \u001b[39m\u001b[90mMsgPack\u001b[39m\n",
      "\u001b[32m  ✓ \u001b[39m\u001b[90mMods\u001b[39m\n",
      "\u001b[32m  ✓ \u001b[39m\u001b[90mCommonSubexpressions\u001b[39m\n",
      "\u001b[32m  ✓ \u001b[39m\u001b[90mMixers\u001b[39m\n",
      "\u001b[32m  ✓ \u001b[39m\u001b[90mOffsetArrays\u001b[39m\n",
      "\u001b[32m  ✓ \u001b[39m\u001b[90mMakieCore\u001b[39m\n",
      "\u001b[32m  ✓ \u001b[39m\u001b[90mAbstractFFTs → AbstractFFTsChainRulesCoreExt\u001b[39m\n",
      "\u001b[32m  ✓ \u001b[39m\u001b[90mGeoInterface\u001b[39m\n",
      "\u001b[32m  ✓ \u001b[39m\u001b[90mModernGL\u001b[39m\n",
      "\u001b[32m  ✓ \u001b[39m\u001b[90mlibpng_jll\u001b[39m\n",
      "\u001b[32m  ✓ \u001b[39m\u001b[90mLLVMOpenMP_jll\u001b[39m\n",
      "\u001b[32m  ✓ \u001b[39m\u001b[90mIntelOpenMP_jll\u001b[39m\n",
      "\u001b[32m  ✓ \u001b[39m\u001b[90mDeno_jll\u001b[39m\n",
      "\u001b[32m  ✓ \u001b[39m\u001b[90mUnitfulLatexify\u001b[39m\n",
      "\u001b[32m  ✓ \u001b[39m\u001b[90mTokenize\u001b[39m\n",
      "\u001b[32m  ✓ \u001b[39m\u001b[90mJpegTurbo_jll\u001b[39m\n",
      "\u001b[32m  ✓ \u001b[39m\u001b[90mWayland_protocols_jll\u001b[39m\n",
      "\u001b[32m  ✓ \u001b[39m\u001b[90mDataStructures\u001b[39m\n",
      "\u001b[32m  ✓ \u001b[39m\u001b[90mFilePaths\u001b[39m\n",
      "\u001b[32m  ✓ \u001b[39m\u001b[90mStableHashTraits\u001b[39m\n",
      "\u001b[32m  ✓ \u001b[39m\u001b[90mInlineStrings\u001b[39m\n",
      "\u001b[32m  ✓ \u001b[39m\u001b[90mFileIO\u001b[39m\n",
      "\u001b[32m  ✓ \u001b[39m\u001b[90mThreadPools\u001b[39m\n",
      "\u001b[32m  ✓ \u001b[39m\u001b[90mColorVectorSpace → SpecialFunctionsExt\u001b[39m\n",
      "\u001b[32m  ✓ \u001b[39m\u001b[90mFreeType\u001b[39m\n",
      "\u001b[32m  ✓ \u001b[39m\u001b[90mColorBrewer\u001b[39m\n",
      "\u001b[32m  ✓ \u001b[39m\u001b[90mAxisAlgorithms\u001b[39m\n",
      "\u001b[32m  ✓ \u001b[39m\u001b[90mGLFW_jll\u001b[39m\n",
      "\u001b[32m  ✓ \u001b[39m\u001b[90mAxisArrays\u001b[39m\n",
      "\u001b[32m  ✓ \u001b[39m\u001b[90mOffsetArrays → OffsetArraysAdaptExt\u001b[39m\n",
      "\u001b[32m  ✓ \u001b[39m\u001b[90mIntervalArithmetic\u001b[39m\n",
      "\u001b[32m  ✓ \u001b[39m\u001b[90mStackViews\u001b[39m\n",
      "\u001b[32m  ✓ \u001b[39m\u001b[90mPaddedViews\u001b[39m\n",
      "\u001b[32m  ✓ \u001b[39m\u001b[90mPixman_jll\u001b[39m\n",
      "\u001b[32m  ✓ \u001b[39m\u001b[90mMKL_jll\u001b[39m\n",
      "\u001b[32m  ✓ \u001b[39m\u001b[90mLibtiff_jll\u001b[39m\n",
      "\u001b[32m  ✓ \u001b[39m\u001b[90mForwardDiff\u001b[39m\n",
      "\u001b[32m  ✓ \u001b[39m\u001b[90mlibsixel_jll\u001b[39m\n",
      "\u001b[32m  ✓ \u001b[39m\u001b[90mxkbcommon_jll\u001b[39m\n",
      "\u001b[32m  ✓ \u001b[39m\u001b[90mSortingAlgorithms\u001b[39m\n",
      "\u001b[32m  ✓ \u001b[39m\u001b[90mSimplePartitions\u001b[39m\n",
      "\u001b[32m  ✓ \u001b[39m\u001b[90mQuadGK\u001b[39m\n",
      "\u001b[32m  ✓ \u001b[39m\u001b[90mStaticArrays\u001b[39m\n",
      "\u001b[32m  ✓ \u001b[39m\u001b[90mWeakRefStrings\u001b[39m\n",
      "\u001b[32m  ✓ \u001b[39m\u001b[90mQOI\u001b[39m\n",
      "\u001b[32m  ✓ \u001b[39m\u001b[90mOpenEXR\u001b[39m\n",
      "\u001b[32m  ✓ \u001b[39m\u001b[90mJSON3\u001b[39m\n",
      "\u001b[32m  ✓ \u001b[39m\u001b[90mCommonMark\u001b[39m\n",
      "\u001b[32m  ✓ \u001b[39m\u001b[90mGLFW\u001b[39m\n",
      "\u001b[32m  ✓ \u001b[39m\u001b[90mIntervalArithmetic → IntervalArithmeticRecipesBaseExt\u001b[39m\n",
      "\u001b[32m  ✓ \u001b[39m\u001b[90mIntervalArithmetic → IntervalArithmeticDiffRulesExt\u001b[39m\n",
      "\u001b[32m  ✓ \u001b[39m\u001b[90mMosaicViews\u001b[39m\n",
      "\u001b[32m  ✓ \u001b[39m\u001b[90mBonito\u001b[39m\n",
      "\u001b[32m  ✓ \u001b[39m\u001b[90mJuliaInterpreter\u001b[39m\n",
      "\u001b[32m  ✓ \u001b[39mJSServe\n",
      "\u001b[32m  ✓ \u001b[39m\u001b[90mVulkan_Loader_jll\u001b[39m\n",
      "\u001b[32m  ✓ \u001b[39m\u001b[90mCairo_jll\u001b[39m\n",
      "\u001b[32m  ✓ \u001b[39m\u001b[90mCSTParser\u001b[39m\n",
      "\u001b[32m  ✓ \u001b[39m\u001b[90mStaticArrays → StaticArraysChainRulesCoreExt\u001b[39m\n",
      "\u001b[32m  ✓ \u001b[39m\u001b[90mStaticArrays → StaticArraysStatisticsExt\u001b[39m\n",
      "\u001b[32m  ✓ \u001b[39m\u001b[90mStatsBase\u001b[39m\n",
      "\u001b[32m  ✓ \u001b[39m\u001b[90mAdapt → AdaptStaticArraysExt\u001b[39m\n",
      "\u001b[32m  ✓ \u001b[39m\u001b[90mConstructionBase → ConstructionBaseStaticArraysExt\u001b[39m\n",
      "\u001b[32m  ✓ \u001b[39m\u001b[90mColorSchemes\u001b[39m\n",
      "\u001b[32m  ✓ \u001b[39m\u001b[90mForwardDiff → ForwardDiffStaticArraysExt\u001b[39m\n",
      "\u001b[32m  ✓ \u001b[39mPyCall\n",
      "\u001b[32m  ✓ \u001b[39m\u001b[90mQt6Base_jll\u001b[39m\n",
      "\u001b[32m  ✓ \u001b[39m\u001b[90mHarfBuzz_jll\u001b[39m\n",
      "\u001b[32m  ✓ \u001b[39m\u001b[90mExactPredicates\u001b[39m\n",
      "\u001b[32m  ✓ \u001b[39m\u001b[90mLoweredCodeUtils\u001b[39m\n",
      "\u001b[32m  ✓ \u001b[39m\u001b[90mFFTW\u001b[39m\n",
      "\u001b[32m  ✓ \u001b[39m\u001b[90mGPUArraysCore\u001b[39m\n",
      "\u001b[32m  ✓ \u001b[39m\u001b[90mArrayInterface\u001b[39m\n",
      "\u001b[32m  ✓ \u001b[39m\u001b[90mDistributions\u001b[39m\n",
      "\u001b[32m  ✓ \u001b[39m\u001b[90mSetfield\u001b[39m\n",
      "\u001b[32m  ✓ \u001b[39m\u001b[90mInterpolations\u001b[39m\n",
      "\u001b[32m  ✓ \u001b[39m\u001b[90mlibass_jll\u001b[39m\n",
      "\u001b[32m  ✓ \u001b[39mPlotlyBase\n",
      "\u001b[32m  ✓ \u001b[39m\u001b[90mStructArrays\u001b[39m\n",
      "\u001b[32m  ✓ \u001b[39m\u001b[90mArrayInterface → ArrayInterfaceGPUArraysCoreExt\u001b[39m\n",
      "\u001b[32m  ✓ \u001b[39m\u001b[90mArrayInterface → ArrayInterfaceStaticArraysCoreExt\u001b[39m\n",
      "\u001b[32m  ✓ \u001b[39m\u001b[90mDistributions → DistributionsTestExt\u001b[39m\n",
      "\u001b[32m  ✓ \u001b[39m\u001b[90mDistributions → DistributionsChainRulesCoreExt\u001b[39m\n",
      "\u001b[32m  ✓ \u001b[39mCSV\n",
      "\u001b[32m  ✓ \u001b[39m\u001b[90mInterpolations → InterpolationsUnitfulExt\u001b[39m\n",
      "\u001b[32m  ✓ \u001b[39m\u001b[90mFFMPEG_jll\u001b[39m\n",
      "\u001b[32m  ✓ \u001b[39m\u001b[90mImageCore\u001b[39m\n",
      "\u001b[32m  ✓ \u001b[39m\u001b[90mPlotUtils\u001b[39m\n",
      "\u001b[32m  ✓ \u001b[39m\u001b[90mFiniteDiff\u001b[39m\n",
      "\u001b[32m  ✓ \u001b[39m\u001b[90mSimpleRandom\u001b[39m\n",
      "\u001b[32m  ✓ \u001b[39m\u001b[90mRevise\u001b[39m\n",
      "\u001b[32m  ✓ \u001b[39m\u001b[90mFFMPEG\u001b[39m\n",
      "\u001b[32m  ✓ \u001b[39m\u001b[90mGR_jll\u001b[39m\n",
      "\u001b[32m  ✓ \u001b[39m\u001b[90mKernelDensity\u001b[39m\n",
      "\u001b[32m  ✓ \u001b[39m\u001b[90mJpegTurbo\u001b[39m\n",
      "\u001b[32m  ✓ \u001b[39m\u001b[90mImageBase\u001b[39m\n",
      "\u001b[32m  ✓ \u001b[39m\u001b[90mGeometryBasics\u001b[39m\n",
      "\u001b[32m  ✓ \u001b[39m\u001b[90mSixel\u001b[39m\n",
      "\u001b[32m  ✓ \u001b[39m\u001b[90mPNGFiles\u001b[39m\n",
      "\u001b[32m  ✓ \u001b[39m\u001b[90mPlotThemes\u001b[39m\n",
      "\u001b[32m  ✓ \u001b[39m\u001b[90mNLSolversBase\u001b[39m\n",
      "\u001b[32m  ✓ \u001b[39m\u001b[90mFiniteDiff → FiniteDiffStaticArraysExt\u001b[39m\n",
      "\u001b[32m  ✓ \u001b[39m\u001b[90mJuliaFormatter\u001b[39m\n",
      "\u001b[32m  ✓ \u001b[39m\u001b[90mPacking\u001b[39m\n",
      "\u001b[32m  ✓ \u001b[39m\u001b[90mRecipesPipeline\u001b[39m\n",
      "\u001b[32m  ✓ \u001b[39m\u001b[90mImageAxes\u001b[39m\n",
      "\u001b[32m  ✓ \u001b[39m\u001b[90mTiffImages\u001b[39m\n",
      "\u001b[32m  ✓ \u001b[39m\u001b[90mGR\u001b[39m\n",
      "\u001b[32m  ✓ \u001b[39m\u001b[90mShaderAbstractions\u001b[39m\n",
      "\u001b[32m  ✓ \u001b[39m\u001b[90mMeshIO\u001b[39m\n",
      "\u001b[32m  ✓ \u001b[39m\u001b[90mFreeTypeAbstraction\u001b[39m\n",
      "\u001b[32m  ✓ \u001b[39m\u001b[90mLineSearches\u001b[39m\n",
      "\u001b[32m  ✓ \u001b[39m\u001b[90mImageMetadata\u001b[39m\n",
      "\u001b[32m  ✓ \u001b[39m\u001b[90mNetpbm\u001b[39m\n",
      "\u001b[32m  ✓ \u001b[39m\u001b[90mPolynomials\u001b[39m\n",
      "\u001b[32m  ✓ \u001b[39m\u001b[90mImageIO\u001b[39m\n",
      "\u001b[32m  ✓ \u001b[39m\u001b[90mGridLayoutBase\u001b[39m\n",
      "\u001b[32m  ✓ \u001b[39m\u001b[90mOptim\u001b[39m\n",
      "\u001b[32m  ✓ \u001b[39m\u001b[90mPolynomials → PolynomialsMakieCoreExt\u001b[39m\n",
      "\u001b[32m  ✓ \u001b[39mPluto\n",
      "\u001b[32m  ✓ \u001b[39m\u001b[90mPolynomials → PolynomialsChainRulesCoreExt\u001b[39m\n",
      "\u001b[32m  ✓ \u001b[39m\u001b[90mPolynomials → PolynomialsFFTWExt\u001b[39m\n",
      "\u001b[32m  ✓ \u001b[39m\u001b[90mSimplePolynomials\u001b[39m\n",
      "\u001b[32m  ✓ \u001b[39m\u001b[90mMathTeXEngine\u001b[39m\n",
      "\u001b[32m  ✓ \u001b[39m\u001b[90mGenie\u001b[39m\n",
      "\u001b[32m  ✓ \u001b[39m\u001b[90mLinearAlgebraX\u001b[39m\n",
      "\u001b[32m  ✓ \u001b[39m\u001b[90mGeniePackageManager\u001b[39m\n",
      "\u001b[32m  ✓ \u001b[39m\u001b[90mGenieSession\u001b[39m\n",
      "\u001b[32m  ✓ \u001b[39m\u001b[90mGenieAutoReload\u001b[39m\n",
      "\u001b[32m  ✓ \u001b[39m\u001b[90mGenieSessionFileSession\u001b[39m\n",
      "\u001b[32m  ✓ \u001b[39m\u001b[90mSimpleGraphs\u001b[39m\n",
      "\u001b[32m  ✓ \u001b[39m\u001b[90mStipple\u001b[39m\n",
      "\u001b[32m  ✓ \u001b[39m\u001b[90mDelaunayTriangulation\u001b[39m\n",
      "\u001b[32m  ✓ \u001b[39mDataFrames\n",
      "\u001b[32m  ✓ \u001b[39m\u001b[90mStipple → StippleJSONExt\u001b[39m\n",
      "\u001b[32m  ✓ \u001b[39m\u001b[90mLatexify → DataFramesExt\u001b[39m\n",
      "\u001b[32m  ✓ \u001b[39m\u001b[90mStipple → StippleOffsetArraysExt\u001b[39m\n",
      "\u001b[32m  ✓ \u001b[39m\u001b[90mStipple → StippleDataFramesExt\u001b[39m\n",
      "\u001b[32m  ✓ \u001b[39m\u001b[90mGenieDevTools\u001b[39m\n",
      "\u001b[32m  ✓ \u001b[39m\u001b[90mStipplePlotly\u001b[39m\n",
      "\u001b[32m  ✓ \u001b[39m\u001b[90mStipplePlotly → StipplePlotlyPlotlyBaseExt\u001b[39m\n",
      "\u001b[32m  ✓ \u001b[39m\u001b[90mStippleUI\u001b[39m\n",
      "\u001b[32m  ✓ \u001b[39m\u001b[90mStippleUI → StippleUIDataFramesExt\u001b[39m\n",
      "\u001b[32m  ✓ \u001b[39mGenieFramework\n",
      "\u001b[32m  ✓ \u001b[39mPlots\n",
      "\u001b[32m  ✓ \u001b[39m\u001b[90mPlots → IJuliaExt\u001b[39m\n",
      "\u001b[32m  ✓ \u001b[39m\u001b[90mPlots → UnitfulExt\u001b[39m\n",
      "\u001b[32m  ✓ \u001b[39m\u001b[90mPlots → FileIOExt\u001b[39m\n",
      "\u001b[32m  ✓ \u001b[39m\u001b[90mPlots → GeometryBasicsExt\u001b[39m\n",
      "\u001b[32m  ✓ \u001b[39mMakie\n",
      "\u001b[32m  ✓ \u001b[39mWGLMakie\n",
      "\u001b[32m  ✓ \u001b[39mGLMakie\n",
      "  157 dependencies successfully precompiled in 421 seconds. 244 already precompiled.\n"
     ]
    }
   ],
   "source": [
    "]add Markdown"
   ]
  },
  {
   "cell_type": "markdown",
   "metadata": {},
   "source": [
    "To be able to use it, we do as follows"
   ]
  },
  {
   "cell_type": "code",
   "execution_count": 4,
   "metadata": {},
   "outputs": [],
   "source": [
    "using Markdown"
   ]
  },
  {
   "cell_type": "code",
   "execution_count": 5,
   "metadata": {},
   "outputs": [
    {
     "data": {
      "text/latex": [
       "This a text inside a code cell, thanks to \\textbf{Markdown} package. I can \\emph{emphasize} anything. Make other things \\textbf{bold}\n",
       "\n"
      ],
      "text/markdown": [
       "This a text inside a code cell, thanks to **Markdown** package. I can *emphasize* anything. Make other things **bold**\n"
      ],
      "text/plain": [
       "  This a text inside a code cell, thanks to \u001b[1mMarkdown\u001b[22m package. I can \u001b[4memphasize\u001b[24m\n",
       "  anything. Make other things \u001b[1mbold\u001b[22m"
      ]
     },
     "execution_count": 5,
     "metadata": {},
     "output_type": "execute_result"
    }
   ],
   "source": [
    "md\"\"\"\n",
    "This a text inside a code cell, thanks to **Markdown** package. I can _emphasize_ anything. Make other things **bold**\n",
    "\"\"\""
   ]
  },
  {
   "cell_type": "markdown",
   "metadata": {},
   "source": [
    "Runnig `Julia` in Jupyer Notebookor Jupyter Lab is pretty handy. We only need to install the appropriate kernel. In order to add `Julia` kernel `IJulia` to Jupyter Notebook and/or `JupyterLab` IDEs, we begin by executing the following commands:\n",
    "```julia\n",
    "using Pkg  \n",
    "Pkg.add(\"IJulia\")\n",
    "```\n",
    "If we want to get `JupyterLab` instance running in current directory, we can do:\n",
    "```julia\n",
    "jupyterlab(dir=pwd(), detached=true)\n",
    "```"
   ]
  },
  {
   "cell_type": "markdown",
   "metadata": {},
   "source": [
    "In case things do not work, we run the two following commands from ${\\tt Julia}$ REPL which launch jupyter environment.\n",
    "```julia\n",
    "using IJulia  \n",
    "installkernel(\"Julia\")\n",
    "```"
   ]
  },
  {
   "cell_type": "markdown",
   "metadata": {},
   "source": [
    "The shell mode is also available through the REPL to evaluate some os commands. To do so, simply preface the regular command by semicolon. For instance, `pwd` prints the path to working directory and `ls` allows to list the content of the current directory."
   ]
  },
  {
   "cell_type": "code",
   "execution_count": 6,
   "metadata": {},
   "outputs": [
    {
     "name": "stdout",
     "output_type": "stream",
     "text": [
      "/home/mhamdi/MEGA/git-repos/infodev/Codes\n"
     ]
    }
   ],
   "source": [
    ";pwd"
   ]
  },
  {
   "cell_type": "code",
   "execution_count": 7,
   "metadata": {},
   "outputs": [
    {
     "name": "stdout",
     "output_type": "stream",
     "text": [
      "total 420\n",
      "drwxrwxr-x 6 mhamdi mhamdi   4096 Feb 19 16:30 .\n",
      "drwxrwxr-x 8 mhamdi mhamdi   4096 Jan  4 01:01 ..\n",
      "-rw-rw-r-- 1 mhamdi mhamdi   2334 Jan  8 18:13 animate-sine.jl\n",
      "-rw-rw-r-- 1 mhamdi mhamdi 193921 Jan  8 18:15 🎈 animate-sine.jl — Pluto.png\n",
      "-rw-rw-r-- 1 mhamdi mhamdi    817 Jan 11 01:09 anim-graphs.jl\n",
      "drwxrwxr-x 2 mhamdi mhamdi   4096 Feb 19 15:32 .ipynb_checkpoints\n",
      "-rw------- 2 mhamdi mhamdi  46807 Feb 19 16:30 julia-onramp.ipynb\n",
      "-rw------- 1 mhamdi mhamdi  34286 Jan 14  2023 Julia.png\n",
      "drwxrwxr-x 2 mhamdi mhamdi   4096 Jan  3 00:00 log\n",
      "-rw-rw-r-- 1 mhamdi mhamdi  85079 Feb 19 16:25 Manifest.toml\n",
      "-rw-rw-r-- 1 mhamdi mhamdi    162 Jan  3 13:32 precompile.jl\n",
      "-rw-rw-r-- 1 mhamdi mhamdi    790 Jan 11 00:53 Project.toml\n",
      "-rw-rw-r-- 1 mhamdi mhamdi     20 Nov 19 16:27 README.md\n",
      "drwxrwxr-x 2 mhamdi mhamdi   4096 Jan 10 16:04 ros2\n",
      "-rw-rw-r-- 1 mhamdi mhamdi     66 Nov 29 21:36 test-file.csv\n",
      "-rw-rw-r-- 1 mhamdi mhamdi   7535 Feb 19 15:34 Untitled.ipynb\n",
      "-rw------- 1 mhamdi mhamdi     18 Feb 19 16:25 .wakatime-project\n",
      "drwxrwxr-x 3 mhamdi mhamdi   4096 Jan  6 19:57 web-app\n"
     ]
    }
   ],
   "source": [
    ";ls -la"
   ]
  },
  {
   "cell_type": "markdown",
   "metadata": {},
   "source": [
    "### Getting Help\n",
    "In order to seek help on a particular function. We just use the `?` mark. We can use the ${\\tt Julia}$ documentation to discover more pieces of information about ${\\tt Julia}$ features."
   ]
  },
  {
   "cell_type": "code",
   "execution_count": 8,
   "metadata": {},
   "outputs": [
    {
     "name": "stdout",
     "output_type": "stream",
     "text": [
      "search: \u001b[0m\u001b[1mc\u001b[22m\u001b[0m\u001b[1mo\u001b[22m\u001b[0m\u001b[1ms\u001b[22m \u001b[0m\u001b[1mc\u001b[22m\u001b[0m\u001b[1mo\u001b[22m\u001b[0m\u001b[1ms\u001b[22mh \u001b[0m\u001b[1mc\u001b[22m\u001b[0m\u001b[1mo\u001b[22m\u001b[0m\u001b[1ms\u001b[22md \u001b[0m\u001b[1mc\u001b[22m\u001b[0m\u001b[1mo\u001b[22m\u001b[0m\u001b[1ms\u001b[22mc \u001b[0m\u001b[1mc\u001b[22m\u001b[0m\u001b[1mo\u001b[22m\u001b[0m\u001b[1ms\u001b[22mpi a\u001b[0m\u001b[1mc\u001b[22m\u001b[0m\u001b[1mo\u001b[22m\u001b[0m\u001b[1ms\u001b[22m a\u001b[0m\u001b[1mc\u001b[22m\u001b[0m\u001b[1mo\u001b[22m\u001b[0m\u001b[1ms\u001b[22mh a\u001b[0m\u001b[1mc\u001b[22m\u001b[0m\u001b[1mo\u001b[22m\u001b[0m\u001b[1ms\u001b[22md sin\u001b[0m\u001b[1mc\u001b[22m\u001b[0m\u001b[1mo\u001b[22m\u001b[0m\u001b[1ms\u001b[22m sin\u001b[0m\u001b[1mc\u001b[22m\u001b[0m\u001b[1mo\u001b[22m\u001b[0m\u001b[1ms\u001b[22md sin\u001b[0m\u001b[1mc\u001b[22m\u001b[0m\u001b[1mo\u001b[22m\u001b[0m\u001b[1ms\u001b[22mpi \u001b[0m\u001b[1mc\u001b[22m\u001b[0m\u001b[1mo\u001b[22mn\u001b[0m\u001b[1ms\u001b[22mt\n",
      "\n"
     ]
    },
    {
     "data": {
      "text/latex": [
       "\\begin{verbatim}\n",
       "cos(x)\n",
       "\\end{verbatim}\n",
       "Compute cosine of \\texttt{x}, where \\texttt{x} is in radians.\n",
       "\n",
       "See also \\href{@ref}{\\texttt{cosd}}, \\href{@ref}{\\texttt{cospi}}, \\href{@ref}{\\texttt{sincos}}, \\href{@ref}{\\texttt{cis}}.\n",
       "\n",
       "\\rule{\\textwidth}{1pt}\n",
       "\\begin{verbatim}\n",
       "cos(A::AbstractMatrix)\n",
       "\\end{verbatim}\n",
       "Compute the matrix cosine of a square matrix \\texttt{A}.\n",
       "\n",
       "If \\texttt{A} is symmetric or Hermitian, its eigendecomposition (\\href{@ref}{\\texttt{eigen}}) is used to compute the cosine. Otherwise, the cosine is determined by calling \\href{@ref}{\\texttt{exp}}.\n",
       "\n",
       "\\section{Examples}\n",
       "\\begin{verbatim}\n",
       "julia> cos(fill(1.0, (2,2)))\n",
       "2×2 Matrix{Float64}:\n",
       "  0.291927  -0.708073\n",
       " -0.708073   0.291927\n",
       "\\end{verbatim}\n"
      ],
      "text/markdown": [
       "```\n",
       "cos(x)\n",
       "```\n",
       "\n",
       "Compute cosine of `x`, where `x` is in radians.\n",
       "\n",
       "See also [`cosd`](@ref), [`cospi`](@ref), [`sincos`](@ref), [`cis`](@ref).\n",
       "\n",
       "---\n",
       "\n",
       "```\n",
       "cos(A::AbstractMatrix)\n",
       "```\n",
       "\n",
       "Compute the matrix cosine of a square matrix `A`.\n",
       "\n",
       "If `A` is symmetric or Hermitian, its eigendecomposition ([`eigen`](@ref)) is used to compute the cosine. Otherwise, the cosine is determined by calling [`exp`](@ref).\n",
       "\n",
       "# Examples\n",
       "\n",
       "```jldoctest\n",
       "julia> cos(fill(1.0, (2,2)))\n",
       "2×2 Matrix{Float64}:\n",
       "  0.291927  -0.708073\n",
       " -0.708073   0.291927\n",
       "```\n"
      ],
      "text/plain": [
       "  \u001b[38;2;102;217;239mcos\u001b[0m(\u001b[0m\u001b[39mx\u001b[0m\u001b[39m)\u001b[0m\n",
       "\n",
       "\n",
       "  Compute cosine of \u001b[36mx\u001b[39m, where \u001b[36mx\u001b[39m is in radians.\n",
       "\n",
       "  See also \u001b[36mcosd\u001b[39m, \u001b[36mcospi\u001b[39m, \u001b[36msincos\u001b[39m, \u001b[36mcis\u001b[39m.\n",
       "\n",
       "  ────────────────────────────────────────────────────────────────────────────\n",
       "\n",
       "  \u001b[38;2;102;217;239mcos\u001b[0m(\u001b[0m\u001b[39mA\u001b[0m\u001b[38;2;249;38;114m::\u001b[0m\u001b[39mAbstractMatrix\u001b[0m\u001b[39m)\u001b[0m\n",
       "\n",
       "\n",
       "  Compute the matrix cosine of a square matrix \u001b[36mA\u001b[39m.\n",
       "\n",
       "  If \u001b[36mA\u001b[39m is symmetric or Hermitian, its eigendecomposition (\u001b[36meigen\u001b[39m) is used to\n",
       "  compute the cosine. Otherwise, the cosine is determined by calling \u001b[36mexp\u001b[39m.\n",
       "\n",
       "\u001b[1m  Examples\u001b[22m\n",
       "\u001b[1m  ≡≡≡≡≡≡≡≡≡≡\u001b[22m\n",
       "\n",
       "  \u001b[31;1mjulia> \u001b[0m\u001b[38;2;102;217;239mcos\u001b[0m(\u001b[0m\u001b[38;2;102;217;239mfill\u001b[0m(\u001b[0m\u001b[38;2;174;129;255m1.0\u001b[0m\u001b[39m,\u001b[0m \u001b[0m(\u001b[0m\u001b[38;2;174;129;255m2\u001b[0m\u001b[39m,\u001b[0m\u001b[38;2;174;129;255m2\u001b[0m\u001b[39m)\u001b[0m\u001b[39m)\u001b[0m\u001b[39m)\u001b[0m\n",
       "  \u001b[0m2×2 Matrix{Float64}:\n",
       "    0.291927  -0.708073\n",
       "   -0.708073   0.291927\n"
      ]
     },
     "execution_count": 8,
     "metadata": {},
     "output_type": "execute_result"
    }
   ],
   "source": [
    "?cos"
   ]
  },
  {
   "cell_type": "markdown",
   "metadata": {},
   "source": [
    "To print something on the standard output, it is possible to use either `print` and `println`. The last one displays the text and moves the cursor to the next line."
   ]
  },
  {
   "cell_type": "code",
   "execution_count": 9,
   "metadata": {},
   "outputs": [
    {
     "name": "stdout",
     "output_type": "stream",
     "text": [
      "Hello World"
     ]
    }
   ],
   "source": [
    "print(\"Hello\")\n",
    "print(' ')\n",
    "print(\"World\")"
   ]
  },
  {
   "cell_type": "code",
   "execution_count": 10,
   "metadata": {},
   "outputs": [
    {
     "name": "stdout",
     "output_type": "stream",
     "text": [
      "Hello\n",
      "World\n"
     ]
    }
   ],
   "source": [
    "println(\"Hello\")\n",
    "println(\"World\")"
   ]
  },
  {
   "cell_type": "markdown",
   "metadata": {},
   "source": [
    "**Data types: Dictionaries**"
   ]
  },
  {
   "cell_type": "code",
   "execution_count": 11,
   "metadata": {
    "tags": []
   },
   "outputs": [
    {
     "data": {
      "text/plain": [
       "Dict{String, Int64} with 3 entries:\n",
       "  \"Bicycle\"  => 2\n",
       "  \"Tricycle\" => 3\n",
       "  \"Unicycle\" => 1"
      ]
     },
     "execution_count": 11,
     "metadata": {},
     "output_type": "execute_result"
    }
   ],
   "source": [
    "dict = Dict(\n",
    "    # Name => # of wheels\n",
    "    \"Unicycle\" => 1,\n",
    "    \"Bicycle\" => 2,\n",
    "    \"Tricycle\" => 3\n",
    ")"
   ]
  },
  {
   "cell_type": "code",
   "execution_count": 12,
   "metadata": {
    "tags": []
   },
   "outputs": [
    {
     "data": {
      "text/plain": [
       "Dict{String, Int64}"
      ]
     },
     "execution_count": 12,
     "metadata": {},
     "output_type": "execute_result"
    }
   ],
   "source": [
    "typeof(dict)"
   ]
  },
  {
   "cell_type": "code",
   "execution_count": 13,
   "metadata": {
    "tags": []
   },
   "outputs": [
    {
     "data": {
      "text/plain": [
       "Dict{String, Int64} with 3 entries:\n",
       "  \"Bicycle\"  => 2\n",
       "  \"Tricycle\" => 3\n",
       "  \"Unicycle\" => 1"
      ]
     },
     "execution_count": 13,
     "metadata": {},
     "output_type": "execute_result"
    }
   ],
   "source": [
    "dict = Dict([(\"Unicycle\", 1), (\"Bicycle\", 2), (\"Tricycle\", 3)])"
   ]
  },
  {
   "cell_type": "code",
   "execution_count": 14,
   "metadata": {
    "tags": []
   },
   "outputs": [
    {
     "data": {
      "text/plain": [
       "2"
      ]
     },
     "execution_count": 14,
     "metadata": {},
     "output_type": "execute_result"
    }
   ],
   "source": [
    "dict[\"Bicycle\"]"
   ]
  },
  {
   "cell_type": "code",
   "execution_count": 15,
   "metadata": {
    "tags": []
   },
   "outputs": [
    {
     "data": {
      "text/plain": [
       "5-element Vector{Any}:\n",
       "    1\n",
       "     'a': ASCII/Unicode U+0061 (category Ll: Letter, lowercase)\n",
       "     \"abc\"\n",
       " true\n",
       "     ComplexF64[0.0 + 0.0im, 0.0 + 0.5im]"
      ]
     },
     "execution_count": 15,
     "metadata": {},
     "output_type": "execute_result"
    }
   ],
   "source": [
    "lst = [1, 'a', \"abc\", true, [0, .5im]]"
   ]
  },
  {
   "cell_type": "code",
   "execution_count": 16,
   "metadata": {
    "tags": []
   },
   "outputs": [
    {
     "data": {
      "text/plain": [
       "Vector{Any}\u001b[90m (alias for \u001b[39m\u001b[90mArray{Any, 1}\u001b[39m\u001b[90m)\u001b[39m"
      ]
     },
     "execution_count": 16,
     "metadata": {},
     "output_type": "execute_result"
    }
   ],
   "source": [
    "typeof(lst)"
   ]
  },
  {
   "cell_type": "code",
   "execution_count": 17,
   "metadata": {
    "tags": []
   },
   "outputs": [
    {
     "data": {
      "text/plain": [
       "2-element Vector{ComplexF64}:\n",
       " 0.0 + 0.0im\n",
       " 0.0 + 0.5im"
      ]
     },
     "execution_count": 17,
     "metadata": {},
     "output_type": "execute_result"
    }
   ],
   "source": [
    "lst[end]"
   ]
  },
  {
   "cell_type": "markdown",
   "metadata": {},
   "source": [
    "### Basic Calculations"
   ]
  },
  {
   "cell_type": "code",
   "execution_count": 18,
   "metadata": {},
   "outputs": [
    {
     "data": {
      "text/plain": [
       "(1, 1.5)"
      ]
     },
     "execution_count": 18,
     "metadata": {},
     "output_type": "execute_result"
    }
   ],
   "source": [
    "a, b = 1, 1.5"
   ]
  },
  {
   "cell_type": "code",
   "execution_count": 19,
   "metadata": {},
   "outputs": [
    {
     "name": "stdout",
     "output_type": "stream",
     "text": [
      "Int64\n",
      "Float64\n"
     ]
    }
   ],
   "source": [
    "println(typeof(a))\n",
    "println(typeof(b))"
   ]
  },
  {
   "cell_type": "code",
   "execution_count": 20,
   "metadata": {},
   "outputs": [
    {
     "data": {
      "text/latex": [
       "\\texttt{varinfo} method allows to display loaded variables.\n",
       "\n"
      ],
      "text/markdown": [
       "`varinfo` method allows to display loaded variables.\n"
      ],
      "text/plain": [
       "  \u001b[36mvarinfo\u001b[39m method allows to display loaded variables."
      ]
     },
     "execution_count": 20,
     "metadata": {},
     "output_type": "execute_result"
    }
   ],
   "source": [
    "md\"\"\"\n",
    "`varinfo` method allows to display loaded variables.\n",
    "\"\"\""
   ]
  },
  {
   "cell_type": "code",
   "execution_count": 21,
   "metadata": {},
   "outputs": [
    {
     "data": {
      "text/latex": [
       "\\begin{tabular}\n",
       "{l | r | l}\n",
       "name & size & summary \\\\\n",
       "\\hline\n",
       "Base &  & Module \\\\\n",
       "Core &  & Module \\\\\n",
       "Main &  & Module \\\\\n",
       "PLOTS\\_DEFAULTS & 456 bytes & Dict\\{Symbol, Symbol\\} with 1 entry \\\\\n",
       "a & 8 bytes & Int64 \\\\\n",
       "b & 8 bytes & Float64 \\\\\n",
       "dict & 503 bytes & Dict\\{String, Int64\\} with 3 entries \\\\\n",
       "lst & 176 bytes & 5-element Vector\\{Any\\} \\\\\n",
       "showall & 0 bytes & showall (generic function with 1 method) \\\\\n",
       "\\end{tabular}\n"
      ],
      "text/markdown": [
       "| name           |      size | summary                                  |\n",
       "|:-------------- | ---------:|:---------------------------------------- |\n",
       "| Base           |           | Module                                   |\n",
       "| Core           |           | Module                                   |\n",
       "| Main           |           | Module                                   |\n",
       "| PLOTS_DEFAULTS | 456 bytes | Dict{Symbol, Symbol} with 1 entry        |\n",
       "| a              |   8 bytes | Int64                                    |\n",
       "| b              |   8 bytes | Float64                                  |\n",
       "| dict           | 503 bytes | Dict{String, Int64} with 3 entries       |\n",
       "| lst            | 176 bytes | 5-element Vector{Any}                    |\n",
       "| showall        |   0 bytes | showall (generic function with 1 method) |\n"
      ],
      "text/plain": [
       "  name                size summary                                 \n",
       "  –––––––––––––– ––––––––– ––––––––––––––––––––––––––––––––––––––––\n",
       "  Base                     Module                                  \n",
       "  Core                     Module                                  \n",
       "  Main                     Module                                  \n",
       "  PLOTS_DEFAULTS 456 bytes Dict{Symbol, Symbol} with 1 entry       \n",
       "  a                8 bytes Int64                                   \n",
       "  b                8 bytes Float64                                 \n",
       "  dict           503 bytes Dict{String, Int64} with 3 entries      \n",
       "  lst            176 bytes 5-element Vector{Any}                   \n",
       "  showall          0 bytes showall (generic function with 1 method)"
      ]
     },
     "execution_count": 21,
     "metadata": {},
     "output_type": "execute_result"
    }
   ],
   "source": [
    "varinfo()"
   ]
  },
  {
   "cell_type": "code",
   "execution_count": 22,
   "metadata": {},
   "outputs": [
    {
     "name": "stdout",
     "output_type": "stream",
     "text": [
      "search: \u001b[0m\u001b[1mv\u001b[22m\u001b[0m\u001b[1ma\u001b[22m\u001b[0m\u001b[1mr\u001b[22m\u001b[0m\u001b[1mi\u001b[22m\u001b[0m\u001b[1mn\u001b[22m\u001b[0m\u001b[1mf\u001b[22m\u001b[0m\u001b[1mo\u001b[22m\n",
      "\n"
     ]
    },
    {
     "data": {
      "text/latex": [
       "\\begin{verbatim}\n",
       "varinfo(m::Module=Main, pattern::Regex=r\"\"; all::Bool = false, imported::Bool = false, sortby::Symbol = :name, minsize::Int = 0)\n",
       "\\end{verbatim}\n",
       "Return a markdown table giving information about exported global variables in a module, optionally restricted to those matching \\texttt{pattern}.\n",
       "\n",
       "The memory consumption estimate is an approximate lower bound on the size of the internal structure of the object.\n",
       "\n",
       "\\begin{itemize}\n",
       "\\item \\texttt{all} : also list non-exported objects defined in the module, deprecated objects, and compiler-generated objects.\n",
       "\n",
       "\n",
       "\\item \\texttt{imported} : also list objects explicitly imported from other modules.\n",
       "\n",
       "\n",
       "\\item \\texttt{recursive} : recursively include objects in sub-modules, observing the same settings in each.\n",
       "\n",
       "\n",
       "\\item \\texttt{sortby} : the column to sort results by. Options are \\texttt{:name} (default), \\texttt{:size}, and \\texttt{:summary}.\n",
       "\n",
       "\n",
       "\\item \\texttt{minsize} : only includes objects with size at least \\texttt{minsize} bytes. Defaults to \\texttt{0}.\n",
       "\n",
       "\\end{itemize}\n"
      ],
      "text/markdown": [
       "```\n",
       "varinfo(m::Module=Main, pattern::Regex=r\"\"; all::Bool = false, imported::Bool = false, sortby::Symbol = :name, minsize::Int = 0)\n",
       "```\n",
       "\n",
       "Return a markdown table giving information about exported global variables in a module, optionally restricted to those matching `pattern`.\n",
       "\n",
       "The memory consumption estimate is an approximate lower bound on the size of the internal structure of the object.\n",
       "\n",
       "  * `all` : also list non-exported objects defined in the module, deprecated objects, and compiler-generated objects.\n",
       "  * `imported` : also list objects explicitly imported from other modules.\n",
       "  * `recursive` : recursively include objects in sub-modules, observing the same settings in each.\n",
       "  * `sortby` : the column to sort results by. Options are `:name` (default), `:size`, and `:summary`.\n",
       "  * `minsize` : only includes objects with size at least `minsize` bytes. Defaults to `0`.\n"
      ],
      "text/plain": [
       "  \u001b[38;2;102;217;239mvarinfo\u001b[0m(\u001b[0m\u001b[39mm\u001b[0m\u001b[38;2;249;38;114m::\u001b[0m\u001b[39mModule\u001b[0m\u001b[38;2;249;38;114m=\u001b[0m\u001b[39mMain\u001b[0m\u001b[39m,\u001b[0m \u001b[0m\u001b[39mpattern\u001b[0m\u001b[38;2;249;38;114m::\u001b[0m\u001b[39mRegex\u001b[0m\u001b[38;2;249;38;114m=\u001b[0m\u001b[39mr\u001b[0m\u001b[39m\"\u001b[0m\u001b[38;2;230;219;116m\u001b[0m\u001b[39m\"\u001b[0m\u001b[39m;\u001b[0m \u001b[0m\u001b[39mall\u001b[0m\u001b[38;2;249;38;114m::\u001b[0m\u001b[39mBool\u001b[0m \u001b[0m\u001b[38;2;249;38;114m=\u001b[0m \u001b[0m\u001b[38;2;249;38;114mfalse\u001b[0m\u001b[39m,\u001b[0m \u001b[0m\u001b[39mimported\u001b[0m\u001b[38;2;249;38;114m::\u001b[0m\u001b[39mBool\u001b[0m \u001b[0m\u001b[38;2;249;38;114m=\u001b[0m \u001b[0m\u001b[38;2;249;38;114mfalse\u001b[0m\u001b[39m,\u001b[0m \u001b[0m\u001b[39msortby\u001b[0m\u001b[38;2;249;38;114m::\u001b[0m\u001b[39mSymbol\u001b[0m \u001b[0m\u001b[38;2;249;38;114m=\u001b[0m \u001b[0m\u001b[38;2;174;129;255m:\u001b[0m\u001b[38;2;174;129;255mname\u001b[0m\u001b[39m,\u001b[0m \u001b[0m\u001b[39mminsize\u001b[0m\u001b[38;2;249;38;114m::\u001b[0m\u001b[39mInt\u001b[0m \u001b[0m\u001b[38;2;249;38;114m=\u001b[0m \u001b[0m\u001b[38;2;174;129;255m0\u001b[0m\u001b[39m)\u001b[0m\n",
       "\n",
       "\n",
       "  Return a markdown table giving information about exported global variables\n",
       "  in a module, optionally restricted to those matching \u001b[36mpattern\u001b[39m.\n",
       "\n",
       "  The memory consumption estimate is an approximate lower bound on the size of\n",
       "  the internal structure of the object.\n",
       "\n",
       "    •  \u001b[36mall\u001b[39m : also list non-exported objects defined in the module,\n",
       "       deprecated objects, and compiler-generated objects.\n",
       "\n",
       "    •  \u001b[36mimported\u001b[39m : also list objects explicitly imported from other\n",
       "       modules.\n",
       "\n",
       "    •  \u001b[36mrecursive\u001b[39m : recursively include objects in sub-modules, observing\n",
       "       the same settings in each.\n",
       "\n",
       "    •  \u001b[36msortby\u001b[39m : the column to sort results by. Options are \u001b[36m:name\u001b[39m\n",
       "       (default), \u001b[36m:size\u001b[39m, and \u001b[36m:summary\u001b[39m.\n",
       "\n",
       "    •  \u001b[36mminsize\u001b[39m : only includes objects with size at least \u001b[36mminsize\u001b[39m bytes.\n",
       "       Defaults to \u001b[36m0\u001b[39m."
      ]
     },
     "execution_count": 22,
     "metadata": {},
     "output_type": "execute_result"
    }
   ],
   "source": [
    "?varinfo"
   ]
  },
  {
   "cell_type": "code",
   "execution_count": 23,
   "metadata": {},
   "outputs": [
    {
     "name": "stdout",
     "output_type": "stream",
     "text": [
      "Sum of 1 and 1.5 is 2.5\n"
     ]
    }
   ],
   "source": [
    "println(\"Sum of $a and $b is $(a+b)\")"
   ]
  },
  {
   "cell_type": "markdown",
   "metadata": {},
   "source": [
    "Addition, subtraction, multiplication, division, exponent"
   ]
  },
  {
   "cell_type": "code",
   "execution_count": 24,
   "metadata": {},
   "outputs": [
    {
     "data": {
      "text/plain": [
       "(2.5, -0.5, 1.5, 0.0, 1.0)"
      ]
     },
     "execution_count": 24,
     "metadata": {},
     "output_type": "execute_result"
    }
   ],
   "source": [
    "a+b, a-b, a*b, a÷b, a^b"
   ]
  },
  {
   "cell_type": "code",
   "execution_count": 25,
   "metadata": {},
   "outputs": [
    {
     "data": {
      "text/latex": [
       "\\textbf{Unicode support} \n",
       "\n",
       "\\begin{itemize}\n",
       "\\item[1. ] We can use π instead of \\texttt{pi}\n",
       "\n",
       "\n",
       "\\item[2. ] Greek letters improe comprehension: α \\emph{(alpha)}, β \\emph{(beta)}, ...\n",
       "\n",
       "\n",
       "\\item[3. ] Symbols: ≥ \\emph{(>=)}, ≤ \\emph{(<=)}, ∈ \\emph{(in)}, ... \n",
       "\n",
       "\n",
       "\\item[4. ] ...\n",
       "\n",
       "\\end{itemize}\n"
      ],
      "text/markdown": [
       "**Unicode support** \n",
       "\n",
       "1. We can use π instead of `pi`\n",
       "2. Greek letters improe comprehension: α *(alpha)*, β *(beta)*, ...\n",
       "3. Symbols: ≥ *(>=)*, ≤ *(<=)*, ∈ *(in)*, ...\n",
       "4. ...\n"
      ],
      "text/plain": [
       "  \u001b[1mUnicode support\u001b[22m\n",
       "\n",
       "    1. We can use π instead of \u001b[36mpi\u001b[39m\n",
       "\n",
       "    2. Greek letters improe comprehension: α \u001b[4m(alpha)\u001b[24m, β \u001b[4m(beta)\u001b[24m, ...\n",
       "\n",
       "    3. Symbols: ≥ \u001b[4m(>=)\u001b[24m, ≤ \u001b[4m(<=)\u001b[24m, ∈ \u001b[4m(in)\u001b[24m, ...\n",
       "\n",
       "    4. ..."
      ]
     },
     "execution_count": 25,
     "metadata": {},
     "output_type": "execute_result"
    }
   ],
   "source": [
    "md\"\"\"\n",
    "**Unicode support** \n",
    "1. We can use π instead of `pi`\n",
    "1. Greek letters improe comprehension: α _(alpha)_, β _(beta)_, ...\n",
    "1. Symbols: ≥ _(>=)_, ≤ _(<=)_, ∈ _(in)_, ... \n",
    "1. ...\n",
    "\"\"\""
   ]
  },
  {
   "cell_type": "code",
   "execution_count": 26,
   "metadata": {},
   "outputs": [
    {
     "data": {
      "text/plain": [
       "true"
      ]
     },
     "execution_count": 26,
     "metadata": {},
     "output_type": "execute_result"
    }
   ],
   "source": [
    "3 ≤ π "
   ]
  },
  {
   "cell_type": "code",
   "execution_count": 27,
   "metadata": {},
   "outputs": [
    {
     "data": {
      "text/plain": [
       "Float64"
      ]
     },
     "execution_count": 27,
     "metadata": {},
     "output_type": "execute_result"
    }
   ],
   "source": [
    "typeof(3.14)"
   ]
  },
  {
   "cell_type": "code",
   "execution_count": 28,
   "metadata": {},
   "outputs": [
    {
     "data": {
      "text/plain": [
       "Any"
      ]
     },
     "execution_count": 28,
     "metadata": {},
     "output_type": "execute_result"
    }
   ],
   "source": [
    "Float64 |> supertype |> supertype |> supertype |> supertype "
   ]
  },
  {
   "cell_type": "code",
   "execution_count": 29,
   "metadata": {},
   "outputs": [
    {
     "data": {
      "text/plain": [
       "3-element Vector{Any}:\n",
       " Bool\n",
       " Signed\n",
       " Unsigned"
      ]
     },
     "execution_count": 29,
     "metadata": {},
     "output_type": "execute_result"
    }
   ],
   "source": [
    "Integer |> subtypes"
   ]
  },
  {
   "cell_type": "code",
   "execution_count": 30,
   "metadata": {},
   "outputs": [
    {
     "data": {
      "text/plain": [
       "6-element Vector{Any}:\n",
       " BigInt\n",
       " Int128\n",
       " Int16\n",
       " Int32\n",
       " Int64\n",
       " Int8"
      ]
     },
     "execution_count": 30,
     "metadata": {},
     "output_type": "execute_result"
    }
   ],
   "source": [
    "Signed |> subtypes"
   ]
  },
  {
   "cell_type": "code",
   "execution_count": 31,
   "metadata": {},
   "outputs": [
    {
     "data": {
      "text/plain": [
       "true"
      ]
     },
     "execution_count": 31,
     "metadata": {},
     "output_type": "execute_result"
    }
   ],
   "source": [
    "UInt8 <: Unsigned # UInt8 is one subtype of Unsigned"
   ]
  },
  {
   "cell_type": "code",
   "execution_count": 32,
   "metadata": {},
   "outputs": [
    {
     "data": {
      "text/plain": [
       "true"
      ]
     },
     "execution_count": 32,
     "metadata": {},
     "output_type": "execute_result"
    }
   ],
   "source": [
    "Signed >: Int8 # Signed is supertype of Int8"
   ]
  },
  {
   "cell_type": "code",
   "execution_count": 33,
   "metadata": {},
   "outputs": [
    {
     "data": {
      "text/plain": [
       "Int64"
      ]
     },
     "execution_count": 33,
     "metadata": {},
     "output_type": "execute_result"
    }
   ],
   "source": [
    "typeof(3)"
   ]
  },
  {
   "cell_type": "code",
   "execution_count": 34,
   "metadata": {},
   "outputs": [
    {
     "data": {
      "text/plain": [
       "UInt8"
      ]
     },
     "execution_count": 34,
     "metadata": {},
     "output_type": "execute_result"
    }
   ],
   "source": [
    "tmp::UInt8 = 3\n",
    "typeof(tmp)"
   ]
  },
  {
   "cell_type": "markdown",
   "metadata": {},
   "source": [
    "### Mathematical Notation\n"
   ]
  },
  {
   "cell_type": "code",
   "execution_count": 35,
   "metadata": {},
   "outputs": [
    {
     "name": "stdout",
     "output_type": "stream",
     "text": [
      "3\n",
      "3\n"
     ]
    }
   ],
   "source": [
    "println(1+2)\n",
    "println(+(1, 2))"
   ]
  },
  {
   "cell_type": "code",
   "execution_count": 36,
   "metadata": {},
   "outputs": [
    {
     "name": "stdout",
     "output_type": "stream",
     "text": [
      "-1\n",
      "-1\n"
     ]
    }
   ],
   "source": [
    "println(1-2)\n",
    "println(-(1, 2))"
   ]
  },
  {
   "cell_type": "code",
   "execution_count": 37,
   "metadata": {},
   "outputs": [
    {
     "name": "stdout",
     "output_type": "stream",
     "text": [
      "2\n",
      "2\n"
     ]
    }
   ],
   "source": [
    "println(1*2)\n",
    "println(*(1, 2))"
   ]
  },
  {
   "cell_type": "code",
   "execution_count": 38,
   "metadata": {},
   "outputs": [
    {
     "name": "stdout",
     "output_type": "stream",
     "text": [
      "0.5\n",
      "0.5\n"
     ]
    }
   ],
   "source": [
    "println(1/2)\n",
    "println(/(1, 2))"
   ]
  },
  {
   "cell_type": "code",
   "execution_count": 39,
   "metadata": {},
   "outputs": [
    {
     "name": "stdout",
     "output_type": "stream",
     "text": [
      "2.15\n",
      "43//20\n"
     ]
    }
   ],
   "source": [
    "println(3/4+7/5)\n",
    "println(3//4+7//5)"
   ]
  },
  {
   "cell_type": "markdown",
   "metadata": {},
   "source": [
    "### Array Transformations\n",
    "Perform calculations on entire arrays at once."
   ]
  },
  {
   "cell_type": "code",
   "execution_count": 40,
   "metadata": {},
   "outputs": [
    {
     "data": {
      "text/plain": [
       "3×2 Matrix{Float64}:\n",
       " 0.0  0.0\n",
       " 0.0  0.0\n",
       " 0.0  0.0"
      ]
     },
     "execution_count": 40,
     "metadata": {},
     "output_type": "execute_result"
    }
   ],
   "source": [
    "zeros(3, 2)"
   ]
  },
  {
   "cell_type": "code",
   "execution_count": 41,
   "metadata": {},
   "outputs": [
    {
     "data": {
      "text/plain": [
       "3×3×2 Array{Float64, 3}:\n",
       "[:, :, 1] =\n",
       " 1.0  1.0  1.0\n",
       " 1.0  1.0  1.0\n",
       " 1.0  1.0  1.0\n",
       "\n",
       "[:, :, 2] =\n",
       " 1.0  1.0  1.0\n",
       " 1.0  1.0  1.0\n",
       " 1.0  1.0  1.0"
      ]
     },
     "execution_count": 41,
     "metadata": {},
     "output_type": "execute_result"
    }
   ],
   "source": [
    "ones(3, 3, 2)"
   ]
  },
  {
   "cell_type": "code",
   "execution_count": 42,
   "metadata": {},
   "outputs": [
    {
     "data": {
      "text/plain": [
       "2×2 Matrix{Irrational{:π}}:\n",
       " π  π\n",
       " π  π"
      ]
     },
     "execution_count": 42,
     "metadata": {},
     "output_type": "execute_result"
    }
   ],
   "source": [
    "fill(π, (2, 2))"
   ]
  },
  {
   "cell_type": "code",
   "execution_count": 43,
   "metadata": {},
   "outputs": [
    {
     "data": {
      "text/plain": [
       "2×2 Matrix{Float64}:\n",
       " 3.14159  3.14159\n",
       " 3.14159  3.14159"
      ]
     },
     "execution_count": 43,
     "metadata": {},
     "output_type": "execute_result"
    }
   ],
   "source": [
    "π .* ones(2, 2)"
   ]
  },
  {
   "cell_type": "code",
   "execution_count": 44,
   "metadata": {},
   "outputs": [
    {
     "data": {
      "text/latex": [
       "Creates a \\texttt{BitArray} with all values set to \\texttt{true}\n",
       "\n"
      ],
      "text/markdown": [
       "Creates a `BitArray` with all values set to `true`\n"
      ],
      "text/plain": [
       "  Creates a \u001b[36mBitArray\u001b[39m with all values set to \u001b[36mtrue\u001b[39m"
      ]
     },
     "execution_count": 44,
     "metadata": {},
     "output_type": "execute_result"
    }
   ],
   "source": [
    "md\"Creates a `BitArray` with all values set to `true`\""
   ]
  },
  {
   "cell_type": "code",
   "execution_count": 45,
   "metadata": {},
   "outputs": [
    {
     "name": "stdout",
     "output_type": "stream",
     "text": [
      "Bool[1 1 1 1; 1 1 1 1]\n"
     ]
    },
    {
     "data": {
      "text/plain": [
       "BitMatrix\u001b[90m (alias for \u001b[39m\u001b[90mBitArray{2}\u001b[39m\u001b[90m)\u001b[39m"
      ]
     },
     "execution_count": 45,
     "metadata": {},
     "output_type": "execute_result"
    }
   ],
   "source": [
    "var = trues(2, 4)\n",
    "println(var)\n",
    "typeof(var)"
   ]
  },
  {
   "cell_type": "code",
   "execution_count": 46,
   "metadata": {},
   "outputs": [
    {
     "data": {
      "text/latex": [
       "Creates a \\texttt{BitArray} with all values set to \\texttt{false}\n",
       "\n"
      ],
      "text/markdown": [
       "Creates a `BitArray` with all values set to `false`\n"
      ],
      "text/plain": [
       "  Creates a \u001b[36mBitArray\u001b[39m with all values set to \u001b[36mfalse\u001b[39m"
      ]
     },
     "execution_count": 46,
     "metadata": {},
     "output_type": "execute_result"
    }
   ],
   "source": [
    "md\"Creates a `BitArray` with all values set to `false`\""
   ]
  },
  {
   "cell_type": "code",
   "execution_count": 47,
   "metadata": {},
   "outputs": [
    {
     "name": "stdout",
     "output_type": "stream",
     "text": [
      "Bool[0 0 0 0; 0 0 0 0]\n"
     ]
    },
    {
     "data": {
      "text/plain": [
       "BitMatrix\u001b[90m (alias for \u001b[39m\u001b[90mBitArray{2}\u001b[39m\u001b[90m)\u001b[39m"
      ]
     },
     "execution_count": 47,
     "metadata": {},
     "output_type": "execute_result"
    }
   ],
   "source": [
    "var = falses(2, 4)\n",
    "println(var)\n",
    "typeof(var)"
   ]
  },
  {
   "cell_type": "code",
   "execution_count": 48,
   "metadata": {},
   "outputs": [
    {
     "data": {
      "text/latex": [
       "\\textbf{Comprehension}\n",
       "\n"
      ],
      "text/markdown": [
       "**Comprehension**\n"
      ],
      "text/plain": [
       "  \u001b[1mComprehension\u001b[22m"
      ]
     },
     "execution_count": 48,
     "metadata": {},
     "output_type": "execute_result"
    }
   ],
   "source": [
    "md\"**Comprehension**\""
   ]
  },
  {
   "cell_type": "code",
   "execution_count": 49,
   "metadata": {},
   "outputs": [
    {
     "name": "stdout",
     "output_type": "stream",
     "text": [
      "H\n",
      "e\n",
      "l\n",
      "l\n",
      "o\n",
      " \n",
      "J\n",
      "u\n",
      "l\n",
      "i\n",
      "a\n"
     ]
    }
   ],
   "source": [
    "str = \"Hello Julia\"\n",
    "[println(el) for el in str];"
   ]
  },
  {
   "cell_type": "markdown",
   "metadata": {},
   "source": [
    "### Calling Functions\n",
    "Call functions to obtain multiple outputs."
   ]
  },
  {
   "cell_type": "code",
   "execution_count": 50,
   "metadata": {},
   "outputs": [
    {
     "data": {
      "text/latex": [
       "\\href{https://docs.julialang.org/en/v1/manual/functions/}{Functions in ${\\tt Julia}$}\n",
       "\n"
      ],
      "text/markdown": [
       "[Functions in ${\\tt Julia}$](https://docs.julialang.org/en/v1/manual/functions/)\n"
      ],
      "text/plain": [
       "  Functions in \u001b[35m{\\tt Julia}\u001b[39m\n",
       "  (https://docs.julialang.org/en/v1/manual/functions/)"
      ]
     },
     "execution_count": 50,
     "metadata": {},
     "output_type": "execute_result"
    }
   ],
   "source": [
    "md\"\"\"\n",
    "[Functions in ${\\tt Julia}$](https://docs.julialang.org/en/v1/manual/functions/)\n",
    "\"\"\""
   ]
  },
  {
   "cell_type": "code",
   "execution_count": 51,
   "metadata": {},
   "outputs": [
    {
     "data": {
      "text/latex": [
       "\\textbf{Spreading Arguments}\n",
       "\n"
      ],
      "text/markdown": [
       "**Spreading Arguments**\n"
      ],
      "text/plain": [
       "  \u001b[1mSpreading Arguments\u001b[22m"
      ]
     },
     "execution_count": 51,
     "metadata": {},
     "output_type": "execute_result"
    }
   ],
   "source": [
    "md\"**Spreading Arguments**\""
   ]
  },
  {
   "cell_type": "markdown",
   "metadata": {},
   "source": [
    "_Optional positional arguments_"
   ]
  },
  {
   "cell_type": "code",
   "execution_count": 52,
   "metadata": {},
   "outputs": [
    {
     "data": {
      "text/plain": [
       "foo (generic function with 4 methods)"
      ]
     },
     "execution_count": 52,
     "metadata": {},
     "output_type": "execute_result"
    }
   ],
   "source": [
    "foo(x=0, y=0, z=0) = x+y+z"
   ]
  },
  {
   "cell_type": "code",
   "execution_count": 53,
   "metadata": {},
   "outputs": [
    {
     "data": {
      "text/plain": [
       "(0, 6)"
      ]
     },
     "execution_count": 53,
     "metadata": {},
     "output_type": "execute_result"
    }
   ],
   "source": [
    "foo(), foo(1, 2, 3)"
   ]
  },
  {
   "cell_type": "code",
   "execution_count": 54,
   "metadata": {},
   "outputs": [
    {
     "data": {
      "text/plain": [
       "6"
      ]
     },
     "execution_count": 54,
     "metadata": {},
     "output_type": "execute_result"
    }
   ],
   "source": [
    "foo([1, 2, 3]...) # Splat `...` operator"
   ]
  },
  {
   "cell_type": "markdown",
   "metadata": {},
   "source": [
    "_Keywords arguments_"
   ]
  },
  {
   "cell_type": "code",
   "execution_count": 55,
   "metadata": {},
   "outputs": [
    {
     "data": {
      "text/plain": [
       "bar (generic function with 1 method)"
      ]
     },
     "execution_count": 55,
     "metadata": {},
     "output_type": "execute_result"
    }
   ],
   "source": [
    "bar(; a::Real=0, b::Real=0, c::Real=0) = a+b+c"
   ]
  },
  {
   "cell_type": "code",
   "execution_count": 56,
   "metadata": {},
   "outputs": [
    {
     "data": {
      "text/plain": [
       "0"
      ]
     },
     "execution_count": 56,
     "metadata": {},
     "output_type": "execute_result"
    }
   ],
   "source": [
    "bar()"
   ]
  },
  {
   "cell_type": "code",
   "execution_count": 57,
   "metadata": {},
   "outputs": [
    {
     "data": {
      "text/plain": [
       "7.2"
      ]
     },
     "execution_count": 57,
     "metadata": {},
     "output_type": "execute_result"
    }
   ],
   "source": [
    "bar(; Dict(:a => 3, :b => 5.4, :c => -1.2)... ) # ; kwargs..."
   ]
  },
  {
   "cell_type": "code",
   "execution_count": 58,
   "metadata": {},
   "outputs": [
    {
     "name": "stdout",
     "output_type": "stream",
     "text": [
      "MethodError(bar, (1, 2, 3), 0x00000000000082db)\n"
     ]
    }
   ],
   "source": [
    "# THROW AN ERROR \n",
    "try bar([1, 2, 3]...)\n",
    "catch error\n",
    "    println(error)\n",
    "end"
   ]
  },
  {
   "cell_type": "code",
   "execution_count": 59,
   "metadata": {},
   "outputs": [
    {
     "data": {
      "text/latex": [
       "\\textbf{Multiple Dispatch}\n",
       "\n"
      ],
      "text/markdown": [
       "**Multiple Dispatch**\n"
      ],
      "text/plain": [
       "  \u001b[1mMultiple Dispatch\u001b[22m"
      ]
     },
     "execution_count": 59,
     "metadata": {},
     "output_type": "execute_result"
    }
   ],
   "source": [
    "md\"**Multiple Dispatch**\""
   ]
  },
  {
   "cell_type": "code",
   "execution_count": 60,
   "metadata": {},
   "outputs": [
    {
     "data": {
      "text/plain": [
       "f (generic function with 1 method)"
      ]
     },
     "execution_count": 60,
     "metadata": {},
     "output_type": "execute_result"
    }
   ],
   "source": [
    "# 1st method signature\n",
    "function f(x::Int)\n",
    "    x^2\n",
    "end"
   ]
  },
  {
   "cell_type": "code",
   "execution_count": 61,
   "metadata": {},
   "outputs": [
    {
     "data": {
      "text/plain": [
       "f (generic function with 2 methods)"
      ]
     },
     "execution_count": 61,
     "metadata": {},
     "output_type": "execute_result"
    }
   ],
   "source": [
    "# 2nd method signature\n",
    "f(x::Float64) = x^2+1"
   ]
  },
  {
   "cell_type": "code",
   "execution_count": 62,
   "metadata": {},
   "outputs": [
    {
     "data": {
      "text/plain": [
       "f (generic function with 4 methods)"
      ]
     },
     "execution_count": 62,
     "metadata": {},
     "output_type": "execute_result"
    }
   ],
   "source": [
    "# 3rd method signature\n",
    "f(x::Char) = x*'y'*'z'\n",
    "# 4th mehod signature\n",
    "f(x::String) = x*x "
   ]
  },
  {
   "cell_type": "code",
   "execution_count": 63,
   "metadata": {},
   "outputs": [
    {
     "data": {
      "text/html": [
       "# 4 methods for generic function <b>f</b> from \u001b[35mMain\u001b[39m:<ul><li> f(x::<b>Int64</b>) in Main at In[60]:2</li> <li> f(x::<b>Float64</b>) in Main at In[61]:2</li> <li> f(x::<b>Char</b>) in Main at In[62]:2</li> <li> f(x::<b>String</b>) in Main at In[62]:4</li> </ul>"
      ],
      "text/plain": [
       "# 4 methods for generic function \"f\" from \u001b[35mMain\u001b[39m:\n",
       " [1] f(\u001b[90mx\u001b[39m::\u001b[1mInt64\u001b[22m)\n",
       "\u001b[90m     @\u001b[39m \u001b[90m\u001b[4mIn[60]:2\u001b[24m\u001b[39m\n",
       " [2] f(\u001b[90mx\u001b[39m::\u001b[1mFloat64\u001b[22m)\n",
       "\u001b[90m     @\u001b[39m \u001b[90m\u001b[4mIn[61]:2\u001b[24m\u001b[39m\n",
       " [3] f(\u001b[90mx\u001b[39m::\u001b[1mChar\u001b[22m)\n",
       "\u001b[90m     @\u001b[39m \u001b[90m\u001b[4mIn[62]:2\u001b[24m\u001b[39m\n",
       " [4] f(\u001b[90mx\u001b[39m::\u001b[1mString\u001b[22m)\n",
       "\u001b[90m     @\u001b[39m \u001b[90m\u001b[4mIn[62]:4\u001b[24m\u001b[39m"
      ]
     },
     "execution_count": 63,
     "metadata": {},
     "output_type": "execute_result"
    }
   ],
   "source": [
    "methods(f)"
   ]
  },
  {
   "cell_type": "code",
   "execution_count": 64,
   "metadata": {},
   "outputs": [
    {
     "data": {
      "text/plain": [
       "(1, 2.0, \"xyz\", \"abcabc\")"
      ]
     },
     "execution_count": 64,
     "metadata": {},
     "output_type": "execute_result"
    }
   ],
   "source": [
    "f(1), f(1.), f('x'), f(\"abc\")"
   ]
  },
  {
   "cell_type": "code",
   "execution_count": 65,
   "metadata": {},
   "outputs": [
    {
     "data": {
      "text/plain": [
       "mycos (generic function with 2 methods)"
      ]
     },
     "execution_count": 65,
     "metadata": {},
     "output_type": "execute_result"
    }
   ],
   "source": [
    "mycos(x) = cos(x)\n",
    "mycos(adj, hyp) = adj/hyp # Extension to `mycos` function"
   ]
  },
  {
   "cell_type": "code",
   "execution_count": 66,
   "metadata": {
    "scrolled": true
   },
   "outputs": [
    {
     "data": {
      "text/html": [
       "# 2 methods for generic function <b>mycos</b> from \u001b[35mMain\u001b[39m:<ul><li> mycos(x) in Main at In[65]:1</li> <li> mycos(adj, hyp) in Main at In[65]:2</li> </ul>"
      ],
      "text/plain": [
       "# 2 methods for generic function \"mycos\" from \u001b[35mMain\u001b[39m:\n",
       " [1] mycos(\u001b[90mx\u001b[39m)\n",
       "\u001b[90m     @\u001b[39m \u001b[90m\u001b[4mIn[65]:1\u001b[24m\u001b[39m\n",
       " [2] mycos(\u001b[90madj\u001b[39m, \u001b[90mhyp\u001b[39m)\n",
       "\u001b[90m     @\u001b[39m \u001b[90m\u001b[4mIn[65]:2\u001b[24m\u001b[39m"
      ]
     },
     "execution_count": 66,
     "metadata": {},
     "output_type": "execute_result"
    }
   ],
   "source": [
    "methods(mycos)"
   ]
  },
  {
   "cell_type": "code",
   "execution_count": 67,
   "metadata": {
    "scrolled": true
   },
   "outputs": [
    {
     "data": {
      "text/html": [
       "mycos(x) in Main at In[65]:1"
      ],
      "text/plain": [
       "mycos(\u001b[90mx\u001b[39m)\n",
       "\u001b[90m     @\u001b[39m \u001b[90mMain\u001b[39m \u001b[90m\u001b[4mIn[65]:1\u001b[24m\u001b[39m"
      ]
     },
     "execution_count": 67,
     "metadata": {},
     "output_type": "execute_result"
    }
   ],
   "source": [
    "@which mycos(π)"
   ]
  },
  {
   "cell_type": "code",
   "execution_count": 68,
   "metadata": {
    "scrolled": true
   },
   "outputs": [
    {
     "data": {
      "text/html": [
       "mycos(adj, hyp) in Main at In[65]:2"
      ],
      "text/plain": [
       "mycos(\u001b[90madj\u001b[39m, \u001b[90mhyp\u001b[39m)\n",
       "\u001b[90m     @\u001b[39m \u001b[90mMain\u001b[39m \u001b[90m\u001b[4mIn[65]:2\u001b[24m\u001b[39m"
      ]
     },
     "execution_count": 68,
     "metadata": {},
     "output_type": "execute_result"
    }
   ],
   "source": [
    "@which mycos(5, 3)"
   ]
  },
  {
   "cell_type": "code",
   "execution_count": 69,
   "metadata": {},
   "outputs": [
    {
     "data": {
      "text/plain": [
       "mycos (generic function with 2 methods)"
      ]
     },
     "execution_count": 69,
     "metadata": {},
     "output_type": "execute_result"
    }
   ],
   "source": [
    "mycos(adj, hyp=10) = adj/hyp"
   ]
  },
  {
   "cell_type": "code",
   "execution_count": 70,
   "metadata": {},
   "outputs": [
    {
     "data": {
      "text/html": [
       "mycos(adj) in Main at In[69]:1"
      ],
      "text/plain": [
       "mycos(\u001b[90madj\u001b[39m)\n",
       "\u001b[90m     @\u001b[39m \u001b[90mMain\u001b[39m \u001b[90m\u001b[4mIn[69]:1\u001b[24m\u001b[39m"
      ]
     },
     "execution_count": 70,
     "metadata": {},
     "output_type": "execute_result"
    }
   ],
   "source": [
    "@which mycos(π)"
   ]
  },
  {
   "cell_type": "markdown",
   "metadata": {},
   "source": [
    "**Function Chaining** applies a function to the preceding argument."
   ]
  },
  {
   "cell_type": "code",
   "execution_count": 71,
   "metadata": {},
   "outputs": [
    {
     "data": {
      "text/plain": [
       "9"
      ]
     },
     "execution_count": 71,
     "metadata": {},
     "output_type": "execute_result"
    }
   ],
   "source": [
    "g(x) = x+1\n",
    "h(x) = x^2\n",
    "x = 2 |> g |> h"
   ]
  },
  {
   "cell_type": "code",
   "execution_count": 72,
   "metadata": {},
   "outputs": [
    {
     "data": {
      "text/latex": [
       "Another pssible way is t use \\texttt{∘}\\emph{{\\textbackslash}circ\\{tab\\}} symbol\n",
       "\n"
      ],
      "text/markdown": [
       "Another pssible way is t use `∘`*\\circ{tab}* symbol\n"
      ],
      "text/plain": [
       "  Another pssible way is t use \u001b[36m∘\u001b[39m\u001b[4m\\circ{tab}\u001b[24m symbol"
      ]
     },
     "execution_count": 72,
     "metadata": {},
     "output_type": "execute_result"
    }
   ],
   "source": [
    "md\"Another pssible way is t use `∘`_\\circ{tab}_ symbol\""
   ]
  },
  {
   "cell_type": "code",
   "execution_count": 73,
   "metadata": {},
   "outputs": [
    {
     "data": {
      "text/plain": [
       "9"
      ]
     },
     "execution_count": 73,
     "metadata": {},
     "output_type": "execute_result"
    }
   ],
   "source": [
    "(h∘g)(2)"
   ]
  },
  {
   "cell_type": "code",
   "execution_count": 74,
   "metadata": {},
   "outputs": [
    {
     "data": {
      "text/latex": [
       "Definition of a function can be done on the fly\n",
       "\n"
      ],
      "text/markdown": [
       "Definition of a function can be done on the fly\n"
      ],
      "text/plain": [
       "  Definition of a function can be done on the fly"
      ]
     },
     "execution_count": 74,
     "metadata": {},
     "output_type": "execute_result"
    }
   ],
   "source": [
    "md\"Definition of a function can be done on the fly\""
   ]
  },
  {
   "cell_type": "code",
   "execution_count": 75,
   "metadata": {},
   "outputs": [
    {
     "data": {
      "text/plain": [
       "5.0"
      ]
     },
     "execution_count": 75,
     "metadata": {},
     "output_type": "execute_result"
    }
   ],
   "source": [
    "y = 5 |> (x->x^2) |> √"
   ]
  },
  {
   "cell_type": "code",
   "execution_count": 76,
   "metadata": {},
   "outputs": [
    {
     "data": {
      "text/latex": [
       "\\textbf{Metaprogramming:} Code is optimized by nature in ${\\tt Julia}$\n",
       "\n"
      ],
      "text/markdown": [
       "**Metaprogramming:** Code is optimized by nature in ${\\tt Julia}$\n"
      ],
      "text/plain": [
       "  \u001b[1mMetaprogramming:\u001b[22m Code is optimized by nature in \u001b[35m{\\tt Julia}\u001b[39m"
      ]
     },
     "execution_count": 76,
     "metadata": {},
     "output_type": "execute_result"
    }
   ],
   "source": [
    "md\"\"\"\n",
    "**Metaprogramming:** Code is optimized by nature in ${\\tt Julia}$\n",
    "\"\"\""
   ]
  },
  {
   "cell_type": "code",
   "execution_count": 77,
   "metadata": {},
   "outputs": [
    {
     "data": {
      "text/plain": [
       "Foo (generic function with 1 method)"
      ]
     },
     "execution_count": 77,
     "metadata": {},
     "output_type": "execute_result"
    }
   ],
   "source": [
    "function Foo(x::Integer)\n",
    "    y = x\n",
    "    for i=1:100\n",
    "        y += i^2\n",
    "    end\n",
    "    return y\n",
    "end"
   ]
  },
  {
   "cell_type": "code",
   "execution_count": 78,
   "metadata": {},
   "outputs": [
    {
     "name": "stdout",
     "output_type": "stream",
     "text": [
      "\u001b[90m;  @ In[77]:1 within `Foo`\u001b[39m\n",
      "\u001b[95mdefine\u001b[39m \u001b[36mi64\u001b[39m \u001b[93m@julia_Foo_4407\u001b[39m\u001b[33m(\u001b[39m\u001b[36mi64\u001b[39m \u001b[95msignext\u001b[39m \u001b[0m%0\u001b[33m)\u001b[39m \u001b[0m#0 \u001b[33m{\u001b[39m\n",
      "\u001b[91mtop:\u001b[39m\n",
      "\u001b[90m;  @ In[77]:3 within `Foo`\u001b[39m\n",
      "  \u001b[0m%1 \u001b[0m= \u001b[96m\u001b[1madd\u001b[22m\u001b[39m \u001b[36mi64\u001b[39m \u001b[0m%0\u001b[0m, \u001b[33m338350\u001b[39m\n",
      "\u001b[90m;  @ In[77]:6 within `Foo`\u001b[39m\n",
      "  \u001b[96m\u001b[1mret\u001b[22m\u001b[39m \u001b[36mi64\u001b[39m \u001b[0m%1\n",
      "\u001b[33m}\u001b[39m\n"
     ]
    }
   ],
   "source": [
    "@code_llvm Foo(3)"
   ]
  },
  {
   "cell_type": "code",
   "execution_count": 79,
   "metadata": {},
   "outputs": [
    {
     "data": {
      "text/latex": [
       "\\begin{verbatim}\n",
       "@code_llvm\n",
       "\\end{verbatim}\n",
       "Evaluates the arguments to the function or macro call, determines their types, and calls \\href{@ref}{\\texttt{code\\_llvm}} on the resulting expression. Set the optional keyword arguments \\texttt{raw}, \\texttt{dump\\_module}, \\texttt{debuginfo}, \\texttt{optimize} by putting them and their value before the function call, like this:\n",
       "\n",
       "\\begin{verbatim}\n",
       "@code_llvm raw=true dump_module=true debuginfo=:default f(x)\n",
       "@code_llvm optimize=false f(x)\n",
       "\\end{verbatim}\n",
       "\\texttt{optimize} controls whether additional optimizations, such as inlining, are also applied. \\texttt{raw} makes all metadata and dbg.* calls visible. \\texttt{debuginfo} may be one of \\texttt{:source} (default) or \\texttt{:none},  to specify the verbosity of code comments. \\texttt{dump\\_module} prints the entire module that encapsulates the function.\n",
       "\n"
      ],
      "text/markdown": [
       "```\n",
       "@code_llvm\n",
       "```\n",
       "\n",
       "Evaluates the arguments to the function or macro call, determines their types, and calls [`code_llvm`](@ref) on the resulting expression. Set the optional keyword arguments `raw`, `dump_module`, `debuginfo`, `optimize` by putting them and their value before the function call, like this:\n",
       "\n",
       "```\n",
       "@code_llvm raw=true dump_module=true debuginfo=:default f(x)\n",
       "@code_llvm optimize=false f(x)\n",
       "```\n",
       "\n",
       "`optimize` controls whether additional optimizations, such as inlining, are also applied. `raw` makes all metadata and dbg.* calls visible. `debuginfo` may be one of `:source` (default) or `:none`,  to specify the verbosity of code comments. `dump_module` prints the entire module that encapsulates the function.\n"
      ],
      "text/plain": [
       "  \u001b[39m@\u001b[0m\u001b[39mcode_llvm\u001b[0m\n",
       "\n",
       "\n",
       "  Evaluates the arguments to the function or macro call, determines their\n",
       "  types, and calls \u001b[36mcode_llvm\u001b[39m on the resulting expression. Set the optional\n",
       "  keyword arguments \u001b[36mraw\u001b[39m, \u001b[36mdump_module\u001b[39m, \u001b[36mdebuginfo\u001b[39m, \u001b[36moptimize\u001b[39m by putting them and\n",
       "  their value before the function call, like this:\n",
       "\n",
       "  \u001b[39m@\u001b[0m\u001b[39mcode_llvm\u001b[0m \u001b[0m\u001b[39mraw\u001b[0m\u001b[38;2;249;38;114m=\u001b[0m\u001b[38;2;249;38;114mtrue\u001b[0m \u001b[0m\u001b[39mdump_module\u001b[0m\u001b[38;2;249;38;114m=\u001b[0m\u001b[38;2;249;38;114mtrue\u001b[0m \u001b[0m\u001b[39mdebuginfo\u001b[0m\u001b[38;2;249;38;114m=\u001b[0m\u001b[38;2;174;129;255m:\u001b[0m\u001b[38;2;174;129;255mdefault\u001b[0m \u001b[0m\u001b[38;2;102;217;239mf\u001b[0m(\u001b[0m\u001b[39mx\u001b[0m\u001b[39m)\u001b[0m\n",
       "  \u001b[0m\u001b[39m@\u001b[0m\u001b[39mcode_llvm\u001b[0m \u001b[0m\u001b[39moptimize\u001b[0m\u001b[38;2;249;38;114m=\u001b[0m\u001b[38;2;249;38;114mfalse\u001b[0m \u001b[0m\u001b[38;2;102;217;239mf\u001b[0m(\u001b[0m\u001b[39mx\u001b[0m\u001b[39m)\u001b[0m\n",
       "\n",
       "\n",
       "  \u001b[36moptimize\u001b[39m controls whether additional optimizations, such as inlining, are\n",
       "  also applied. \u001b[36mraw\u001b[39m makes all metadata and dbg.* calls visible. \u001b[36mdebuginfo\u001b[39m may\n",
       "  be one of \u001b[36m:source\u001b[39m (default) or \u001b[36m:none\u001b[39m, to specify the verbosity of code\n",
       "  comments. \u001b[36mdump_module\u001b[39m prints the entire module that encapsulates the\n",
       "  function."
      ]
     },
     "execution_count": 79,
     "metadata": {},
     "output_type": "execute_result"
    }
   ],
   "source": [
    "?@code_llvm"
   ]
  },
  {
   "cell_type": "markdown",
   "metadata": {},
   "source": [
    "### Plotting Data\n",
    "Visualize variables using ${\\tt Julia}$'s plotting functions."
   ]
  },
  {
   "cell_type": "code",
   "execution_count": 80,
   "metadata": {},
   "outputs": [
    {
     "name": "stderr",
     "output_type": "stream",
     "text": [
      "\u001b[32m\u001b[1m   Resolving\u001b[22m\u001b[39m package versions...\n",
      "\u001b[32m\u001b[1m  No Changes\u001b[22m\u001b[39m to `~/MEGA/git-repos/infodev/Codes/Project.toml`\n",
      "\u001b[32m\u001b[1m  No Changes\u001b[22m\u001b[39m to `~/MEGA/git-repos/infodev/Codes/Manifest.toml`\n"
     ]
    }
   ],
   "source": [
    "]add Plots"
   ]
  },
  {
   "cell_type": "code",
   "execution_count": 81,
   "metadata": {},
   "outputs": [
    {
     "name": "stderr",
     "output_type": "stream",
     "text": [
      "WARNING: using Plots.bar in module Main conflicts with an existing identifier.\n"
     ]
    }
   ],
   "source": [
    "using Plots # GR is the default backend"
   ]
  },
  {
   "cell_type": "code",
   "execution_count": 82,
   "metadata": {},
   "outputs": [
    {
     "data": {
      "image/png": "[encoded data removed]",
      "image/svg+xml": [
       "<?xml version=\"1.0\" encoding=\"utf-8\"?>\n",
       "<svg xmlns=\"http://www.w3.org/2000/svg\" xmlns:xlink=\"http://www.w3.org/1999/xlink\" width=\"600\" height=\"400\" viewBox=\"0 0 2400 1600\">\n",
       "<defs>\n",
       "  <clipPath id=\"clip460\">\n",
       "    <rect x=\"0\" y=\"0\" width=\"2400\" height=\"1600\"/>\n",
       "  </clipPath>\n",
       "</defs>\n",
       "<path clip-path=\"url(#clip460)\" d=\"M0 1600 L2400 1600 L2400 0 L0 0  Z\" fill=\"#282a36\" fill-rule=\"evenodd\" fill-opacity=\"1\"/>\n",
       "<defs>\n",
       "  <clipPath id=\"clip461\">\n",
       "    <rect x=\"480\" y=\"0\" width=\"1681\" height=\"1600\"/>\n",
       "  </clipPath>\n",
       "</defs>\n",
       "<path clip-path=\"url(#clip460)\" d=\"M193.936 1486.45 L2352.76 1486.45 L2352.76 47.2441 L193.936 47.2441  Z\" fill=\"#30343b\" fill-rule=\"evenodd\" fill-opacity=\"1\"/>\n",
       "<defs>\n",
       "  <clipPath id=\"clip462\">\n",
       "    <rect x=\"193\" y=\"47\" width=\"2160\" height=\"1440\"/>\n",
       "  </clipPath>\n",
       "</defs>\n",
       "<polyline clip-path=\"url(#clip462)\" style=\"stroke:#f8f8f2; stroke-linecap:round; stroke-linejoin:round; stroke-width:2; stroke-opacity:0.1; fill:none\" points=\"481.326,1486.45 481.326,47.2441 \"/>\n",
       "<polyline clip-path=\"url(#clip462)\" style=\"stroke:#f8f8f2; stroke-linecap:round; stroke-linejoin:round; stroke-width:2; stroke-opacity:0.1; fill:none\" points=\"933.909,1486.45 933.909,47.2441 \"/>\n",
       "<polyline clip-path=\"url(#clip462)\" style=\"stroke:#f8f8f2; stroke-linecap:round; stroke-linejoin:round; stroke-width:2; stroke-opacity:0.1; fill:none\" points=\"1386.49,1486.45 1386.49,47.2441 \"/>\n",
       "<polyline clip-path=\"url(#clip462)\" style=\"stroke:#f8f8f2; stroke-linecap:round; stroke-linejoin:round; stroke-width:2; stroke-opacity:0.1; fill:none\" points=\"1839.07,1486.45 1839.07,47.2441 \"/>\n",
       "<polyline clip-path=\"url(#clip462)\" style=\"stroke:#f8f8f2; stroke-linecap:round; stroke-linejoin:round; stroke-width:2; stroke-opacity:0.1; fill:none\" points=\"2291.66,1486.45 2291.66,47.2441 \"/>\n",
       "<polyline clip-path=\"url(#clip460)\" style=\"stroke:#f8f8f2; stroke-linecap:round; stroke-linejoin:round; stroke-width:4; stroke-opacity:1; fill:none\" points=\"193.936,1486.45 2352.76,1486.45 \"/>\n",
       "<polyline clip-path=\"url(#clip460)\" style=\"stroke:#f8f8f2; stroke-linecap:round; stroke-linejoin:round; stroke-width:4; stroke-opacity:1; fill:none\" points=\"481.326,1486.45 481.326,1467.55 \"/>\n",
       "<polyline clip-path=\"url(#clip460)\" style=\"stroke:#f8f8f2; stroke-linecap:round; stroke-linejoin:round; stroke-width:4; stroke-opacity:1; fill:none\" points=\"933.909,1486.45 933.909,1467.55 \"/>\n",
       "<polyline clip-path=\"url(#clip460)\" style=\"stroke:#f8f8f2; stroke-linecap:round; stroke-linejoin:round; stroke-width:4; stroke-opacity:1; fill:none\" points=\"1386.49,1486.45 1386.49,1467.55 \"/>\n",
       "<polyline clip-path=\"url(#clip460)\" style=\"stroke:#f8f8f2; stroke-linecap:round; stroke-linejoin:round; stroke-width:4; stroke-opacity:1; fill:none\" points=\"1839.07,1486.45 1839.07,1467.55 \"/>\n",
       "<polyline clip-path=\"url(#clip460)\" style=\"stroke:#f8f8f2; stroke-linecap:round; stroke-linejoin:round; stroke-width:4; stroke-opacity:1; fill:none\" points=\"2291.66,1486.45 2291.66,1467.55 \"/>\n",
       "<path clip-path=\"url(#clip460)\" d=\"M475.979 1544.91 L492.298 1544.91 L492.298 1548.85 L470.354 1548.85 L470.354 1544.91 Q473.016 1542.16 477.599 1537.53 Q482.206 1532.88 483.386 1531.53 Q485.632 1529.01 486.511 1527.27 Q487.414 1525.51 487.414 1523.82 Q487.414 1521.07 485.47 1519.33 Q483.548 1517.6 480.446 1517.6 Q478.247 1517.6 475.794 1518.36 Q473.363 1519.13 470.585 1520.68 L470.585 1515.95 Q473.409 1514.82 475.863 1514.24 Q478.317 1513.66 480.354 1513.66 Q485.724 1513.66 488.919 1516.35 Q492.113 1519.03 492.113 1523.52 Q492.113 1525.65 491.303 1527.57 Q490.516 1529.47 488.409 1532.07 Q487.831 1532.74 484.729 1535.95 Q481.627 1539.15 475.979 1544.91 Z\" fill=\"#f8f8f2\" fill-rule=\"nonzero\" fill-opacity=\"1\" /><path clip-path=\"url(#clip460)\" d=\"M936.918 1518.36 L925.113 1536.81 L936.918 1536.81 L936.918 1518.36 M935.691 1514.29 L941.571 1514.29 L941.571 1536.81 L946.501 1536.81 L946.501 1540.7 L941.571 1540.7 L941.571 1548.85 L936.918 1548.85 L936.918 1540.7 L921.316 1540.7 L921.316 1536.19 L935.691 1514.29 Z\" fill=\"#f8f8f2\" fill-rule=\"nonzero\" fill-opacity=\"1\" /><path clip-path=\"url(#clip460)\" d=\"M1386.9 1529.7 Q1383.75 1529.7 1381.9 1531.86 Q1380.07 1534.01 1380.07 1537.76 Q1380.07 1541.49 1381.9 1543.66 Q1383.75 1545.82 1386.9 1545.82 Q1390.04 1545.82 1391.87 1543.66 Q1393.73 1541.49 1393.73 1537.76 Q1393.73 1534.01 1391.87 1531.86 Q1390.04 1529.7 1386.9 1529.7 M1396.18 1515.05 L1396.18 1519.31 Q1394.42 1518.48 1392.61 1518.04 Q1390.83 1517.6 1389.07 1517.6 Q1384.44 1517.6 1381.99 1520.72 Q1379.56 1523.85 1379.21 1530.17 Q1380.58 1528.15 1382.64 1527.09 Q1384.7 1526 1387.17 1526 Q1392.38 1526 1395.39 1529.17 Q1398.42 1532.32 1398.42 1537.76 Q1398.42 1543.08 1395.28 1546.3 Q1392.13 1549.52 1386.9 1549.52 Q1380.9 1549.52 1377.73 1544.94 Q1374.56 1540.33 1374.56 1531.6 Q1374.56 1523.41 1378.45 1518.55 Q1382.34 1513.66 1388.89 1513.66 Q1390.65 1513.66 1392.43 1514.01 Q1394.23 1514.36 1396.18 1515.05 Z\" fill=\"#f8f8f2\" fill-rule=\"nonzero\" fill-opacity=\"1\" /><path clip-path=\"url(#clip460)\" d=\"M1839.07 1532.44 Q1835.74 1532.44 1833.82 1534.22 Q1831.92 1536 1831.92 1539.13 Q1831.92 1542.25 1833.82 1544.03 Q1835.74 1545.82 1839.07 1545.82 Q1842.41 1545.82 1844.33 1544.03 Q1846.25 1542.23 1846.25 1539.13 Q1846.25 1536 1844.33 1534.22 Q1842.43 1532.44 1839.07 1532.44 M1834.4 1530.45 Q1831.39 1529.7 1829.7 1527.64 Q1828.03 1525.58 1828.03 1522.62 Q1828.03 1518.48 1830.97 1516.07 Q1833.94 1513.66 1839.07 1513.66 Q1844.24 1513.66 1847.18 1516.07 Q1850.12 1518.48 1850.12 1522.62 Q1850.12 1525.58 1848.43 1527.64 Q1846.76 1529.7 1843.77 1530.45 Q1847.15 1531.23 1849.03 1533.52 Q1850.93 1535.82 1850.93 1539.13 Q1850.93 1544.15 1847.85 1546.83 Q1844.79 1549.52 1839.07 1549.52 Q1833.36 1549.52 1830.28 1546.83 Q1827.22 1544.15 1827.22 1539.13 Q1827.22 1535.82 1829.12 1533.52 Q1831.02 1531.23 1834.4 1530.45 M1832.69 1523.06 Q1832.69 1525.75 1834.35 1527.25 Q1836.04 1528.76 1839.07 1528.76 Q1842.08 1528.76 1843.77 1527.25 Q1845.49 1525.75 1845.49 1523.06 Q1845.49 1520.38 1843.77 1518.87 Q1842.08 1517.37 1839.07 1517.37 Q1836.04 1517.37 1834.35 1518.87 Q1832.69 1520.38 1832.69 1523.06 Z\" fill=\"#f8f8f2\" fill-rule=\"nonzero\" fill-opacity=\"1\" /><path clip-path=\"url(#clip460)\" d=\"M2266.34 1544.91 L2273.98 1544.91 L2273.98 1518.55 L2265.67 1520.21 L2265.67 1515.95 L2273.94 1514.29 L2278.61 1514.29 L2278.61 1544.91 L2286.25 1544.91 L2286.25 1548.85 L2266.34 1548.85 L2266.34 1544.91 Z\" fill=\"#f8f8f2\" fill-rule=\"nonzero\" fill-opacity=\"1\" /><path clip-path=\"url(#clip460)\" d=\"M2305.7 1517.37 Q2302.09 1517.37 2300.26 1520.93 Q2298.45 1524.47 2298.45 1531.6 Q2298.45 1538.71 2300.26 1542.27 Q2302.09 1545.82 2305.7 1545.82 Q2309.33 1545.82 2311.14 1542.27 Q2312.96 1538.71 2312.96 1531.6 Q2312.96 1524.47 2311.14 1520.93 Q2309.33 1517.37 2305.7 1517.37 M2305.7 1513.66 Q2311.51 1513.66 2314.56 1518.27 Q2317.64 1522.85 2317.64 1531.6 Q2317.64 1540.33 2314.56 1544.94 Q2311.51 1549.52 2305.7 1549.52 Q2299.89 1549.52 2296.81 1544.94 Q2293.75 1540.33 2293.75 1531.6 Q2293.75 1522.85 2296.81 1518.27 Q2299.89 1513.66 2305.7 1513.66 Z\" fill=\"#f8f8f2\" fill-rule=\"nonzero\" fill-opacity=\"1\" /><polyline clip-path=\"url(#clip462)\" style=\"stroke:#f8f8f2; stroke-linecap:round; stroke-linejoin:round; stroke-width:2; stroke-opacity:0.1; fill:none\" points=\"193.936,1445.77 2352.76,1445.77 \"/>\n",
       "<polyline clip-path=\"url(#clip462)\" style=\"stroke:#f8f8f2; stroke-linecap:round; stroke-linejoin:round; stroke-width:2; stroke-opacity:0.1; fill:none\" points=\"193.936,1106.3 2352.76,1106.3 \"/>\n",
       "<polyline clip-path=\"url(#clip462)\" style=\"stroke:#f8f8f2; stroke-linecap:round; stroke-linejoin:round; stroke-width:2; stroke-opacity:0.1; fill:none\" points=\"193.936,766.824 2352.76,766.824 \"/>\n",
       "<polyline clip-path=\"url(#clip462)\" style=\"stroke:#f8f8f2; stroke-linecap:round; stroke-linejoin:round; stroke-width:2; stroke-opacity:0.1; fill:none\" points=\"193.936,427.352 2352.76,427.352 \"/>\n",
       "<polyline clip-path=\"url(#clip462)\" style=\"stroke:#f8f8f2; stroke-linecap:round; stroke-linejoin:round; stroke-width:2; stroke-opacity:0.1; fill:none\" points=\"193.936,87.8803 2352.76,87.8803 \"/>\n",
       "<polyline clip-path=\"url(#clip460)\" style=\"stroke:#f8f8f2; stroke-linecap:round; stroke-linejoin:round; stroke-width:4; stroke-opacity:1; fill:none\" points=\"193.936,1486.45 193.936,47.2441 \"/>\n",
       "<polyline clip-path=\"url(#clip460)\" style=\"stroke:#f8f8f2; stroke-linecap:round; stroke-linejoin:round; stroke-width:4; stroke-opacity:1; fill:none\" points=\"193.936,1445.77 212.834,1445.77 \"/>\n",
       "<polyline clip-path=\"url(#clip460)\" style=\"stroke:#f8f8f2; stroke-linecap:round; stroke-linejoin:round; stroke-width:4; stroke-opacity:1; fill:none\" points=\"193.936,1106.3 212.834,1106.3 \"/>\n",
       "<polyline clip-path=\"url(#clip460)\" style=\"stroke:#f8f8f2; stroke-linecap:round; stroke-linejoin:round; stroke-width:4; stroke-opacity:1; fill:none\" points=\"193.936,766.824 212.834,766.824 \"/>\n",
       "<polyline clip-path=\"url(#clip460)\" style=\"stroke:#f8f8f2; stroke-linecap:round; stroke-linejoin:round; stroke-width:4; stroke-opacity:1; fill:none\" points=\"193.936,427.352 212.834,427.352 \"/>\n",
       "<polyline clip-path=\"url(#clip460)\" style=\"stroke:#f8f8f2; stroke-linecap:round; stroke-linejoin:round; stroke-width:4; stroke-opacity:1; fill:none\" points=\"193.936,87.8803 212.834,87.8803 \"/>\n",
       "<path clip-path=\"url(#clip460)\" d=\"M50.9921 1446.22 L80.6679 1446.22 L80.6679 1450.15 L50.9921 1450.15 L50.9921 1446.22 Z\" fill=\"#f8f8f2\" fill-rule=\"nonzero\" fill-opacity=\"1\" /><path clip-path=\"url(#clip460)\" d=\"M91.5706 1459.11 L99.2095 1459.11 L99.2095 1432.75 L90.8993 1434.41 L90.8993 1430.15 L99.1632 1428.49 L103.839 1428.49 L103.839 1459.11 L111.478 1459.11 L111.478 1463.05 L91.5706 1463.05 L91.5706 1459.11 Z\" fill=\"#f8f8f2\" fill-rule=\"nonzero\" fill-opacity=\"1\" /><path clip-path=\"url(#clip460)\" d=\"M120.922 1457.17 L125.807 1457.17 L125.807 1463.05 L120.922 1463.05 L120.922 1457.17 Z\" fill=\"#f8f8f2\" fill-rule=\"nonzero\" fill-opacity=\"1\" /><path clip-path=\"url(#clip460)\" d=\"M145.992 1431.57 Q142.381 1431.57 140.552 1435.13 Q138.746 1438.67 138.746 1445.8 Q138.746 1452.91 140.552 1456.47 Q142.381 1460.02 145.992 1460.02 Q149.626 1460.02 151.431 1456.47 Q153.26 1452.91 153.26 1445.8 Q153.26 1438.67 151.431 1435.13 Q149.626 1431.57 145.992 1431.57 M145.992 1427.86 Q151.802 1427.86 154.857 1432.47 Q157.936 1437.05 157.936 1445.8 Q157.936 1454.53 154.857 1459.14 Q151.802 1463.72 145.992 1463.72 Q140.181 1463.72 137.103 1459.14 Q134.047 1454.53 134.047 1445.8 Q134.047 1437.05 137.103 1432.47 Q140.181 1427.86 145.992 1427.86 Z\" fill=\"#f8f8f2\" fill-rule=\"nonzero\" fill-opacity=\"1\" /><path clip-path=\"url(#clip460)\" d=\"M51.9875 1106.75 L81.6633 1106.75 L81.6633 1110.68 L51.9875 1110.68 L51.9875 1106.75 Z\" fill=\"#f8f8f2\" fill-rule=\"nonzero\" fill-opacity=\"1\" /><path clip-path=\"url(#clip460)\" d=\"M101.756 1092.09 Q98.1447 1092.09 96.316 1095.66 Q94.5104 1099.2 94.5104 1106.33 Q94.5104 1113.44 96.316 1117 Q98.1447 1120.54 101.756 1120.54 Q105.39 1120.54 107.196 1117 Q109.024 1113.44 109.024 1106.33 Q109.024 1099.2 107.196 1095.66 Q105.39 1092.09 101.756 1092.09 M101.756 1088.39 Q107.566 1088.39 110.621 1093 Q113.7 1097.58 113.7 1106.33 Q113.7 1115.06 110.621 1119.66 Q107.566 1124.25 101.756 1124.25 Q95.9456 1124.25 92.8669 1119.66 Q89.8114 1115.06 89.8114 1106.33 Q89.8114 1097.58 92.8669 1093 Q95.9456 1088.39 101.756 1088.39 Z\" fill=\"#f8f8f2\" fill-rule=\"nonzero\" fill-opacity=\"1\" /><path clip-path=\"url(#clip460)\" d=\"M121.918 1117.7 L126.802 1117.7 L126.802 1123.58 L121.918 1123.58 L121.918 1117.7 Z\" fill=\"#f8f8f2\" fill-rule=\"nonzero\" fill-opacity=\"1\" /><path clip-path=\"url(#clip460)\" d=\"M137.033 1089.02 L155.39 1089.02 L155.39 1092.95 L141.316 1092.95 L141.316 1101.42 Q142.334 1101.08 143.353 1100.91 Q144.371 1100.73 145.39 1100.73 Q151.177 1100.73 154.556 1103.9 Q157.936 1107.07 157.936 1112.49 Q157.936 1118.07 154.464 1121.17 Q150.992 1124.25 144.672 1124.25 Q142.496 1124.25 140.228 1123.88 Q137.982 1123.51 135.575 1122.77 L135.575 1118.07 Q137.658 1119.2 139.881 1119.76 Q142.103 1120.31 144.58 1120.31 Q148.584 1120.31 150.922 1118.21 Q153.26 1116.1 153.26 1112.49 Q153.26 1108.88 150.922 1106.77 Q148.584 1104.66 144.58 1104.66 Q142.705 1104.66 140.83 1105.08 Q138.978 1105.5 137.033 1106.38 L137.033 1089.02 Z\" fill=\"#f8f8f2\" fill-rule=\"nonzero\" fill-opacity=\"1\" /><path clip-path=\"url(#clip460)\" d=\"M100.76 752.623 Q97.1493 752.623 95.3206 756.188 Q93.515 759.729 93.515 766.859 Q93.515 773.965 95.3206 777.53 Q97.1493 781.072 100.76 781.072 Q104.395 781.072 106.2 777.53 Q108.029 773.965 108.029 766.859 Q108.029 759.729 106.2 756.188 Q104.395 752.623 100.76 752.623 M100.76 748.919 Q106.571 748.919 109.626 753.526 Q112.705 758.109 112.705 766.859 Q112.705 775.586 109.626 780.192 Q106.571 784.775 100.76 784.775 Q94.9502 784.775 91.8715 780.192 Q88.816 775.586 88.816 766.859 Q88.816 758.109 91.8715 753.526 Q94.9502 748.919 100.76 748.919 Z\" fill=\"#f8f8f2\" fill-rule=\"nonzero\" fill-opacity=\"1\" /><path clip-path=\"url(#clip460)\" d=\"M120.922 778.224 L125.807 778.224 L125.807 784.104 L120.922 784.104 L120.922 778.224 Z\" fill=\"#f8f8f2\" fill-rule=\"nonzero\" fill-opacity=\"1\" /><path clip-path=\"url(#clip460)\" d=\"M145.992 752.623 Q142.381 752.623 140.552 756.188 Q138.746 759.729 138.746 766.859 Q138.746 773.965 140.552 777.53 Q142.381 781.072 145.992 781.072 Q149.626 781.072 151.431 777.53 Q153.26 773.965 153.26 766.859 Q153.26 759.729 151.431 756.188 Q149.626 752.623 145.992 752.623 M145.992 748.919 Q151.802 748.919 154.857 753.526 Q157.936 758.109 157.936 766.859 Q157.936 775.586 154.857 780.192 Q151.802 784.775 145.992 784.775 Q140.181 784.775 137.103 780.192 Q134.047 775.586 134.047 766.859 Q134.047 758.109 137.103 753.526 Q140.181 748.919 145.992 748.919 Z\" fill=\"#f8f8f2\" fill-rule=\"nonzero\" fill-opacity=\"1\" /><path clip-path=\"url(#clip460)\" d=\"M101.756 413.151 Q98.1447 413.151 96.316 416.716 Q94.5104 420.257 94.5104 427.387 Q94.5104 434.493 96.316 438.058 Q98.1447 441.6 101.756 441.6 Q105.39 441.6 107.196 438.058 Q109.024 434.493 109.024 427.387 Q109.024 420.257 107.196 416.716 Q105.39 413.151 101.756 413.151 M101.756 409.447 Q107.566 409.447 110.621 414.054 Q113.7 418.637 113.7 427.387 Q113.7 436.114 110.621 440.72 Q107.566 445.303 101.756 445.303 Q95.9456 445.303 92.8669 440.72 Q89.8114 436.114 89.8114 427.387 Q89.8114 418.637 92.8669 414.054 Q95.9456 409.447 101.756 409.447 Z\" fill=\"#f8f8f2\" fill-rule=\"nonzero\" fill-opacity=\"1\" /><path clip-path=\"url(#clip460)\" d=\"M121.918 438.753 L126.802 438.753 L126.802 444.632 L121.918 444.632 L121.918 438.753 Z\" fill=\"#f8f8f2\" fill-rule=\"nonzero\" fill-opacity=\"1\" /><path clip-path=\"url(#clip460)\" d=\"M137.033 410.072 L155.39 410.072 L155.39 414.007 L141.316 414.007 L141.316 422.48 Q142.334 422.132 143.353 421.97 Q144.371 421.785 145.39 421.785 Q151.177 421.785 154.556 424.956 Q157.936 428.128 157.936 433.544 Q157.936 439.123 154.464 442.225 Q150.992 445.303 144.672 445.303 Q142.496 445.303 140.228 444.933 Q137.982 444.563 135.575 443.822 L135.575 439.123 Q137.658 440.257 139.881 440.813 Q142.103 441.368 144.58 441.368 Q148.584 441.368 150.922 439.262 Q153.26 437.155 153.26 433.544 Q153.26 429.933 150.922 427.827 Q148.584 425.72 144.58 425.72 Q142.705 425.72 140.83 426.137 Q138.978 426.554 137.033 427.433 L137.033 410.072 Z\" fill=\"#f8f8f2\" fill-rule=\"nonzero\" fill-opacity=\"1\" /><path clip-path=\"url(#clip460)\" d=\"M91.5706 101.225 L99.2095 101.225 L99.2095 74.8595 L90.8993 76.5262 L90.8993 72.267 L99.1632 70.6003 L103.839 70.6003 L103.839 101.225 L111.478 101.225 L111.478 105.16 L91.5706 105.16 L91.5706 101.225 Z\" fill=\"#f8f8f2\" fill-rule=\"nonzero\" fill-opacity=\"1\" /><path clip-path=\"url(#clip460)\" d=\"M120.922 99.2807 L125.807 99.2807 L125.807 105.16 L120.922 105.16 L120.922 99.2807 Z\" fill=\"#f8f8f2\" fill-rule=\"nonzero\" fill-opacity=\"1\" /><path clip-path=\"url(#clip460)\" d=\"M145.992 73.679 Q142.381 73.679 140.552 77.2438 Q138.746 80.7854 138.746 87.915 Q138.746 95.0215 140.552 98.5863 Q142.381 102.128 145.992 102.128 Q149.626 102.128 151.431 98.5863 Q153.26 95.0215 153.26 87.915 Q153.26 80.7854 151.431 77.2438 Q149.626 73.679 145.992 73.679 M145.992 69.9753 Q151.802 69.9753 154.857 74.5818 Q157.936 79.1651 157.936 87.915 Q157.936 96.6418 154.857 101.248 Q151.802 105.832 145.992 105.832 Q140.181 105.832 137.103 101.248 Q134.047 96.6418 134.047 87.915 Q134.047 79.1651 137.103 74.5818 Q140.181 69.9753 145.992 69.9753 Z\" fill=\"#f8f8f2\" fill-rule=\"nonzero\" fill-opacity=\"1\" /><polyline clip-path=\"url(#clip462)\" style=\"stroke:#8be9fd; stroke-linecap:round; stroke-linejoin:round; stroke-width:4; stroke-opacity:1; fill:none\" points=\"255.035,195.513 277.664,161.744 300.293,134.022 322.922,112.622 345.551,97.7591 368.18,89.5811 390.81,88.1698 413.439,93.5394 436.068,105.636 458.697,124.34 481.326,149.462 503.955,180.753 526.584,217.9 549.213,260.532 571.843,308.223 594.472,360.495 617.101,416.828 639.73,476.657 662.359,539.386 684.988,604.387 707.617,671.011 730.247,738.593 752.876,806.457 775.505,873.925 798.134,940.322 820.763,1004.99 843.392,1067.27 866.021,1126.55 888.651,1182.24 911.28,1233.78 933.909,1280.65 956.538,1322.39 979.167,1358.57 1001.8,1388.85 1024.43,1412.91 1047.05,1430.51 1069.68,1441.48 1092.31,1445.72 1114.94,1443.16 1137.57,1433.85 1160.2,1417.88 1182.83,1395.4 1205.46,1366.64 1228.09,1331.89 1250.72,1291.49 1273.35,1245.85 1295.98,1195.42 1318.6,1140.71 1341.23,1082.26 1363.86,1020.67 1386.49,956.531 1409.12,890.502 1431.75,823.237 1454.38,755.408 1477.01,687.694 1499.64,620.77 1522.27,555.305 1544.9,491.954 1567.52,431.349 1590.15,374.096 1612.78,320.767 1635.41,271.895 1658.04,227.968 1680.67,189.425 1703.3,156.652 1725.93,129.975 1748.56,109.661 1771.19,95.9134 1793.82,88.8693 1816.45,88.5991 1839.07,95.1055 1861.7,108.323 1884.33,128.121 1906.96,154.3 1929.59,186.599 1952.22,224.696 1974.85,268.21 1997.48,316.705 2020.11,369.698 2042.74,426.659 2065.37,487.019 2087.99,550.174 2110.62,615.494 2133.25,682.326 2155.88,750.003 2178.51,817.847 2201.14,885.182 2223.77,951.334 2246.4,1015.64 2269.03,1077.47 2291.66,1136.18 \"/>\n",
       "<polyline clip-path=\"url(#clip462)\" style=\"stroke:#ff79c6; stroke-linecap:round; stroke-linejoin:round; stroke-width:4; stroke-opacity:1; fill:none\" points=\"255.035,399.989 277.664,458.858 300.293,520.804 322.922,585.207 345.551,651.426 368.18,718.797 390.81,786.649 413.439,854.302 436.068,921.081 458.697,986.319 481.326,1049.36 503.955,1109.59 526.584,1166.38 549.213,1219.19 571.843,1267.47 594.472,1310.76 617.101,1348.6 639.73,1380.64 662.359,1406.54 684.988,1426.05 707.617,1438.97 730.247,1445.18 752.876,1444.61 775.505,1437.27 798.134,1423.23 820.763,1402.63 843.392,1375.67 866.021,1342.64 888.651,1303.85 911.28,1259.69 933.909,1210.61 956.538,1157.1 979.167,1099.68 1001.8,1038.94 1024.43,975.486 1047.05,909.943 1069.68,842.969 1092.31,775.235 1114.94,707.417 1137.57,640.193 1160.2,574.233 1182.83,510.198 1205.46,448.728 1228.09,390.435 1250.72,335.903 1273.35,285.677 1295.98,240.258 1318.6,200.101 1341.23,165.606 1363.86,137.118 1386.49,114.922 1409.12,99.2401 1431.75,90.228 1454.38,87.9763 1477.01,92.5074 1499.64,103.776 1522.27,121.67 1544.9,146.009 1567.52,176.552 1590.15,212.993 1612.78,254.967 1635.41,302.055 1658.04,353.788 1680.67,409.647 1703.3,469.075 1725.93,531.478 1748.56,596.233 1771.19,662.692 1793.82,730.191 1816.45,798.057 1839.07,865.61 1861.7,932.177 1884.33,997.091 1906.96,1059.7 1929.59,1119.39 1952.22,1175.56 1974.85,1227.64 1997.48,1275.11 2020.11,1317.51 2042.74,1354.41 2065.37,1385.43 2087.99,1410.27 2110.62,1428.69 2133.25,1440.49 2155.88,1445.56 2178.51,1443.85 2201.14,1435.37 2223.77,1420.22 2246.4,1398.53 2269.03,1370.53 2291.66,1336.51 \"/>\n",
       "<path clip-path=\"url(#clip460)\" d=\"M1926.79 250.738 L2280.8 250.738 L2280.8 95.2176 L1926.79 95.2176  Z\" fill=\"#282a36\" fill-rule=\"evenodd\" fill-opacity=\"1\"/>\n",
       "<polyline clip-path=\"url(#clip460)\" style=\"stroke:#f8f8f2; stroke-linecap:round; stroke-linejoin:round; stroke-width:4; stroke-opacity:1; fill:none\" points=\"1926.79,250.738 2280.8,250.738 2280.8,95.2176 1926.79,95.2176 1926.79,250.738 \"/>\n",
       "<polyline clip-path=\"url(#clip460)\" style=\"stroke:#8be9fd; stroke-linecap:round; stroke-linejoin:round; stroke-width:4; stroke-opacity:1; fill:none\" points=\"1950.78,147.058 2094.7,147.058 \"/>\n",
       "<path clip-path=\"url(#clip460)\" d=\"M2137.11 139.176 L2137.11 143.203 Q2135.3 142.277 2133.36 141.815 Q2131.42 141.352 2129.33 141.352 Q2126.16 141.352 2124.56 142.324 Q2122.99 143.296 2122.99 145.24 Q2122.99 146.722 2124.12 147.578 Q2125.26 148.412 2128.68 149.176 L2130.14 149.5 Q2134.68 150.472 2136.58 152.254 Q2138.5 154.014 2138.5 157.185 Q2138.5 160.796 2135.63 162.902 Q2132.78 165.009 2127.78 165.009 Q2125.7 165.009 2123.43 164.592 Q2121.18 164.199 2118.68 163.388 L2118.68 158.99 Q2121.05 160.217 2123.34 160.842 Q2125.63 161.444 2127.87 161.444 Q2130.88 161.444 2132.5 160.426 Q2134.12 159.384 2134.12 157.509 Q2134.12 155.773 2132.94 154.847 Q2131.79 153.921 2127.83 153.064 L2126.35 152.717 Q2122.39 151.884 2120.63 150.171 Q2118.87 148.435 2118.87 145.426 Q2118.87 141.768 2121.46 139.778 Q2124.05 137.787 2128.82 137.787 Q2131.18 137.787 2133.27 138.134 Q2135.35 138.481 2137.11 139.176 Z\" fill=\"#f8f8f2\" fill-rule=\"nonzero\" fill-opacity=\"1\" /><path clip-path=\"url(#clip460)\" d=\"M2145.28 138.412 L2149.54 138.412 L2149.54 164.338 L2145.28 164.338 L2145.28 138.412 M2145.28 128.319 L2149.54 128.319 L2149.54 133.713 L2145.28 133.713 L2145.28 128.319 Z\" fill=\"#f8f8f2\" fill-rule=\"nonzero\" fill-opacity=\"1\" /><path clip-path=\"url(#clip460)\" d=\"M2180 148.689 L2180 164.338 L2175.74 164.338 L2175.74 148.828 Q2175.74 145.148 2174.31 143.319 Q2172.87 141.49 2170 141.49 Q2166.55 141.49 2164.56 143.69 Q2162.57 145.889 2162.57 149.685 L2162.57 164.338 L2158.29 164.338 L2158.29 138.412 L2162.57 138.412 L2162.57 142.44 Q2164.1 140.102 2166.16 138.944 Q2168.24 137.787 2170.95 137.787 Q2175.42 137.787 2177.71 140.565 Q2180 143.319 2180 148.689 Z\" fill=\"#f8f8f2\" fill-rule=\"nonzero\" fill-opacity=\"1\" /><path clip-path=\"url(#clip460)\" d=\"M2198.73 128.366 Q2195.63 133.69 2194.12 138.898 Q2192.62 144.106 2192.62 149.453 Q2192.62 154.801 2194.12 160.055 Q2195.65 165.287 2198.73 170.588 L2195.03 170.588 Q2191.55 165.148 2189.82 159.893 Q2188.11 154.639 2188.11 149.453 Q2188.11 144.291 2189.82 139.06 Q2191.53 133.828 2195.03 128.366 L2198.73 128.366 Z\" fill=\"#f8f8f2\" fill-rule=\"nonzero\" fill-opacity=\"1\" /><path clip-path=\"url(#clip460)\" d=\"M2228.54 138.412 L2219.17 151.027 L2229.03 164.338 L2224.01 164.338 L2216.46 154.152 L2208.92 164.338 L2203.89 164.338 L2213.96 150.773 L2204.75 138.412 L2209.77 138.412 L2216.65 147.648 L2223.52 138.412 L2228.54 138.412 Z\" fill=\"#f8f8f2\" fill-rule=\"nonzero\" fill-opacity=\"1\" /><path clip-path=\"url(#clip460)\" d=\"M2234.38 128.366 L2238.08 128.366 Q2241.55 133.828 2243.27 139.06 Q2245 144.291 2245 149.453 Q2245 154.639 2243.27 159.893 Q2241.55 165.148 2238.08 170.588 L2234.38 170.588 Q2237.46 165.287 2238.96 160.055 Q2240.49 154.801 2240.49 149.453 Q2240.49 144.106 2238.96 138.898 Q2237.46 133.69 2234.38 128.366 Z\" fill=\"#f8f8f2\" fill-rule=\"nonzero\" fill-opacity=\"1\" /><polyline clip-path=\"url(#clip460)\" style=\"stroke:#ff79c6; stroke-linecap:round; stroke-linejoin:round; stroke-width:4; stroke-opacity:1; fill:none\" points=\"1950.78,198.898 2094.7,198.898 \"/>\n",
       "<path clip-path=\"url(#clip460)\" d=\"M2139.19 191.247 L2139.19 195.229 Q2137.39 194.233 2135.56 193.747 Q2133.75 193.238 2131.9 193.238 Q2127.76 193.238 2125.47 195.877 Q2123.17 198.492 2123.17 203.238 Q2123.17 207.983 2125.47 210.622 Q2127.76 213.238 2131.9 213.238 Q2133.75 213.238 2135.56 212.752 Q2137.39 212.242 2139.19 211.247 L2139.19 215.182 Q2137.41 216.016 2135.49 216.432 Q2133.59 216.849 2131.44 216.849 Q2125.58 216.849 2122.13 213.168 Q2118.68 209.488 2118.68 203.238 Q2118.68 196.895 2122.16 193.261 Q2125.65 189.627 2131.72 189.627 Q2133.68 189.627 2135.56 190.043 Q2137.43 190.437 2139.19 191.247 Z\" fill=\"#f8f8f2\" fill-rule=\"nonzero\" fill-opacity=\"1\" /><path clip-path=\"url(#clip460)\" d=\"M2156.65 193.238 Q2153.22 193.238 2151.23 195.923 Q2149.24 198.585 2149.24 203.238 Q2149.24 207.891 2151.21 210.576 Q2153.2 213.238 2156.65 213.238 Q2160.05 213.238 2162.04 210.553 Q2164.03 207.867 2164.03 203.238 Q2164.03 198.631 2162.04 195.946 Q2160.05 193.238 2156.65 193.238 M2156.65 189.627 Q2162.2 189.627 2165.37 193.238 Q2168.54 196.849 2168.54 203.238 Q2168.54 209.604 2165.37 213.238 Q2162.2 216.849 2156.65 216.849 Q2151.07 216.849 2147.9 213.238 Q2144.75 209.604 2144.75 203.238 Q2144.75 196.849 2147.9 193.238 Q2151.07 189.627 2156.65 189.627 Z\" fill=\"#f8f8f2\" fill-rule=\"nonzero\" fill-opacity=\"1\" /><path clip-path=\"url(#clip460)\" d=\"M2192.13 191.016 L2192.13 195.043 Q2190.33 194.117 2188.38 193.655 Q2186.44 193.192 2184.36 193.192 Q2181.18 193.192 2179.59 194.164 Q2178.01 195.136 2178.01 197.08 Q2178.01 198.562 2179.15 199.418 Q2180.28 200.252 2183.71 201.016 L2185.17 201.34 Q2189.7 202.312 2191.6 204.094 Q2193.52 205.854 2193.52 209.025 Q2193.52 212.636 2190.65 214.742 Q2187.8 216.849 2182.8 216.849 Q2180.72 216.849 2178.45 216.432 Q2176.21 216.039 2173.71 215.228 L2173.71 210.83 Q2176.07 212.057 2178.36 212.682 Q2180.65 213.284 2182.9 213.284 Q2185.91 213.284 2187.53 212.266 Q2189.15 211.224 2189.15 209.349 Q2189.15 207.613 2187.97 206.687 Q2186.81 205.761 2182.85 204.904 L2181.37 204.557 Q2177.41 203.724 2175.65 202.011 Q2173.89 200.275 2173.89 197.266 Q2173.89 193.608 2176.48 191.618 Q2179.08 189.627 2183.85 189.627 Q2186.21 189.627 2188.29 189.974 Q2190.37 190.321 2192.13 191.016 Z\" fill=\"#f8f8f2\" fill-rule=\"nonzero\" fill-opacity=\"1\" /><path clip-path=\"url(#clip460)\" d=\"M2210.54 180.206 Q2207.43 185.53 2205.93 190.738 Q2204.42 195.946 2204.42 201.293 Q2204.42 206.641 2205.93 211.895 Q2207.46 217.127 2210.54 222.428 L2206.83 222.428 Q2203.36 216.988 2201.62 211.733 Q2199.91 206.479 2199.91 201.293 Q2199.91 196.131 2201.62 190.9 Q2203.34 185.668 2206.83 180.206 L2210.54 180.206 Z\" fill=\"#f8f8f2\" fill-rule=\"nonzero\" fill-opacity=\"1\" /><path clip-path=\"url(#clip460)\" d=\"M2240.35 190.252 L2230.98 202.867 L2240.84 216.178 L2235.81 216.178 L2228.27 205.992 L2220.72 216.178 L2215.7 216.178 L2225.77 202.613 L2216.55 190.252 L2221.58 190.252 L2228.45 199.488 L2235.33 190.252 L2240.35 190.252 Z\" fill=\"#f8f8f2\" fill-rule=\"nonzero\" fill-opacity=\"1\" /><path clip-path=\"url(#clip460)\" d=\"M2246.18 180.206 L2249.89 180.206 Q2253.36 185.668 2255.07 190.9 Q2256.81 196.131 2256.81 201.293 Q2256.81 206.479 2255.07 211.733 Q2253.36 216.988 2249.89 222.428 L2246.18 222.428 Q2249.26 217.127 2250.77 211.895 Q2252.29 206.641 2252.29 201.293 Q2252.29 195.946 2250.77 190.738 Q2249.26 185.53 2246.18 180.206 Z\" fill=\"#f8f8f2\" fill-rule=\"nonzero\" fill-opacity=\"1\" /></svg>\n"
      ],
      "text/html": [
       "<?xml version=\"1.0\" encoding=\"utf-8\"?>\n",
       "<svg xmlns=\"http://www.w3.org/2000/svg\" xmlns:xlink=\"http://www.w3.org/1999/xlink\" width=\"600\" height=\"400\" viewBox=\"0 0 2400 1600\">\n",
       "<defs>\n",
       "  <clipPath id=\"clip510\">\n",
       "    <rect x=\"0\" y=\"0\" width=\"2400\" height=\"1600\"/>\n",
       "  </clipPath>\n",
       "</defs>\n",
       "<path clip-path=\"url(#clip510)\" d=\"M0 1600 L2400 1600 L2400 0 L0 0  Z\" fill=\"#282a36\" fill-rule=\"evenodd\" fill-opacity=\"1\"/>\n",
       "<defs>\n",
       "  <clipPath id=\"clip511\">\n",
       "    <rect x=\"480\" y=\"0\" width=\"1681\" height=\"1600\"/>\n",
       "  </clipPath>\n",
       "</defs>\n",
       "<path clip-path=\"url(#clip510)\" d=\"M193.936 1486.45 L2352.76 1486.45 L2352.76 47.2441 L193.936 47.2441  Z\" fill=\"#30343b\" fill-rule=\"evenodd\" fill-opacity=\"1\"/>\n",
       "<defs>\n",
       "  <clipPath id=\"clip512\">\n",
       "    <rect x=\"193\" y=\"47\" width=\"2160\" height=\"1440\"/>\n",
       "  </clipPath>\n",
       "</defs>\n",
       "<polyline clip-path=\"url(#clip512)\" style=\"stroke:#f8f8f2; stroke-linecap:round; stroke-linejoin:round; stroke-width:2; stroke-opacity:0.1; fill:none\" points=\"481.326,1486.45 481.326,47.2441 \"/>\n",
       "<polyline clip-path=\"url(#clip512)\" style=\"stroke:#f8f8f2; stroke-linecap:round; stroke-linejoin:round; stroke-width:2; stroke-opacity:0.1; fill:none\" points=\"933.909,1486.45 933.909,47.2441 \"/>\n",
       "<polyline clip-path=\"url(#clip512)\" style=\"stroke:#f8f8f2; stroke-linecap:round; stroke-linejoin:round; stroke-width:2; stroke-opacity:0.1; fill:none\" points=\"1386.49,1486.45 1386.49,47.2441 \"/>\n",
       "<polyline clip-path=\"url(#clip512)\" style=\"stroke:#f8f8f2; stroke-linecap:round; stroke-linejoin:round; stroke-width:2; stroke-opacity:0.1; fill:none\" points=\"1839.07,1486.45 1839.07,47.2441 \"/>\n",
       "<polyline clip-path=\"url(#clip512)\" style=\"stroke:#f8f8f2; stroke-linecap:round; stroke-linejoin:round; stroke-width:2; stroke-opacity:0.1; fill:none\" points=\"2291.66,1486.45 2291.66,47.2441 \"/>\n",
       "<polyline clip-path=\"url(#clip510)\" style=\"stroke:#f8f8f2; stroke-linecap:round; stroke-linejoin:round; stroke-width:4; stroke-opacity:1; fill:none\" points=\"193.936,1486.45 2352.76,1486.45 \"/>\n",
       "<polyline clip-path=\"url(#clip510)\" style=\"stroke:#f8f8f2; stroke-linecap:round; stroke-linejoin:round; stroke-width:4; stroke-opacity:1; fill:none\" points=\"481.326,1486.45 481.326,1467.55 \"/>\n",
       "<polyline clip-path=\"url(#clip510)\" style=\"stroke:#f8f8f2; stroke-linecap:round; stroke-linejoin:round; stroke-width:4; stroke-opacity:1; fill:none\" points=\"933.909,1486.45 933.909,1467.55 \"/>\n",
       "<polyline clip-path=\"url(#clip510)\" style=\"stroke:#f8f8f2; stroke-linecap:round; stroke-linejoin:round; stroke-width:4; stroke-opacity:1; fill:none\" points=\"1386.49,1486.45 1386.49,1467.55 \"/>\n",
       "<polyline clip-path=\"url(#clip510)\" style=\"stroke:#f8f8f2; stroke-linecap:round; stroke-linejoin:round; stroke-width:4; stroke-opacity:1; fill:none\" points=\"1839.07,1486.45 1839.07,1467.55 \"/>\n",
       "<polyline clip-path=\"url(#clip510)\" style=\"stroke:#f8f8f2; stroke-linecap:round; stroke-linejoin:round; stroke-width:4; stroke-opacity:1; fill:none\" points=\"2291.66,1486.45 2291.66,1467.55 \"/>\n",
       "<path clip-path=\"url(#clip510)\" d=\"M475.979 1544.91 L492.298 1544.91 L492.298 1548.85 L470.354 1548.85 L470.354 1544.91 Q473.016 1542.16 477.599 1537.53 Q482.206 1532.88 483.386 1531.53 Q485.632 1529.01 486.511 1527.27 Q487.414 1525.51 487.414 1523.82 Q487.414 1521.07 485.47 1519.33 Q483.548 1517.6 480.446 1517.6 Q478.247 1517.6 475.794 1518.36 Q473.363 1519.13 470.585 1520.68 L470.585 1515.95 Q473.409 1514.82 475.863 1514.24 Q478.317 1513.66 480.354 1513.66 Q485.724 1513.66 488.919 1516.35 Q492.113 1519.03 492.113 1523.52 Q492.113 1525.65 491.303 1527.57 Q490.516 1529.47 488.409 1532.07 Q487.831 1532.74 484.729 1535.95 Q481.627 1539.15 475.979 1544.91 Z\" fill=\"#f8f8f2\" fill-rule=\"nonzero\" fill-opacity=\"1\" /><path clip-path=\"url(#clip510)\" d=\"M936.918 1518.36 L925.113 1536.81 L936.918 1536.81 L936.918 1518.36 M935.691 1514.29 L941.571 1514.29 L941.571 1536.81 L946.501 1536.81 L946.501 1540.7 L941.571 1540.7 L941.571 1548.85 L936.918 1548.85 L936.918 1540.7 L921.316 1540.7 L921.316 1536.19 L935.691 1514.29 Z\" fill=\"#f8f8f2\" fill-rule=\"nonzero\" fill-opacity=\"1\" /><path clip-path=\"url(#clip510)\" d=\"M1386.9 1529.7 Q1383.75 1529.7 1381.9 1531.86 Q1380.07 1534.01 1380.07 1537.76 Q1380.07 1541.49 1381.9 1543.66 Q1383.75 1545.82 1386.9 1545.82 Q1390.04 1545.82 1391.87 1543.66 Q1393.73 1541.49 1393.73 1537.76 Q1393.73 1534.01 1391.87 1531.86 Q1390.04 1529.7 1386.9 1529.7 M1396.18 1515.05 L1396.18 1519.31 Q1394.42 1518.48 1392.61 1518.04 Q1390.83 1517.6 1389.07 1517.6 Q1384.44 1517.6 1381.99 1520.72 Q1379.56 1523.85 1379.21 1530.17 Q1380.58 1528.15 1382.64 1527.09 Q1384.7 1526 1387.17 1526 Q1392.38 1526 1395.39 1529.17 Q1398.42 1532.32 1398.42 1537.76 Q1398.42 1543.08 1395.28 1546.3 Q1392.13 1549.52 1386.9 1549.52 Q1380.9 1549.52 1377.73 1544.94 Q1374.56 1540.33 1374.56 1531.6 Q1374.56 1523.41 1378.45 1518.55 Q1382.34 1513.66 1388.89 1513.66 Q1390.65 1513.66 1392.43 1514.01 Q1394.23 1514.36 1396.18 1515.05 Z\" fill=\"#f8f8f2\" fill-rule=\"nonzero\" fill-opacity=\"1\" /><path clip-path=\"url(#clip510)\" d=\"M1839.07 1532.44 Q1835.74 1532.44 1833.82 1534.22 Q1831.92 1536 1831.92 1539.13 Q1831.92 1542.25 1833.82 1544.03 Q1835.74 1545.82 1839.07 1545.82 Q1842.41 1545.82 1844.33 1544.03 Q1846.25 1542.23 1846.25 1539.13 Q1846.25 1536 1844.33 1534.22 Q1842.43 1532.44 1839.07 1532.44 M1834.4 1530.45 Q1831.39 1529.7 1829.7 1527.64 Q1828.03 1525.58 1828.03 1522.62 Q1828.03 1518.48 1830.97 1516.07 Q1833.94 1513.66 1839.07 1513.66 Q1844.24 1513.66 1847.18 1516.07 Q1850.12 1518.48 1850.12 1522.62 Q1850.12 1525.58 1848.43 1527.64 Q1846.76 1529.7 1843.77 1530.45 Q1847.15 1531.23 1849.03 1533.52 Q1850.93 1535.82 1850.93 1539.13 Q1850.93 1544.15 1847.85 1546.83 Q1844.79 1549.52 1839.07 1549.52 Q1833.36 1549.52 1830.28 1546.83 Q1827.22 1544.15 1827.22 1539.13 Q1827.22 1535.82 1829.12 1533.52 Q1831.02 1531.23 1834.4 1530.45 M1832.69 1523.06 Q1832.69 1525.75 1834.35 1527.25 Q1836.04 1528.76 1839.07 1528.76 Q1842.08 1528.76 1843.77 1527.25 Q1845.49 1525.75 1845.49 1523.06 Q1845.49 1520.38 1843.77 1518.87 Q1842.08 1517.37 1839.07 1517.37 Q1836.04 1517.37 1834.35 1518.87 Q1832.69 1520.38 1832.69 1523.06 Z\" fill=\"#f8f8f2\" fill-rule=\"nonzero\" fill-opacity=\"1\" /><path clip-path=\"url(#clip510)\" d=\"M2266.34 1544.91 L2273.98 1544.91 L2273.98 1518.55 L2265.67 1520.21 L2265.67 1515.95 L2273.94 1514.29 L2278.61 1514.29 L2278.61 1544.91 L2286.25 1544.91 L2286.25 1548.85 L2266.34 1548.85 L2266.34 1544.91 Z\" fill=\"#f8f8f2\" fill-rule=\"nonzero\" fill-opacity=\"1\" /><path clip-path=\"url(#clip510)\" d=\"M2305.7 1517.37 Q2302.09 1517.37 2300.26 1520.93 Q2298.45 1524.47 2298.45 1531.6 Q2298.45 1538.71 2300.26 1542.27 Q2302.09 1545.82 2305.7 1545.82 Q2309.33 1545.82 2311.14 1542.27 Q2312.96 1538.71 2312.96 1531.6 Q2312.96 1524.47 2311.14 1520.93 Q2309.33 1517.37 2305.7 1517.37 M2305.7 1513.66 Q2311.51 1513.66 2314.56 1518.27 Q2317.64 1522.85 2317.64 1531.6 Q2317.64 1540.33 2314.56 1544.94 Q2311.51 1549.52 2305.7 1549.52 Q2299.89 1549.52 2296.81 1544.94 Q2293.75 1540.33 2293.75 1531.6 Q2293.75 1522.85 2296.81 1518.27 Q2299.89 1513.66 2305.7 1513.66 Z\" fill=\"#f8f8f2\" fill-rule=\"nonzero\" fill-opacity=\"1\" /><polyline clip-path=\"url(#clip512)\" style=\"stroke:#f8f8f2; stroke-linecap:round; stroke-linejoin:round; stroke-width:2; stroke-opacity:0.1; fill:none\" points=\"193.936,1445.77 2352.76,1445.77 \"/>\n",
       "<polyline clip-path=\"url(#clip512)\" style=\"stroke:#f8f8f2; stroke-linecap:round; stroke-linejoin:round; stroke-width:2; stroke-opacity:0.1; fill:none\" points=\"193.936,1106.3 2352.76,1106.3 \"/>\n",
       "<polyline clip-path=\"url(#clip512)\" style=\"stroke:#f8f8f2; stroke-linecap:round; stroke-linejoin:round; stroke-width:2; stroke-opacity:0.1; fill:none\" points=\"193.936,766.824 2352.76,766.824 \"/>\n",
       "<polyline clip-path=\"url(#clip512)\" style=\"stroke:#f8f8f2; stroke-linecap:round; stroke-linejoin:round; stroke-width:2; stroke-opacity:0.1; fill:none\" points=\"193.936,427.352 2352.76,427.352 \"/>\n",
       "<polyline clip-path=\"url(#clip512)\" style=\"stroke:#f8f8f2; stroke-linecap:round; stroke-linejoin:round; stroke-width:2; stroke-opacity:0.1; fill:none\" points=\"193.936,87.8803 2352.76,87.8803 \"/>\n",
       "<polyline clip-path=\"url(#clip510)\" style=\"stroke:#f8f8f2; stroke-linecap:round; stroke-linejoin:round; stroke-width:4; stroke-opacity:1; fill:none\" points=\"193.936,1486.45 193.936,47.2441 \"/>\n",
       "<polyline clip-path=\"url(#clip510)\" style=\"stroke:#f8f8f2; stroke-linecap:round; stroke-linejoin:round; stroke-width:4; stroke-opacity:1; fill:none\" points=\"193.936,1445.77 212.834,1445.77 \"/>\n",
       "<polyline clip-path=\"url(#clip510)\" style=\"stroke:#f8f8f2; stroke-linecap:round; stroke-linejoin:round; stroke-width:4; stroke-opacity:1; fill:none\" points=\"193.936,1106.3 212.834,1106.3 \"/>\n",
       "<polyline clip-path=\"url(#clip510)\" style=\"stroke:#f8f8f2; stroke-linecap:round; stroke-linejoin:round; stroke-width:4; stroke-opacity:1; fill:none\" points=\"193.936,766.824 212.834,766.824 \"/>\n",
       "<polyline clip-path=\"url(#clip510)\" style=\"stroke:#f8f8f2; stroke-linecap:round; stroke-linejoin:round; stroke-width:4; stroke-opacity:1; fill:none\" points=\"193.936,427.352 212.834,427.352 \"/>\n",
       "<polyline clip-path=\"url(#clip510)\" style=\"stroke:#f8f8f2; stroke-linecap:round; stroke-linejoin:round; stroke-width:4; stroke-opacity:1; fill:none\" points=\"193.936,87.8803 212.834,87.8803 \"/>\n",
       "<path clip-path=\"url(#clip510)\" d=\"M50.9921 1446.22 L80.6679 1446.22 L80.6679 1450.15 L50.9921 1450.15 L50.9921 1446.22 Z\" fill=\"#f8f8f2\" fill-rule=\"nonzero\" fill-opacity=\"1\" /><path clip-path=\"url(#clip510)\" d=\"M91.5706 1459.11 L99.2095 1459.11 L99.2095 1432.75 L90.8993 1434.41 L90.8993 1430.15 L99.1632 1428.49 L103.839 1428.49 L103.839 1459.11 L111.478 1459.11 L111.478 1463.05 L91.5706 1463.05 L91.5706 1459.11 Z\" fill=\"#f8f8f2\" fill-rule=\"nonzero\" fill-opacity=\"1\" /><path clip-path=\"url(#clip510)\" d=\"M120.922 1457.17 L125.807 1457.17 L125.807 1463.05 L120.922 1463.05 L120.922 1457.17 Z\" fill=\"#f8f8f2\" fill-rule=\"nonzero\" fill-opacity=\"1\" /><path clip-path=\"url(#clip510)\" d=\"M145.992 1431.57 Q142.381 1431.57 140.552 1435.13 Q138.746 1438.67 138.746 1445.8 Q138.746 1452.91 140.552 1456.47 Q142.381 1460.02 145.992 1460.02 Q149.626 1460.02 151.431 1456.47 Q153.26 1452.91 153.26 1445.8 Q153.26 1438.67 151.431 1435.13 Q149.626 1431.57 145.992 1431.57 M145.992 1427.86 Q151.802 1427.86 154.857 1432.47 Q157.936 1437.05 157.936 1445.8 Q157.936 1454.53 154.857 1459.14 Q151.802 1463.72 145.992 1463.72 Q140.181 1463.72 137.103 1459.14 Q134.047 1454.53 134.047 1445.8 Q134.047 1437.05 137.103 1432.47 Q140.181 1427.86 145.992 1427.86 Z\" fill=\"#f8f8f2\" fill-rule=\"nonzero\" fill-opacity=\"1\" /><path clip-path=\"url(#clip510)\" d=\"M51.9875 1106.75 L81.6633 1106.75 L81.6633 1110.68 L51.9875 1110.68 L51.9875 1106.75 Z\" fill=\"#f8f8f2\" fill-rule=\"nonzero\" fill-opacity=\"1\" /><path clip-path=\"url(#clip510)\" d=\"M101.756 1092.09 Q98.1447 1092.09 96.316 1095.66 Q94.5104 1099.2 94.5104 1106.33 Q94.5104 1113.44 96.316 1117 Q98.1447 1120.54 101.756 1120.54 Q105.39 1120.54 107.196 1117 Q109.024 1113.44 109.024 1106.33 Q109.024 1099.2 107.196 1095.66 Q105.39 1092.09 101.756 1092.09 M101.756 1088.39 Q107.566 1088.39 110.621 1093 Q113.7 1097.58 113.7 1106.33 Q113.7 1115.06 110.621 1119.66 Q107.566 1124.25 101.756 1124.25 Q95.9456 1124.25 92.8669 1119.66 Q89.8114 1115.06 89.8114 1106.33 Q89.8114 1097.58 92.8669 1093 Q95.9456 1088.39 101.756 1088.39 Z\" fill=\"#f8f8f2\" fill-rule=\"nonzero\" fill-opacity=\"1\" /><path clip-path=\"url(#clip510)\" d=\"M121.918 1117.7 L126.802 1117.7 L126.802 1123.58 L121.918 1123.58 L121.918 1117.7 Z\" fill=\"#f8f8f2\" fill-rule=\"nonzero\" fill-opacity=\"1\" /><path clip-path=\"url(#clip510)\" d=\"M137.033 1089.02 L155.39 1089.02 L155.39 1092.95 L141.316 1092.95 L141.316 1101.42 Q142.334 1101.08 143.353 1100.91 Q144.371 1100.73 145.39 1100.73 Q151.177 1100.73 154.556 1103.9 Q157.936 1107.07 157.936 1112.49 Q157.936 1118.07 154.464 1121.17 Q150.992 1124.25 144.672 1124.25 Q142.496 1124.25 140.228 1123.88 Q137.982 1123.51 135.575 1122.77 L135.575 1118.07 Q137.658 1119.2 139.881 1119.76 Q142.103 1120.31 144.58 1120.31 Q148.584 1120.31 150.922 1118.21 Q153.26 1116.1 153.26 1112.49 Q153.26 1108.88 150.922 1106.77 Q148.584 1104.66 144.58 1104.66 Q142.705 1104.66 140.83 1105.08 Q138.978 1105.5 137.033 1106.38 L137.033 1089.02 Z\" fill=\"#f8f8f2\" fill-rule=\"nonzero\" fill-opacity=\"1\" /><path clip-path=\"url(#clip510)\" d=\"M100.76 752.623 Q97.1493 752.623 95.3206 756.188 Q93.515 759.729 93.515 766.859 Q93.515 773.965 95.3206 777.53 Q97.1493 781.072 100.76 781.072 Q104.395 781.072 106.2 777.53 Q108.029 773.965 108.029 766.859 Q108.029 759.729 106.2 756.188 Q104.395 752.623 100.76 752.623 M100.76 748.919 Q106.571 748.919 109.626 753.526 Q112.705 758.109 112.705 766.859 Q112.705 775.586 109.626 780.192 Q106.571 784.775 100.76 784.775 Q94.9502 784.775 91.8715 780.192 Q88.816 775.586 88.816 766.859 Q88.816 758.109 91.8715 753.526 Q94.9502 748.919 100.76 748.919 Z\" fill=\"#f8f8f2\" fill-rule=\"nonzero\" fill-opacity=\"1\" /><path clip-path=\"url(#clip510)\" d=\"M120.922 778.224 L125.807 778.224 L125.807 784.104 L120.922 784.104 L120.922 778.224 Z\" fill=\"#f8f8f2\" fill-rule=\"nonzero\" fill-opacity=\"1\" /><path clip-path=\"url(#clip510)\" d=\"M145.992 752.623 Q142.381 752.623 140.552 756.188 Q138.746 759.729 138.746 766.859 Q138.746 773.965 140.552 777.53 Q142.381 781.072 145.992 781.072 Q149.626 781.072 151.431 777.53 Q153.26 773.965 153.26 766.859 Q153.26 759.729 151.431 756.188 Q149.626 752.623 145.992 752.623 M145.992 748.919 Q151.802 748.919 154.857 753.526 Q157.936 758.109 157.936 766.859 Q157.936 775.586 154.857 780.192 Q151.802 784.775 145.992 784.775 Q140.181 784.775 137.103 780.192 Q134.047 775.586 134.047 766.859 Q134.047 758.109 137.103 753.526 Q140.181 748.919 145.992 748.919 Z\" fill=\"#f8f8f2\" fill-rule=\"nonzero\" fill-opacity=\"1\" /><path clip-path=\"url(#clip510)\" d=\"M101.756 413.151 Q98.1447 413.151 96.316 416.716 Q94.5104 420.257 94.5104 427.387 Q94.5104 434.493 96.316 438.058 Q98.1447 441.6 101.756 441.6 Q105.39 441.6 107.196 438.058 Q109.024 434.493 109.024 427.387 Q109.024 420.257 107.196 416.716 Q105.39 413.151 101.756 413.151 M101.756 409.447 Q107.566 409.447 110.621 414.054 Q113.7 418.637 113.7 427.387 Q113.7 436.114 110.621 440.72 Q107.566 445.303 101.756 445.303 Q95.9456 445.303 92.8669 440.72 Q89.8114 436.114 89.8114 427.387 Q89.8114 418.637 92.8669 414.054 Q95.9456 409.447 101.756 409.447 Z\" fill=\"#f8f8f2\" fill-rule=\"nonzero\" fill-opacity=\"1\" /><path clip-path=\"url(#clip510)\" d=\"M121.918 438.753 L126.802 438.753 L126.802 444.632 L121.918 444.632 L121.918 438.753 Z\" fill=\"#f8f8f2\" fill-rule=\"nonzero\" fill-opacity=\"1\" /><path clip-path=\"url(#clip510)\" d=\"M137.033 410.072 L155.39 410.072 L155.39 414.007 L141.316 414.007 L141.316 422.48 Q142.334 422.132 143.353 421.97 Q144.371 421.785 145.39 421.785 Q151.177 421.785 154.556 424.956 Q157.936 428.128 157.936 433.544 Q157.936 439.123 154.464 442.225 Q150.992 445.303 144.672 445.303 Q142.496 445.303 140.228 444.933 Q137.982 444.563 135.575 443.822 L135.575 439.123 Q137.658 440.257 139.881 440.813 Q142.103 441.368 144.58 441.368 Q148.584 441.368 150.922 439.262 Q153.26 437.155 153.26 433.544 Q153.26 429.933 150.922 427.827 Q148.584 425.72 144.58 425.72 Q142.705 425.72 140.83 426.137 Q138.978 426.554 137.033 427.433 L137.033 410.072 Z\" fill=\"#f8f8f2\" fill-rule=\"nonzero\" fill-opacity=\"1\" /><path clip-path=\"url(#clip510)\" d=\"M91.5706 101.225 L99.2095 101.225 L99.2095 74.8595 L90.8993 76.5262 L90.8993 72.267 L99.1632 70.6003 L103.839 70.6003 L103.839 101.225 L111.478 101.225 L111.478 105.16 L91.5706 105.16 L91.5706 101.225 Z\" fill=\"#f8f8f2\" fill-rule=\"nonzero\" fill-opacity=\"1\" /><path clip-path=\"url(#clip510)\" d=\"M120.922 99.2807 L125.807 99.2807 L125.807 105.16 L120.922 105.16 L120.922 99.2807 Z\" fill=\"#f8f8f2\" fill-rule=\"nonzero\" fill-opacity=\"1\" /><path clip-path=\"url(#clip510)\" d=\"M145.992 73.679 Q142.381 73.679 140.552 77.2438 Q138.746 80.7854 138.746 87.915 Q138.746 95.0215 140.552 98.5863 Q142.381 102.128 145.992 102.128 Q149.626 102.128 151.431 98.5863 Q153.26 95.0215 153.26 87.915 Q153.26 80.7854 151.431 77.2438 Q149.626 73.679 145.992 73.679 M145.992 69.9753 Q151.802 69.9753 154.857 74.5818 Q157.936 79.1651 157.936 87.915 Q157.936 96.6418 154.857 101.248 Q151.802 105.832 145.992 105.832 Q140.181 105.832 137.103 101.248 Q134.047 96.6418 134.047 87.915 Q134.047 79.1651 137.103 74.5818 Q140.181 69.9753 145.992 69.9753 Z\" fill=\"#f8f8f2\" fill-rule=\"nonzero\" fill-opacity=\"1\" /><polyline clip-path=\"url(#clip512)\" style=\"stroke:#8be9fd; stroke-linecap:round; stroke-linejoin:round; stroke-width:4; stroke-opacity:1; fill:none\" points=\"255.035,195.513 277.664,161.744 300.293,134.022 322.922,112.622 345.551,97.7591 368.18,89.5811 390.81,88.1698 413.439,93.5394 436.068,105.636 458.697,124.34 481.326,149.462 503.955,180.753 526.584,217.9 549.213,260.532 571.843,308.223 594.472,360.495 617.101,416.828 639.73,476.657 662.359,539.386 684.988,604.387 707.617,671.011 730.247,738.593 752.876,806.457 775.505,873.925 798.134,940.322 820.763,1004.99 843.392,1067.27 866.021,1126.55 888.651,1182.24 911.28,1233.78 933.909,1280.65 956.538,1322.39 979.167,1358.57 1001.8,1388.85 1024.43,1412.91 1047.05,1430.51 1069.68,1441.48 1092.31,1445.72 1114.94,1443.16 1137.57,1433.85 1160.2,1417.88 1182.83,1395.4 1205.46,1366.64 1228.09,1331.89 1250.72,1291.49 1273.35,1245.85 1295.98,1195.42 1318.6,1140.71 1341.23,1082.26 1363.86,1020.67 1386.49,956.531 1409.12,890.502 1431.75,823.237 1454.38,755.408 1477.01,687.694 1499.64,620.77 1522.27,555.305 1544.9,491.954 1567.52,431.349 1590.15,374.096 1612.78,320.767 1635.41,271.895 1658.04,227.968 1680.67,189.425 1703.3,156.652 1725.93,129.975 1748.56,109.661 1771.19,95.9134 1793.82,88.8693 1816.45,88.5991 1839.07,95.1055 1861.7,108.323 1884.33,128.121 1906.96,154.3 1929.59,186.599 1952.22,224.696 1974.85,268.21 1997.48,316.705 2020.11,369.698 2042.74,426.659 2065.37,487.019 2087.99,550.174 2110.62,615.494 2133.25,682.326 2155.88,750.003 2178.51,817.847 2201.14,885.182 2223.77,951.334 2246.4,1015.64 2269.03,1077.47 2291.66,1136.18 \"/>\n",
       "<polyline clip-path=\"url(#clip512)\" style=\"stroke:#ff79c6; stroke-linecap:round; stroke-linejoin:round; stroke-width:4; stroke-opacity:1; fill:none\" points=\"255.035,399.989 277.664,458.858 300.293,520.804 322.922,585.207 345.551,651.426 368.18,718.797 390.81,786.649 413.439,854.302 436.068,921.081 458.697,986.319 481.326,1049.36 503.955,1109.59 526.584,1166.38 549.213,1219.19 571.843,1267.47 594.472,1310.76 617.101,1348.6 639.73,1380.64 662.359,1406.54 684.988,1426.05 707.617,1438.97 730.247,1445.18 752.876,1444.61 775.505,1437.27 798.134,1423.23 820.763,1402.63 843.392,1375.67 866.021,1342.64 888.651,1303.85 911.28,1259.69 933.909,1210.61 956.538,1157.1 979.167,1099.68 1001.8,1038.94 1024.43,975.486 1047.05,909.943 1069.68,842.969 1092.31,775.235 1114.94,707.417 1137.57,640.193 1160.2,574.233 1182.83,510.198 1205.46,448.728 1228.09,390.435 1250.72,335.903 1273.35,285.677 1295.98,240.258 1318.6,200.101 1341.23,165.606 1363.86,137.118 1386.49,114.922 1409.12,99.2401 1431.75,90.228 1454.38,87.9763 1477.01,92.5074 1499.64,103.776 1522.27,121.67 1544.9,146.009 1567.52,176.552 1590.15,212.993 1612.78,254.967 1635.41,302.055 1658.04,353.788 1680.67,409.647 1703.3,469.075 1725.93,531.478 1748.56,596.233 1771.19,662.692 1793.82,730.191 1816.45,798.057 1839.07,865.61 1861.7,932.177 1884.33,997.091 1906.96,1059.7 1929.59,1119.39 1952.22,1175.56 1974.85,1227.64 1997.48,1275.11 2020.11,1317.51 2042.74,1354.41 2065.37,1385.43 2087.99,1410.27 2110.62,1428.69 2133.25,1440.49 2155.88,1445.56 2178.51,1443.85 2201.14,1435.37 2223.77,1420.22 2246.4,1398.53 2269.03,1370.53 2291.66,1336.51 \"/>\n",
       "<path clip-path=\"url(#clip510)\" d=\"M1926.79 250.738 L2280.8 250.738 L2280.8 95.2176 L1926.79 95.2176  Z\" fill=\"#282a36\" fill-rule=\"evenodd\" fill-opacity=\"1\"/>\n",
       "<polyline clip-path=\"url(#clip510)\" style=\"stroke:#f8f8f2; stroke-linecap:round; stroke-linejoin:round; stroke-width:4; stroke-opacity:1; fill:none\" points=\"1926.79,250.738 2280.8,250.738 2280.8,95.2176 1926.79,95.2176 1926.79,250.738 \"/>\n",
       "<polyline clip-path=\"url(#clip510)\" style=\"stroke:#8be9fd; stroke-linecap:round; stroke-linejoin:round; stroke-width:4; stroke-opacity:1; fill:none\" points=\"1950.78,147.058 2094.7,147.058 \"/>\n",
       "<path clip-path=\"url(#clip510)\" d=\"M2137.11 139.176 L2137.11 143.203 Q2135.3 142.277 2133.36 141.815 Q2131.42 141.352 2129.33 141.352 Q2126.16 141.352 2124.56 142.324 Q2122.99 143.296 2122.99 145.24 Q2122.99 146.722 2124.12 147.578 Q2125.26 148.412 2128.68 149.176 L2130.14 149.5 Q2134.68 150.472 2136.58 152.254 Q2138.5 154.014 2138.5 157.185 Q2138.5 160.796 2135.63 162.902 Q2132.78 165.009 2127.78 165.009 Q2125.7 165.009 2123.43 164.592 Q2121.18 164.199 2118.68 163.388 L2118.68 158.99 Q2121.05 160.217 2123.34 160.842 Q2125.63 161.444 2127.87 161.444 Q2130.88 161.444 2132.5 160.426 Q2134.12 159.384 2134.12 157.509 Q2134.12 155.773 2132.94 154.847 Q2131.79 153.921 2127.83 153.064 L2126.35 152.717 Q2122.39 151.884 2120.63 150.171 Q2118.87 148.435 2118.87 145.426 Q2118.87 141.768 2121.46 139.778 Q2124.05 137.787 2128.82 137.787 Q2131.18 137.787 2133.27 138.134 Q2135.35 138.481 2137.11 139.176 Z\" fill=\"#f8f8f2\" fill-rule=\"nonzero\" fill-opacity=\"1\" /><path clip-path=\"url(#clip510)\" d=\"M2145.28 138.412 L2149.54 138.412 L2149.54 164.338 L2145.28 164.338 L2145.28 138.412 M2145.28 128.319 L2149.54 128.319 L2149.54 133.713 L2145.28 133.713 L2145.28 128.319 Z\" fill=\"#f8f8f2\" fill-rule=\"nonzero\" fill-opacity=\"1\" /><path clip-path=\"url(#clip510)\" d=\"M2180 148.689 L2180 164.338 L2175.74 164.338 L2175.74 148.828 Q2175.74 145.148 2174.31 143.319 Q2172.87 141.49 2170 141.49 Q2166.55 141.49 2164.56 143.69 Q2162.57 145.889 2162.57 149.685 L2162.57 164.338 L2158.29 164.338 L2158.29 138.412 L2162.57 138.412 L2162.57 142.44 Q2164.1 140.102 2166.16 138.944 Q2168.24 137.787 2170.95 137.787 Q2175.42 137.787 2177.71 140.565 Q2180 143.319 2180 148.689 Z\" fill=\"#f8f8f2\" fill-rule=\"nonzero\" fill-opacity=\"1\" /><path clip-path=\"url(#clip510)\" d=\"M2198.73 128.366 Q2195.63 133.69 2194.12 138.898 Q2192.62 144.106 2192.62 149.453 Q2192.62 154.801 2194.12 160.055 Q2195.65 165.287 2198.73 170.588 L2195.03 170.588 Q2191.55 165.148 2189.82 159.893 Q2188.11 154.639 2188.11 149.453 Q2188.11 144.291 2189.82 139.06 Q2191.53 133.828 2195.03 128.366 L2198.73 128.366 Z\" fill=\"#f8f8f2\" fill-rule=\"nonzero\" fill-opacity=\"1\" /><path clip-path=\"url(#clip510)\" d=\"M2228.54 138.412 L2219.17 151.027 L2229.03 164.338 L2224.01 164.338 L2216.46 154.152 L2208.92 164.338 L2203.89 164.338 L2213.96 150.773 L2204.75 138.412 L2209.77 138.412 L2216.65 147.648 L2223.52 138.412 L2228.54 138.412 Z\" fill=\"#f8f8f2\" fill-rule=\"nonzero\" fill-opacity=\"1\" /><path clip-path=\"url(#clip510)\" d=\"M2234.38 128.366 L2238.08 128.366 Q2241.55 133.828 2243.27 139.06 Q2245 144.291 2245 149.453 Q2245 154.639 2243.27 159.893 Q2241.55 165.148 2238.08 170.588 L2234.38 170.588 Q2237.46 165.287 2238.96 160.055 Q2240.49 154.801 2240.49 149.453 Q2240.49 144.106 2238.96 138.898 Q2237.46 133.69 2234.38 128.366 Z\" fill=\"#f8f8f2\" fill-rule=\"nonzero\" fill-opacity=\"1\" /><polyline clip-path=\"url(#clip510)\" style=\"stroke:#ff79c6; stroke-linecap:round; stroke-linejoin:round; stroke-width:4; stroke-opacity:1; fill:none\" points=\"1950.78,198.898 2094.7,198.898 \"/>\n",
       "<path clip-path=\"url(#clip510)\" d=\"M2139.19 191.247 L2139.19 195.229 Q2137.39 194.233 2135.56 193.747 Q2133.75 193.238 2131.9 193.238 Q2127.76 193.238 2125.47 195.877 Q2123.17 198.492 2123.17 203.238 Q2123.17 207.983 2125.47 210.622 Q2127.76 213.238 2131.9 213.238 Q2133.75 213.238 2135.56 212.752 Q2137.39 212.242 2139.19 211.247 L2139.19 215.182 Q2137.41 216.016 2135.49 216.432 Q2133.59 216.849 2131.44 216.849 Q2125.58 216.849 2122.13 213.168 Q2118.68 209.488 2118.68 203.238 Q2118.68 196.895 2122.16 193.261 Q2125.65 189.627 2131.72 189.627 Q2133.68 189.627 2135.56 190.043 Q2137.43 190.437 2139.19 191.247 Z\" fill=\"#f8f8f2\" fill-rule=\"nonzero\" fill-opacity=\"1\" /><path clip-path=\"url(#clip510)\" d=\"M2156.65 193.238 Q2153.22 193.238 2151.23 195.923 Q2149.24 198.585 2149.24 203.238 Q2149.24 207.891 2151.21 210.576 Q2153.2 213.238 2156.65 213.238 Q2160.05 213.238 2162.04 210.553 Q2164.03 207.867 2164.03 203.238 Q2164.03 198.631 2162.04 195.946 Q2160.05 193.238 2156.65 193.238 M2156.65 189.627 Q2162.2 189.627 2165.37 193.238 Q2168.54 196.849 2168.54 203.238 Q2168.54 209.604 2165.37 213.238 Q2162.2 216.849 2156.65 216.849 Q2151.07 216.849 2147.9 213.238 Q2144.75 209.604 2144.75 203.238 Q2144.75 196.849 2147.9 193.238 Q2151.07 189.627 2156.65 189.627 Z\" fill=\"#f8f8f2\" fill-rule=\"nonzero\" fill-opacity=\"1\" /><path clip-path=\"url(#clip510)\" d=\"M2192.13 191.016 L2192.13 195.043 Q2190.33 194.117 2188.38 193.655 Q2186.44 193.192 2184.36 193.192 Q2181.18 193.192 2179.59 194.164 Q2178.01 195.136 2178.01 197.08 Q2178.01 198.562 2179.15 199.418 Q2180.28 200.252 2183.71 201.016 L2185.17 201.34 Q2189.7 202.312 2191.6 204.094 Q2193.52 205.854 2193.52 209.025 Q2193.52 212.636 2190.65 214.742 Q2187.8 216.849 2182.8 216.849 Q2180.72 216.849 2178.45 216.432 Q2176.21 216.039 2173.71 215.228 L2173.71 210.83 Q2176.07 212.057 2178.36 212.682 Q2180.65 213.284 2182.9 213.284 Q2185.91 213.284 2187.53 212.266 Q2189.15 211.224 2189.15 209.349 Q2189.15 207.613 2187.97 206.687 Q2186.81 205.761 2182.85 204.904 L2181.37 204.557 Q2177.41 203.724 2175.65 202.011 Q2173.89 200.275 2173.89 197.266 Q2173.89 193.608 2176.48 191.618 Q2179.08 189.627 2183.85 189.627 Q2186.21 189.627 2188.29 189.974 Q2190.37 190.321 2192.13 191.016 Z\" fill=\"#f8f8f2\" fill-rule=\"nonzero\" fill-opacity=\"1\" /><path clip-path=\"url(#clip510)\" d=\"M2210.54 180.206 Q2207.43 185.53 2205.93 190.738 Q2204.42 195.946 2204.42 201.293 Q2204.42 206.641 2205.93 211.895 Q2207.46 217.127 2210.54 222.428 L2206.83 222.428 Q2203.36 216.988 2201.62 211.733 Q2199.91 206.479 2199.91 201.293 Q2199.91 196.131 2201.62 190.9 Q2203.34 185.668 2206.83 180.206 L2210.54 180.206 Z\" fill=\"#f8f8f2\" fill-rule=\"nonzero\" fill-opacity=\"1\" /><path clip-path=\"url(#clip510)\" d=\"M2240.35 190.252 L2230.98 202.867 L2240.84 216.178 L2235.81 216.178 L2228.27 205.992 L2220.72 216.178 L2215.7 216.178 L2225.77 202.613 L2216.55 190.252 L2221.58 190.252 L2228.45 199.488 L2235.33 190.252 L2240.35 190.252 Z\" fill=\"#f8f8f2\" fill-rule=\"nonzero\" fill-opacity=\"1\" /><path clip-path=\"url(#clip510)\" d=\"M2246.18 180.206 L2249.89 180.206 Q2253.36 185.668 2255.07 190.9 Q2256.81 196.131 2256.81 201.293 Q2256.81 206.479 2255.07 211.733 Q2253.36 216.988 2249.89 222.428 L2246.18 222.428 Q2249.26 217.127 2250.77 211.895 Q2252.29 206.641 2252.29 201.293 Q2252.29 195.946 2250.77 190.738 Q2249.26 185.53 2246.18 180.206 Z\" fill=\"#f8f8f2\" fill-rule=\"nonzero\" fill-opacity=\"1\" /></svg>\n"
      ]
     },
     "execution_count": 82,
     "metadata": {},
     "output_type": "execute_result"
    }
   ],
   "source": [
    "x = 1:.1:10\n",
    "y = sin.(x)\n",
    "z = cos.(x)\n",
    "\n",
    "plot(x, y, label=\"sin(x)\")\n",
    "plot!(x, z, label=\"cos(x)\") # Hold on the previous plot"
   ]
  },
  {
   "cell_type": "code",
   "execution_count": 83,
   "metadata": {},
   "outputs": [
    {
     "data": {
      "text/latex": [
       "\\textbf{Scatter Plot}\n",
       "\n"
      ],
      "text/markdown": [
       "**Scatter Plot**\n"
      ],
      "text/plain": [
       "  \u001b[1mScatter Plot\u001b[22m"
      ]
     },
     "execution_count": 83,
     "metadata": {},
     "output_type": "execute_result"
    }
   ],
   "source": [
    "md\"**Scatter Plot**\""
   ]
  },
  {
   "cell_type": "code",
   "execution_count": 84,
   "metadata": {},
   "outputs": [
    {
     "data": {
      "image/png": "[encoded data removed]",
      "image/svg+xml": [
       "<?xml version=\"1.0\" encoding=\"utf-8\"?>\n",
       "<svg xmlns=\"http://www.w3.org/2000/svg\" xmlns:xlink=\"http://www.w3.org/1999/xlink\" width=\"600\" height=\"400\" viewBox=\"0 0 2400 1600\">\n",
       "<defs>\n",
       "  <clipPath id=\"clip550\">\n",
       "    <rect x=\"0\" y=\"0\" width=\"2400\" height=\"1600\"/>\n",
       "  </clipPath>\n",
       "</defs>\n",
       "<path clip-path=\"url(#clip550)\" d=\"M0 1600 L2400 1600 L2400 0 L0 0  Z\" fill=\"#282a36\" fill-rule=\"evenodd\" fill-opacity=\"1\"/>\n",
       "<defs>\n",
       "  <clipPath id=\"clip551\">\n",
       "    <rect x=\"480\" y=\"0\" width=\"1681\" height=\"1600\"/>\n",
       "  </clipPath>\n",
       "</defs>\n",
       "<path clip-path=\"url(#clip550)\" d=\"M193.936 1486.45 L2352.76 1486.45 L2352.76 47.2441 L193.936 47.2441  Z\" fill=\"#30343b\" fill-rule=\"evenodd\" fill-opacity=\"1\"/>\n",
       "<defs>\n",
       "  <clipPath id=\"clip552\">\n",
       "    <rect x=\"193\" y=\"47\" width=\"2160\" height=\"1440\"/>\n",
       "  </clipPath>\n",
       "</defs>\n",
       "<polyline clip-path=\"url(#clip552)\" style=\"stroke:#f8f8f2; stroke-linecap:round; stroke-linejoin:round; stroke-width:2; stroke-opacity:0.1; fill:none\" points=\"481.326,1486.45 481.326,47.2441 \"/>\n",
       "<polyline clip-path=\"url(#clip552)\" style=\"stroke:#f8f8f2; stroke-linecap:round; stroke-linejoin:round; stroke-width:2; stroke-opacity:0.1; fill:none\" points=\"933.909,1486.45 933.909,47.2441 \"/>\n",
       "<polyline clip-path=\"url(#clip552)\" style=\"stroke:#f8f8f2; stroke-linecap:round; stroke-linejoin:round; stroke-width:2; stroke-opacity:0.1; fill:none\" points=\"1386.49,1486.45 1386.49,47.2441 \"/>\n",
       "<polyline clip-path=\"url(#clip552)\" style=\"stroke:#f8f8f2; stroke-linecap:round; stroke-linejoin:round; stroke-width:2; stroke-opacity:0.1; fill:none\" points=\"1839.07,1486.45 1839.07,47.2441 \"/>\n",
       "<polyline clip-path=\"url(#clip552)\" style=\"stroke:#f8f8f2; stroke-linecap:round; stroke-linejoin:round; stroke-width:2; stroke-opacity:0.1; fill:none\" points=\"2291.66,1486.45 2291.66,47.2441 \"/>\n",
       "<polyline clip-path=\"url(#clip550)\" style=\"stroke:#f8f8f2; stroke-linecap:round; stroke-linejoin:round; stroke-width:4; stroke-opacity:1; fill:none\" points=\"193.936,1486.45 2352.76,1486.45 \"/>\n",
       "<polyline clip-path=\"url(#clip550)\" style=\"stroke:#f8f8f2; stroke-linecap:round; stroke-linejoin:round; stroke-width:4; stroke-opacity:1; fill:none\" points=\"481.326,1486.45 481.326,1467.55 \"/>\n",
       "<polyline clip-path=\"url(#clip550)\" style=\"stroke:#f8f8f2; stroke-linecap:round; stroke-linejoin:round; stroke-width:4; stroke-opacity:1; fill:none\" points=\"933.909,1486.45 933.909,1467.55 \"/>\n",
       "<polyline clip-path=\"url(#clip550)\" style=\"stroke:#f8f8f2; stroke-linecap:round; stroke-linejoin:round; stroke-width:4; stroke-opacity:1; fill:none\" points=\"1386.49,1486.45 1386.49,1467.55 \"/>\n",
       "<polyline clip-path=\"url(#clip550)\" style=\"stroke:#f8f8f2; stroke-linecap:round; stroke-linejoin:round; stroke-width:4; stroke-opacity:1; fill:none\" points=\"1839.07,1486.45 1839.07,1467.55 \"/>\n",
       "<polyline clip-path=\"url(#clip550)\" style=\"stroke:#f8f8f2; stroke-linecap:round; stroke-linejoin:round; stroke-width:4; stroke-opacity:1; fill:none\" points=\"2291.66,1486.45 2291.66,1467.55 \"/>\n",
       "<path clip-path=\"url(#clip550)\" d=\"M475.979 1544.91 L492.298 1544.91 L492.298 1548.85 L470.354 1548.85 L470.354 1544.91 Q473.016 1542.16 477.599 1537.53 Q482.206 1532.88 483.386 1531.53 Q485.632 1529.01 486.511 1527.27 Q487.414 1525.51 487.414 1523.82 Q487.414 1521.07 485.47 1519.33 Q483.548 1517.6 480.446 1517.6 Q478.247 1517.6 475.794 1518.36 Q473.363 1519.13 470.585 1520.68 L470.585 1515.95 Q473.409 1514.82 475.863 1514.24 Q478.317 1513.66 480.354 1513.66 Q485.724 1513.66 488.919 1516.35 Q492.113 1519.03 492.113 1523.52 Q492.113 1525.65 491.303 1527.57 Q490.516 1529.47 488.409 1532.07 Q487.831 1532.74 484.729 1535.95 Q481.627 1539.15 475.979 1544.91 Z\" fill=\"#f8f8f2\" fill-rule=\"nonzero\" fill-opacity=\"1\" /><path clip-path=\"url(#clip550)\" d=\"M936.918 1518.36 L925.113 1536.81 L936.918 1536.81 L936.918 1518.36 M935.691 1514.29 L941.571 1514.29 L941.571 1536.81 L946.501 1536.81 L946.501 1540.7 L941.571 1540.7 L941.571 1548.85 L936.918 1548.85 L936.918 1540.7 L921.316 1540.7 L921.316 1536.19 L935.691 1514.29 Z\" fill=\"#f8f8f2\" fill-rule=\"nonzero\" fill-opacity=\"1\" /><path clip-path=\"url(#clip550)\" d=\"M1386.9 1529.7 Q1383.75 1529.7 1381.9 1531.86 Q1380.07 1534.01 1380.07 1537.76 Q1380.07 1541.49 1381.9 1543.66 Q1383.75 1545.82 1386.9 1545.82 Q1390.04 1545.82 1391.87 1543.66 Q1393.73 1541.49 1393.73 1537.76 Q1393.73 1534.01 1391.87 1531.86 Q1390.04 1529.7 1386.9 1529.7 M1396.18 1515.05 L1396.18 1519.31 Q1394.42 1518.48 1392.61 1518.04 Q1390.83 1517.6 1389.07 1517.6 Q1384.44 1517.6 1381.99 1520.72 Q1379.56 1523.85 1379.21 1530.17 Q1380.58 1528.15 1382.64 1527.09 Q1384.7 1526 1387.17 1526 Q1392.38 1526 1395.39 1529.17 Q1398.42 1532.32 1398.42 1537.76 Q1398.42 1543.08 1395.28 1546.3 Q1392.13 1549.52 1386.9 1549.52 Q1380.9 1549.52 1377.73 1544.94 Q1374.56 1540.33 1374.56 1531.6 Q1374.56 1523.41 1378.45 1518.55 Q1382.34 1513.66 1388.89 1513.66 Q1390.65 1513.66 1392.43 1514.01 Q1394.23 1514.36 1396.18 1515.05 Z\" fill=\"#f8f8f2\" fill-rule=\"nonzero\" fill-opacity=\"1\" /><path clip-path=\"url(#clip550)\" d=\"M1839.07 1532.44 Q1835.74 1532.44 1833.82 1534.22 Q1831.92 1536 1831.92 1539.13 Q1831.92 1542.25 1833.82 1544.03 Q1835.74 1545.82 1839.07 1545.82 Q1842.41 1545.82 1844.33 1544.03 Q1846.25 1542.23 1846.25 1539.13 Q1846.25 1536 1844.33 1534.22 Q1842.43 1532.44 1839.07 1532.44 M1834.4 1530.45 Q1831.39 1529.7 1829.7 1527.64 Q1828.03 1525.58 1828.03 1522.62 Q1828.03 1518.48 1830.97 1516.07 Q1833.94 1513.66 1839.07 1513.66 Q1844.24 1513.66 1847.18 1516.07 Q1850.12 1518.48 1850.12 1522.62 Q1850.12 1525.58 1848.43 1527.64 Q1846.76 1529.7 1843.77 1530.45 Q1847.15 1531.23 1849.03 1533.52 Q1850.93 1535.82 1850.93 1539.13 Q1850.93 1544.15 1847.85 1546.83 Q1844.79 1549.52 1839.07 1549.52 Q1833.36 1549.52 1830.28 1546.83 Q1827.22 1544.15 1827.22 1539.13 Q1827.22 1535.82 1829.12 1533.52 Q1831.02 1531.23 1834.4 1530.45 M1832.69 1523.06 Q1832.69 1525.75 1834.35 1527.25 Q1836.04 1528.76 1839.07 1528.76 Q1842.08 1528.76 1843.77 1527.25 Q1845.49 1525.75 1845.49 1523.06 Q1845.49 1520.38 1843.77 1518.87 Q1842.08 1517.37 1839.07 1517.37 Q1836.04 1517.37 1834.35 1518.87 Q1832.69 1520.38 1832.69 1523.06 Z\" fill=\"#f8f8f2\" fill-rule=\"nonzero\" fill-opacity=\"1\" /><path clip-path=\"url(#clip550)\" d=\"M2266.34 1544.91 L2273.98 1544.91 L2273.98 1518.55 L2265.67 1520.21 L2265.67 1515.95 L2273.94 1514.29 L2278.61 1514.29 L2278.61 1544.91 L2286.25 1544.91 L2286.25 1548.85 L2266.34 1548.85 L2266.34 1544.91 Z\" fill=\"#f8f8f2\" fill-rule=\"nonzero\" fill-opacity=\"1\" /><path clip-path=\"url(#clip550)\" d=\"M2305.7 1517.37 Q2302.09 1517.37 2300.26 1520.93 Q2298.45 1524.47 2298.45 1531.6 Q2298.45 1538.71 2300.26 1542.27 Q2302.09 1545.82 2305.7 1545.82 Q2309.33 1545.82 2311.14 1542.27 Q2312.96 1538.71 2312.96 1531.6 Q2312.96 1524.47 2311.14 1520.93 Q2309.33 1517.37 2305.7 1517.37 M2305.7 1513.66 Q2311.51 1513.66 2314.56 1518.27 Q2317.64 1522.85 2317.64 1531.6 Q2317.64 1540.33 2314.56 1544.94 Q2311.51 1549.52 2305.7 1549.52 Q2299.89 1549.52 2296.81 1544.94 Q2293.75 1540.33 2293.75 1531.6 Q2293.75 1522.85 2296.81 1518.27 Q2299.89 1513.66 2305.7 1513.66 Z\" fill=\"#f8f8f2\" fill-rule=\"nonzero\" fill-opacity=\"1\" /><polyline clip-path=\"url(#clip552)\" style=\"stroke:#f8f8f2; stroke-linecap:round; stroke-linejoin:round; stroke-width:2; stroke-opacity:0.1; fill:none\" points=\"193.936,1447.88 2352.76,1447.88 \"/>\n",
       "<polyline clip-path=\"url(#clip552)\" style=\"stroke:#f8f8f2; stroke-linecap:round; stroke-linejoin:round; stroke-width:2; stroke-opacity:0.1; fill:none\" points=\"193.936,1105.97 2352.76,1105.97 \"/>\n",
       "<polyline clip-path=\"url(#clip552)\" style=\"stroke:#f8f8f2; stroke-linecap:round; stroke-linejoin:round; stroke-width:2; stroke-opacity:0.1; fill:none\" points=\"193.936,764.064 2352.76,764.064 \"/>\n",
       "<polyline clip-path=\"url(#clip552)\" style=\"stroke:#f8f8f2; stroke-linecap:round; stroke-linejoin:round; stroke-width:2; stroke-opacity:0.1; fill:none\" points=\"193.936,422.155 2352.76,422.155 \"/>\n",
       "<polyline clip-path=\"url(#clip552)\" style=\"stroke:#f8f8f2; stroke-linecap:round; stroke-linejoin:round; stroke-width:2; stroke-opacity:0.1; fill:none\" points=\"193.936,80.2461 2352.76,80.2461 \"/>\n",
       "<polyline clip-path=\"url(#clip550)\" style=\"stroke:#f8f8f2; stroke-linecap:round; stroke-linejoin:round; stroke-width:4; stroke-opacity:1; fill:none\" points=\"193.936,1486.45 193.936,47.2441 \"/>\n",
       "<polyline clip-path=\"url(#clip550)\" style=\"stroke:#f8f8f2; stroke-linecap:round; stroke-linejoin:round; stroke-width:4; stroke-opacity:1; fill:none\" points=\"193.936,1447.88 212.834,1447.88 \"/>\n",
       "<polyline clip-path=\"url(#clip550)\" style=\"stroke:#f8f8f2; stroke-linecap:round; stroke-linejoin:round; stroke-width:4; stroke-opacity:1; fill:none\" points=\"193.936,1105.97 212.834,1105.97 \"/>\n",
       "<polyline clip-path=\"url(#clip550)\" style=\"stroke:#f8f8f2; stroke-linecap:round; stroke-linejoin:round; stroke-width:4; stroke-opacity:1; fill:none\" points=\"193.936,764.064 212.834,764.064 \"/>\n",
       "<polyline clip-path=\"url(#clip550)\" style=\"stroke:#f8f8f2; stroke-linecap:round; stroke-linejoin:round; stroke-width:4; stroke-opacity:1; fill:none\" points=\"193.936,422.155 212.834,422.155 \"/>\n",
       "<polyline clip-path=\"url(#clip550)\" style=\"stroke:#f8f8f2; stroke-linecap:round; stroke-linejoin:round; stroke-width:4; stroke-opacity:1; fill:none\" points=\"193.936,80.2461 212.834,80.2461 \"/>\n",
       "<path clip-path=\"url(#clip550)\" d=\"M50.9921 1448.33 L80.6679 1448.33 L80.6679 1452.27 L50.9921 1452.27 L50.9921 1448.33 Z\" fill=\"#f8f8f2\" fill-rule=\"nonzero\" fill-opacity=\"1\" /><path clip-path=\"url(#clip550)\" d=\"M91.5706 1461.23 L99.2095 1461.23 L99.2095 1434.86 L90.8993 1436.53 L90.8993 1432.27 L99.1632 1430.6 L103.839 1430.6 L103.839 1461.23 L111.478 1461.23 L111.478 1465.16 L91.5706 1465.16 L91.5706 1461.23 Z\" fill=\"#f8f8f2\" fill-rule=\"nonzero\" fill-opacity=\"1\" /><path clip-path=\"url(#clip550)\" d=\"M120.922 1459.28 L125.807 1459.28 L125.807 1465.16 L120.922 1465.16 L120.922 1459.28 Z\" fill=\"#f8f8f2\" fill-rule=\"nonzero\" fill-opacity=\"1\" /><path clip-path=\"url(#clip550)\" d=\"M145.992 1433.68 Q142.381 1433.68 140.552 1437.24 Q138.746 1440.79 138.746 1447.92 Q138.746 1455.02 140.552 1458.59 Q142.381 1462.13 145.992 1462.13 Q149.626 1462.13 151.431 1458.59 Q153.26 1455.02 153.26 1447.92 Q153.26 1440.79 151.431 1437.24 Q149.626 1433.68 145.992 1433.68 M145.992 1429.98 Q151.802 1429.98 154.857 1434.58 Q157.936 1439.17 157.936 1447.92 Q157.936 1456.64 154.857 1461.25 Q151.802 1465.83 145.992 1465.83 Q140.181 1465.83 137.103 1461.25 Q134.047 1456.64 134.047 1447.92 Q134.047 1439.17 137.103 1434.58 Q140.181 1429.98 145.992 1429.98 Z\" fill=\"#f8f8f2\" fill-rule=\"nonzero\" fill-opacity=\"1\" /><path clip-path=\"url(#clip550)\" d=\"M51.9875 1106.42 L81.6633 1106.42 L81.6633 1110.36 L51.9875 1110.36 L51.9875 1106.42 Z\" fill=\"#f8f8f2\" fill-rule=\"nonzero\" fill-opacity=\"1\" /><path clip-path=\"url(#clip550)\" d=\"M101.756 1091.77 Q98.1447 1091.77 96.316 1095.34 Q94.5104 1098.88 94.5104 1106.01 Q94.5104 1113.11 96.316 1116.68 Q98.1447 1120.22 101.756 1120.22 Q105.39 1120.22 107.196 1116.68 Q109.024 1113.11 109.024 1106.01 Q109.024 1098.88 107.196 1095.34 Q105.39 1091.77 101.756 1091.77 M101.756 1088.07 Q107.566 1088.07 110.621 1092.67 Q113.7 1097.26 113.7 1106.01 Q113.7 1114.73 110.621 1119.34 Q107.566 1123.92 101.756 1123.92 Q95.9456 1123.92 92.8669 1119.34 Q89.8114 1114.73 89.8114 1106.01 Q89.8114 1097.26 92.8669 1092.67 Q95.9456 1088.07 101.756 1088.07 Z\" fill=\"#f8f8f2\" fill-rule=\"nonzero\" fill-opacity=\"1\" /><path clip-path=\"url(#clip550)\" d=\"M121.918 1117.37 L126.802 1117.37 L126.802 1123.25 L121.918 1123.25 L121.918 1117.37 Z\" fill=\"#f8f8f2\" fill-rule=\"nonzero\" fill-opacity=\"1\" /><path clip-path=\"url(#clip550)\" d=\"M137.033 1088.69 L155.39 1088.69 L155.39 1092.63 L141.316 1092.63 L141.316 1101.1 Q142.334 1100.75 143.353 1100.59 Q144.371 1100.41 145.39 1100.41 Q151.177 1100.41 154.556 1103.58 Q157.936 1106.75 157.936 1112.16 Q157.936 1117.74 154.464 1120.84 Q150.992 1123.92 144.672 1123.92 Q142.496 1123.92 140.228 1123.55 Q137.982 1123.18 135.575 1122.44 L135.575 1117.74 Q137.658 1118.88 139.881 1119.43 Q142.103 1119.99 144.58 1119.99 Q148.584 1119.99 150.922 1117.88 Q153.26 1115.78 153.26 1112.16 Q153.26 1108.55 150.922 1106.45 Q148.584 1104.34 144.58 1104.34 Q142.705 1104.34 140.83 1104.76 Q138.978 1105.17 137.033 1106.05 L137.033 1088.69 Z\" fill=\"#f8f8f2\" fill-rule=\"nonzero\" fill-opacity=\"1\" /><path clip-path=\"url(#clip550)\" d=\"M100.76 749.862 Q97.1493 749.862 95.3206 753.427 Q93.515 756.969 93.515 764.098 Q93.515 771.205 95.3206 774.77 Q97.1493 778.311 100.76 778.311 Q104.395 778.311 106.2 774.77 Q108.029 771.205 108.029 764.098 Q108.029 756.969 106.2 753.427 Q104.395 749.862 100.76 749.862 M100.76 746.159 Q106.571 746.159 109.626 750.765 Q112.705 755.348 112.705 764.098 Q112.705 772.825 109.626 777.432 Q106.571 782.015 100.76 782.015 Q94.9502 782.015 91.8715 777.432 Q88.816 772.825 88.816 764.098 Q88.816 755.348 91.8715 750.765 Q94.9502 746.159 100.76 746.159 Z\" fill=\"#f8f8f2\" fill-rule=\"nonzero\" fill-opacity=\"1\" /><path clip-path=\"url(#clip550)\" d=\"M120.922 775.464 L125.807 775.464 L125.807 781.344 L120.922 781.344 L120.922 775.464 Z\" fill=\"#f8f8f2\" fill-rule=\"nonzero\" fill-opacity=\"1\" /><path clip-path=\"url(#clip550)\" d=\"M145.992 749.862 Q142.381 749.862 140.552 753.427 Q138.746 756.969 138.746 764.098 Q138.746 771.205 140.552 774.77 Q142.381 778.311 145.992 778.311 Q149.626 778.311 151.431 774.77 Q153.26 771.205 153.26 764.098 Q153.26 756.969 151.431 753.427 Q149.626 749.862 145.992 749.862 M145.992 746.159 Q151.802 746.159 154.857 750.765 Q157.936 755.348 157.936 764.098 Q157.936 772.825 154.857 777.432 Q151.802 782.015 145.992 782.015 Q140.181 782.015 137.103 777.432 Q134.047 772.825 134.047 764.098 Q134.047 755.348 137.103 750.765 Q140.181 746.159 145.992 746.159 Z\" fill=\"#f8f8f2\" fill-rule=\"nonzero\" fill-opacity=\"1\" /><path clip-path=\"url(#clip550)\" d=\"M101.756 407.954 Q98.1447 407.954 96.316 411.518 Q94.5104 415.06 94.5104 422.19 Q94.5104 429.296 96.316 432.861 Q98.1447 436.402 101.756 436.402 Q105.39 436.402 107.196 432.861 Q109.024 429.296 109.024 422.19 Q109.024 415.06 107.196 411.518 Q105.39 407.954 101.756 407.954 M101.756 404.25 Q107.566 404.25 110.621 408.856 Q113.7 413.44 113.7 422.19 Q113.7 430.916 110.621 435.523 Q107.566 440.106 101.756 440.106 Q95.9456 440.106 92.8669 435.523 Q89.8114 430.916 89.8114 422.19 Q89.8114 413.44 92.8669 408.856 Q95.9456 404.25 101.756 404.25 Z\" fill=\"#f8f8f2\" fill-rule=\"nonzero\" fill-opacity=\"1\" /><path clip-path=\"url(#clip550)\" d=\"M121.918 433.555 L126.802 433.555 L126.802 439.435 L121.918 439.435 L121.918 433.555 Z\" fill=\"#f8f8f2\" fill-rule=\"nonzero\" fill-opacity=\"1\" /><path clip-path=\"url(#clip550)\" d=\"M137.033 404.875 L155.39 404.875 L155.39 408.81 L141.316 408.81 L141.316 417.282 Q142.334 416.935 143.353 416.773 Q144.371 416.588 145.39 416.588 Q151.177 416.588 154.556 419.759 Q157.936 422.93 157.936 428.347 Q157.936 433.926 154.464 437.027 Q150.992 440.106 144.672 440.106 Q142.496 440.106 140.228 439.736 Q137.982 439.365 135.575 438.625 L135.575 433.926 Q137.658 435.06 139.881 435.615 Q142.103 436.171 144.58 436.171 Q148.584 436.171 150.922 434.065 Q153.26 431.958 153.26 428.347 Q153.26 424.736 150.922 422.629 Q148.584 420.523 144.58 420.523 Q142.705 420.523 140.83 420.94 Q138.978 421.356 137.033 422.236 L137.033 404.875 Z\" fill=\"#f8f8f2\" fill-rule=\"nonzero\" fill-opacity=\"1\" /><path clip-path=\"url(#clip550)\" d=\"M91.5706 93.591 L99.2095 93.591 L99.2095 67.2254 L90.8993 68.892 L90.8993 64.6328 L99.1632 62.9661 L103.839 62.9661 L103.839 93.591 L111.478 93.591 L111.478 97.5261 L91.5706 97.5261 L91.5706 93.591 Z\" fill=\"#f8f8f2\" fill-rule=\"nonzero\" fill-opacity=\"1\" /><path clip-path=\"url(#clip550)\" d=\"M120.922 91.6465 L125.807 91.6465 L125.807 97.5261 L120.922 97.5261 L120.922 91.6465 Z\" fill=\"#f8f8f2\" fill-rule=\"nonzero\" fill-opacity=\"1\" /><path clip-path=\"url(#clip550)\" d=\"M145.992 66.0448 Q142.381 66.0448 140.552 69.6096 Q138.746 73.1512 138.746 80.2808 Q138.746 87.3873 140.552 90.9521 Q142.381 94.4937 145.992 94.4937 Q149.626 94.4937 151.431 90.9521 Q153.26 87.3873 153.26 80.2808 Q153.26 73.1512 151.431 69.6096 Q149.626 66.0448 145.992 66.0448 M145.992 62.3411 Q151.802 62.3411 154.857 66.9476 Q157.936 71.5309 157.936 80.2808 Q157.936 89.0076 154.857 93.6141 Q151.802 98.1974 145.992 98.1974 Q140.181 98.1974 137.103 93.6141 Q134.047 89.0076 134.047 80.2808 Q134.047 71.5309 137.103 66.9476 Q140.181 62.3411 145.992 62.3411 Z\" fill=\"#f8f8f2\" fill-rule=\"nonzero\" fill-opacity=\"1\" /><circle clip-path=\"url(#clip552)\" cx=\"255.035\" cy=\"394.595\" r=\"14.4\" fill=\"#8be9fd\" fill-rule=\"evenodd\" fill-opacity=\"1\" stroke=\"#f8f8f2\" stroke-opacity=\"1\" stroke-width=\"3.2\"/>\n",
       "<circle clip-path=\"url(#clip552)\" cx=\"481.326\" cy=\"863.559\" r=\"14.4\" fill=\"#8be9fd\" fill-rule=\"evenodd\" fill-opacity=\"1\" stroke=\"#f8f8f2\" stroke-opacity=\"1\" stroke-width=\"3.2\"/>\n",
       "<circle clip-path=\"url(#clip552)\" cx=\"707.617\" cy=\"963.833\" r=\"14.4\" fill=\"#8be9fd\" fill-rule=\"evenodd\" fill-opacity=\"1\" stroke=\"#f8f8f2\" stroke-opacity=\"1\" stroke-width=\"3.2\"/>\n",
       "<circle clip-path=\"url(#clip552)\" cx=\"933.909\" cy=\"496.105\" r=\"14.4\" fill=\"#8be9fd\" fill-rule=\"evenodd\" fill-opacity=\"1\" stroke=\"#f8f8f2\" stroke-opacity=\"1\" stroke-width=\"3.2\"/>\n",
       "<circle clip-path=\"url(#clip552)\" cx=\"1160.2\" cy=\"225.411\" r=\"14.4\" fill=\"#8be9fd\" fill-rule=\"evenodd\" fill-opacity=\"1\" stroke=\"#f8f8f2\" stroke-opacity=\"1\" stroke-width=\"3.2\"/>\n",
       "<circle clip-path=\"url(#clip552)\" cx=\"1386.49\" cy=\"1255.03\" r=\"14.4\" fill=\"#8be9fd\" fill-rule=\"evenodd\" fill-opacity=\"1\" stroke=\"#f8f8f2\" stroke-opacity=\"1\" stroke-width=\"3.2\"/>\n",
       "<circle clip-path=\"url(#clip552)\" cx=\"1612.78\" cy=\"1341.09\" r=\"14.4\" fill=\"#8be9fd\" fill-rule=\"evenodd\" fill-opacity=\"1\" stroke=\"#f8f8f2\" stroke-opacity=\"1\" stroke-width=\"3.2\"/>\n",
       "<circle clip-path=\"url(#clip552)\" cx=\"1839.07\" cy=\"1445.72\" r=\"14.4\" fill=\"#8be9fd\" fill-rule=\"evenodd\" fill-opacity=\"1\" stroke=\"#f8f8f2\" stroke-opacity=\"1\" stroke-width=\"3.2\"/>\n",
       "<circle clip-path=\"url(#clip552)\" cx=\"2065.37\" cy=\"87.9763\" r=\"14.4\" fill=\"#8be9fd\" fill-rule=\"evenodd\" fill-opacity=\"1\" stroke=\"#f8f8f2\" stroke-opacity=\"1\" stroke-width=\"3.2\"/>\n",
       "<circle clip-path=\"url(#clip552)\" cx=\"2291.66\" cy=\"379.499\" r=\"14.4\" fill=\"#8be9fd\" fill-rule=\"evenodd\" fill-opacity=\"1\" stroke=\"#f8f8f2\" stroke-opacity=\"1\" stroke-width=\"3.2\"/>\n",
       "</svg>\n"
      ],
      "text/html": [
       "<?xml version=\"1.0\" encoding=\"utf-8\"?>\n",
       "<svg xmlns=\"http://www.w3.org/2000/svg\" xmlns:xlink=\"http://www.w3.org/1999/xlink\" width=\"600\" height=\"400\" viewBox=\"0 0 2400 1600\">\n",
       "<defs>\n",
       "  <clipPath id=\"clip600\">\n",
       "    <rect x=\"0\" y=\"0\" width=\"2400\" height=\"1600\"/>\n",
       "  </clipPath>\n",
       "</defs>\n",
       "<path clip-path=\"url(#clip600)\" d=\"M0 1600 L2400 1600 L2400 0 L0 0  Z\" fill=\"#282a36\" fill-rule=\"evenodd\" fill-opacity=\"1\"/>\n",
       "<defs>\n",
       "  <clipPath id=\"clip601\">\n",
       "    <rect x=\"480\" y=\"0\" width=\"1681\" height=\"1600\"/>\n",
       "  </clipPath>\n",
       "</defs>\n",
       "<path clip-path=\"url(#clip600)\" d=\"M193.936 1486.45 L2352.76 1486.45 L2352.76 47.2441 L193.936 47.2441  Z\" fill=\"#30343b\" fill-rule=\"evenodd\" fill-opacity=\"1\"/>\n",
       "<defs>\n",
       "  <clipPath id=\"clip602\">\n",
       "    <rect x=\"193\" y=\"47\" width=\"2160\" height=\"1440\"/>\n",
       "  </clipPath>\n",
       "</defs>\n",
       "<polyline clip-path=\"url(#clip602)\" style=\"stroke:#f8f8f2; stroke-linecap:round; stroke-linejoin:round; stroke-width:2; stroke-opacity:0.1; fill:none\" points=\"481.326,1486.45 481.326,47.2441 \"/>\n",
       "<polyline clip-path=\"url(#clip602)\" style=\"stroke:#f8f8f2; stroke-linecap:round; stroke-linejoin:round; stroke-width:2; stroke-opacity:0.1; fill:none\" points=\"933.909,1486.45 933.909,47.2441 \"/>\n",
       "<polyline clip-path=\"url(#clip602)\" style=\"stroke:#f8f8f2; stroke-linecap:round; stroke-linejoin:round; stroke-width:2; stroke-opacity:0.1; fill:none\" points=\"1386.49,1486.45 1386.49,47.2441 \"/>\n",
       "<polyline clip-path=\"url(#clip602)\" style=\"stroke:#f8f8f2; stroke-linecap:round; stroke-linejoin:round; stroke-width:2; stroke-opacity:0.1; fill:none\" points=\"1839.07,1486.45 1839.07,47.2441 \"/>\n",
       "<polyline clip-path=\"url(#clip602)\" style=\"stroke:#f8f8f2; stroke-linecap:round; stroke-linejoin:round; stroke-width:2; stroke-opacity:0.1; fill:none\" points=\"2291.66,1486.45 2291.66,47.2441 \"/>\n",
       "<polyline clip-path=\"url(#clip600)\" style=\"stroke:#f8f8f2; stroke-linecap:round; stroke-linejoin:round; stroke-width:4; stroke-opacity:1; fill:none\" points=\"193.936,1486.45 2352.76,1486.45 \"/>\n",
       "<polyline clip-path=\"url(#clip600)\" style=\"stroke:#f8f8f2; stroke-linecap:round; stroke-linejoin:round; stroke-width:4; stroke-opacity:1; fill:none\" points=\"481.326,1486.45 481.326,1467.55 \"/>\n",
       "<polyline clip-path=\"url(#clip600)\" style=\"stroke:#f8f8f2; stroke-linecap:round; stroke-linejoin:round; stroke-width:4; stroke-opacity:1; fill:none\" points=\"933.909,1486.45 933.909,1467.55 \"/>\n",
       "<polyline clip-path=\"url(#clip600)\" style=\"stroke:#f8f8f2; stroke-linecap:round; stroke-linejoin:round; stroke-width:4; stroke-opacity:1; fill:none\" points=\"1386.49,1486.45 1386.49,1467.55 \"/>\n",
       "<polyline clip-path=\"url(#clip600)\" style=\"stroke:#f8f8f2; stroke-linecap:round; stroke-linejoin:round; stroke-width:4; stroke-opacity:1; fill:none\" points=\"1839.07,1486.45 1839.07,1467.55 \"/>\n",
       "<polyline clip-path=\"url(#clip600)\" style=\"stroke:#f8f8f2; stroke-linecap:round; stroke-linejoin:round; stroke-width:4; stroke-opacity:1; fill:none\" points=\"2291.66,1486.45 2291.66,1467.55 \"/>\n",
       "<path clip-path=\"url(#clip600)\" d=\"M475.979 1544.91 L492.298 1544.91 L492.298 1548.85 L470.354 1548.85 L470.354 1544.91 Q473.016 1542.16 477.599 1537.53 Q482.206 1532.88 483.386 1531.53 Q485.632 1529.01 486.511 1527.27 Q487.414 1525.51 487.414 1523.82 Q487.414 1521.07 485.47 1519.33 Q483.548 1517.6 480.446 1517.6 Q478.247 1517.6 475.794 1518.36 Q473.363 1519.13 470.585 1520.68 L470.585 1515.95 Q473.409 1514.82 475.863 1514.24 Q478.317 1513.66 480.354 1513.66 Q485.724 1513.66 488.919 1516.35 Q492.113 1519.03 492.113 1523.52 Q492.113 1525.65 491.303 1527.57 Q490.516 1529.47 488.409 1532.07 Q487.831 1532.74 484.729 1535.95 Q481.627 1539.15 475.979 1544.91 Z\" fill=\"#f8f8f2\" fill-rule=\"nonzero\" fill-opacity=\"1\" /><path clip-path=\"url(#clip600)\" d=\"M936.918 1518.36 L925.113 1536.81 L936.918 1536.81 L936.918 1518.36 M935.691 1514.29 L941.571 1514.29 L941.571 1536.81 L946.501 1536.81 L946.501 1540.7 L941.571 1540.7 L941.571 1548.85 L936.918 1548.85 L936.918 1540.7 L921.316 1540.7 L921.316 1536.19 L935.691 1514.29 Z\" fill=\"#f8f8f2\" fill-rule=\"nonzero\" fill-opacity=\"1\" /><path clip-path=\"url(#clip600)\" d=\"M1386.9 1529.7 Q1383.75 1529.7 1381.9 1531.86 Q1380.07 1534.01 1380.07 1537.76 Q1380.07 1541.49 1381.9 1543.66 Q1383.75 1545.82 1386.9 1545.82 Q1390.04 1545.82 1391.87 1543.66 Q1393.73 1541.49 1393.73 1537.76 Q1393.73 1534.01 1391.87 1531.86 Q1390.04 1529.7 1386.9 1529.7 M1396.18 1515.05 L1396.18 1519.31 Q1394.42 1518.48 1392.61 1518.04 Q1390.83 1517.6 1389.07 1517.6 Q1384.44 1517.6 1381.99 1520.72 Q1379.56 1523.85 1379.21 1530.17 Q1380.58 1528.15 1382.64 1527.09 Q1384.7 1526 1387.17 1526 Q1392.38 1526 1395.39 1529.17 Q1398.42 1532.32 1398.42 1537.76 Q1398.42 1543.08 1395.28 1546.3 Q1392.13 1549.52 1386.9 1549.52 Q1380.9 1549.52 1377.73 1544.94 Q1374.56 1540.33 1374.56 1531.6 Q1374.56 1523.41 1378.45 1518.55 Q1382.34 1513.66 1388.89 1513.66 Q1390.65 1513.66 1392.43 1514.01 Q1394.23 1514.36 1396.18 1515.05 Z\" fill=\"#f8f8f2\" fill-rule=\"nonzero\" fill-opacity=\"1\" /><path clip-path=\"url(#clip600)\" d=\"M1839.07 1532.44 Q1835.74 1532.44 1833.82 1534.22 Q1831.92 1536 1831.92 1539.13 Q1831.92 1542.25 1833.82 1544.03 Q1835.74 1545.82 1839.07 1545.82 Q1842.41 1545.82 1844.33 1544.03 Q1846.25 1542.23 1846.25 1539.13 Q1846.25 1536 1844.33 1534.22 Q1842.43 1532.44 1839.07 1532.44 M1834.4 1530.45 Q1831.39 1529.7 1829.7 1527.64 Q1828.03 1525.58 1828.03 1522.62 Q1828.03 1518.48 1830.97 1516.07 Q1833.94 1513.66 1839.07 1513.66 Q1844.24 1513.66 1847.18 1516.07 Q1850.12 1518.48 1850.12 1522.62 Q1850.12 1525.58 1848.43 1527.64 Q1846.76 1529.7 1843.77 1530.45 Q1847.15 1531.23 1849.03 1533.52 Q1850.93 1535.82 1850.93 1539.13 Q1850.93 1544.15 1847.85 1546.83 Q1844.79 1549.52 1839.07 1549.52 Q1833.36 1549.52 1830.28 1546.83 Q1827.22 1544.15 1827.22 1539.13 Q1827.22 1535.82 1829.12 1533.52 Q1831.02 1531.23 1834.4 1530.45 M1832.69 1523.06 Q1832.69 1525.75 1834.35 1527.25 Q1836.04 1528.76 1839.07 1528.76 Q1842.08 1528.76 1843.77 1527.25 Q1845.49 1525.75 1845.49 1523.06 Q1845.49 1520.38 1843.77 1518.87 Q1842.08 1517.37 1839.07 1517.37 Q1836.04 1517.37 1834.35 1518.87 Q1832.69 1520.38 1832.69 1523.06 Z\" fill=\"#f8f8f2\" fill-rule=\"nonzero\" fill-opacity=\"1\" /><path clip-path=\"url(#clip600)\" d=\"M2266.34 1544.91 L2273.98 1544.91 L2273.98 1518.55 L2265.67 1520.21 L2265.67 1515.95 L2273.94 1514.29 L2278.61 1514.29 L2278.61 1544.91 L2286.25 1544.91 L2286.25 1548.85 L2266.34 1548.85 L2266.34 1544.91 Z\" fill=\"#f8f8f2\" fill-rule=\"nonzero\" fill-opacity=\"1\" /><path clip-path=\"url(#clip600)\" d=\"M2305.7 1517.37 Q2302.09 1517.37 2300.26 1520.93 Q2298.45 1524.47 2298.45 1531.6 Q2298.45 1538.71 2300.26 1542.27 Q2302.09 1545.82 2305.7 1545.82 Q2309.33 1545.82 2311.14 1542.27 Q2312.96 1538.71 2312.96 1531.6 Q2312.96 1524.47 2311.14 1520.93 Q2309.33 1517.37 2305.7 1517.37 M2305.7 1513.66 Q2311.51 1513.66 2314.56 1518.27 Q2317.64 1522.85 2317.64 1531.6 Q2317.64 1540.33 2314.56 1544.94 Q2311.51 1549.52 2305.7 1549.52 Q2299.89 1549.52 2296.81 1544.94 Q2293.75 1540.33 2293.75 1531.6 Q2293.75 1522.85 2296.81 1518.27 Q2299.89 1513.66 2305.7 1513.66 Z\" fill=\"#f8f8f2\" fill-rule=\"nonzero\" fill-opacity=\"1\" /><polyline clip-path=\"url(#clip602)\" style=\"stroke:#f8f8f2; stroke-linecap:round; stroke-linejoin:round; stroke-width:2; stroke-opacity:0.1; fill:none\" points=\"193.936,1447.88 2352.76,1447.88 \"/>\n",
       "<polyline clip-path=\"url(#clip602)\" style=\"stroke:#f8f8f2; stroke-linecap:round; stroke-linejoin:round; stroke-width:2; stroke-opacity:0.1; fill:none\" points=\"193.936,1105.97 2352.76,1105.97 \"/>\n",
       "<polyline clip-path=\"url(#clip602)\" style=\"stroke:#f8f8f2; stroke-linecap:round; stroke-linejoin:round; stroke-width:2; stroke-opacity:0.1; fill:none\" points=\"193.936,764.064 2352.76,764.064 \"/>\n",
       "<polyline clip-path=\"url(#clip602)\" style=\"stroke:#f8f8f2; stroke-linecap:round; stroke-linejoin:round; stroke-width:2; stroke-opacity:0.1; fill:none\" points=\"193.936,422.155 2352.76,422.155 \"/>\n",
       "<polyline clip-path=\"url(#clip602)\" style=\"stroke:#f8f8f2; stroke-linecap:round; stroke-linejoin:round; stroke-width:2; stroke-opacity:0.1; fill:none\" points=\"193.936,80.2461 2352.76,80.2461 \"/>\n",
       "<polyline clip-path=\"url(#clip600)\" style=\"stroke:#f8f8f2; stroke-linecap:round; stroke-linejoin:round; stroke-width:4; stroke-opacity:1; fill:none\" points=\"193.936,1486.45 193.936,47.2441 \"/>\n",
       "<polyline clip-path=\"url(#clip600)\" style=\"stroke:#f8f8f2; stroke-linecap:round; stroke-linejoin:round; stroke-width:4; stroke-opacity:1; fill:none\" points=\"193.936,1447.88 212.834,1447.88 \"/>\n",
       "<polyline clip-path=\"url(#clip600)\" style=\"stroke:#f8f8f2; stroke-linecap:round; stroke-linejoin:round; stroke-width:4; stroke-opacity:1; fill:none\" points=\"193.936,1105.97 212.834,1105.97 \"/>\n",
       "<polyline clip-path=\"url(#clip600)\" style=\"stroke:#f8f8f2; stroke-linecap:round; stroke-linejoin:round; stroke-width:4; stroke-opacity:1; fill:none\" points=\"193.936,764.064 212.834,764.064 \"/>\n",
       "<polyline clip-path=\"url(#clip600)\" style=\"stroke:#f8f8f2; stroke-linecap:round; stroke-linejoin:round; stroke-width:4; stroke-opacity:1; fill:none\" points=\"193.936,422.155 212.834,422.155 \"/>\n",
       "<polyline clip-path=\"url(#clip600)\" style=\"stroke:#f8f8f2; stroke-linecap:round; stroke-linejoin:round; stroke-width:4; stroke-opacity:1; fill:none\" points=\"193.936,80.2461 212.834,80.2461 \"/>\n",
       "<path clip-path=\"url(#clip600)\" d=\"M50.9921 1448.33 L80.6679 1448.33 L80.6679 1452.27 L50.9921 1452.27 L50.9921 1448.33 Z\" fill=\"#f8f8f2\" fill-rule=\"nonzero\" fill-opacity=\"1\" /><path clip-path=\"url(#clip600)\" d=\"M91.5706 1461.23 L99.2095 1461.23 L99.2095 1434.86 L90.8993 1436.53 L90.8993 1432.27 L99.1632 1430.6 L103.839 1430.6 L103.839 1461.23 L111.478 1461.23 L111.478 1465.16 L91.5706 1465.16 L91.5706 1461.23 Z\" fill=\"#f8f8f2\" fill-rule=\"nonzero\" fill-opacity=\"1\" /><path clip-path=\"url(#clip600)\" d=\"M120.922 1459.28 L125.807 1459.28 L125.807 1465.16 L120.922 1465.16 L120.922 1459.28 Z\" fill=\"#f8f8f2\" fill-rule=\"nonzero\" fill-opacity=\"1\" /><path clip-path=\"url(#clip600)\" d=\"M145.992 1433.68 Q142.381 1433.68 140.552 1437.24 Q138.746 1440.79 138.746 1447.92 Q138.746 1455.02 140.552 1458.59 Q142.381 1462.13 145.992 1462.13 Q149.626 1462.13 151.431 1458.59 Q153.26 1455.02 153.26 1447.92 Q153.26 1440.79 151.431 1437.24 Q149.626 1433.68 145.992 1433.68 M145.992 1429.98 Q151.802 1429.98 154.857 1434.58 Q157.936 1439.17 157.936 1447.92 Q157.936 1456.64 154.857 1461.25 Q151.802 1465.83 145.992 1465.83 Q140.181 1465.83 137.103 1461.25 Q134.047 1456.64 134.047 1447.92 Q134.047 1439.17 137.103 1434.58 Q140.181 1429.98 145.992 1429.98 Z\" fill=\"#f8f8f2\" fill-rule=\"nonzero\" fill-opacity=\"1\" /><path clip-path=\"url(#clip600)\" d=\"M51.9875 1106.42 L81.6633 1106.42 L81.6633 1110.36 L51.9875 1110.36 L51.9875 1106.42 Z\" fill=\"#f8f8f2\" fill-rule=\"nonzero\" fill-opacity=\"1\" /><path clip-path=\"url(#clip600)\" d=\"M101.756 1091.77 Q98.1447 1091.77 96.316 1095.34 Q94.5104 1098.88 94.5104 1106.01 Q94.5104 1113.11 96.316 1116.68 Q98.1447 1120.22 101.756 1120.22 Q105.39 1120.22 107.196 1116.68 Q109.024 1113.11 109.024 1106.01 Q109.024 1098.88 107.196 1095.34 Q105.39 1091.77 101.756 1091.77 M101.756 1088.07 Q107.566 1088.07 110.621 1092.67 Q113.7 1097.26 113.7 1106.01 Q113.7 1114.73 110.621 1119.34 Q107.566 1123.92 101.756 1123.92 Q95.9456 1123.92 92.8669 1119.34 Q89.8114 1114.73 89.8114 1106.01 Q89.8114 1097.26 92.8669 1092.67 Q95.9456 1088.07 101.756 1088.07 Z\" fill=\"#f8f8f2\" fill-rule=\"nonzero\" fill-opacity=\"1\" /><path clip-path=\"url(#clip600)\" d=\"M121.918 1117.37 L126.802 1117.37 L126.802 1123.25 L121.918 1123.25 L121.918 1117.37 Z\" fill=\"#f8f8f2\" fill-rule=\"nonzero\" fill-opacity=\"1\" /><path clip-path=\"url(#clip600)\" d=\"M137.033 1088.69 L155.39 1088.69 L155.39 1092.63 L141.316 1092.63 L141.316 1101.1 Q142.334 1100.75 143.353 1100.59 Q144.371 1100.41 145.39 1100.41 Q151.177 1100.41 154.556 1103.58 Q157.936 1106.75 157.936 1112.16 Q157.936 1117.74 154.464 1120.84 Q150.992 1123.92 144.672 1123.92 Q142.496 1123.92 140.228 1123.55 Q137.982 1123.18 135.575 1122.44 L135.575 1117.74 Q137.658 1118.88 139.881 1119.43 Q142.103 1119.99 144.58 1119.99 Q148.584 1119.99 150.922 1117.88 Q153.26 1115.78 153.26 1112.16 Q153.26 1108.55 150.922 1106.45 Q148.584 1104.34 144.58 1104.34 Q142.705 1104.34 140.83 1104.76 Q138.978 1105.17 137.033 1106.05 L137.033 1088.69 Z\" fill=\"#f8f8f2\" fill-rule=\"nonzero\" fill-opacity=\"1\" /><path clip-path=\"url(#clip600)\" d=\"M100.76 749.862 Q97.1493 749.862 95.3206 753.427 Q93.515 756.969 93.515 764.098 Q93.515 771.205 95.3206 774.77 Q97.1493 778.311 100.76 778.311 Q104.395 778.311 106.2 774.77 Q108.029 771.205 108.029 764.098 Q108.029 756.969 106.2 753.427 Q104.395 749.862 100.76 749.862 M100.76 746.159 Q106.571 746.159 109.626 750.765 Q112.705 755.348 112.705 764.098 Q112.705 772.825 109.626 777.432 Q106.571 782.015 100.76 782.015 Q94.9502 782.015 91.8715 777.432 Q88.816 772.825 88.816 764.098 Q88.816 755.348 91.8715 750.765 Q94.9502 746.159 100.76 746.159 Z\" fill=\"#f8f8f2\" fill-rule=\"nonzero\" fill-opacity=\"1\" /><path clip-path=\"url(#clip600)\" d=\"M120.922 775.464 L125.807 775.464 L125.807 781.344 L120.922 781.344 L120.922 775.464 Z\" fill=\"#f8f8f2\" fill-rule=\"nonzero\" fill-opacity=\"1\" /><path clip-path=\"url(#clip600)\" d=\"M145.992 749.862 Q142.381 749.862 140.552 753.427 Q138.746 756.969 138.746 764.098 Q138.746 771.205 140.552 774.77 Q142.381 778.311 145.992 778.311 Q149.626 778.311 151.431 774.77 Q153.26 771.205 153.26 764.098 Q153.26 756.969 151.431 753.427 Q149.626 749.862 145.992 749.862 M145.992 746.159 Q151.802 746.159 154.857 750.765 Q157.936 755.348 157.936 764.098 Q157.936 772.825 154.857 777.432 Q151.802 782.015 145.992 782.015 Q140.181 782.015 137.103 777.432 Q134.047 772.825 134.047 764.098 Q134.047 755.348 137.103 750.765 Q140.181 746.159 145.992 746.159 Z\" fill=\"#f8f8f2\" fill-rule=\"nonzero\" fill-opacity=\"1\" /><path clip-path=\"url(#clip600)\" d=\"M101.756 407.954 Q98.1447 407.954 96.316 411.518 Q94.5104 415.06 94.5104 422.19 Q94.5104 429.296 96.316 432.861 Q98.1447 436.402 101.756 436.402 Q105.39 436.402 107.196 432.861 Q109.024 429.296 109.024 422.19 Q109.024 415.06 107.196 411.518 Q105.39 407.954 101.756 407.954 M101.756 404.25 Q107.566 404.25 110.621 408.856 Q113.7 413.44 113.7 422.19 Q113.7 430.916 110.621 435.523 Q107.566 440.106 101.756 440.106 Q95.9456 440.106 92.8669 435.523 Q89.8114 430.916 89.8114 422.19 Q89.8114 413.44 92.8669 408.856 Q95.9456 404.25 101.756 404.25 Z\" fill=\"#f8f8f2\" fill-rule=\"nonzero\" fill-opacity=\"1\" /><path clip-path=\"url(#clip600)\" d=\"M121.918 433.555 L126.802 433.555 L126.802 439.435 L121.918 439.435 L121.918 433.555 Z\" fill=\"#f8f8f2\" fill-rule=\"nonzero\" fill-opacity=\"1\" /><path clip-path=\"url(#clip600)\" d=\"M137.033 404.875 L155.39 404.875 L155.39 408.81 L141.316 408.81 L141.316 417.282 Q142.334 416.935 143.353 416.773 Q144.371 416.588 145.39 416.588 Q151.177 416.588 154.556 419.759 Q157.936 422.93 157.936 428.347 Q157.936 433.926 154.464 437.027 Q150.992 440.106 144.672 440.106 Q142.496 440.106 140.228 439.736 Q137.982 439.365 135.575 438.625 L135.575 433.926 Q137.658 435.06 139.881 435.615 Q142.103 436.171 144.58 436.171 Q148.584 436.171 150.922 434.065 Q153.26 431.958 153.26 428.347 Q153.26 424.736 150.922 422.629 Q148.584 420.523 144.58 420.523 Q142.705 420.523 140.83 420.94 Q138.978 421.356 137.033 422.236 L137.033 404.875 Z\" fill=\"#f8f8f2\" fill-rule=\"nonzero\" fill-opacity=\"1\" /><path clip-path=\"url(#clip600)\" d=\"M91.5706 93.591 L99.2095 93.591 L99.2095 67.2254 L90.8993 68.892 L90.8993 64.6328 L99.1632 62.9661 L103.839 62.9661 L103.839 93.591 L111.478 93.591 L111.478 97.5261 L91.5706 97.5261 L91.5706 93.591 Z\" fill=\"#f8f8f2\" fill-rule=\"nonzero\" fill-opacity=\"1\" /><path clip-path=\"url(#clip600)\" d=\"M120.922 91.6465 L125.807 91.6465 L125.807 97.5261 L120.922 97.5261 L120.922 91.6465 Z\" fill=\"#f8f8f2\" fill-rule=\"nonzero\" fill-opacity=\"1\" /><path clip-path=\"url(#clip600)\" d=\"M145.992 66.0448 Q142.381 66.0448 140.552 69.6096 Q138.746 73.1512 138.746 80.2808 Q138.746 87.3873 140.552 90.9521 Q142.381 94.4937 145.992 94.4937 Q149.626 94.4937 151.431 90.9521 Q153.26 87.3873 153.26 80.2808 Q153.26 73.1512 151.431 69.6096 Q149.626 66.0448 145.992 66.0448 M145.992 62.3411 Q151.802 62.3411 154.857 66.9476 Q157.936 71.5309 157.936 80.2808 Q157.936 89.0076 154.857 93.6141 Q151.802 98.1974 145.992 98.1974 Q140.181 98.1974 137.103 93.6141 Q134.047 89.0076 134.047 80.2808 Q134.047 71.5309 137.103 66.9476 Q140.181 62.3411 145.992 62.3411 Z\" fill=\"#f8f8f2\" fill-rule=\"nonzero\" fill-opacity=\"1\" /><circle clip-path=\"url(#clip602)\" cx=\"255.035\" cy=\"394.595\" r=\"14.4\" fill=\"#8be9fd\" fill-rule=\"evenodd\" fill-opacity=\"1\" stroke=\"#f8f8f2\" stroke-opacity=\"1\" stroke-width=\"3.2\"/>\n",
       "<circle clip-path=\"url(#clip602)\" cx=\"481.326\" cy=\"863.559\" r=\"14.4\" fill=\"#8be9fd\" fill-rule=\"evenodd\" fill-opacity=\"1\" stroke=\"#f8f8f2\" stroke-opacity=\"1\" stroke-width=\"3.2\"/>\n",
       "<circle clip-path=\"url(#clip602)\" cx=\"707.617\" cy=\"963.833\" r=\"14.4\" fill=\"#8be9fd\" fill-rule=\"evenodd\" fill-opacity=\"1\" stroke=\"#f8f8f2\" stroke-opacity=\"1\" stroke-width=\"3.2\"/>\n",
       "<circle clip-path=\"url(#clip602)\" cx=\"933.909\" cy=\"496.105\" r=\"14.4\" fill=\"#8be9fd\" fill-rule=\"evenodd\" fill-opacity=\"1\" stroke=\"#f8f8f2\" stroke-opacity=\"1\" stroke-width=\"3.2\"/>\n",
       "<circle clip-path=\"url(#clip602)\" cx=\"1160.2\" cy=\"225.411\" r=\"14.4\" fill=\"#8be9fd\" fill-rule=\"evenodd\" fill-opacity=\"1\" stroke=\"#f8f8f2\" stroke-opacity=\"1\" stroke-width=\"3.2\"/>\n",
       "<circle clip-path=\"url(#clip602)\" cx=\"1386.49\" cy=\"1255.03\" r=\"14.4\" fill=\"#8be9fd\" fill-rule=\"evenodd\" fill-opacity=\"1\" stroke=\"#f8f8f2\" stroke-opacity=\"1\" stroke-width=\"3.2\"/>\n",
       "<circle clip-path=\"url(#clip602)\" cx=\"1612.78\" cy=\"1341.09\" r=\"14.4\" fill=\"#8be9fd\" fill-rule=\"evenodd\" fill-opacity=\"1\" stroke=\"#f8f8f2\" stroke-opacity=\"1\" stroke-width=\"3.2\"/>\n",
       "<circle clip-path=\"url(#clip602)\" cx=\"1839.07\" cy=\"1445.72\" r=\"14.4\" fill=\"#8be9fd\" fill-rule=\"evenodd\" fill-opacity=\"1\" stroke=\"#f8f8f2\" stroke-opacity=\"1\" stroke-width=\"3.2\"/>\n",
       "<circle clip-path=\"url(#clip602)\" cx=\"2065.37\" cy=\"87.9763\" r=\"14.4\" fill=\"#8be9fd\" fill-rule=\"evenodd\" fill-opacity=\"1\" stroke=\"#f8f8f2\" stroke-opacity=\"1\" stroke-width=\"3.2\"/>\n",
       "<circle clip-path=\"url(#clip602)\" cx=\"2291.66\" cy=\"379.499\" r=\"14.4\" fill=\"#8be9fd\" fill-rule=\"evenodd\" fill-opacity=\"1\" stroke=\"#f8f8f2\" stroke-opacity=\"1\" stroke-width=\"3.2\"/>\n",
       "</svg>\n"
      ]
     },
     "execution_count": 84,
     "metadata": {},
     "output_type": "execute_result"
    }
   ],
   "source": [
    "x = range(1, 10)\n",
    "y = cos.(x.^3)\n",
    "scatter(x, y, legend=false)"
   ]
  },
  {
   "cell_type": "code",
   "execution_count": 85,
   "metadata": {},
   "outputs": [
    {
     "data": {
      "text/latex": [
       "\\textbf{Uniform Distribtion}\n",
       "\n"
      ],
      "text/markdown": [
       "**Uniform Distribtion**\n"
      ],
      "text/plain": [
       "  \u001b[1mUniform Distribtion\u001b[22m"
      ]
     },
     "execution_count": 85,
     "metadata": {},
     "output_type": "execute_result"
    }
   ],
   "source": [
    "md\"**Uniform Distribtion**\""
   ]
  },
  {
   "cell_type": "code",
   "execution_count": 86,
   "metadata": {},
   "outputs": [],
   "source": [
    "?rand;"
   ]
  },
  {
   "cell_type": "code",
   "execution_count": 87,
   "metadata": {},
   "outputs": [
    {
     "data": {
      "image/png": "[encoded data removed]",
      "image/svg+xml": [
       "<?xml version=\"1.0\" encoding=\"utf-8\"?>\n",
       "<svg xmlns=\"http://www.w3.org/2000/svg\" xmlns:xlink=\"http://www.w3.org/1999/xlink\" width=\"600\" height=\"400\" viewBox=\"0 0 2400 1600\">\n",
       "<defs>\n",
       "  <clipPath id=\"clip640\">\n",
       "    <rect x=\"0\" y=\"0\" width=\"2400\" height=\"1600\"/>\n",
       "  </clipPath>\n",
       "</defs>\n",
       "<path clip-path=\"url(#clip640)\" d=\"M0 1600 L2400 1600 L2400 0 L0 0  Z\" fill=\"#282a36\" fill-rule=\"evenodd\" fill-opacity=\"1\"/>\n",
       "<defs>\n",
       "  <clipPath id=\"clip641\">\n",
       "    <rect x=\"480\" y=\"0\" width=\"1681\" height=\"1600\"/>\n",
       "  </clipPath>\n",
       "</defs>\n",
       "<path clip-path=\"url(#clip640)\" d=\"M201.019 1486.45 L2352.76 1486.45 L2352.76 47.2441 L201.019 47.2441  Z\" fill=\"#30343b\" fill-rule=\"evenodd\" fill-opacity=\"1\"/>\n",
       "<defs>\n",
       "  <clipPath id=\"clip642\">\n",
       "    <rect x=\"201\" y=\"47\" width=\"2153\" height=\"1440\"/>\n",
       "  </clipPath>\n",
       "</defs>\n",
       "<polyline clip-path=\"url(#clip642)\" style=\"stroke:#f8f8f2; stroke-linecap:round; stroke-linejoin:round; stroke-width:2; stroke-opacity:0.1; fill:none\" points=\"319.369,1486.45 319.369,47.2441 \"/>\n",
       "<polyline clip-path=\"url(#clip642)\" style=\"stroke:#f8f8f2; stroke-linecap:round; stroke-linejoin:round; stroke-width:2; stroke-opacity:0.1; fill:none\" points=\"798.128,1486.45 798.128,47.2441 \"/>\n",
       "<polyline clip-path=\"url(#clip642)\" style=\"stroke:#f8f8f2; stroke-linecap:round; stroke-linejoin:round; stroke-width:2; stroke-opacity:0.1; fill:none\" points=\"1276.89,1486.45 1276.89,47.2441 \"/>\n",
       "<polyline clip-path=\"url(#clip642)\" style=\"stroke:#f8f8f2; stroke-linecap:round; stroke-linejoin:round; stroke-width:2; stroke-opacity:0.1; fill:none\" points=\"1755.65,1486.45 1755.65,47.2441 \"/>\n",
       "<polyline clip-path=\"url(#clip642)\" style=\"stroke:#f8f8f2; stroke-linecap:round; stroke-linejoin:round; stroke-width:2; stroke-opacity:0.1; fill:none\" points=\"2234.41,1486.45 2234.41,47.2441 \"/>\n",
       "<polyline clip-path=\"url(#clip640)\" style=\"stroke:#f8f8f2; stroke-linecap:round; stroke-linejoin:round; stroke-width:4; stroke-opacity:1; fill:none\" points=\"201.019,1486.45 2352.76,1486.45 \"/>\n",
       "<polyline clip-path=\"url(#clip640)\" style=\"stroke:#f8f8f2; stroke-linecap:round; stroke-linejoin:round; stroke-width:4; stroke-opacity:1; fill:none\" points=\"319.369,1486.45 319.369,1467.55 \"/>\n",
       "<polyline clip-path=\"url(#clip640)\" style=\"stroke:#f8f8f2; stroke-linecap:round; stroke-linejoin:round; stroke-width:4; stroke-opacity:1; fill:none\" points=\"798.128,1486.45 798.128,1467.55 \"/>\n",
       "<polyline clip-path=\"url(#clip640)\" style=\"stroke:#f8f8f2; stroke-linecap:round; stroke-linejoin:round; stroke-width:4; stroke-opacity:1; fill:none\" points=\"1276.89,1486.45 1276.89,1467.55 \"/>\n",
       "<polyline clip-path=\"url(#clip640)\" style=\"stroke:#f8f8f2; stroke-linecap:round; stroke-linejoin:round; stroke-width:4; stroke-opacity:1; fill:none\" points=\"1755.65,1486.45 1755.65,1467.55 \"/>\n",
       "<polyline clip-path=\"url(#clip640)\" style=\"stroke:#f8f8f2; stroke-linecap:round; stroke-linejoin:round; stroke-width:4; stroke-opacity:1; fill:none\" points=\"2234.41,1486.45 2234.41,1467.55 \"/>\n",
       "<path clip-path=\"url(#clip640)\" d=\"M281.672 1517.37 Q278.061 1517.37 276.232 1520.93 Q274.427 1524.47 274.427 1531.6 Q274.427 1538.71 276.232 1542.27 Q278.061 1545.82 281.672 1545.82 Q285.306 1545.82 287.112 1542.27 Q288.941 1538.71 288.941 1531.6 Q288.941 1524.47 287.112 1520.93 Q285.306 1517.37 281.672 1517.37 M281.672 1513.66 Q287.482 1513.66 290.538 1518.27 Q293.616 1522.85 293.616 1531.6 Q293.616 1540.33 290.538 1544.94 Q287.482 1549.52 281.672 1549.52 Q275.862 1549.52 272.783 1544.94 Q269.728 1540.33 269.728 1531.6 Q269.728 1522.85 272.783 1518.27 Q275.862 1513.66 281.672 1513.66 Z\" fill=\"#f8f8f2\" fill-rule=\"nonzero\" fill-opacity=\"1\" /><path clip-path=\"url(#clip640)\" d=\"M301.834 1542.97 L306.718 1542.97 L306.718 1548.85 L301.834 1548.85 L301.834 1542.97 Z\" fill=\"#f8f8f2\" fill-rule=\"nonzero\" fill-opacity=\"1\" /><path clip-path=\"url(#clip640)\" d=\"M326.903 1517.37 Q323.292 1517.37 321.464 1520.93 Q319.658 1524.47 319.658 1531.6 Q319.658 1538.71 321.464 1542.27 Q323.292 1545.82 326.903 1545.82 Q330.538 1545.82 332.343 1542.27 Q334.172 1538.71 334.172 1531.6 Q334.172 1524.47 332.343 1520.93 Q330.538 1517.37 326.903 1517.37 M326.903 1513.66 Q332.713 1513.66 335.769 1518.27 Q338.848 1522.85 338.848 1531.6 Q338.848 1540.33 335.769 1544.94 Q332.713 1549.52 326.903 1549.52 Q321.093 1549.52 318.014 1544.94 Q314.959 1540.33 314.959 1531.6 Q314.959 1522.85 318.014 1518.27 Q321.093 1513.66 326.903 1513.66 Z\" fill=\"#f8f8f2\" fill-rule=\"nonzero\" fill-opacity=\"1\" /><path clip-path=\"url(#clip640)\" d=\"M357.065 1517.37 Q353.454 1517.37 351.625 1520.93 Q349.82 1524.47 349.82 1531.6 Q349.82 1538.71 351.625 1542.27 Q353.454 1545.82 357.065 1545.82 Q360.699 1545.82 362.505 1542.27 Q364.334 1538.71 364.334 1531.6 Q364.334 1524.47 362.505 1520.93 Q360.699 1517.37 357.065 1517.37 M357.065 1513.66 Q362.875 1513.66 365.931 1518.27 Q369.01 1522.85 369.01 1531.6 Q369.01 1540.33 365.931 1544.94 Q362.875 1549.52 357.065 1549.52 Q351.255 1549.52 348.176 1544.94 Q345.121 1540.33 345.121 1531.6 Q345.121 1522.85 348.176 1518.27 Q351.255 1513.66 357.065 1513.66 Z\" fill=\"#f8f8f2\" fill-rule=\"nonzero\" fill-opacity=\"1\" /><path clip-path=\"url(#clip640)\" d=\"M760.929 1517.37 Q757.318 1517.37 755.489 1520.93 Q753.684 1524.47 753.684 1531.6 Q753.684 1538.71 755.489 1542.27 Q757.318 1545.82 760.929 1545.82 Q764.563 1545.82 766.369 1542.27 Q768.198 1538.71 768.198 1531.6 Q768.198 1524.47 766.369 1520.93 Q764.563 1517.37 760.929 1517.37 M760.929 1513.66 Q766.739 1513.66 769.795 1518.27 Q772.874 1522.85 772.874 1531.6 Q772.874 1540.33 769.795 1544.94 Q766.739 1549.52 760.929 1549.52 Q755.119 1549.52 752.04 1544.94 Q748.985 1540.33 748.985 1531.6 Q748.985 1522.85 752.04 1518.27 Q755.119 1513.66 760.929 1513.66 Z\" fill=\"#f8f8f2\" fill-rule=\"nonzero\" fill-opacity=\"1\" /><path clip-path=\"url(#clip640)\" d=\"M781.091 1542.97 L785.975 1542.97 L785.975 1548.85 L781.091 1548.85 L781.091 1542.97 Z\" fill=\"#f8f8f2\" fill-rule=\"nonzero\" fill-opacity=\"1\" /><path clip-path=\"url(#clip640)\" d=\"M800.188 1544.91 L816.508 1544.91 L816.508 1548.85 L794.563 1548.85 L794.563 1544.91 Q797.225 1542.16 801.809 1537.53 Q806.415 1532.88 807.596 1531.53 Q809.841 1529.01 810.721 1527.27 Q811.623 1525.51 811.623 1523.82 Q811.623 1521.07 809.679 1519.33 Q807.758 1517.6 804.656 1517.6 Q802.457 1517.6 800.003 1518.36 Q797.573 1519.13 794.795 1520.68 L794.795 1515.95 Q797.619 1514.82 800.073 1514.24 Q802.526 1513.66 804.563 1513.66 Q809.934 1513.66 813.128 1516.35 Q816.322 1519.03 816.322 1523.52 Q816.322 1525.65 815.512 1527.57 Q814.725 1529.47 812.619 1532.07 Q812.04 1532.74 808.938 1535.95 Q805.836 1539.15 800.188 1544.91 Z\" fill=\"#f8f8f2\" fill-rule=\"nonzero\" fill-opacity=\"1\" /><path clip-path=\"url(#clip640)\" d=\"M826.369 1514.29 L844.725 1514.29 L844.725 1518.22 L830.651 1518.22 L830.651 1526.7 Q831.67 1526.35 832.688 1526.19 Q833.707 1526 834.725 1526 Q840.512 1526 843.892 1529.17 Q847.271 1532.34 847.271 1537.76 Q847.271 1543.34 843.799 1546.44 Q840.327 1549.52 834.008 1549.52 Q831.832 1549.52 829.563 1549.15 Q827.318 1548.78 824.91 1548.04 L824.91 1543.34 Q826.994 1544.47 829.216 1545.03 Q831.438 1545.58 833.915 1545.58 Q837.92 1545.58 840.258 1543.48 Q842.595 1541.37 842.595 1537.76 Q842.595 1534.15 840.258 1532.04 Q837.92 1529.94 833.915 1529.94 Q832.04 1529.94 830.165 1530.35 Q828.313 1530.77 826.369 1531.65 L826.369 1514.29 Z\" fill=\"#f8f8f2\" fill-rule=\"nonzero\" fill-opacity=\"1\" /><path clip-path=\"url(#clip640)\" d=\"M1239.19 1517.37 Q1235.58 1517.37 1233.75 1520.93 Q1231.95 1524.47 1231.95 1531.6 Q1231.95 1538.71 1233.75 1542.27 Q1235.58 1545.82 1239.19 1545.82 Q1242.83 1545.82 1244.63 1542.27 Q1246.46 1538.71 1246.46 1531.6 Q1246.46 1524.47 1244.63 1520.93 Q1242.83 1517.37 1239.19 1517.37 M1239.19 1513.66 Q1245 1513.66 1248.06 1518.27 Q1251.14 1522.85 1251.14 1531.6 Q1251.14 1540.33 1248.06 1544.94 Q1245 1549.52 1239.19 1549.52 Q1233.38 1549.52 1230.3 1544.94 Q1227.25 1540.33 1227.25 1531.6 Q1227.25 1522.85 1230.3 1518.27 Q1233.38 1513.66 1239.19 1513.66 Z\" fill=\"#f8f8f2\" fill-rule=\"nonzero\" fill-opacity=\"1\" /><path clip-path=\"url(#clip640)\" d=\"M1259.35 1542.97 L1264.24 1542.97 L1264.24 1548.85 L1259.35 1548.85 L1259.35 1542.97 Z\" fill=\"#f8f8f2\" fill-rule=\"nonzero\" fill-opacity=\"1\" /><path clip-path=\"url(#clip640)\" d=\"M1274.47 1514.29 L1292.83 1514.29 L1292.83 1518.22 L1278.75 1518.22 L1278.75 1526.7 Q1279.77 1526.35 1280.79 1526.19 Q1281.81 1526 1282.83 1526 Q1288.61 1526 1291.99 1529.17 Q1295.37 1532.34 1295.37 1537.76 Q1295.37 1543.34 1291.9 1546.44 Q1288.43 1549.52 1282.11 1549.52 Q1279.93 1549.52 1277.66 1549.15 Q1275.42 1548.78 1273.01 1548.04 L1273.01 1543.34 Q1275.09 1544.47 1277.32 1545.03 Q1279.54 1545.58 1282.01 1545.58 Q1286.02 1545.58 1288.36 1543.48 Q1290.7 1541.37 1290.7 1537.76 Q1290.7 1534.15 1288.36 1532.04 Q1286.02 1529.94 1282.01 1529.94 Q1280.14 1529.94 1278.26 1530.35 Q1276.41 1530.77 1274.47 1531.65 L1274.47 1514.29 Z\" fill=\"#f8f8f2\" fill-rule=\"nonzero\" fill-opacity=\"1\" /><path clip-path=\"url(#clip640)\" d=\"M1314.58 1517.37 Q1310.97 1517.37 1309.14 1520.93 Q1307.34 1524.47 1307.34 1531.6 Q1307.34 1538.71 1309.14 1542.27 Q1310.97 1545.82 1314.58 1545.82 Q1318.22 1545.82 1320.02 1542.27 Q1321.85 1538.71 1321.85 1531.6 Q1321.85 1524.47 1320.02 1520.93 Q1318.22 1517.37 1314.58 1517.37 M1314.58 1513.66 Q1320.39 1513.66 1323.45 1518.27 Q1326.53 1522.85 1326.53 1531.6 Q1326.53 1540.33 1323.45 1544.94 Q1320.39 1549.52 1314.58 1549.52 Q1308.77 1549.52 1305.7 1544.94 Q1302.64 1540.33 1302.64 1531.6 Q1302.64 1522.85 1305.7 1518.27 Q1308.77 1513.66 1314.58 1513.66 Z\" fill=\"#f8f8f2\" fill-rule=\"nonzero\" fill-opacity=\"1\" /><path clip-path=\"url(#clip640)\" d=\"M1718.45 1517.37 Q1714.84 1517.37 1713.01 1520.93 Q1711.2 1524.47 1711.2 1531.6 Q1711.2 1538.71 1713.01 1542.27 Q1714.84 1545.82 1718.45 1545.82 Q1722.08 1545.82 1723.89 1542.27 Q1725.72 1538.71 1725.72 1531.6 Q1725.72 1524.47 1723.89 1520.93 Q1722.08 1517.37 1718.45 1517.37 M1718.45 1513.66 Q1724.26 1513.66 1727.31 1518.27 Q1730.39 1522.85 1730.39 1531.6 Q1730.39 1540.33 1727.31 1544.94 Q1724.26 1549.52 1718.45 1549.52 Q1712.64 1549.52 1709.56 1544.94 Q1706.5 1540.33 1706.5 1531.6 Q1706.5 1522.85 1709.56 1518.27 Q1712.64 1513.66 1718.45 1513.66 Z\" fill=\"#f8f8f2\" fill-rule=\"nonzero\" fill-opacity=\"1\" /><path clip-path=\"url(#clip640)\" d=\"M1738.61 1542.97 L1743.49 1542.97 L1743.49 1548.85 L1738.61 1548.85 L1738.61 1542.97 Z\" fill=\"#f8f8f2\" fill-rule=\"nonzero\" fill-opacity=\"1\" /><path clip-path=\"url(#clip640)\" d=\"M1752.5 1514.29 L1774.72 1514.29 L1774.72 1516.28 L1762.17 1548.85 L1757.29 1548.85 L1769.1 1518.22 L1752.5 1518.22 L1752.5 1514.29 Z\" fill=\"#f8f8f2\" fill-rule=\"nonzero\" fill-opacity=\"1\" /><path clip-path=\"url(#clip640)\" d=\"M1783.89 1514.29 L1802.24 1514.29 L1802.24 1518.22 L1788.17 1518.22 L1788.17 1526.7 Q1789.19 1526.35 1790.21 1526.19 Q1791.23 1526 1792.24 1526 Q1798.03 1526 1801.41 1529.17 Q1804.79 1532.34 1804.79 1537.76 Q1804.79 1543.34 1801.32 1546.44 Q1797.85 1549.52 1791.53 1549.52 Q1789.35 1549.52 1787.08 1549.15 Q1784.84 1548.78 1782.43 1548.04 L1782.43 1543.34 Q1784.51 1544.47 1786.73 1545.03 Q1788.96 1545.58 1791.43 1545.58 Q1795.44 1545.58 1797.78 1543.48 Q1800.11 1541.37 1800.11 1537.76 Q1800.11 1534.15 1797.78 1532.04 Q1795.44 1529.94 1791.43 1529.94 Q1789.56 1529.94 1787.68 1530.35 Q1785.83 1530.77 1783.89 1531.65 L1783.89 1514.29 Z\" fill=\"#f8f8f2\" fill-rule=\"nonzero\" fill-opacity=\"1\" /><path clip-path=\"url(#clip640)\" d=\"M2186.48 1544.91 L2194.12 1544.91 L2194.12 1518.55 L2185.81 1520.21 L2185.81 1515.95 L2194.07 1514.29 L2198.75 1514.29 L2198.75 1544.91 L2206.39 1544.91 L2206.39 1548.85 L2186.48 1548.85 L2186.48 1544.91 Z\" fill=\"#f8f8f2\" fill-rule=\"nonzero\" fill-opacity=\"1\" /><path clip-path=\"url(#clip640)\" d=\"M2215.83 1542.97 L2220.71 1542.97 L2220.71 1548.85 L2215.83 1548.85 L2215.83 1542.97 Z\" fill=\"#f8f8f2\" fill-rule=\"nonzero\" fill-opacity=\"1\" /><path clip-path=\"url(#clip640)\" d=\"M2240.9 1517.37 Q2237.29 1517.37 2235.46 1520.93 Q2233.65 1524.47 2233.65 1531.6 Q2233.65 1538.71 2235.46 1542.27 Q2237.29 1545.82 2240.9 1545.82 Q2244.53 1545.82 2246.34 1542.27 Q2248.17 1538.71 2248.17 1531.6 Q2248.17 1524.47 2246.34 1520.93 Q2244.53 1517.37 2240.9 1517.37 M2240.9 1513.66 Q2246.71 1513.66 2249.77 1518.27 Q2252.84 1522.85 2252.84 1531.6 Q2252.84 1540.33 2249.77 1544.94 Q2246.71 1549.52 2240.9 1549.52 Q2235.09 1549.52 2232.01 1544.94 Q2228.96 1540.33 2228.96 1531.6 Q2228.96 1522.85 2232.01 1518.27 Q2235.09 1513.66 2240.9 1513.66 Z\" fill=\"#f8f8f2\" fill-rule=\"nonzero\" fill-opacity=\"1\" /><path clip-path=\"url(#clip640)\" d=\"M2271.06 1517.37 Q2267.45 1517.37 2265.62 1520.93 Q2263.82 1524.47 2263.82 1531.6 Q2263.82 1538.71 2265.62 1542.27 Q2267.45 1545.82 2271.06 1545.82 Q2274.7 1545.82 2276.5 1542.27 Q2278.33 1538.71 2278.33 1531.6 Q2278.33 1524.47 2276.5 1520.93 Q2274.7 1517.37 2271.06 1517.37 M2271.06 1513.66 Q2276.87 1513.66 2279.93 1518.27 Q2283.01 1522.85 2283.01 1531.6 Q2283.01 1540.33 2279.93 1544.94 Q2276.87 1549.52 2271.06 1549.52 Q2265.25 1549.52 2262.17 1544.94 Q2259.12 1540.33 2259.12 1531.6 Q2259.12 1522.85 2262.17 1518.27 Q2265.25 1513.66 2271.06 1513.66 Z\" fill=\"#f8f8f2\" fill-rule=\"nonzero\" fill-opacity=\"1\" /><polyline clip-path=\"url(#clip642)\" style=\"stroke:#f8f8f2; stroke-linecap:round; stroke-linejoin:round; stroke-width:2; stroke-opacity:0.1; fill:none\" points=\"201.019,1486.45 2352.76,1486.45 \"/>\n",
       "<polyline clip-path=\"url(#clip642)\" style=\"stroke:#f8f8f2; stroke-linecap:round; stroke-linejoin:round; stroke-width:2; stroke-opacity:0.1; fill:none\" points=\"201.019,1145.24 2352.76,1145.24 \"/>\n",
       "<polyline clip-path=\"url(#clip642)\" style=\"stroke:#f8f8f2; stroke-linecap:round; stroke-linejoin:round; stroke-width:2; stroke-opacity:0.1; fill:none\" points=\"201.019,804.037 2352.76,804.037 \"/>\n",
       "<polyline clip-path=\"url(#clip642)\" style=\"stroke:#f8f8f2; stroke-linecap:round; stroke-linejoin:round; stroke-width:2; stroke-opacity:0.1; fill:none\" points=\"201.019,462.832 2352.76,462.832 \"/>\n",
       "<polyline clip-path=\"url(#clip642)\" style=\"stroke:#f8f8f2; stroke-linecap:round; stroke-linejoin:round; stroke-width:2; stroke-opacity:0.1; fill:none\" points=\"201.019,121.627 2352.76,121.627 \"/>\n",
       "<polyline clip-path=\"url(#clip640)\" style=\"stroke:#f8f8f2; stroke-linecap:round; stroke-linejoin:round; stroke-width:4; stroke-opacity:1; fill:none\" points=\"201.019,1486.45 201.019,47.2441 \"/>\n",
       "<polyline clip-path=\"url(#clip640)\" style=\"stroke:#f8f8f2; stroke-linecap:round; stroke-linejoin:round; stroke-width:4; stroke-opacity:1; fill:none\" points=\"201.019,1486.45 219.917,1486.45 \"/>\n",
       "<polyline clip-path=\"url(#clip640)\" style=\"stroke:#f8f8f2; stroke-linecap:round; stroke-linejoin:round; stroke-width:4; stroke-opacity:1; fill:none\" points=\"201.019,1145.24 219.917,1145.24 \"/>\n",
       "<polyline clip-path=\"url(#clip640)\" style=\"stroke:#f8f8f2; stroke-linecap:round; stroke-linejoin:round; stroke-width:4; stroke-opacity:1; fill:none\" points=\"201.019,804.037 219.917,804.037 \"/>\n",
       "<polyline clip-path=\"url(#clip640)\" style=\"stroke:#f8f8f2; stroke-linecap:round; stroke-linejoin:round; stroke-width:4; stroke-opacity:1; fill:none\" points=\"201.019,462.832 219.917,462.832 \"/>\n",
       "<polyline clip-path=\"url(#clip640)\" style=\"stroke:#f8f8f2; stroke-linecap:round; stroke-linejoin:round; stroke-width:4; stroke-opacity:1; fill:none\" points=\"201.019,121.627 219.917,121.627 \"/>\n",
       "<path clip-path=\"url(#clip640)\" d=\"M153.075 1472.25 Q149.464 1472.25 147.635 1475.81 Q145.83 1479.35 145.83 1486.48 Q145.83 1493.59 147.635 1497.15 Q149.464 1500.7 153.075 1500.7 Q156.709 1500.7 158.515 1497.15 Q160.343 1493.59 160.343 1486.48 Q160.343 1479.35 158.515 1475.81 Q156.709 1472.25 153.075 1472.25 M153.075 1468.54 Q158.885 1468.54 161.941 1473.15 Q165.019 1477.73 165.019 1486.48 Q165.019 1495.21 161.941 1499.82 Q158.885 1504.4 153.075 1504.4 Q147.265 1504.4 144.186 1499.82 Q141.131 1495.21 141.131 1486.48 Q141.131 1477.73 144.186 1473.15 Q147.265 1468.54 153.075 1468.54 Z\" fill=\"#f8f8f2\" fill-rule=\"nonzero\" fill-opacity=\"1\" /><path clip-path=\"url(#clip640)\" d=\"M82.7975 1127.96 L101.154 1127.96 L101.154 1131.9 L87.0799 1131.9 L87.0799 1140.37 Q88.0984 1140.02 89.1169 1139.86 Q90.1354 1139.68 91.1539 1139.68 Q96.941 1139.68 100.321 1142.85 Q103.7 1146.02 103.7 1151.43 Q103.7 1157.01 100.228 1160.12 Q96.7558 1163.19 90.4364 1163.19 Q88.2604 1163.19 85.9919 1162.82 Q83.7466 1162.45 81.3392 1161.71 L81.3392 1157.01 Q83.4225 1158.15 85.6447 1158.7 Q87.8669 1159.26 90.3438 1159.26 Q94.3484 1159.26 96.6863 1157.15 Q99.0243 1155.05 99.0243 1151.43 Q99.0243 1147.82 96.6863 1145.72 Q94.3484 1143.61 90.3438 1143.61 Q88.4688 1143.61 86.5938 1144.03 Q84.7419 1144.44 82.7975 1145.32 L82.7975 1127.96 Z\" fill=\"#f8f8f2\" fill-rule=\"nonzero\" fill-opacity=\"1\" /><path clip-path=\"url(#clip640)\" d=\"M122.913 1131.04 Q119.302 1131.04 117.473 1134.61 Q115.668 1138.15 115.668 1145.28 Q115.668 1152.38 117.473 1155.95 Q119.302 1159.49 122.913 1159.49 Q126.547 1159.49 128.353 1155.95 Q130.182 1152.38 130.182 1145.28 Q130.182 1138.15 128.353 1134.61 Q126.547 1131.04 122.913 1131.04 M122.913 1127.34 Q128.723 1127.34 131.779 1131.94 Q134.857 1136.53 134.857 1145.28 Q134.857 1154 131.779 1158.61 Q128.723 1163.19 122.913 1163.19 Q117.103 1163.19 114.024 1158.61 Q110.969 1154 110.969 1145.28 Q110.969 1136.53 114.024 1131.94 Q117.103 1127.34 122.913 1127.34 Z\" fill=\"#f8f8f2\" fill-rule=\"nonzero\" fill-opacity=\"1\" /><path clip-path=\"url(#clip640)\" d=\"M153.075 1131.04 Q149.464 1131.04 147.635 1134.61 Q145.83 1138.15 145.83 1145.28 Q145.83 1152.38 147.635 1155.95 Q149.464 1159.49 153.075 1159.49 Q156.709 1159.49 158.515 1155.95 Q160.343 1152.38 160.343 1145.28 Q160.343 1138.15 158.515 1134.61 Q156.709 1131.04 153.075 1131.04 M153.075 1127.34 Q158.885 1127.34 161.941 1131.94 Q165.019 1136.53 165.019 1145.28 Q165.019 1154 161.941 1158.61 Q158.885 1163.19 153.075 1163.19 Q147.265 1163.19 144.186 1158.61 Q141.131 1154 141.131 1145.28 Q141.131 1136.53 144.186 1131.94 Q147.265 1127.34 153.075 1127.34 Z\" fill=\"#f8f8f2\" fill-rule=\"nonzero\" fill-opacity=\"1\" /><path clip-path=\"url(#clip640)\" d=\"M53.3995 817.382 L61.0384 817.382 L61.0384 791.017 L52.7282 792.683 L52.7282 788.424 L60.9921 786.757 L65.668 786.757 L65.668 817.382 L73.3068 817.382 L73.3068 821.317 L53.3995 821.317 L53.3995 817.382 Z\" fill=\"#f8f8f2\" fill-rule=\"nonzero\" fill-opacity=\"1\" /><path clip-path=\"url(#clip640)\" d=\"M92.7512 789.836 Q89.1401 789.836 87.3114 793.401 Q85.5058 796.942 85.5058 804.072 Q85.5058 811.179 87.3114 814.743 Q89.1401 818.285 92.7512 818.285 Q96.3854 818.285 98.1909 814.743 Q100.02 811.179 100.02 804.072 Q100.02 796.942 98.1909 793.401 Q96.3854 789.836 92.7512 789.836 M92.7512 786.132 Q98.5613 786.132 101.617 790.739 Q104.696 795.322 104.696 804.072 Q104.696 812.799 101.617 817.405 Q98.5613 821.989 92.7512 821.989 Q86.941 821.989 83.8623 817.405 Q80.8068 812.799 80.8068 804.072 Q80.8068 795.322 83.8623 790.739 Q86.941 786.132 92.7512 786.132 Z\" fill=\"#f8f8f2\" fill-rule=\"nonzero\" fill-opacity=\"1\" /><path clip-path=\"url(#clip640)\" d=\"M122.913 789.836 Q119.302 789.836 117.473 793.401 Q115.668 796.942 115.668 804.072 Q115.668 811.179 117.473 814.743 Q119.302 818.285 122.913 818.285 Q126.547 818.285 128.353 814.743 Q130.182 811.179 130.182 804.072 Q130.182 796.942 128.353 793.401 Q126.547 789.836 122.913 789.836 M122.913 786.132 Q128.723 786.132 131.779 790.739 Q134.857 795.322 134.857 804.072 Q134.857 812.799 131.779 817.405 Q128.723 821.989 122.913 821.989 Q117.103 821.989 114.024 817.405 Q110.969 812.799 110.969 804.072 Q110.969 795.322 114.024 790.739 Q117.103 786.132 122.913 786.132 Z\" fill=\"#f8f8f2\" fill-rule=\"nonzero\" fill-opacity=\"1\" /><path clip-path=\"url(#clip640)\" d=\"M153.075 789.836 Q149.464 789.836 147.635 793.401 Q145.83 796.942 145.83 804.072 Q145.83 811.179 147.635 814.743 Q149.464 818.285 153.075 818.285 Q156.709 818.285 158.515 814.743 Q160.343 811.179 160.343 804.072 Q160.343 796.942 158.515 793.401 Q156.709 789.836 153.075 789.836 M153.075 786.132 Q158.885 786.132 161.941 790.739 Q165.019 795.322 165.019 804.072 Q165.019 812.799 161.941 817.405 Q158.885 821.989 153.075 821.989 Q147.265 821.989 144.186 817.405 Q141.131 812.799 141.131 804.072 Q141.131 795.322 144.186 790.739 Q147.265 786.132 153.075 786.132 Z\" fill=\"#f8f8f2\" fill-rule=\"nonzero\" fill-opacity=\"1\" /><path clip-path=\"url(#clip640)\" d=\"M53.3995 476.177 L61.0384 476.177 L61.0384 449.811 L52.7282 451.478 L52.7282 447.219 L60.9921 445.552 L65.668 445.552 L65.668 476.177 L73.3068 476.177 L73.3068 480.112 L53.3995 480.112 L53.3995 476.177 Z\" fill=\"#f8f8f2\" fill-rule=\"nonzero\" fill-opacity=\"1\" /><path clip-path=\"url(#clip640)\" d=\"M82.7975 445.552 L101.154 445.552 L101.154 449.487 L87.0799 449.487 L87.0799 457.959 Q88.0984 457.612 89.1169 457.45 Q90.1354 457.265 91.1539 457.265 Q96.941 457.265 100.321 460.436 Q103.7 463.608 103.7 469.024 Q103.7 474.603 100.228 477.705 Q96.7558 480.783 90.4364 480.783 Q88.2604 480.783 85.9919 480.413 Q83.7466 480.043 81.3392 479.302 L81.3392 474.603 Q83.4225 475.737 85.6447 476.293 Q87.8669 476.848 90.3438 476.848 Q94.3484 476.848 96.6863 474.742 Q99.0243 472.635 99.0243 469.024 Q99.0243 465.413 96.6863 463.307 Q94.3484 461.2 90.3438 461.2 Q88.4688 461.2 86.5938 461.617 Q84.7419 462.033 82.7975 462.913 L82.7975 445.552 Z\" fill=\"#f8f8f2\" fill-rule=\"nonzero\" fill-opacity=\"1\" /><path clip-path=\"url(#clip640)\" d=\"M122.913 448.631 Q119.302 448.631 117.473 452.196 Q115.668 455.737 115.668 462.867 Q115.668 469.973 117.473 473.538 Q119.302 477.08 122.913 477.08 Q126.547 477.08 128.353 473.538 Q130.182 469.973 130.182 462.867 Q130.182 455.737 128.353 452.196 Q126.547 448.631 122.913 448.631 M122.913 444.927 Q128.723 444.927 131.779 449.534 Q134.857 454.117 134.857 462.867 Q134.857 471.594 131.779 476.2 Q128.723 480.783 122.913 480.783 Q117.103 480.783 114.024 476.2 Q110.969 471.594 110.969 462.867 Q110.969 454.117 114.024 449.534 Q117.103 444.927 122.913 444.927 Z\" fill=\"#f8f8f2\" fill-rule=\"nonzero\" fill-opacity=\"1\" /><path clip-path=\"url(#clip640)\" d=\"M153.075 448.631 Q149.464 448.631 147.635 452.196 Q145.83 455.737 145.83 462.867 Q145.83 469.973 147.635 473.538 Q149.464 477.08 153.075 477.08 Q156.709 477.08 158.515 473.538 Q160.343 469.973 160.343 462.867 Q160.343 455.737 158.515 452.196 Q156.709 448.631 153.075 448.631 M153.075 444.927 Q158.885 444.927 161.941 449.534 Q165.019 454.117 165.019 462.867 Q165.019 471.594 161.941 476.2 Q158.885 480.783 153.075 480.783 Q147.265 480.783 144.186 476.2 Q141.131 471.594 141.131 462.867 Q141.131 454.117 144.186 449.534 Q147.265 444.927 153.075 444.927 Z\" fill=\"#f8f8f2\" fill-rule=\"nonzero\" fill-opacity=\"1\" /><path clip-path=\"url(#clip640)\" d=\"M56.6171 134.972 L72.9365 134.972 L72.9365 138.907 L50.9921 138.907 L50.9921 134.972 Q53.6541 132.217 58.2375 127.587 Q62.8439 122.935 64.0245 121.592 Q66.2698 119.069 67.1494 117.333 Q68.0522 115.574 68.0522 113.884 Q68.0522 111.129 66.1078 109.393 Q64.1865 107.657 61.0847 107.657 Q58.8856 107.657 56.4319 108.421 Q54.0014 109.185 51.2236 110.736 L51.2236 106.013 Q54.0477 104.879 56.5014 104.301 Q58.955 103.722 60.9921 103.722 Q66.3624 103.722 69.5568 106.407 Q72.7513 109.092 72.7513 113.583 Q72.7513 115.713 71.9411 117.634 Q71.1541 119.532 69.0476 122.125 Q68.4689 122.796 65.367 126.013 Q62.2652 129.208 56.6171 134.972 Z\" fill=\"#f8f8f2\" fill-rule=\"nonzero\" fill-opacity=\"1\" /><path clip-path=\"url(#clip640)\" d=\"M92.7512 107.426 Q89.1401 107.426 87.3114 110.99 Q85.5058 114.532 85.5058 121.662 Q85.5058 128.768 87.3114 132.333 Q89.1401 135.874 92.7512 135.874 Q96.3854 135.874 98.1909 132.333 Q100.02 128.768 100.02 121.662 Q100.02 114.532 98.1909 110.99 Q96.3854 107.426 92.7512 107.426 M92.7512 103.722 Q98.5613 103.722 101.617 108.328 Q104.696 112.912 104.696 121.662 Q104.696 130.388 101.617 134.995 Q98.5613 139.578 92.7512 139.578 Q86.941 139.578 83.8623 134.995 Q80.8068 130.388 80.8068 121.662 Q80.8068 112.912 83.8623 108.328 Q86.941 103.722 92.7512 103.722 Z\" fill=\"#f8f8f2\" fill-rule=\"nonzero\" fill-opacity=\"1\" /><path clip-path=\"url(#clip640)\" d=\"M122.913 107.426 Q119.302 107.426 117.473 110.99 Q115.668 114.532 115.668 121.662 Q115.668 128.768 117.473 132.333 Q119.302 135.874 122.913 135.874 Q126.547 135.874 128.353 132.333 Q130.182 128.768 130.182 121.662 Q130.182 114.532 128.353 110.99 Q126.547 107.426 122.913 107.426 M122.913 103.722 Q128.723 103.722 131.779 108.328 Q134.857 112.912 134.857 121.662 Q134.857 130.388 131.779 134.995 Q128.723 139.578 122.913 139.578 Q117.103 139.578 114.024 134.995 Q110.969 130.388 110.969 121.662 Q110.969 112.912 114.024 108.328 Q117.103 103.722 122.913 103.722 Z\" fill=\"#f8f8f2\" fill-rule=\"nonzero\" fill-opacity=\"1\" /><path clip-path=\"url(#clip640)\" d=\"M153.075 107.426 Q149.464 107.426 147.635 110.99 Q145.83 114.532 145.83 121.662 Q145.83 128.768 147.635 132.333 Q149.464 135.874 153.075 135.874 Q156.709 135.874 158.515 132.333 Q160.343 128.768 160.343 121.662 Q160.343 114.532 158.515 110.99 Q156.709 107.426 153.075 107.426 M153.075 103.722 Q158.885 103.722 161.941 108.328 Q165.019 112.912 165.019 121.662 Q165.019 130.388 161.941 134.995 Q158.885 139.578 153.075 139.578 Q147.265 139.578 144.186 134.995 Q141.131 130.388 141.131 121.662 Q141.131 112.912 144.186 108.328 Q147.265 103.722 153.075 103.722 Z\" fill=\"#f8f8f2\" fill-rule=\"nonzero\" fill-opacity=\"1\" /><path clip-path=\"url(#clip642)\" d=\"M319.369 161.207 L319.369 1486.45 L357.669 1486.45 L357.669 161.207 L319.369 161.207 L319.369 161.207  Z\" fill=\"#8be9fd\" fill-rule=\"evenodd\" fill-opacity=\"1\"/>\n",
       "<polyline clip-path=\"url(#clip642)\" style=\"stroke:#f8f8f2; stroke-linecap:round; stroke-linejoin:round; stroke-width:4; stroke-opacity:1; fill:none\" points=\"319.369,161.207 319.369,1486.45 357.669,1486.45 357.669,161.207 319.369,161.207 \"/>\n",
       "<path clip-path=\"url(#clip642)\" d=\"M357.669 152.335 L357.669 1486.45 L395.97 1486.45 L395.97 152.335 L357.669 152.335 L357.669 152.335  Z\" fill=\"#8be9fd\" fill-rule=\"evenodd\" fill-opacity=\"1\"/>\n",
       "<polyline clip-path=\"url(#clip642)\" style=\"stroke:#f8f8f2; stroke-linecap:round; stroke-linejoin:round; stroke-width:4; stroke-opacity:1; fill:none\" points=\"357.669,152.335 357.669,1486.45 395.97,1486.45 395.97,152.335 357.669,152.335 \"/>\n",
       "<path clip-path=\"url(#clip642)\" d=\"M395.97 93.648 L395.97 1486.45 L434.271 1486.45 L434.271 93.648 L395.97 93.648 L395.97 93.648  Z\" fill=\"#8be9fd\" fill-rule=\"evenodd\" fill-opacity=\"1\"/>\n",
       "<polyline clip-path=\"url(#clip642)\" style=\"stroke:#f8f8f2; stroke-linecap:round; stroke-linejoin:round; stroke-width:4; stroke-opacity:1; fill:none\" points=\"395.97,93.648 395.97,1486.45 434.271,1486.45 434.271,93.648 395.97,93.648 \"/>\n",
       "<path clip-path=\"url(#clip642)\" d=\"M434.271 71.1285 L434.271 1486.45 L472.572 1486.45 L472.572 71.1285 L434.271 71.1285 L434.271 71.1285  Z\" fill=\"#8be9fd\" fill-rule=\"evenodd\" fill-opacity=\"1\"/>\n",
       "<polyline clip-path=\"url(#clip642)\" style=\"stroke:#f8f8f2; stroke-linecap:round; stroke-linejoin:round; stroke-width:4; stroke-opacity:1; fill:none\" points=\"434.271,71.1285 434.271,1486.45 472.572,1486.45 472.572,71.1285 434.271,71.1285 \"/>\n",
       "<path clip-path=\"url(#clip642)\" d=\"M472.572 100.472 L472.572 1486.45 L510.872 1486.45 L510.872 100.472 L472.572 100.472 L472.572 100.472  Z\" fill=\"#8be9fd\" fill-rule=\"evenodd\" fill-opacity=\"1\"/>\n",
       "<polyline clip-path=\"url(#clip642)\" style=\"stroke:#f8f8f2; stroke-linecap:round; stroke-linejoin:round; stroke-width:4; stroke-opacity:1; fill:none\" points=\"472.572,100.472 472.572,1486.45 510.872,1486.45 510.872,100.472 472.572,100.472 \"/>\n",
       "<path clip-path=\"url(#clip642)\" d=\"M510.872 125.039 L510.872 1486.45 L549.173 1486.45 L549.173 125.039 L510.872 125.039 L510.872 125.039  Z\" fill=\"#8be9fd\" fill-rule=\"evenodd\" fill-opacity=\"1\"/>\n",
       "<polyline clip-path=\"url(#clip642)\" style=\"stroke:#f8f8f2; stroke-linecap:round; stroke-linejoin:round; stroke-width:4; stroke-opacity:1; fill:none\" points=\"510.872,125.039 510.872,1486.45 549.173,1486.45 549.173,125.039 510.872,125.039 \"/>\n",
       "<path clip-path=\"url(#clip642)\" d=\"M549.173 123.674 L549.173 1486.45 L587.474 1486.45 L587.474 123.674 L549.173 123.674 L549.173 123.674  Z\" fill=\"#8be9fd\" fill-rule=\"evenodd\" fill-opacity=\"1\"/>\n",
       "<polyline clip-path=\"url(#clip642)\" style=\"stroke:#f8f8f2; stroke-linecap:round; stroke-linejoin:round; stroke-width:4; stroke-opacity:1; fill:none\" points=\"549.173,123.674 549.173,1486.45 587.474,1486.45 587.474,123.674 549.173,123.674 \"/>\n",
       "<path clip-path=\"url(#clip642)\" d=\"M587.474 138.687 L587.474 1486.45 L625.775 1486.45 L625.775 138.687 L587.474 138.687 L587.474 138.687  Z\" fill=\"#8be9fd\" fill-rule=\"evenodd\" fill-opacity=\"1\"/>\n",
       "<polyline clip-path=\"url(#clip642)\" style=\"stroke:#f8f8f2; stroke-linecap:round; stroke-linejoin:round; stroke-width:4; stroke-opacity:1; fill:none\" points=\"587.474,138.687 587.474,1486.45 625.775,1486.45 625.775,138.687 587.474,138.687 \"/>\n",
       "<path clip-path=\"url(#clip642)\" d=\"M625.775 125.039 L625.775 1486.45 L664.075 1486.45 L664.075 125.039 L625.775 125.039 L625.775 125.039  Z\" fill=\"#8be9fd\" fill-rule=\"evenodd\" fill-opacity=\"1\"/>\n",
       "<polyline clip-path=\"url(#clip642)\" style=\"stroke:#f8f8f2; stroke-linecap:round; stroke-linejoin:round; stroke-width:4; stroke-opacity:1; fill:none\" points=\"625.775,125.039 625.775,1486.45 664.075,1486.45 664.075,125.039 625.775,125.039 \"/>\n",
       "<path clip-path=\"url(#clip642)\" d=\"M664.075 119.58 L664.075 1486.45 L702.376 1486.45 L702.376 119.58 L664.075 119.58 L664.075 119.58  Z\" fill=\"#8be9fd\" fill-rule=\"evenodd\" fill-opacity=\"1\"/>\n",
       "<polyline clip-path=\"url(#clip642)\" style=\"stroke:#f8f8f2; stroke-linecap:round; stroke-linejoin:round; stroke-width:4; stroke-opacity:1; fill:none\" points=\"664.075,119.58 664.075,1486.45 702.376,1486.45 702.376,119.58 664.075,119.58 \"/>\n",
       "<path clip-path=\"url(#clip642)\" d=\"M702.376 111.391 L702.376 1486.45 L740.677 1486.45 L740.677 111.391 L702.376 111.391 L702.376 111.391  Z\" fill=\"#8be9fd\" fill-rule=\"evenodd\" fill-opacity=\"1\"/>\n",
       "<polyline clip-path=\"url(#clip642)\" style=\"stroke:#f8f8f2; stroke-linecap:round; stroke-linejoin:round; stroke-width:4; stroke-opacity:1; fill:none\" points=\"702.376,111.391 702.376,1486.45 740.677,1486.45 740.677,111.391 702.376,111.391 \"/>\n",
       "<path clip-path=\"url(#clip642)\" d=\"M740.677 116.85 L740.677 1486.45 L778.978 1486.45 L778.978 116.85 L740.677 116.85 L740.677 116.85  Z\" fill=\"#8be9fd\" fill-rule=\"evenodd\" fill-opacity=\"1\"/>\n",
       "<polyline clip-path=\"url(#clip642)\" style=\"stroke:#f8f8f2; stroke-linecap:round; stroke-linejoin:round; stroke-width:4; stroke-opacity:1; fill:none\" points=\"740.677,116.85 740.677,1486.45 778.978,1486.45 778.978,116.85 740.677,116.85 \"/>\n",
       "<path clip-path=\"url(#clip642)\" d=\"M778.978 148.241 L778.978 1486.45 L817.278 1486.45 L817.278 148.241 L778.978 148.241 L778.978 148.241  Z\" fill=\"#8be9fd\" fill-rule=\"evenodd\" fill-opacity=\"1\"/>\n",
       "<polyline clip-path=\"url(#clip642)\" style=\"stroke:#f8f8f2; stroke-linecap:round; stroke-linejoin:round; stroke-width:4; stroke-opacity:1; fill:none\" points=\"778.978,148.241 778.978,1486.45 817.278,1486.45 817.278,148.241 778.978,148.241 \"/>\n",
       "<path clip-path=\"url(#clip642)\" d=\"M817.278 92.9656 L817.278 1486.45 L855.579 1486.45 L855.579 92.9656 L817.278 92.9656 L817.278 92.9656  Z\" fill=\"#8be9fd\" fill-rule=\"evenodd\" fill-opacity=\"1\"/>\n",
       "<polyline clip-path=\"url(#clip642)\" style=\"stroke:#f8f8f2; stroke-linecap:round; stroke-linejoin:round; stroke-width:4; stroke-opacity:1; fill:none\" points=\"817.278,92.9656 817.278,1486.45 855.579,1486.45 855.579,92.9656 817.278,92.9656 \"/>\n",
       "<path clip-path=\"url(#clip642)\" d=\"M855.579 170.078 L855.579 1486.45 L893.88 1486.45 L893.88 170.078 L855.579 170.078 L855.579 170.078  Z\" fill=\"#8be9fd\" fill-rule=\"evenodd\" fill-opacity=\"1\"/>\n",
       "<polyline clip-path=\"url(#clip642)\" style=\"stroke:#f8f8f2; stroke-linecap:round; stroke-linejoin:round; stroke-width:4; stroke-opacity:1; fill:none\" points=\"855.579,170.078 855.579,1486.45 893.88,1486.45 893.88,170.078 855.579,170.078 \"/>\n",
       "<path clip-path=\"url(#clip642)\" d=\"M893.88 105.931 L893.88 1486.45 L932.181 1486.45 L932.181 105.931 L893.88 105.931 L893.88 105.931  Z\" fill=\"#8be9fd\" fill-rule=\"evenodd\" fill-opacity=\"1\"/>\n",
       "<polyline clip-path=\"url(#clip642)\" style=\"stroke:#f8f8f2; stroke-linecap:round; stroke-linejoin:round; stroke-width:4; stroke-opacity:1; fill:none\" points=\"893.88,105.931 893.88,1486.45 932.181,1486.45 932.181,105.931 893.88,105.931 \"/>\n",
       "<path clip-path=\"url(#clip642)\" d=\"M932.181 119.58 L932.181 1486.45 L970.482 1486.45 L970.482 119.58 L932.181 119.58 L932.181 119.58  Z\" fill=\"#8be9fd\" fill-rule=\"evenodd\" fill-opacity=\"1\"/>\n",
       "<polyline clip-path=\"url(#clip642)\" style=\"stroke:#f8f8f2; stroke-linecap:round; stroke-linejoin:round; stroke-width:4; stroke-opacity:1; fill:none\" points=\"932.181,119.58 932.181,1486.45 970.482,1486.45 970.482,119.58 932.181,119.58 \"/>\n",
       "<path clip-path=\"url(#clip642)\" d=\"M970.482 90.9184 L970.482 1486.45 L1008.78 1486.45 L1008.78 90.9184 L970.482 90.9184 L970.482 90.9184  Z\" fill=\"#8be9fd\" fill-rule=\"evenodd\" fill-opacity=\"1\"/>\n",
       "<polyline clip-path=\"url(#clip642)\" style=\"stroke:#f8f8f2; stroke-linecap:round; stroke-linejoin:round; stroke-width:4; stroke-opacity:1; fill:none\" points=\"970.482,90.9184 970.482,1486.45 1008.78,1486.45 1008.78,90.9184 970.482,90.9184 \"/>\n",
       "<path clip-path=\"url(#clip642)\" d=\"M1008.78 171.443 L1008.78 1486.45 L1047.08 1486.45 L1047.08 171.443 L1008.78 171.443 L1008.78 171.443  Z\" fill=\"#8be9fd\" fill-rule=\"evenodd\" fill-opacity=\"1\"/>\n",
       "<polyline clip-path=\"url(#clip642)\" style=\"stroke:#f8f8f2; stroke-linecap:round; stroke-linejoin:round; stroke-width:4; stroke-opacity:1; fill:none\" points=\"1008.78,171.443 1008.78,1486.45 1047.08,1486.45 1047.08,171.443 1008.78,171.443 \"/>\n",
       "<path clip-path=\"url(#clip642)\" d=\"M1047.08 180.997 L1047.08 1486.45 L1085.38 1486.45 L1085.38 180.997 L1047.08 180.997 L1047.08 180.997  Z\" fill=\"#8be9fd\" fill-rule=\"evenodd\" fill-opacity=\"1\"/>\n",
       "<polyline clip-path=\"url(#clip642)\" style=\"stroke:#f8f8f2; stroke-linecap:round; stroke-linejoin:round; stroke-width:4; stroke-opacity:1; fill:none\" points=\"1047.08,180.997 1047.08,1486.45 1085.38,1486.45 1085.38,180.997 1047.08,180.997 \"/>\n",
       "<path clip-path=\"url(#clip642)\" d=\"M1085.38 97.0601 L1085.38 1486.45 L1123.68 1486.45 L1123.68 97.0601 L1085.38 97.0601 L1085.38 97.0601  Z\" fill=\"#8be9fd\" fill-rule=\"evenodd\" fill-opacity=\"1\"/>\n",
       "<polyline clip-path=\"url(#clip642)\" style=\"stroke:#f8f8f2; stroke-linecap:round; stroke-linejoin:round; stroke-width:4; stroke-opacity:1; fill:none\" points=\"1085.38,97.0601 1085.38,1486.45 1123.68,1486.45 1123.68,97.0601 1085.38,97.0601 \"/>\n",
       "<path clip-path=\"url(#clip642)\" d=\"M1123.68 115.485 L1123.68 1486.45 L1161.99 1486.45 L1161.99 115.485 L1123.68 115.485 L1123.68 115.485  Z\" fill=\"#8be9fd\" fill-rule=\"evenodd\" fill-opacity=\"1\"/>\n",
       "<polyline clip-path=\"url(#clip642)\" style=\"stroke:#f8f8f2; stroke-linecap:round; stroke-linejoin:round; stroke-width:4; stroke-opacity:1; fill:none\" points=\"1123.68,115.485 1123.68,1486.45 1161.99,1486.45 1161.99,115.485 1123.68,115.485 \"/>\n",
       "<path clip-path=\"url(#clip642)\" d=\"M1161.99 199.422 L1161.99 1486.45 L1200.29 1486.45 L1200.29 199.422 L1161.99 199.422 L1161.99 199.422  Z\" fill=\"#8be9fd\" fill-rule=\"evenodd\" fill-opacity=\"1\"/>\n",
       "<polyline clip-path=\"url(#clip642)\" style=\"stroke:#f8f8f2; stroke-linecap:round; stroke-linejoin:round; stroke-width:4; stroke-opacity:1; fill:none\" points=\"1161.99,199.422 1161.99,1486.45 1200.29,1486.45 1200.29,199.422 1161.99,199.422 \"/>\n",
       "<path clip-path=\"url(#clip642)\" d=\"M1200.29 93.648 L1200.29 1486.45 L1238.59 1486.45 L1238.59 93.648 L1200.29 93.648 L1200.29 93.648  Z\" fill=\"#8be9fd\" fill-rule=\"evenodd\" fill-opacity=\"1\"/>\n",
       "<polyline clip-path=\"url(#clip642)\" style=\"stroke:#f8f8f2; stroke-linecap:round; stroke-linejoin:round; stroke-width:4; stroke-opacity:1; fill:none\" points=\"1200.29,93.648 1200.29,1486.45 1238.59,1486.45 1238.59,93.648 1200.29,93.648 \"/>\n",
       "<path clip-path=\"url(#clip642)\" d=\"M1238.59 143.464 L1238.59 1486.45 L1276.89 1486.45 L1276.89 143.464 L1238.59 143.464 L1238.59 143.464  Z\" fill=\"#8be9fd\" fill-rule=\"evenodd\" fill-opacity=\"1\"/>\n",
       "<polyline clip-path=\"url(#clip642)\" style=\"stroke:#f8f8f2; stroke-linecap:round; stroke-linejoin:round; stroke-width:4; stroke-opacity:1; fill:none\" points=\"1238.59,143.464 1238.59,1486.45 1276.89,1486.45 1276.89,143.464 1238.59,143.464 \"/>\n",
       "<path clip-path=\"url(#clip642)\" d=\"M1276.89 152.335 L1276.89 1486.45 L1315.19 1486.45 L1315.19 152.335 L1276.89 152.335 L1276.89 152.335  Z\" fill=\"#8be9fd\" fill-rule=\"evenodd\" fill-opacity=\"1\"/>\n",
       "<polyline clip-path=\"url(#clip642)\" style=\"stroke:#f8f8f2; stroke-linecap:round; stroke-linejoin:round; stroke-width:4; stroke-opacity:1; fill:none\" points=\"1276.89,152.335 1276.89,1486.45 1315.19,1486.45 1315.19,152.335 1276.89,152.335 \"/>\n",
       "<path clip-path=\"url(#clip642)\" d=\"M1315.19 116.168 L1315.19 1486.45 L1353.49 1486.45 L1353.49 116.168 L1315.19 116.168 L1315.19 116.168  Z\" fill=\"#8be9fd\" fill-rule=\"evenodd\" fill-opacity=\"1\"/>\n",
       "<polyline clip-path=\"url(#clip642)\" style=\"stroke:#f8f8f2; stroke-linecap:round; stroke-linejoin:round; stroke-width:4; stroke-opacity:1; fill:none\" points=\"1315.19,116.168 1315.19,1486.45 1353.49,1486.45 1353.49,116.168 1315.19,116.168 \"/>\n",
       "<path clip-path=\"url(#clip642)\" d=\"M1353.49 152.335 L1353.49 1486.45 L1391.79 1486.45 L1391.79 152.335 L1353.49 152.335 L1353.49 152.335  Z\" fill=\"#8be9fd\" fill-rule=\"evenodd\" fill-opacity=\"1\"/>\n",
       "<polyline clip-path=\"url(#clip642)\" style=\"stroke:#f8f8f2; stroke-linecap:round; stroke-linejoin:round; stroke-width:4; stroke-opacity:1; fill:none\" points=\"1353.49,152.335 1353.49,1486.45 1391.79,1486.45 1391.79,152.335 1353.49,152.335 \"/>\n",
       "<path clip-path=\"url(#clip642)\" d=\"M1391.79 172.808 L1391.79 1486.45 L1430.09 1486.45 L1430.09 172.808 L1391.79 172.808 L1391.79 172.808  Z\" fill=\"#8be9fd\" fill-rule=\"evenodd\" fill-opacity=\"1\"/>\n",
       "<polyline clip-path=\"url(#clip642)\" style=\"stroke:#f8f8f2; stroke-linecap:round; stroke-linejoin:round; stroke-width:4; stroke-opacity:1; fill:none\" points=\"1391.79,172.808 1391.79,1486.45 1430.09,1486.45 1430.09,172.808 1391.79,172.808 \"/>\n",
       "<path clip-path=\"url(#clip642)\" d=\"M1430.09 83.4119 L1430.09 1486.45 L1468.39 1486.45 L1468.39 83.4119 L1430.09 83.4119 L1430.09 83.4119  Z\" fill=\"#8be9fd\" fill-rule=\"evenodd\" fill-opacity=\"1\"/>\n",
       "<polyline clip-path=\"url(#clip642)\" style=\"stroke:#f8f8f2; stroke-linecap:round; stroke-linejoin:round; stroke-width:4; stroke-opacity:1; fill:none\" points=\"1430.09,83.4119 1430.09,1486.45 1468.39,1486.45 1468.39,83.4119 1430.09,83.4119 \"/>\n",
       "<path clip-path=\"url(#clip642)\" d=\"M1468.39 158.477 L1468.39 1486.45 L1506.69 1486.45 L1506.69 158.477 L1468.39 158.477 L1468.39 158.477  Z\" fill=\"#8be9fd\" fill-rule=\"evenodd\" fill-opacity=\"1\"/>\n",
       "<polyline clip-path=\"url(#clip642)\" style=\"stroke:#f8f8f2; stroke-linecap:round; stroke-linejoin:round; stroke-width:4; stroke-opacity:1; fill:none\" points=\"1468.39,158.477 1468.39,1486.45 1506.69,1486.45 1506.69,158.477 1468.39,158.477 \"/>\n",
       "<path clip-path=\"url(#clip642)\" d=\"M1506.69 47.2441 L1506.69 1486.45 L1544.99 1486.45 L1544.99 47.2441 L1506.69 47.2441 L1506.69 47.2441  Z\" fill=\"#8be9fd\" fill-rule=\"evenodd\" fill-opacity=\"1\"/>\n",
       "<polyline clip-path=\"url(#clip642)\" style=\"stroke:#f8f8f2; stroke-linecap:round; stroke-linejoin:round; stroke-width:4; stroke-opacity:1; fill:none\" points=\"1506.69,47.2441 1506.69,1486.45 1544.99,1486.45 1544.99,47.2441 1506.69,47.2441 \"/>\n",
       "<path clip-path=\"url(#clip642)\" d=\"M1544.99 100.472 L1544.99 1486.45 L1583.29 1486.45 L1583.29 100.472 L1544.99 100.472 L1544.99 100.472  Z\" fill=\"#8be9fd\" fill-rule=\"evenodd\" fill-opacity=\"1\"/>\n",
       "<polyline clip-path=\"url(#clip642)\" style=\"stroke:#f8f8f2; stroke-linecap:round; stroke-linejoin:round; stroke-width:4; stroke-opacity:1; fill:none\" points=\"1544.99,100.472 1544.99,1486.45 1583.29,1486.45 1583.29,100.472 1544.99,100.472 \"/>\n",
       "<path clip-path=\"url(#clip642)\" d=\"M1583.29 217.847 L1583.29 1486.45 L1621.59 1486.45 L1621.59 217.847 L1583.29 217.847 L1583.29 217.847  Z\" fill=\"#8be9fd\" fill-rule=\"evenodd\" fill-opacity=\"1\"/>\n",
       "<polyline clip-path=\"url(#clip642)\" style=\"stroke:#f8f8f2; stroke-linecap:round; stroke-linejoin:round; stroke-width:4; stroke-opacity:1; fill:none\" points=\"1583.29,217.847 1583.29,1486.45 1621.59,1486.45 1621.59,217.847 1583.29,217.847 \"/>\n",
       "<path clip-path=\"url(#clip642)\" d=\"M1621.59 114.803 L1621.59 1486.45 L1659.9 1486.45 L1659.9 114.803 L1621.59 114.803 L1621.59 114.803  Z\" fill=\"#8be9fd\" fill-rule=\"evenodd\" fill-opacity=\"1\"/>\n",
       "<polyline clip-path=\"url(#clip642)\" style=\"stroke:#f8f8f2; stroke-linecap:round; stroke-linejoin:round; stroke-width:4; stroke-opacity:1; fill:none\" points=\"1621.59,114.803 1621.59,1486.45 1659.9,1486.45 1659.9,114.803 1621.59,114.803 \"/>\n",
       "<path clip-path=\"url(#clip642)\" d=\"M1659.9 117.532 L1659.9 1486.45 L1698.2 1486.45 L1698.2 117.532 L1659.9 117.532 L1659.9 117.532  Z\" fill=\"#8be9fd\" fill-rule=\"evenodd\" fill-opacity=\"1\"/>\n",
       "<polyline clip-path=\"url(#clip642)\" style=\"stroke:#f8f8f2; stroke-linecap:round; stroke-linejoin:round; stroke-width:4; stroke-opacity:1; fill:none\" points=\"1659.9,117.532 1659.9,1486.45 1698.2,1486.45 1698.2,117.532 1659.9,117.532 \"/>\n",
       "<path clip-path=\"url(#clip642)\" d=\"M1698.2 82.7294 L1698.2 1486.45 L1736.5 1486.45 L1736.5 82.7294 L1698.2 82.7294 L1698.2 82.7294  Z\" fill=\"#8be9fd\" fill-rule=\"evenodd\" fill-opacity=\"1\"/>\n",
       "<polyline clip-path=\"url(#clip642)\" style=\"stroke:#f8f8f2; stroke-linecap:round; stroke-linejoin:round; stroke-width:4; stroke-opacity:1; fill:none\" points=\"1698.2,82.7294 1698.2,1486.45 1736.5,1486.45 1736.5,82.7294 1698.2,82.7294 \"/>\n",
       "<path clip-path=\"url(#clip642)\" d=\"M1736.5 119.58 L1736.5 1486.45 L1774.8 1486.45 L1774.8 119.58 L1736.5 119.58 L1736.5 119.58  Z\" fill=\"#8be9fd\" fill-rule=\"evenodd\" fill-opacity=\"1\"/>\n",
       "<polyline clip-path=\"url(#clip642)\" style=\"stroke:#f8f8f2; stroke-linecap:round; stroke-linejoin:round; stroke-width:4; stroke-opacity:1; fill:none\" points=\"1736.5,119.58 1736.5,1486.45 1774.8,1486.45 1774.8,119.58 1736.5,119.58 \"/>\n",
       "<path clip-path=\"url(#clip642)\" d=\"M1774.8 171.443 L1774.8 1486.45 L1813.1 1486.45 L1813.1 171.443 L1774.8 171.443 L1774.8 171.443  Z\" fill=\"#8be9fd\" fill-rule=\"evenodd\" fill-opacity=\"1\"/>\n",
       "<polyline clip-path=\"url(#clip642)\" style=\"stroke:#f8f8f2; stroke-linecap:round; stroke-linejoin:round; stroke-width:4; stroke-opacity:1; fill:none\" points=\"1774.8,171.443 1774.8,1486.45 1813.1,1486.45 1813.1,171.443 1774.8,171.443 \"/>\n",
       "<path clip-path=\"url(#clip642)\" d=\"M1813.1 79.9998 L1813.1 1486.45 L1851.4 1486.45 L1851.4 79.9998 L1813.1 79.9998 L1813.1 79.9998  Z\" fill=\"#8be9fd\" fill-rule=\"evenodd\" fill-opacity=\"1\"/>\n",
       "<polyline clip-path=\"url(#clip642)\" style=\"stroke:#f8f8f2; stroke-linecap:round; stroke-linejoin:round; stroke-width:4; stroke-opacity:1; fill:none\" points=\"1813.1,79.9998 1813.1,1486.45 1851.4,1486.45 1851.4,79.9998 1813.1,79.9998 \"/>\n",
       "<path clip-path=\"url(#clip642)\" d=\"M1851.4 144.829 L1851.4 1486.45 L1889.7 1486.45 L1889.7 144.829 L1851.4 144.829 L1851.4 144.829  Z\" fill=\"#8be9fd\" fill-rule=\"evenodd\" fill-opacity=\"1\"/>\n",
       "<polyline clip-path=\"url(#clip642)\" style=\"stroke:#f8f8f2; stroke-linecap:round; stroke-linejoin:round; stroke-width:4; stroke-opacity:1; fill:none\" points=\"1851.4,144.829 1851.4,1486.45 1889.7,1486.45 1889.7,144.829 1851.4,144.829 \"/>\n",
       "<path clip-path=\"url(#clip642)\" d=\"M1889.7 81.3646 L1889.7 1486.45 L1928 1486.45 L1928 81.3646 L1889.7 81.3646 L1889.7 81.3646  Z\" fill=\"#8be9fd\" fill-rule=\"evenodd\" fill-opacity=\"1\"/>\n",
       "<polyline clip-path=\"url(#clip642)\" style=\"stroke:#f8f8f2; stroke-linecap:round; stroke-linejoin:round; stroke-width:4; stroke-opacity:1; fill:none\" points=\"1889.7,81.3646 1889.7,1486.45 1928,1486.45 1928,81.3646 1889.7,81.3646 \"/>\n",
       "<path clip-path=\"url(#clip642)\" d=\"M1928 127.769 L1928 1486.45 L1966.3 1486.45 L1966.3 127.769 L1928 127.769 L1928 127.769  Z\" fill=\"#8be9fd\" fill-rule=\"evenodd\" fill-opacity=\"1\"/>\n",
       "<polyline clip-path=\"url(#clip642)\" style=\"stroke:#f8f8f2; stroke-linecap:round; stroke-linejoin:round; stroke-width:4; stroke-opacity:1; fill:none\" points=\"1928,127.769 1928,1486.45 1966.3,1486.45 1966.3,127.769 1928,127.769 \"/>\n",
       "<path clip-path=\"url(#clip642)\" d=\"M1966.3 107.979 L1966.3 1486.45 L2004.6 1486.45 L2004.6 107.979 L1966.3 107.979 L1966.3 107.979  Z\" fill=\"#8be9fd\" fill-rule=\"evenodd\" fill-opacity=\"1\"/>\n",
       "<polyline clip-path=\"url(#clip642)\" style=\"stroke:#f8f8f2; stroke-linecap:round; stroke-linejoin:round; stroke-width:4; stroke-opacity:1; fill:none\" points=\"1966.3,107.979 1966.3,1486.45 2004.6,1486.45 2004.6,107.979 1966.3,107.979 \"/>\n",
       "<path clip-path=\"url(#clip642)\" d=\"M2004.6 77.9526 L2004.6 1486.45 L2042.9 1486.45 L2042.9 77.9526 L2004.6 77.9526 L2004.6 77.9526  Z\" fill=\"#8be9fd\" fill-rule=\"evenodd\" fill-opacity=\"1\"/>\n",
       "<polyline clip-path=\"url(#clip642)\" style=\"stroke:#f8f8f2; stroke-linecap:round; stroke-linejoin:round; stroke-width:4; stroke-opacity:1; fill:none\" points=\"2004.6,77.9526 2004.6,1486.45 2042.9,1486.45 2042.9,77.9526 2004.6,77.9526 \"/>\n",
       "<path clip-path=\"url(#clip642)\" d=\"M2042.9 90.9184 L2042.9 1486.45 L2081.2 1486.45 L2081.2 90.9184 L2042.9 90.9184 L2042.9 90.9184  Z\" fill=\"#8be9fd\" fill-rule=\"evenodd\" fill-opacity=\"1\"/>\n",
       "<polyline clip-path=\"url(#clip642)\" style=\"stroke:#f8f8f2; stroke-linecap:round; stroke-linejoin:round; stroke-width:4; stroke-opacity:1; fill:none\" points=\"2042.9,90.9184 2042.9,1486.45 2081.2,1486.45 2081.2,90.9184 2042.9,90.9184 \"/>\n",
       "<path clip-path=\"url(#clip642)\" d=\"M2081.2 109.343 L2081.2 1486.45 L2119.5 1486.45 L2119.5 109.343 L2081.2 109.343 L2081.2 109.343  Z\" fill=\"#8be9fd\" fill-rule=\"evenodd\" fill-opacity=\"1\"/>\n",
       "<polyline clip-path=\"url(#clip642)\" style=\"stroke:#f8f8f2; stroke-linecap:round; stroke-linejoin:round; stroke-width:4; stroke-opacity:1; fill:none\" points=\"2081.2,109.343 2081.2,1486.45 2119.5,1486.45 2119.5,109.343 2081.2,109.343 \"/>\n",
       "<path clip-path=\"url(#clip642)\" d=\"M2119.5 71.8109 L2119.5 1486.45 L2157.81 1486.45 L2157.81 71.8109 L2119.5 71.8109 L2119.5 71.8109  Z\" fill=\"#8be9fd\" fill-rule=\"evenodd\" fill-opacity=\"1\"/>\n",
       "<polyline clip-path=\"url(#clip642)\" style=\"stroke:#f8f8f2; stroke-linecap:round; stroke-linejoin:round; stroke-width:4; stroke-opacity:1; fill:none\" points=\"2119.5,71.8109 2119.5,1486.45 2157.81,1486.45 2157.81,71.8109 2119.5,71.8109 \"/>\n",
       "<path clip-path=\"url(#clip642)\" d=\"M2157.81 117.532 L2157.81 1486.45 L2196.11 1486.45 L2196.11 117.532 L2157.81 117.532 L2157.81 117.532  Z\" fill=\"#8be9fd\" fill-rule=\"evenodd\" fill-opacity=\"1\"/>\n",
       "<polyline clip-path=\"url(#clip642)\" style=\"stroke:#f8f8f2; stroke-linecap:round; stroke-linejoin:round; stroke-width:4; stroke-opacity:1; fill:none\" points=\"2157.81,117.532 2157.81,1486.45 2196.11,1486.45 2196.11,117.532 2157.81,117.532 \"/>\n",
       "<path clip-path=\"url(#clip642)\" d=\"M2196.11 96.3777 L2196.11 1486.45 L2234.41 1486.45 L2234.41 96.3777 L2196.11 96.3777 L2196.11 96.3777  Z\" fill=\"#8be9fd\" fill-rule=\"evenodd\" fill-opacity=\"1\"/>\n",
       "<polyline clip-path=\"url(#clip642)\" style=\"stroke:#f8f8f2; stroke-linecap:round; stroke-linejoin:round; stroke-width:4; stroke-opacity:1; fill:none\" points=\"2196.11,96.3777 2196.11,1486.45 2234.41,1486.45 2234.41,96.3777 2196.11,96.3777 \"/>\n",
       "<circle clip-path=\"url(#clip642)\" style=\"fill:#8be9fd; stroke:none; fill-opacity:0\" cx=\"338.519\" cy=\"161.207\" r=\"2\"/>\n",
       "<circle clip-path=\"url(#clip642)\" style=\"fill:#8be9fd; stroke:none; fill-opacity:0\" cx=\"376.82\" cy=\"152.335\" r=\"2\"/>\n",
       "<circle clip-path=\"url(#clip642)\" style=\"fill:#8be9fd; stroke:none; fill-opacity:0\" cx=\"415.121\" cy=\"93.648\" r=\"2\"/>\n",
       "<circle clip-path=\"url(#clip642)\" style=\"fill:#8be9fd; stroke:none; fill-opacity:0\" cx=\"453.421\" cy=\"71.1285\" r=\"2\"/>\n",
       "<circle clip-path=\"url(#clip642)\" style=\"fill:#8be9fd; stroke:none; fill-opacity:0\" cx=\"491.722\" cy=\"100.472\" r=\"2\"/>\n",
       "<circle clip-path=\"url(#clip642)\" style=\"fill:#8be9fd; stroke:none; fill-opacity:0\" cx=\"530.023\" cy=\"125.039\" r=\"2\"/>\n",
       "<circle clip-path=\"url(#clip642)\" style=\"fill:#8be9fd; stroke:none; fill-opacity:0\" cx=\"568.324\" cy=\"123.674\" r=\"2\"/>\n",
       "<circle clip-path=\"url(#clip642)\" style=\"fill:#8be9fd; stroke:none; fill-opacity:0\" cx=\"606.624\" cy=\"138.687\" r=\"2\"/>\n",
       "<circle clip-path=\"url(#clip642)\" style=\"fill:#8be9fd; stroke:none; fill-opacity:0\" cx=\"644.925\" cy=\"125.039\" r=\"2\"/>\n",
       "<circle clip-path=\"url(#clip642)\" style=\"fill:#8be9fd; stroke:none; fill-opacity:0\" cx=\"683.226\" cy=\"119.58\" r=\"2\"/>\n",
       "<circle clip-path=\"url(#clip642)\" style=\"fill:#8be9fd; stroke:none; fill-opacity:0\" cx=\"721.527\" cy=\"111.391\" r=\"2\"/>\n",
       "<circle clip-path=\"url(#clip642)\" style=\"fill:#8be9fd; stroke:none; fill-opacity:0\" cx=\"759.827\" cy=\"116.85\" r=\"2\"/>\n",
       "<circle clip-path=\"url(#clip642)\" style=\"fill:#8be9fd; stroke:none; fill-opacity:0\" cx=\"798.128\" cy=\"148.241\" r=\"2\"/>\n",
       "<circle clip-path=\"url(#clip642)\" style=\"fill:#8be9fd; stroke:none; fill-opacity:0\" cx=\"836.429\" cy=\"92.9656\" r=\"2\"/>\n",
       "<circle clip-path=\"url(#clip642)\" style=\"fill:#8be9fd; stroke:none; fill-opacity:0\" cx=\"874.73\" cy=\"170.078\" r=\"2\"/>\n",
       "<circle clip-path=\"url(#clip642)\" style=\"fill:#8be9fd; stroke:none; fill-opacity:0\" cx=\"913.03\" cy=\"105.931\" r=\"2\"/>\n",
       "<circle clip-path=\"url(#clip642)\" style=\"fill:#8be9fd; stroke:none; fill-opacity:0\" cx=\"951.331\" cy=\"119.58\" r=\"2\"/>\n",
       "<circle clip-path=\"url(#clip642)\" style=\"fill:#8be9fd; stroke:none; fill-opacity:0\" cx=\"989.632\" cy=\"90.9184\" r=\"2\"/>\n",
       "<circle clip-path=\"url(#clip642)\" style=\"fill:#8be9fd; stroke:none; fill-opacity:0\" cx=\"1027.93\" cy=\"171.443\" r=\"2\"/>\n",
       "<circle clip-path=\"url(#clip642)\" style=\"fill:#8be9fd; stroke:none; fill-opacity:0\" cx=\"1066.23\" cy=\"180.997\" r=\"2\"/>\n",
       "<circle clip-path=\"url(#clip642)\" style=\"fill:#8be9fd; stroke:none; fill-opacity:0\" cx=\"1104.53\" cy=\"97.0601\" r=\"2\"/>\n",
       "<circle clip-path=\"url(#clip642)\" style=\"fill:#8be9fd; stroke:none; fill-opacity:0\" cx=\"1142.83\" cy=\"115.485\" r=\"2\"/>\n",
       "<circle clip-path=\"url(#clip642)\" style=\"fill:#8be9fd; stroke:none; fill-opacity:0\" cx=\"1181.14\" cy=\"199.422\" r=\"2\"/>\n",
       "<circle clip-path=\"url(#clip642)\" style=\"fill:#8be9fd; stroke:none; fill-opacity:0\" cx=\"1219.44\" cy=\"93.648\" r=\"2\"/>\n",
       "<circle clip-path=\"url(#clip642)\" style=\"fill:#8be9fd; stroke:none; fill-opacity:0\" cx=\"1257.74\" cy=\"143.464\" r=\"2\"/>\n",
       "<circle clip-path=\"url(#clip642)\" style=\"fill:#8be9fd; stroke:none; fill-opacity:0\" cx=\"1296.04\" cy=\"152.335\" r=\"2\"/>\n",
       "<circle clip-path=\"url(#clip642)\" style=\"fill:#8be9fd; stroke:none; fill-opacity:0\" cx=\"1334.34\" cy=\"116.168\" r=\"2\"/>\n",
       "<circle clip-path=\"url(#clip642)\" style=\"fill:#8be9fd; stroke:none; fill-opacity:0\" cx=\"1372.64\" cy=\"152.335\" r=\"2\"/>\n",
       "<circle clip-path=\"url(#clip642)\" style=\"fill:#8be9fd; stroke:none; fill-opacity:0\" cx=\"1410.94\" cy=\"172.808\" r=\"2\"/>\n",
       "<circle clip-path=\"url(#clip642)\" style=\"fill:#8be9fd; stroke:none; fill-opacity:0\" cx=\"1449.24\" cy=\"83.4119\" r=\"2\"/>\n",
       "<circle clip-path=\"url(#clip642)\" style=\"fill:#8be9fd; stroke:none; fill-opacity:0\" cx=\"1487.54\" cy=\"158.477\" r=\"2\"/>\n",
       "<circle clip-path=\"url(#clip642)\" style=\"fill:#8be9fd; stroke:none; fill-opacity:0\" cx=\"1525.84\" cy=\"47.2441\" r=\"2\"/>\n",
       "<circle clip-path=\"url(#clip642)\" style=\"fill:#8be9fd; stroke:none; fill-opacity:0\" cx=\"1564.14\" cy=\"100.472\" r=\"2\"/>\n",
       "<circle clip-path=\"url(#clip642)\" style=\"fill:#8be9fd; stroke:none; fill-opacity:0\" cx=\"1602.44\" cy=\"217.847\" r=\"2\"/>\n",
       "<circle clip-path=\"url(#clip642)\" style=\"fill:#8be9fd; stroke:none; fill-opacity:0\" cx=\"1640.74\" cy=\"114.803\" r=\"2\"/>\n",
       "<circle clip-path=\"url(#clip642)\" style=\"fill:#8be9fd; stroke:none; fill-opacity:0\" cx=\"1679.05\" cy=\"117.532\" r=\"2\"/>\n",
       "<circle clip-path=\"url(#clip642)\" style=\"fill:#8be9fd; stroke:none; fill-opacity:0\" cx=\"1717.35\" cy=\"82.7294\" r=\"2\"/>\n",
       "<circle clip-path=\"url(#clip642)\" style=\"fill:#8be9fd; stroke:none; fill-opacity:0\" cx=\"1755.65\" cy=\"119.58\" r=\"2\"/>\n",
       "<circle clip-path=\"url(#clip642)\" style=\"fill:#8be9fd; stroke:none; fill-opacity:0\" cx=\"1793.95\" cy=\"171.443\" r=\"2\"/>\n",
       "<circle clip-path=\"url(#clip642)\" style=\"fill:#8be9fd; stroke:none; fill-opacity:0\" cx=\"1832.25\" cy=\"79.9998\" r=\"2\"/>\n",
       "<circle clip-path=\"url(#clip642)\" style=\"fill:#8be9fd; stroke:none; fill-opacity:0\" cx=\"1870.55\" cy=\"144.829\" r=\"2\"/>\n",
       "<circle clip-path=\"url(#clip642)\" style=\"fill:#8be9fd; stroke:none; fill-opacity:0\" cx=\"1908.85\" cy=\"81.3646\" r=\"2\"/>\n",
       "<circle clip-path=\"url(#clip642)\" style=\"fill:#8be9fd; stroke:none; fill-opacity:0\" cx=\"1947.15\" cy=\"127.769\" r=\"2\"/>\n",
       "<circle clip-path=\"url(#clip642)\" style=\"fill:#8be9fd; stroke:none; fill-opacity:0\" cx=\"1985.45\" cy=\"107.979\" r=\"2\"/>\n",
       "<circle clip-path=\"url(#clip642)\" style=\"fill:#8be9fd; stroke:none; fill-opacity:0\" cx=\"2023.75\" cy=\"77.9526\" r=\"2\"/>\n",
       "<circle clip-path=\"url(#clip642)\" style=\"fill:#8be9fd; stroke:none; fill-opacity:0\" cx=\"2062.05\" cy=\"90.9184\" r=\"2\"/>\n",
       "<circle clip-path=\"url(#clip642)\" style=\"fill:#8be9fd; stroke:none; fill-opacity:0\" cx=\"2100.35\" cy=\"109.343\" r=\"2\"/>\n",
       "<circle clip-path=\"url(#clip642)\" style=\"fill:#8be9fd; stroke:none; fill-opacity:0\" cx=\"2138.65\" cy=\"71.8109\" r=\"2\"/>\n",
       "<circle clip-path=\"url(#clip642)\" style=\"fill:#8be9fd; stroke:none; fill-opacity:0\" cx=\"2176.96\" cy=\"117.532\" r=\"2\"/>\n",
       "<circle clip-path=\"url(#clip642)\" style=\"fill:#8be9fd; stroke:none; fill-opacity:0\" cx=\"2215.26\" cy=\"96.3777\" r=\"2\"/>\n",
       "</svg>\n"
      ],
      "text/html": [
       "<?xml version=\"1.0\" encoding=\"utf-8\"?>\n",
       "<svg xmlns=\"http://www.w3.org/2000/svg\" xmlns:xlink=\"http://www.w3.org/1999/xlink\" width=\"600\" height=\"400\" viewBox=\"0 0 2400 1600\">\n",
       "<defs>\n",
       "  <clipPath id=\"clip690\">\n",
       "    <rect x=\"0\" y=\"0\" width=\"2400\" height=\"1600\"/>\n",
       "  </clipPath>\n",
       "</defs>\n",
       "<path clip-path=\"url(#clip690)\" d=\"M0 1600 L2400 1600 L2400 0 L0 0  Z\" fill=\"#282a36\" fill-rule=\"evenodd\" fill-opacity=\"1\"/>\n",
       "<defs>\n",
       "  <clipPath id=\"clip691\">\n",
       "    <rect x=\"480\" y=\"0\" width=\"1681\" height=\"1600\"/>\n",
       "  </clipPath>\n",
       "</defs>\n",
       "<path clip-path=\"url(#clip690)\" d=\"M201.019 1486.45 L2352.76 1486.45 L2352.76 47.2441 L201.019 47.2441  Z\" fill=\"#30343b\" fill-rule=\"evenodd\" fill-opacity=\"1\"/>\n",
       "<defs>\n",
       "  <clipPath id=\"clip692\">\n",
       "    <rect x=\"201\" y=\"47\" width=\"2153\" height=\"1440\"/>\n",
       "  </clipPath>\n",
       "</defs>\n",
       "<polyline clip-path=\"url(#clip692)\" style=\"stroke:#f8f8f2; stroke-linecap:round; stroke-linejoin:round; stroke-width:2; stroke-opacity:0.1; fill:none\" points=\"319.369,1486.45 319.369,47.2441 \"/>\n",
       "<polyline clip-path=\"url(#clip692)\" style=\"stroke:#f8f8f2; stroke-linecap:round; stroke-linejoin:round; stroke-width:2; stroke-opacity:0.1; fill:none\" points=\"798.128,1486.45 798.128,47.2441 \"/>\n",
       "<polyline clip-path=\"url(#clip692)\" style=\"stroke:#f8f8f2; stroke-linecap:round; stroke-linejoin:round; stroke-width:2; stroke-opacity:0.1; fill:none\" points=\"1276.89,1486.45 1276.89,47.2441 \"/>\n",
       "<polyline clip-path=\"url(#clip692)\" style=\"stroke:#f8f8f2; stroke-linecap:round; stroke-linejoin:round; stroke-width:2; stroke-opacity:0.1; fill:none\" points=\"1755.65,1486.45 1755.65,47.2441 \"/>\n",
       "<polyline clip-path=\"url(#clip692)\" style=\"stroke:#f8f8f2; stroke-linecap:round; stroke-linejoin:round; stroke-width:2; stroke-opacity:0.1; fill:none\" points=\"2234.41,1486.45 2234.41,47.2441 \"/>\n",
       "<polyline clip-path=\"url(#clip690)\" style=\"stroke:#f8f8f2; stroke-linecap:round; stroke-linejoin:round; stroke-width:4; stroke-opacity:1; fill:none\" points=\"201.019,1486.45 2352.76,1486.45 \"/>\n",
       "<polyline clip-path=\"url(#clip690)\" style=\"stroke:#f8f8f2; stroke-linecap:round; stroke-linejoin:round; stroke-width:4; stroke-opacity:1; fill:none\" points=\"319.369,1486.45 319.369,1467.55 \"/>\n",
       "<polyline clip-path=\"url(#clip690)\" style=\"stroke:#f8f8f2; stroke-linecap:round; stroke-linejoin:round; stroke-width:4; stroke-opacity:1; fill:none\" points=\"798.128,1486.45 798.128,1467.55 \"/>\n",
       "<polyline clip-path=\"url(#clip690)\" style=\"stroke:#f8f8f2; stroke-linecap:round; stroke-linejoin:round; stroke-width:4; stroke-opacity:1; fill:none\" points=\"1276.89,1486.45 1276.89,1467.55 \"/>\n",
       "<polyline clip-path=\"url(#clip690)\" style=\"stroke:#f8f8f2; stroke-linecap:round; stroke-linejoin:round; stroke-width:4; stroke-opacity:1; fill:none\" points=\"1755.65,1486.45 1755.65,1467.55 \"/>\n",
       "<polyline clip-path=\"url(#clip690)\" style=\"stroke:#f8f8f2; stroke-linecap:round; stroke-linejoin:round; stroke-width:4; stroke-opacity:1; fill:none\" points=\"2234.41,1486.45 2234.41,1467.55 \"/>\n",
       "<path clip-path=\"url(#clip690)\" d=\"M281.672 1517.37 Q278.061 1517.37 276.232 1520.93 Q274.427 1524.47 274.427 1531.6 Q274.427 1538.71 276.232 1542.27 Q278.061 1545.82 281.672 1545.82 Q285.306 1545.82 287.112 1542.27 Q288.941 1538.71 288.941 1531.6 Q288.941 1524.47 287.112 1520.93 Q285.306 1517.37 281.672 1517.37 M281.672 1513.66 Q287.482 1513.66 290.538 1518.27 Q293.616 1522.85 293.616 1531.6 Q293.616 1540.33 290.538 1544.94 Q287.482 1549.52 281.672 1549.52 Q275.862 1549.52 272.783 1544.94 Q269.728 1540.33 269.728 1531.6 Q269.728 1522.85 272.783 1518.27 Q275.862 1513.66 281.672 1513.66 Z\" fill=\"#f8f8f2\" fill-rule=\"nonzero\" fill-opacity=\"1\" /><path clip-path=\"url(#clip690)\" d=\"M301.834 1542.97 L306.718 1542.97 L306.718 1548.85 L301.834 1548.85 L301.834 1542.97 Z\" fill=\"#f8f8f2\" fill-rule=\"nonzero\" fill-opacity=\"1\" /><path clip-path=\"url(#clip690)\" d=\"M326.903 1517.37 Q323.292 1517.37 321.464 1520.93 Q319.658 1524.47 319.658 1531.6 Q319.658 1538.71 321.464 1542.27 Q323.292 1545.82 326.903 1545.82 Q330.538 1545.82 332.343 1542.27 Q334.172 1538.71 334.172 1531.6 Q334.172 1524.47 332.343 1520.93 Q330.538 1517.37 326.903 1517.37 M326.903 1513.66 Q332.713 1513.66 335.769 1518.27 Q338.848 1522.85 338.848 1531.6 Q338.848 1540.33 335.769 1544.94 Q332.713 1549.52 326.903 1549.52 Q321.093 1549.52 318.014 1544.94 Q314.959 1540.33 314.959 1531.6 Q314.959 1522.85 318.014 1518.27 Q321.093 1513.66 326.903 1513.66 Z\" fill=\"#f8f8f2\" fill-rule=\"nonzero\" fill-opacity=\"1\" /><path clip-path=\"url(#clip690)\" d=\"M357.065 1517.37 Q353.454 1517.37 351.625 1520.93 Q349.82 1524.47 349.82 1531.6 Q349.82 1538.71 351.625 1542.27 Q353.454 1545.82 357.065 1545.82 Q360.699 1545.82 362.505 1542.27 Q364.334 1538.71 364.334 1531.6 Q364.334 1524.47 362.505 1520.93 Q360.699 1517.37 357.065 1517.37 M357.065 1513.66 Q362.875 1513.66 365.931 1518.27 Q369.01 1522.85 369.01 1531.6 Q369.01 1540.33 365.931 1544.94 Q362.875 1549.52 357.065 1549.52 Q351.255 1549.52 348.176 1544.94 Q345.121 1540.33 345.121 1531.6 Q345.121 1522.85 348.176 1518.27 Q351.255 1513.66 357.065 1513.66 Z\" fill=\"#f8f8f2\" fill-rule=\"nonzero\" fill-opacity=\"1\" /><path clip-path=\"url(#clip690)\" d=\"M760.929 1517.37 Q757.318 1517.37 755.489 1520.93 Q753.684 1524.47 753.684 1531.6 Q753.684 1538.71 755.489 1542.27 Q757.318 1545.82 760.929 1545.82 Q764.563 1545.82 766.369 1542.27 Q768.198 1538.71 768.198 1531.6 Q768.198 1524.47 766.369 1520.93 Q764.563 1517.37 760.929 1517.37 M760.929 1513.66 Q766.739 1513.66 769.795 1518.27 Q772.874 1522.85 772.874 1531.6 Q772.874 1540.33 769.795 1544.94 Q766.739 1549.52 760.929 1549.52 Q755.119 1549.52 752.04 1544.94 Q748.985 1540.33 748.985 1531.6 Q748.985 1522.85 752.04 1518.27 Q755.119 1513.66 760.929 1513.66 Z\" fill=\"#f8f8f2\" fill-rule=\"nonzero\" fill-opacity=\"1\" /><path clip-path=\"url(#clip690)\" d=\"M781.091 1542.97 L785.975 1542.97 L785.975 1548.85 L781.091 1548.85 L781.091 1542.97 Z\" fill=\"#f8f8f2\" fill-rule=\"nonzero\" fill-opacity=\"1\" /><path clip-path=\"url(#clip690)\" d=\"M800.188 1544.91 L816.508 1544.91 L816.508 1548.85 L794.563 1548.85 L794.563 1544.91 Q797.225 1542.16 801.809 1537.53 Q806.415 1532.88 807.596 1531.53 Q809.841 1529.01 810.721 1527.27 Q811.623 1525.51 811.623 1523.82 Q811.623 1521.07 809.679 1519.33 Q807.758 1517.6 804.656 1517.6 Q802.457 1517.6 800.003 1518.36 Q797.573 1519.13 794.795 1520.68 L794.795 1515.95 Q797.619 1514.82 800.073 1514.24 Q802.526 1513.66 804.563 1513.66 Q809.934 1513.66 813.128 1516.35 Q816.322 1519.03 816.322 1523.52 Q816.322 1525.65 815.512 1527.57 Q814.725 1529.47 812.619 1532.07 Q812.04 1532.74 808.938 1535.95 Q805.836 1539.15 800.188 1544.91 Z\" fill=\"#f8f8f2\" fill-rule=\"nonzero\" fill-opacity=\"1\" /><path clip-path=\"url(#clip690)\" d=\"M826.369 1514.29 L844.725 1514.29 L844.725 1518.22 L830.651 1518.22 L830.651 1526.7 Q831.67 1526.35 832.688 1526.19 Q833.707 1526 834.725 1526 Q840.512 1526 843.892 1529.17 Q847.271 1532.34 847.271 1537.76 Q847.271 1543.34 843.799 1546.44 Q840.327 1549.52 834.008 1549.52 Q831.832 1549.52 829.563 1549.15 Q827.318 1548.78 824.91 1548.04 L824.91 1543.34 Q826.994 1544.47 829.216 1545.03 Q831.438 1545.58 833.915 1545.58 Q837.92 1545.58 840.258 1543.48 Q842.595 1541.37 842.595 1537.76 Q842.595 1534.15 840.258 1532.04 Q837.92 1529.94 833.915 1529.94 Q832.04 1529.94 830.165 1530.35 Q828.313 1530.77 826.369 1531.65 L826.369 1514.29 Z\" fill=\"#f8f8f2\" fill-rule=\"nonzero\" fill-opacity=\"1\" /><path clip-path=\"url(#clip690)\" d=\"M1239.19 1517.37 Q1235.58 1517.37 1233.75 1520.93 Q1231.95 1524.47 1231.95 1531.6 Q1231.95 1538.71 1233.75 1542.27 Q1235.58 1545.82 1239.19 1545.82 Q1242.83 1545.82 1244.63 1542.27 Q1246.46 1538.71 1246.46 1531.6 Q1246.46 1524.47 1244.63 1520.93 Q1242.83 1517.37 1239.19 1517.37 M1239.19 1513.66 Q1245 1513.66 1248.06 1518.27 Q1251.14 1522.85 1251.14 1531.6 Q1251.14 1540.33 1248.06 1544.94 Q1245 1549.52 1239.19 1549.52 Q1233.38 1549.52 1230.3 1544.94 Q1227.25 1540.33 1227.25 1531.6 Q1227.25 1522.85 1230.3 1518.27 Q1233.38 1513.66 1239.19 1513.66 Z\" fill=\"#f8f8f2\" fill-rule=\"nonzero\" fill-opacity=\"1\" /><path clip-path=\"url(#clip690)\" d=\"M1259.35 1542.97 L1264.24 1542.97 L1264.24 1548.85 L1259.35 1548.85 L1259.35 1542.97 Z\" fill=\"#f8f8f2\" fill-rule=\"nonzero\" fill-opacity=\"1\" /><path clip-path=\"url(#clip690)\" d=\"M1274.47 1514.29 L1292.83 1514.29 L1292.83 1518.22 L1278.75 1518.22 L1278.75 1526.7 Q1279.77 1526.35 1280.79 1526.19 Q1281.81 1526 1282.83 1526 Q1288.61 1526 1291.99 1529.17 Q1295.37 1532.34 1295.37 1537.76 Q1295.37 1543.34 1291.9 1546.44 Q1288.43 1549.52 1282.11 1549.52 Q1279.93 1549.52 1277.66 1549.15 Q1275.42 1548.78 1273.01 1548.04 L1273.01 1543.34 Q1275.09 1544.47 1277.32 1545.03 Q1279.54 1545.58 1282.01 1545.58 Q1286.02 1545.58 1288.36 1543.48 Q1290.7 1541.37 1290.7 1537.76 Q1290.7 1534.15 1288.36 1532.04 Q1286.02 1529.94 1282.01 1529.94 Q1280.14 1529.94 1278.26 1530.35 Q1276.41 1530.77 1274.47 1531.65 L1274.47 1514.29 Z\" fill=\"#f8f8f2\" fill-rule=\"nonzero\" fill-opacity=\"1\" /><path clip-path=\"url(#clip690)\" d=\"M1314.58 1517.37 Q1310.97 1517.37 1309.14 1520.93 Q1307.34 1524.47 1307.34 1531.6 Q1307.34 1538.71 1309.14 1542.27 Q1310.97 1545.82 1314.58 1545.82 Q1318.22 1545.82 1320.02 1542.27 Q1321.85 1538.71 1321.85 1531.6 Q1321.85 1524.47 1320.02 1520.93 Q1318.22 1517.37 1314.58 1517.37 M1314.58 1513.66 Q1320.39 1513.66 1323.45 1518.27 Q1326.53 1522.85 1326.53 1531.6 Q1326.53 1540.33 1323.45 1544.94 Q1320.39 1549.52 1314.58 1549.52 Q1308.77 1549.52 1305.7 1544.94 Q1302.64 1540.33 1302.64 1531.6 Q1302.64 1522.85 1305.7 1518.27 Q1308.77 1513.66 1314.58 1513.66 Z\" fill=\"#f8f8f2\" fill-rule=\"nonzero\" fill-opacity=\"1\" /><path clip-path=\"url(#clip690)\" d=\"M1718.45 1517.37 Q1714.84 1517.37 1713.01 1520.93 Q1711.2 1524.47 1711.2 1531.6 Q1711.2 1538.71 1713.01 1542.27 Q1714.84 1545.82 1718.45 1545.82 Q1722.08 1545.82 1723.89 1542.27 Q1725.72 1538.71 1725.72 1531.6 Q1725.72 1524.47 1723.89 1520.93 Q1722.08 1517.37 1718.45 1517.37 M1718.45 1513.66 Q1724.26 1513.66 1727.31 1518.27 Q1730.39 1522.85 1730.39 1531.6 Q1730.39 1540.33 1727.31 1544.94 Q1724.26 1549.52 1718.45 1549.52 Q1712.64 1549.52 1709.56 1544.94 Q1706.5 1540.33 1706.5 1531.6 Q1706.5 1522.85 1709.56 1518.27 Q1712.64 1513.66 1718.45 1513.66 Z\" fill=\"#f8f8f2\" fill-rule=\"nonzero\" fill-opacity=\"1\" /><path clip-path=\"url(#clip690)\" d=\"M1738.61 1542.97 L1743.49 1542.97 L1743.49 1548.85 L1738.61 1548.85 L1738.61 1542.97 Z\" fill=\"#f8f8f2\" fill-rule=\"nonzero\" fill-opacity=\"1\" /><path clip-path=\"url(#clip690)\" d=\"M1752.5 1514.29 L1774.72 1514.29 L1774.72 1516.28 L1762.17 1548.85 L1757.29 1548.85 L1769.1 1518.22 L1752.5 1518.22 L1752.5 1514.29 Z\" fill=\"#f8f8f2\" fill-rule=\"nonzero\" fill-opacity=\"1\" /><path clip-path=\"url(#clip690)\" d=\"M1783.89 1514.29 L1802.24 1514.29 L1802.24 1518.22 L1788.17 1518.22 L1788.17 1526.7 Q1789.19 1526.35 1790.21 1526.19 Q1791.23 1526 1792.24 1526 Q1798.03 1526 1801.41 1529.17 Q1804.79 1532.34 1804.79 1537.76 Q1804.79 1543.34 1801.32 1546.44 Q1797.85 1549.52 1791.53 1549.52 Q1789.35 1549.52 1787.08 1549.15 Q1784.84 1548.78 1782.43 1548.04 L1782.43 1543.34 Q1784.51 1544.47 1786.73 1545.03 Q1788.96 1545.58 1791.43 1545.58 Q1795.44 1545.58 1797.78 1543.48 Q1800.11 1541.37 1800.11 1537.76 Q1800.11 1534.15 1797.78 1532.04 Q1795.44 1529.94 1791.43 1529.94 Q1789.56 1529.94 1787.68 1530.35 Q1785.83 1530.77 1783.89 1531.65 L1783.89 1514.29 Z\" fill=\"#f8f8f2\" fill-rule=\"nonzero\" fill-opacity=\"1\" /><path clip-path=\"url(#clip690)\" d=\"M2186.48 1544.91 L2194.12 1544.91 L2194.12 1518.55 L2185.81 1520.21 L2185.81 1515.95 L2194.07 1514.29 L2198.75 1514.29 L2198.75 1544.91 L2206.39 1544.91 L2206.39 1548.85 L2186.48 1548.85 L2186.48 1544.91 Z\" fill=\"#f8f8f2\" fill-rule=\"nonzero\" fill-opacity=\"1\" /><path clip-path=\"url(#clip690)\" d=\"M2215.83 1542.97 L2220.71 1542.97 L2220.71 1548.85 L2215.83 1548.85 L2215.83 1542.97 Z\" fill=\"#f8f8f2\" fill-rule=\"nonzero\" fill-opacity=\"1\" /><path clip-path=\"url(#clip690)\" d=\"M2240.9 1517.37 Q2237.29 1517.37 2235.46 1520.93 Q2233.65 1524.47 2233.65 1531.6 Q2233.65 1538.71 2235.46 1542.27 Q2237.29 1545.82 2240.9 1545.82 Q2244.53 1545.82 2246.34 1542.27 Q2248.17 1538.71 2248.17 1531.6 Q2248.17 1524.47 2246.34 1520.93 Q2244.53 1517.37 2240.9 1517.37 M2240.9 1513.66 Q2246.71 1513.66 2249.77 1518.27 Q2252.84 1522.85 2252.84 1531.6 Q2252.84 1540.33 2249.77 1544.94 Q2246.71 1549.52 2240.9 1549.52 Q2235.09 1549.52 2232.01 1544.94 Q2228.96 1540.33 2228.96 1531.6 Q2228.96 1522.85 2232.01 1518.27 Q2235.09 1513.66 2240.9 1513.66 Z\" fill=\"#f8f8f2\" fill-rule=\"nonzero\" fill-opacity=\"1\" /><path clip-path=\"url(#clip690)\" d=\"M2271.06 1517.37 Q2267.45 1517.37 2265.62 1520.93 Q2263.82 1524.47 2263.82 1531.6 Q2263.82 1538.71 2265.62 1542.27 Q2267.45 1545.82 2271.06 1545.82 Q2274.7 1545.82 2276.5 1542.27 Q2278.33 1538.71 2278.33 1531.6 Q2278.33 1524.47 2276.5 1520.93 Q2274.7 1517.37 2271.06 1517.37 M2271.06 1513.66 Q2276.87 1513.66 2279.93 1518.27 Q2283.01 1522.85 2283.01 1531.6 Q2283.01 1540.33 2279.93 1544.94 Q2276.87 1549.52 2271.06 1549.52 Q2265.25 1549.52 2262.17 1544.94 Q2259.12 1540.33 2259.12 1531.6 Q2259.12 1522.85 2262.17 1518.27 Q2265.25 1513.66 2271.06 1513.66 Z\" fill=\"#f8f8f2\" fill-rule=\"nonzero\" fill-opacity=\"1\" /><polyline clip-path=\"url(#clip692)\" style=\"stroke:#f8f8f2; stroke-linecap:round; stroke-linejoin:round; stroke-width:2; stroke-opacity:0.1; fill:none\" points=\"201.019,1486.45 2352.76,1486.45 \"/>\n",
       "<polyline clip-path=\"url(#clip692)\" style=\"stroke:#f8f8f2; stroke-linecap:round; stroke-linejoin:round; stroke-width:2; stroke-opacity:0.1; fill:none\" points=\"201.019,1145.24 2352.76,1145.24 \"/>\n",
       "<polyline clip-path=\"url(#clip692)\" style=\"stroke:#f8f8f2; stroke-linecap:round; stroke-linejoin:round; stroke-width:2; stroke-opacity:0.1; fill:none\" points=\"201.019,804.037 2352.76,804.037 \"/>\n",
       "<polyline clip-path=\"url(#clip692)\" style=\"stroke:#f8f8f2; stroke-linecap:round; stroke-linejoin:round; stroke-width:2; stroke-opacity:0.1; fill:none\" points=\"201.019,462.832 2352.76,462.832 \"/>\n",
       "<polyline clip-path=\"url(#clip692)\" style=\"stroke:#f8f8f2; stroke-linecap:round; stroke-linejoin:round; stroke-width:2; stroke-opacity:0.1; fill:none\" points=\"201.019,121.627 2352.76,121.627 \"/>\n",
       "<polyline clip-path=\"url(#clip690)\" style=\"stroke:#f8f8f2; stroke-linecap:round; stroke-linejoin:round; stroke-width:4; stroke-opacity:1; fill:none\" points=\"201.019,1486.45 201.019,47.2441 \"/>\n",
       "<polyline clip-path=\"url(#clip690)\" style=\"stroke:#f8f8f2; stroke-linecap:round; stroke-linejoin:round; stroke-width:4; stroke-opacity:1; fill:none\" points=\"201.019,1486.45 219.917,1486.45 \"/>\n",
       "<polyline clip-path=\"url(#clip690)\" style=\"stroke:#f8f8f2; stroke-linecap:round; stroke-linejoin:round; stroke-width:4; stroke-opacity:1; fill:none\" points=\"201.019,1145.24 219.917,1145.24 \"/>\n",
       "<polyline clip-path=\"url(#clip690)\" style=\"stroke:#f8f8f2; stroke-linecap:round; stroke-linejoin:round; stroke-width:4; stroke-opacity:1; fill:none\" points=\"201.019,804.037 219.917,804.037 \"/>\n",
       "<polyline clip-path=\"url(#clip690)\" style=\"stroke:#f8f8f2; stroke-linecap:round; stroke-linejoin:round; stroke-width:4; stroke-opacity:1; fill:none\" points=\"201.019,462.832 219.917,462.832 \"/>\n",
       "<polyline clip-path=\"url(#clip690)\" style=\"stroke:#f8f8f2; stroke-linecap:round; stroke-linejoin:round; stroke-width:4; stroke-opacity:1; fill:none\" points=\"201.019,121.627 219.917,121.627 \"/>\n",
       "<path clip-path=\"url(#clip690)\" d=\"M153.075 1472.25 Q149.464 1472.25 147.635 1475.81 Q145.83 1479.35 145.83 1486.48 Q145.83 1493.59 147.635 1497.15 Q149.464 1500.7 153.075 1500.7 Q156.709 1500.7 158.515 1497.15 Q160.343 1493.59 160.343 1486.48 Q160.343 1479.35 158.515 1475.81 Q156.709 1472.25 153.075 1472.25 M153.075 1468.54 Q158.885 1468.54 161.941 1473.15 Q165.019 1477.73 165.019 1486.48 Q165.019 1495.21 161.941 1499.82 Q158.885 1504.4 153.075 1504.4 Q147.265 1504.4 144.186 1499.82 Q141.131 1495.21 141.131 1486.48 Q141.131 1477.73 144.186 1473.15 Q147.265 1468.54 153.075 1468.54 Z\" fill=\"#f8f8f2\" fill-rule=\"nonzero\" fill-opacity=\"1\" /><path clip-path=\"url(#clip690)\" d=\"M82.7975 1127.96 L101.154 1127.96 L101.154 1131.9 L87.0799 1131.9 L87.0799 1140.37 Q88.0984 1140.02 89.1169 1139.86 Q90.1354 1139.68 91.1539 1139.68 Q96.941 1139.68 100.321 1142.85 Q103.7 1146.02 103.7 1151.43 Q103.7 1157.01 100.228 1160.12 Q96.7558 1163.19 90.4364 1163.19 Q88.2604 1163.19 85.9919 1162.82 Q83.7466 1162.45 81.3392 1161.71 L81.3392 1157.01 Q83.4225 1158.15 85.6447 1158.7 Q87.8669 1159.26 90.3438 1159.26 Q94.3484 1159.26 96.6863 1157.15 Q99.0243 1155.05 99.0243 1151.43 Q99.0243 1147.82 96.6863 1145.72 Q94.3484 1143.61 90.3438 1143.61 Q88.4688 1143.61 86.5938 1144.03 Q84.7419 1144.44 82.7975 1145.32 L82.7975 1127.96 Z\" fill=\"#f8f8f2\" fill-rule=\"nonzero\" fill-opacity=\"1\" /><path clip-path=\"url(#clip690)\" d=\"M122.913 1131.04 Q119.302 1131.04 117.473 1134.61 Q115.668 1138.15 115.668 1145.28 Q115.668 1152.38 117.473 1155.95 Q119.302 1159.49 122.913 1159.49 Q126.547 1159.49 128.353 1155.95 Q130.182 1152.38 130.182 1145.28 Q130.182 1138.15 128.353 1134.61 Q126.547 1131.04 122.913 1131.04 M122.913 1127.34 Q128.723 1127.34 131.779 1131.94 Q134.857 1136.53 134.857 1145.28 Q134.857 1154 131.779 1158.61 Q128.723 1163.19 122.913 1163.19 Q117.103 1163.19 114.024 1158.61 Q110.969 1154 110.969 1145.28 Q110.969 1136.53 114.024 1131.94 Q117.103 1127.34 122.913 1127.34 Z\" fill=\"#f8f8f2\" fill-rule=\"nonzero\" fill-opacity=\"1\" /><path clip-path=\"url(#clip690)\" d=\"M153.075 1131.04 Q149.464 1131.04 147.635 1134.61 Q145.83 1138.15 145.83 1145.28 Q145.83 1152.38 147.635 1155.95 Q149.464 1159.49 153.075 1159.49 Q156.709 1159.49 158.515 1155.95 Q160.343 1152.38 160.343 1145.28 Q160.343 1138.15 158.515 1134.61 Q156.709 1131.04 153.075 1131.04 M153.075 1127.34 Q158.885 1127.34 161.941 1131.94 Q165.019 1136.53 165.019 1145.28 Q165.019 1154 161.941 1158.61 Q158.885 1163.19 153.075 1163.19 Q147.265 1163.19 144.186 1158.61 Q141.131 1154 141.131 1145.28 Q141.131 1136.53 144.186 1131.94 Q147.265 1127.34 153.075 1127.34 Z\" fill=\"#f8f8f2\" fill-rule=\"nonzero\" fill-opacity=\"1\" /><path clip-path=\"url(#clip690)\" d=\"M53.3995 817.382 L61.0384 817.382 L61.0384 791.017 L52.7282 792.683 L52.7282 788.424 L60.9921 786.757 L65.668 786.757 L65.668 817.382 L73.3068 817.382 L73.3068 821.317 L53.3995 821.317 L53.3995 817.382 Z\" fill=\"#f8f8f2\" fill-rule=\"nonzero\" fill-opacity=\"1\" /><path clip-path=\"url(#clip690)\" d=\"M92.7512 789.836 Q89.1401 789.836 87.3114 793.401 Q85.5058 796.942 85.5058 804.072 Q85.5058 811.179 87.3114 814.743 Q89.1401 818.285 92.7512 818.285 Q96.3854 818.285 98.1909 814.743 Q100.02 811.179 100.02 804.072 Q100.02 796.942 98.1909 793.401 Q96.3854 789.836 92.7512 789.836 M92.7512 786.132 Q98.5613 786.132 101.617 790.739 Q104.696 795.322 104.696 804.072 Q104.696 812.799 101.617 817.405 Q98.5613 821.989 92.7512 821.989 Q86.941 821.989 83.8623 817.405 Q80.8068 812.799 80.8068 804.072 Q80.8068 795.322 83.8623 790.739 Q86.941 786.132 92.7512 786.132 Z\" fill=\"#f8f8f2\" fill-rule=\"nonzero\" fill-opacity=\"1\" /><path clip-path=\"url(#clip690)\" d=\"M122.913 789.836 Q119.302 789.836 117.473 793.401 Q115.668 796.942 115.668 804.072 Q115.668 811.179 117.473 814.743 Q119.302 818.285 122.913 818.285 Q126.547 818.285 128.353 814.743 Q130.182 811.179 130.182 804.072 Q130.182 796.942 128.353 793.401 Q126.547 789.836 122.913 789.836 M122.913 786.132 Q128.723 786.132 131.779 790.739 Q134.857 795.322 134.857 804.072 Q134.857 812.799 131.779 817.405 Q128.723 821.989 122.913 821.989 Q117.103 821.989 114.024 817.405 Q110.969 812.799 110.969 804.072 Q110.969 795.322 114.024 790.739 Q117.103 786.132 122.913 786.132 Z\" fill=\"#f8f8f2\" fill-rule=\"nonzero\" fill-opacity=\"1\" /><path clip-path=\"url(#clip690)\" d=\"M153.075 789.836 Q149.464 789.836 147.635 793.401 Q145.83 796.942 145.83 804.072 Q145.83 811.179 147.635 814.743 Q149.464 818.285 153.075 818.285 Q156.709 818.285 158.515 814.743 Q160.343 811.179 160.343 804.072 Q160.343 796.942 158.515 793.401 Q156.709 789.836 153.075 789.836 M153.075 786.132 Q158.885 786.132 161.941 790.739 Q165.019 795.322 165.019 804.072 Q165.019 812.799 161.941 817.405 Q158.885 821.989 153.075 821.989 Q147.265 821.989 144.186 817.405 Q141.131 812.799 141.131 804.072 Q141.131 795.322 144.186 790.739 Q147.265 786.132 153.075 786.132 Z\" fill=\"#f8f8f2\" fill-rule=\"nonzero\" fill-opacity=\"1\" /><path clip-path=\"url(#clip690)\" d=\"M53.3995 476.177 L61.0384 476.177 L61.0384 449.811 L52.7282 451.478 L52.7282 447.219 L60.9921 445.552 L65.668 445.552 L65.668 476.177 L73.3068 476.177 L73.3068 480.112 L53.3995 480.112 L53.3995 476.177 Z\" fill=\"#f8f8f2\" fill-rule=\"nonzero\" fill-opacity=\"1\" /><path clip-path=\"url(#clip690)\" d=\"M82.7975 445.552 L101.154 445.552 L101.154 449.487 L87.0799 449.487 L87.0799 457.959 Q88.0984 457.612 89.1169 457.45 Q90.1354 457.265 91.1539 457.265 Q96.941 457.265 100.321 460.436 Q103.7 463.608 103.7 469.024 Q103.7 474.603 100.228 477.705 Q96.7558 480.783 90.4364 480.783 Q88.2604 480.783 85.9919 480.413 Q83.7466 480.043 81.3392 479.302 L81.3392 474.603 Q83.4225 475.737 85.6447 476.293 Q87.8669 476.848 90.3438 476.848 Q94.3484 476.848 96.6863 474.742 Q99.0243 472.635 99.0243 469.024 Q99.0243 465.413 96.6863 463.307 Q94.3484 461.2 90.3438 461.2 Q88.4688 461.2 86.5938 461.617 Q84.7419 462.033 82.7975 462.913 L82.7975 445.552 Z\" fill=\"#f8f8f2\" fill-rule=\"nonzero\" fill-opacity=\"1\" /><path clip-path=\"url(#clip690)\" d=\"M122.913 448.631 Q119.302 448.631 117.473 452.196 Q115.668 455.737 115.668 462.867 Q115.668 469.973 117.473 473.538 Q119.302 477.08 122.913 477.08 Q126.547 477.08 128.353 473.538 Q130.182 469.973 130.182 462.867 Q130.182 455.737 128.353 452.196 Q126.547 448.631 122.913 448.631 M122.913 444.927 Q128.723 444.927 131.779 449.534 Q134.857 454.117 134.857 462.867 Q134.857 471.594 131.779 476.2 Q128.723 480.783 122.913 480.783 Q117.103 480.783 114.024 476.2 Q110.969 471.594 110.969 462.867 Q110.969 454.117 114.024 449.534 Q117.103 444.927 122.913 444.927 Z\" fill=\"#f8f8f2\" fill-rule=\"nonzero\" fill-opacity=\"1\" /><path clip-path=\"url(#clip690)\" d=\"M153.075 448.631 Q149.464 448.631 147.635 452.196 Q145.83 455.737 145.83 462.867 Q145.83 469.973 147.635 473.538 Q149.464 477.08 153.075 477.08 Q156.709 477.08 158.515 473.538 Q160.343 469.973 160.343 462.867 Q160.343 455.737 158.515 452.196 Q156.709 448.631 153.075 448.631 M153.075 444.927 Q158.885 444.927 161.941 449.534 Q165.019 454.117 165.019 462.867 Q165.019 471.594 161.941 476.2 Q158.885 480.783 153.075 480.783 Q147.265 480.783 144.186 476.2 Q141.131 471.594 141.131 462.867 Q141.131 454.117 144.186 449.534 Q147.265 444.927 153.075 444.927 Z\" fill=\"#f8f8f2\" fill-rule=\"nonzero\" fill-opacity=\"1\" /><path clip-path=\"url(#clip690)\" d=\"M56.6171 134.972 L72.9365 134.972 L72.9365 138.907 L50.9921 138.907 L50.9921 134.972 Q53.6541 132.217 58.2375 127.587 Q62.8439 122.935 64.0245 121.592 Q66.2698 119.069 67.1494 117.333 Q68.0522 115.574 68.0522 113.884 Q68.0522 111.129 66.1078 109.393 Q64.1865 107.657 61.0847 107.657 Q58.8856 107.657 56.4319 108.421 Q54.0014 109.185 51.2236 110.736 L51.2236 106.013 Q54.0477 104.879 56.5014 104.301 Q58.955 103.722 60.9921 103.722 Q66.3624 103.722 69.5568 106.407 Q72.7513 109.092 72.7513 113.583 Q72.7513 115.713 71.9411 117.634 Q71.1541 119.532 69.0476 122.125 Q68.4689 122.796 65.367 126.013 Q62.2652 129.208 56.6171 134.972 Z\" fill=\"#f8f8f2\" fill-rule=\"nonzero\" fill-opacity=\"1\" /><path clip-path=\"url(#clip690)\" d=\"M92.7512 107.426 Q89.1401 107.426 87.3114 110.99 Q85.5058 114.532 85.5058 121.662 Q85.5058 128.768 87.3114 132.333 Q89.1401 135.874 92.7512 135.874 Q96.3854 135.874 98.1909 132.333 Q100.02 128.768 100.02 121.662 Q100.02 114.532 98.1909 110.99 Q96.3854 107.426 92.7512 107.426 M92.7512 103.722 Q98.5613 103.722 101.617 108.328 Q104.696 112.912 104.696 121.662 Q104.696 130.388 101.617 134.995 Q98.5613 139.578 92.7512 139.578 Q86.941 139.578 83.8623 134.995 Q80.8068 130.388 80.8068 121.662 Q80.8068 112.912 83.8623 108.328 Q86.941 103.722 92.7512 103.722 Z\" fill=\"#f8f8f2\" fill-rule=\"nonzero\" fill-opacity=\"1\" /><path clip-path=\"url(#clip690)\" d=\"M122.913 107.426 Q119.302 107.426 117.473 110.99 Q115.668 114.532 115.668 121.662 Q115.668 128.768 117.473 132.333 Q119.302 135.874 122.913 135.874 Q126.547 135.874 128.353 132.333 Q130.182 128.768 130.182 121.662 Q130.182 114.532 128.353 110.99 Q126.547 107.426 122.913 107.426 M122.913 103.722 Q128.723 103.722 131.779 108.328 Q134.857 112.912 134.857 121.662 Q134.857 130.388 131.779 134.995 Q128.723 139.578 122.913 139.578 Q117.103 139.578 114.024 134.995 Q110.969 130.388 110.969 121.662 Q110.969 112.912 114.024 108.328 Q117.103 103.722 122.913 103.722 Z\" fill=\"#f8f8f2\" fill-rule=\"nonzero\" fill-opacity=\"1\" /><path clip-path=\"url(#clip690)\" d=\"M153.075 107.426 Q149.464 107.426 147.635 110.99 Q145.83 114.532 145.83 121.662 Q145.83 128.768 147.635 132.333 Q149.464 135.874 153.075 135.874 Q156.709 135.874 158.515 132.333 Q160.343 128.768 160.343 121.662 Q160.343 114.532 158.515 110.99 Q156.709 107.426 153.075 107.426 M153.075 103.722 Q158.885 103.722 161.941 108.328 Q165.019 112.912 165.019 121.662 Q165.019 130.388 161.941 134.995 Q158.885 139.578 153.075 139.578 Q147.265 139.578 144.186 134.995 Q141.131 130.388 141.131 121.662 Q141.131 112.912 144.186 108.328 Q147.265 103.722 153.075 103.722 Z\" fill=\"#f8f8f2\" fill-rule=\"nonzero\" fill-opacity=\"1\" /><path clip-path=\"url(#clip692)\" d=\"M319.369 161.207 L319.369 1486.45 L357.669 1486.45 L357.669 161.207 L319.369 161.207 L319.369 161.207  Z\" fill=\"#8be9fd\" fill-rule=\"evenodd\" fill-opacity=\"1\"/>\n",
       "<polyline clip-path=\"url(#clip692)\" style=\"stroke:#f8f8f2; stroke-linecap:round; stroke-linejoin:round; stroke-width:4; stroke-opacity:1; fill:none\" points=\"319.369,161.207 319.369,1486.45 357.669,1486.45 357.669,161.207 319.369,161.207 \"/>\n",
       "<path clip-path=\"url(#clip692)\" d=\"M357.669 152.335 L357.669 1486.45 L395.97 1486.45 L395.97 152.335 L357.669 152.335 L357.669 152.335  Z\" fill=\"#8be9fd\" fill-rule=\"evenodd\" fill-opacity=\"1\"/>\n",
       "<polyline clip-path=\"url(#clip692)\" style=\"stroke:#f8f8f2; stroke-linecap:round; stroke-linejoin:round; stroke-width:4; stroke-opacity:1; fill:none\" points=\"357.669,152.335 357.669,1486.45 395.97,1486.45 395.97,152.335 357.669,152.335 \"/>\n",
       "<path clip-path=\"url(#clip692)\" d=\"M395.97 93.648 L395.97 1486.45 L434.271 1486.45 L434.271 93.648 L395.97 93.648 L395.97 93.648  Z\" fill=\"#8be9fd\" fill-rule=\"evenodd\" fill-opacity=\"1\"/>\n",
       "<polyline clip-path=\"url(#clip692)\" style=\"stroke:#f8f8f2; stroke-linecap:round; stroke-linejoin:round; stroke-width:4; stroke-opacity:1; fill:none\" points=\"395.97,93.648 395.97,1486.45 434.271,1486.45 434.271,93.648 395.97,93.648 \"/>\n",
       "<path clip-path=\"url(#clip692)\" d=\"M434.271 71.1285 L434.271 1486.45 L472.572 1486.45 L472.572 71.1285 L434.271 71.1285 L434.271 71.1285  Z\" fill=\"#8be9fd\" fill-rule=\"evenodd\" fill-opacity=\"1\"/>\n",
       "<polyline clip-path=\"url(#clip692)\" style=\"stroke:#f8f8f2; stroke-linecap:round; stroke-linejoin:round; stroke-width:4; stroke-opacity:1; fill:none\" points=\"434.271,71.1285 434.271,1486.45 472.572,1486.45 472.572,71.1285 434.271,71.1285 \"/>\n",
       "<path clip-path=\"url(#clip692)\" d=\"M472.572 100.472 L472.572 1486.45 L510.872 1486.45 L510.872 100.472 L472.572 100.472 L472.572 100.472  Z\" fill=\"#8be9fd\" fill-rule=\"evenodd\" fill-opacity=\"1\"/>\n",
       "<polyline clip-path=\"url(#clip692)\" style=\"stroke:#f8f8f2; stroke-linecap:round; stroke-linejoin:round; stroke-width:4; stroke-opacity:1; fill:none\" points=\"472.572,100.472 472.572,1486.45 510.872,1486.45 510.872,100.472 472.572,100.472 \"/>\n",
       "<path clip-path=\"url(#clip692)\" d=\"M510.872 125.039 L510.872 1486.45 L549.173 1486.45 L549.173 125.039 L510.872 125.039 L510.872 125.039  Z\" fill=\"#8be9fd\" fill-rule=\"evenodd\" fill-opacity=\"1\"/>\n",
       "<polyline clip-path=\"url(#clip692)\" style=\"stroke:#f8f8f2; stroke-linecap:round; stroke-linejoin:round; stroke-width:4; stroke-opacity:1; fill:none\" points=\"510.872,125.039 510.872,1486.45 549.173,1486.45 549.173,125.039 510.872,125.039 \"/>\n",
       "<path clip-path=\"url(#clip692)\" d=\"M549.173 123.674 L549.173 1486.45 L587.474 1486.45 L587.474 123.674 L549.173 123.674 L549.173 123.674  Z\" fill=\"#8be9fd\" fill-rule=\"evenodd\" fill-opacity=\"1\"/>\n",
       "<polyline clip-path=\"url(#clip692)\" style=\"stroke:#f8f8f2; stroke-linecap:round; stroke-linejoin:round; stroke-width:4; stroke-opacity:1; fill:none\" points=\"549.173,123.674 549.173,1486.45 587.474,1486.45 587.474,123.674 549.173,123.674 \"/>\n",
       "<path clip-path=\"url(#clip692)\" d=\"M587.474 138.687 L587.474 1486.45 L625.775 1486.45 L625.775 138.687 L587.474 138.687 L587.474 138.687  Z\" fill=\"#8be9fd\" fill-rule=\"evenodd\" fill-opacity=\"1\"/>\n",
       "<polyline clip-path=\"url(#clip692)\" style=\"stroke:#f8f8f2; stroke-linecap:round; stroke-linejoin:round; stroke-width:4; stroke-opacity:1; fill:none\" points=\"587.474,138.687 587.474,1486.45 625.775,1486.45 625.775,138.687 587.474,138.687 \"/>\n",
       "<path clip-path=\"url(#clip692)\" d=\"M625.775 125.039 L625.775 1486.45 L664.075 1486.45 L664.075 125.039 L625.775 125.039 L625.775 125.039  Z\" fill=\"#8be9fd\" fill-rule=\"evenodd\" fill-opacity=\"1\"/>\n",
       "<polyline clip-path=\"url(#clip692)\" style=\"stroke:#f8f8f2; stroke-linecap:round; stroke-linejoin:round; stroke-width:4; stroke-opacity:1; fill:none\" points=\"625.775,125.039 625.775,1486.45 664.075,1486.45 664.075,125.039 625.775,125.039 \"/>\n",
       "<path clip-path=\"url(#clip692)\" d=\"M664.075 119.58 L664.075 1486.45 L702.376 1486.45 L702.376 119.58 L664.075 119.58 L664.075 119.58  Z\" fill=\"#8be9fd\" fill-rule=\"evenodd\" fill-opacity=\"1\"/>\n",
       "<polyline clip-path=\"url(#clip692)\" style=\"stroke:#f8f8f2; stroke-linecap:round; stroke-linejoin:round; stroke-width:4; stroke-opacity:1; fill:none\" points=\"664.075,119.58 664.075,1486.45 702.376,1486.45 702.376,119.58 664.075,119.58 \"/>\n",
       "<path clip-path=\"url(#clip692)\" d=\"M702.376 111.391 L702.376 1486.45 L740.677 1486.45 L740.677 111.391 L702.376 111.391 L702.376 111.391  Z\" fill=\"#8be9fd\" fill-rule=\"evenodd\" fill-opacity=\"1\"/>\n",
       "<polyline clip-path=\"url(#clip692)\" style=\"stroke:#f8f8f2; stroke-linecap:round; stroke-linejoin:round; stroke-width:4; stroke-opacity:1; fill:none\" points=\"702.376,111.391 702.376,1486.45 740.677,1486.45 740.677,111.391 702.376,111.391 \"/>\n",
       "<path clip-path=\"url(#clip692)\" d=\"M740.677 116.85 L740.677 1486.45 L778.978 1486.45 L778.978 116.85 L740.677 116.85 L740.677 116.85  Z\" fill=\"#8be9fd\" fill-rule=\"evenodd\" fill-opacity=\"1\"/>\n",
       "<polyline clip-path=\"url(#clip692)\" style=\"stroke:#f8f8f2; stroke-linecap:round; stroke-linejoin:round; stroke-width:4; stroke-opacity:1; fill:none\" points=\"740.677,116.85 740.677,1486.45 778.978,1486.45 778.978,116.85 740.677,116.85 \"/>\n",
       "<path clip-path=\"url(#clip692)\" d=\"M778.978 148.241 L778.978 1486.45 L817.278 1486.45 L817.278 148.241 L778.978 148.241 L778.978 148.241  Z\" fill=\"#8be9fd\" fill-rule=\"evenodd\" fill-opacity=\"1\"/>\n",
       "<polyline clip-path=\"url(#clip692)\" style=\"stroke:#f8f8f2; stroke-linecap:round; stroke-linejoin:round; stroke-width:4; stroke-opacity:1; fill:none\" points=\"778.978,148.241 778.978,1486.45 817.278,1486.45 817.278,148.241 778.978,148.241 \"/>\n",
       "<path clip-path=\"url(#clip692)\" d=\"M817.278 92.9656 L817.278 1486.45 L855.579 1486.45 L855.579 92.9656 L817.278 92.9656 L817.278 92.9656  Z\" fill=\"#8be9fd\" fill-rule=\"evenodd\" fill-opacity=\"1\"/>\n",
       "<polyline clip-path=\"url(#clip692)\" style=\"stroke:#f8f8f2; stroke-linecap:round; stroke-linejoin:round; stroke-width:4; stroke-opacity:1; fill:none\" points=\"817.278,92.9656 817.278,1486.45 855.579,1486.45 855.579,92.9656 817.278,92.9656 \"/>\n",
       "<path clip-path=\"url(#clip692)\" d=\"M855.579 170.078 L855.579 1486.45 L893.88 1486.45 L893.88 170.078 L855.579 170.078 L855.579 170.078  Z\" fill=\"#8be9fd\" fill-rule=\"evenodd\" fill-opacity=\"1\"/>\n",
       "<polyline clip-path=\"url(#clip692)\" style=\"stroke:#f8f8f2; stroke-linecap:round; stroke-linejoin:round; stroke-width:4; stroke-opacity:1; fill:none\" points=\"855.579,170.078 855.579,1486.45 893.88,1486.45 893.88,170.078 855.579,170.078 \"/>\n",
       "<path clip-path=\"url(#clip692)\" d=\"M893.88 105.931 L893.88 1486.45 L932.181 1486.45 L932.181 105.931 L893.88 105.931 L893.88 105.931  Z\" fill=\"#8be9fd\" fill-rule=\"evenodd\" fill-opacity=\"1\"/>\n",
       "<polyline clip-path=\"url(#clip692)\" style=\"stroke:#f8f8f2; stroke-linecap:round; stroke-linejoin:round; stroke-width:4; stroke-opacity:1; fill:none\" points=\"893.88,105.931 893.88,1486.45 932.181,1486.45 932.181,105.931 893.88,105.931 \"/>\n",
       "<path clip-path=\"url(#clip692)\" d=\"M932.181 119.58 L932.181 1486.45 L970.482 1486.45 L970.482 119.58 L932.181 119.58 L932.181 119.58  Z\" fill=\"#8be9fd\" fill-rule=\"evenodd\" fill-opacity=\"1\"/>\n",
       "<polyline clip-path=\"url(#clip692)\" style=\"stroke:#f8f8f2; stroke-linecap:round; stroke-linejoin:round; stroke-width:4; stroke-opacity:1; fill:none\" points=\"932.181,119.58 932.181,1486.45 970.482,1486.45 970.482,119.58 932.181,119.58 \"/>\n",
       "<path clip-path=\"url(#clip692)\" d=\"M970.482 90.9184 L970.482 1486.45 L1008.78 1486.45 L1008.78 90.9184 L970.482 90.9184 L970.482 90.9184  Z\" fill=\"#8be9fd\" fill-rule=\"evenodd\" fill-opacity=\"1\"/>\n",
       "<polyline clip-path=\"url(#clip692)\" style=\"stroke:#f8f8f2; stroke-linecap:round; stroke-linejoin:round; stroke-width:4; stroke-opacity:1; fill:none\" points=\"970.482,90.9184 970.482,1486.45 1008.78,1486.45 1008.78,90.9184 970.482,90.9184 \"/>\n",
       "<path clip-path=\"url(#clip692)\" d=\"M1008.78 171.443 L1008.78 1486.45 L1047.08 1486.45 L1047.08 171.443 L1008.78 171.443 L1008.78 171.443  Z\" fill=\"#8be9fd\" fill-rule=\"evenodd\" fill-opacity=\"1\"/>\n",
       "<polyline clip-path=\"url(#clip692)\" style=\"stroke:#f8f8f2; stroke-linecap:round; stroke-linejoin:round; stroke-width:4; stroke-opacity:1; fill:none\" points=\"1008.78,171.443 1008.78,1486.45 1047.08,1486.45 1047.08,171.443 1008.78,171.443 \"/>\n",
       "<path clip-path=\"url(#clip692)\" d=\"M1047.08 180.997 L1047.08 1486.45 L1085.38 1486.45 L1085.38 180.997 L1047.08 180.997 L1047.08 180.997  Z\" fill=\"#8be9fd\" fill-rule=\"evenodd\" fill-opacity=\"1\"/>\n",
       "<polyline clip-path=\"url(#clip692)\" style=\"stroke:#f8f8f2; stroke-linecap:round; stroke-linejoin:round; stroke-width:4; stroke-opacity:1; fill:none\" points=\"1047.08,180.997 1047.08,1486.45 1085.38,1486.45 1085.38,180.997 1047.08,180.997 \"/>\n",
       "<path clip-path=\"url(#clip692)\" d=\"M1085.38 97.0601 L1085.38 1486.45 L1123.68 1486.45 L1123.68 97.0601 L1085.38 97.0601 L1085.38 97.0601  Z\" fill=\"#8be9fd\" fill-rule=\"evenodd\" fill-opacity=\"1\"/>\n",
       "<polyline clip-path=\"url(#clip692)\" style=\"stroke:#f8f8f2; stroke-linecap:round; stroke-linejoin:round; stroke-width:4; stroke-opacity:1; fill:none\" points=\"1085.38,97.0601 1085.38,1486.45 1123.68,1486.45 1123.68,97.0601 1085.38,97.0601 \"/>\n",
       "<path clip-path=\"url(#clip692)\" d=\"M1123.68 115.485 L1123.68 1486.45 L1161.99 1486.45 L1161.99 115.485 L1123.68 115.485 L1123.68 115.485  Z\" fill=\"#8be9fd\" fill-rule=\"evenodd\" fill-opacity=\"1\"/>\n",
       "<polyline clip-path=\"url(#clip692)\" style=\"stroke:#f8f8f2; stroke-linecap:round; stroke-linejoin:round; stroke-width:4; stroke-opacity:1; fill:none\" points=\"1123.68,115.485 1123.68,1486.45 1161.99,1486.45 1161.99,115.485 1123.68,115.485 \"/>\n",
       "<path clip-path=\"url(#clip692)\" d=\"M1161.99 199.422 L1161.99 1486.45 L1200.29 1486.45 L1200.29 199.422 L1161.99 199.422 L1161.99 199.422  Z\" fill=\"#8be9fd\" fill-rule=\"evenodd\" fill-opacity=\"1\"/>\n",
       "<polyline clip-path=\"url(#clip692)\" style=\"stroke:#f8f8f2; stroke-linecap:round; stroke-linejoin:round; stroke-width:4; stroke-opacity:1; fill:none\" points=\"1161.99,199.422 1161.99,1486.45 1200.29,1486.45 1200.29,199.422 1161.99,199.422 \"/>\n",
       "<path clip-path=\"url(#clip692)\" d=\"M1200.29 93.648 L1200.29 1486.45 L1238.59 1486.45 L1238.59 93.648 L1200.29 93.648 L1200.29 93.648  Z\" fill=\"#8be9fd\" fill-rule=\"evenodd\" fill-opacity=\"1\"/>\n",
       "<polyline clip-path=\"url(#clip692)\" style=\"stroke:#f8f8f2; stroke-linecap:round; stroke-linejoin:round; stroke-width:4; stroke-opacity:1; fill:none\" points=\"1200.29,93.648 1200.29,1486.45 1238.59,1486.45 1238.59,93.648 1200.29,93.648 \"/>\n",
       "<path clip-path=\"url(#clip692)\" d=\"M1238.59 143.464 L1238.59 1486.45 L1276.89 1486.45 L1276.89 143.464 L1238.59 143.464 L1238.59 143.464  Z\" fill=\"#8be9fd\" fill-rule=\"evenodd\" fill-opacity=\"1\"/>\n",
       "<polyline clip-path=\"url(#clip692)\" style=\"stroke:#f8f8f2; stroke-linecap:round; stroke-linejoin:round; stroke-width:4; stroke-opacity:1; fill:none\" points=\"1238.59,143.464 1238.59,1486.45 1276.89,1486.45 1276.89,143.464 1238.59,143.464 \"/>\n",
       "<path clip-path=\"url(#clip692)\" d=\"M1276.89 152.335 L1276.89 1486.45 L1315.19 1486.45 L1315.19 152.335 L1276.89 152.335 L1276.89 152.335  Z\" fill=\"#8be9fd\" fill-rule=\"evenodd\" fill-opacity=\"1\"/>\n",
       "<polyline clip-path=\"url(#clip692)\" style=\"stroke:#f8f8f2; stroke-linecap:round; stroke-linejoin:round; stroke-width:4; stroke-opacity:1; fill:none\" points=\"1276.89,152.335 1276.89,1486.45 1315.19,1486.45 1315.19,152.335 1276.89,152.335 \"/>\n",
       "<path clip-path=\"url(#clip692)\" d=\"M1315.19 116.168 L1315.19 1486.45 L1353.49 1486.45 L1353.49 116.168 L1315.19 116.168 L1315.19 116.168  Z\" fill=\"#8be9fd\" fill-rule=\"evenodd\" fill-opacity=\"1\"/>\n",
       "<polyline clip-path=\"url(#clip692)\" style=\"stroke:#f8f8f2; stroke-linecap:round; stroke-linejoin:round; stroke-width:4; stroke-opacity:1; fill:none\" points=\"1315.19,116.168 1315.19,1486.45 1353.49,1486.45 1353.49,116.168 1315.19,116.168 \"/>\n",
       "<path clip-path=\"url(#clip692)\" d=\"M1353.49 152.335 L1353.49 1486.45 L1391.79 1486.45 L1391.79 152.335 L1353.49 152.335 L1353.49 152.335  Z\" fill=\"#8be9fd\" fill-rule=\"evenodd\" fill-opacity=\"1\"/>\n",
       "<polyline clip-path=\"url(#clip692)\" style=\"stroke:#f8f8f2; stroke-linecap:round; stroke-linejoin:round; stroke-width:4; stroke-opacity:1; fill:none\" points=\"1353.49,152.335 1353.49,1486.45 1391.79,1486.45 1391.79,152.335 1353.49,152.335 \"/>\n",
       "<path clip-path=\"url(#clip692)\" d=\"M1391.79 172.808 L1391.79 1486.45 L1430.09 1486.45 L1430.09 172.808 L1391.79 172.808 L1391.79 172.808  Z\" fill=\"#8be9fd\" fill-rule=\"evenodd\" fill-opacity=\"1\"/>\n",
       "<polyline clip-path=\"url(#clip692)\" style=\"stroke:#f8f8f2; stroke-linecap:round; stroke-linejoin:round; stroke-width:4; stroke-opacity:1; fill:none\" points=\"1391.79,172.808 1391.79,1486.45 1430.09,1486.45 1430.09,172.808 1391.79,172.808 \"/>\n",
       "<path clip-path=\"url(#clip692)\" d=\"M1430.09 83.4119 L1430.09 1486.45 L1468.39 1486.45 L1468.39 83.4119 L1430.09 83.4119 L1430.09 83.4119  Z\" fill=\"#8be9fd\" fill-rule=\"evenodd\" fill-opacity=\"1\"/>\n",
       "<polyline clip-path=\"url(#clip692)\" style=\"stroke:#f8f8f2; stroke-linecap:round; stroke-linejoin:round; stroke-width:4; stroke-opacity:1; fill:none\" points=\"1430.09,83.4119 1430.09,1486.45 1468.39,1486.45 1468.39,83.4119 1430.09,83.4119 \"/>\n",
       "<path clip-path=\"url(#clip692)\" d=\"M1468.39 158.477 L1468.39 1486.45 L1506.69 1486.45 L1506.69 158.477 L1468.39 158.477 L1468.39 158.477  Z\" fill=\"#8be9fd\" fill-rule=\"evenodd\" fill-opacity=\"1\"/>\n",
       "<polyline clip-path=\"url(#clip692)\" style=\"stroke:#f8f8f2; stroke-linecap:round; stroke-linejoin:round; stroke-width:4; stroke-opacity:1; fill:none\" points=\"1468.39,158.477 1468.39,1486.45 1506.69,1486.45 1506.69,158.477 1468.39,158.477 \"/>\n",
       "<path clip-path=\"url(#clip692)\" d=\"M1506.69 47.2441 L1506.69 1486.45 L1544.99 1486.45 L1544.99 47.2441 L1506.69 47.2441 L1506.69 47.2441  Z\" fill=\"#8be9fd\" fill-rule=\"evenodd\" fill-opacity=\"1\"/>\n",
       "<polyline clip-path=\"url(#clip692)\" style=\"stroke:#f8f8f2; stroke-linecap:round; stroke-linejoin:round; stroke-width:4; stroke-opacity:1; fill:none\" points=\"1506.69,47.2441 1506.69,1486.45 1544.99,1486.45 1544.99,47.2441 1506.69,47.2441 \"/>\n",
       "<path clip-path=\"url(#clip692)\" d=\"M1544.99 100.472 L1544.99 1486.45 L1583.29 1486.45 L1583.29 100.472 L1544.99 100.472 L1544.99 100.472  Z\" fill=\"#8be9fd\" fill-rule=\"evenodd\" fill-opacity=\"1\"/>\n",
       "<polyline clip-path=\"url(#clip692)\" style=\"stroke:#f8f8f2; stroke-linecap:round; stroke-linejoin:round; stroke-width:4; stroke-opacity:1; fill:none\" points=\"1544.99,100.472 1544.99,1486.45 1583.29,1486.45 1583.29,100.472 1544.99,100.472 \"/>\n",
       "<path clip-path=\"url(#clip692)\" d=\"M1583.29 217.847 L1583.29 1486.45 L1621.59 1486.45 L1621.59 217.847 L1583.29 217.847 L1583.29 217.847  Z\" fill=\"#8be9fd\" fill-rule=\"evenodd\" fill-opacity=\"1\"/>\n",
       "<polyline clip-path=\"url(#clip692)\" style=\"stroke:#f8f8f2; stroke-linecap:round; stroke-linejoin:round; stroke-width:4; stroke-opacity:1; fill:none\" points=\"1583.29,217.847 1583.29,1486.45 1621.59,1486.45 1621.59,217.847 1583.29,217.847 \"/>\n",
       "<path clip-path=\"url(#clip692)\" d=\"M1621.59 114.803 L1621.59 1486.45 L1659.9 1486.45 L1659.9 114.803 L1621.59 114.803 L1621.59 114.803  Z\" fill=\"#8be9fd\" fill-rule=\"evenodd\" fill-opacity=\"1\"/>\n",
       "<polyline clip-path=\"url(#clip692)\" style=\"stroke:#f8f8f2; stroke-linecap:round; stroke-linejoin:round; stroke-width:4; stroke-opacity:1; fill:none\" points=\"1621.59,114.803 1621.59,1486.45 1659.9,1486.45 1659.9,114.803 1621.59,114.803 \"/>\n",
       "<path clip-path=\"url(#clip692)\" d=\"M1659.9 117.532 L1659.9 1486.45 L1698.2 1486.45 L1698.2 117.532 L1659.9 117.532 L1659.9 117.532  Z\" fill=\"#8be9fd\" fill-rule=\"evenodd\" fill-opacity=\"1\"/>\n",
       "<polyline clip-path=\"url(#clip692)\" style=\"stroke:#f8f8f2; stroke-linecap:round; stroke-linejoin:round; stroke-width:4; stroke-opacity:1; fill:none\" points=\"1659.9,117.532 1659.9,1486.45 1698.2,1486.45 1698.2,117.532 1659.9,117.532 \"/>\n",
       "<path clip-path=\"url(#clip692)\" d=\"M1698.2 82.7294 L1698.2 1486.45 L1736.5 1486.45 L1736.5 82.7294 L1698.2 82.7294 L1698.2 82.7294  Z\" fill=\"#8be9fd\" fill-rule=\"evenodd\" fill-opacity=\"1\"/>\n",
       "<polyline clip-path=\"url(#clip692)\" style=\"stroke:#f8f8f2; stroke-linecap:round; stroke-linejoin:round; stroke-width:4; stroke-opacity:1; fill:none\" points=\"1698.2,82.7294 1698.2,1486.45 1736.5,1486.45 1736.5,82.7294 1698.2,82.7294 \"/>\n",
       "<path clip-path=\"url(#clip692)\" d=\"M1736.5 119.58 L1736.5 1486.45 L1774.8 1486.45 L1774.8 119.58 L1736.5 119.58 L1736.5 119.58  Z\" fill=\"#8be9fd\" fill-rule=\"evenodd\" fill-opacity=\"1\"/>\n",
       "<polyline clip-path=\"url(#clip692)\" style=\"stroke:#f8f8f2; stroke-linecap:round; stroke-linejoin:round; stroke-width:4; stroke-opacity:1; fill:none\" points=\"1736.5,119.58 1736.5,1486.45 1774.8,1486.45 1774.8,119.58 1736.5,119.58 \"/>\n",
       "<path clip-path=\"url(#clip692)\" d=\"M1774.8 171.443 L1774.8 1486.45 L1813.1 1486.45 L1813.1 171.443 L1774.8 171.443 L1774.8 171.443  Z\" fill=\"#8be9fd\" fill-rule=\"evenodd\" fill-opacity=\"1\"/>\n",
       "<polyline clip-path=\"url(#clip692)\" style=\"stroke:#f8f8f2; stroke-linecap:round; stroke-linejoin:round; stroke-width:4; stroke-opacity:1; fill:none\" points=\"1774.8,171.443 1774.8,1486.45 1813.1,1486.45 1813.1,171.443 1774.8,171.443 \"/>\n",
       "<path clip-path=\"url(#clip692)\" d=\"M1813.1 79.9998 L1813.1 1486.45 L1851.4 1486.45 L1851.4 79.9998 L1813.1 79.9998 L1813.1 79.9998  Z\" fill=\"#8be9fd\" fill-rule=\"evenodd\" fill-opacity=\"1\"/>\n",
       "<polyline clip-path=\"url(#clip692)\" style=\"stroke:#f8f8f2; stroke-linecap:round; stroke-linejoin:round; stroke-width:4; stroke-opacity:1; fill:none\" points=\"1813.1,79.9998 1813.1,1486.45 1851.4,1486.45 1851.4,79.9998 1813.1,79.9998 \"/>\n",
       "<path clip-path=\"url(#clip692)\" d=\"M1851.4 144.829 L1851.4 1486.45 L1889.7 1486.45 L1889.7 144.829 L1851.4 144.829 L1851.4 144.829  Z\" fill=\"#8be9fd\" fill-rule=\"evenodd\" fill-opacity=\"1\"/>\n",
       "<polyline clip-path=\"url(#clip692)\" style=\"stroke:#f8f8f2; stroke-linecap:round; stroke-linejoin:round; stroke-width:4; stroke-opacity:1; fill:none\" points=\"1851.4,144.829 1851.4,1486.45 1889.7,1486.45 1889.7,144.829 1851.4,144.829 \"/>\n",
       "<path clip-path=\"url(#clip692)\" d=\"M1889.7 81.3646 L1889.7 1486.45 L1928 1486.45 L1928 81.3646 L1889.7 81.3646 L1889.7 81.3646  Z\" fill=\"#8be9fd\" fill-rule=\"evenodd\" fill-opacity=\"1\"/>\n",
       "<polyline clip-path=\"url(#clip692)\" style=\"stroke:#f8f8f2; stroke-linecap:round; stroke-linejoin:round; stroke-width:4; stroke-opacity:1; fill:none\" points=\"1889.7,81.3646 1889.7,1486.45 1928,1486.45 1928,81.3646 1889.7,81.3646 \"/>\n",
       "<path clip-path=\"url(#clip692)\" d=\"M1928 127.769 L1928 1486.45 L1966.3 1486.45 L1966.3 127.769 L1928 127.769 L1928 127.769  Z\" fill=\"#8be9fd\" fill-rule=\"evenodd\" fill-opacity=\"1\"/>\n",
       "<polyline clip-path=\"url(#clip692)\" style=\"stroke:#f8f8f2; stroke-linecap:round; stroke-linejoin:round; stroke-width:4; stroke-opacity:1; fill:none\" points=\"1928,127.769 1928,1486.45 1966.3,1486.45 1966.3,127.769 1928,127.769 \"/>\n",
       "<path clip-path=\"url(#clip692)\" d=\"M1966.3 107.979 L1966.3 1486.45 L2004.6 1486.45 L2004.6 107.979 L1966.3 107.979 L1966.3 107.979  Z\" fill=\"#8be9fd\" fill-rule=\"evenodd\" fill-opacity=\"1\"/>\n",
       "<polyline clip-path=\"url(#clip692)\" style=\"stroke:#f8f8f2; stroke-linecap:round; stroke-linejoin:round; stroke-width:4; stroke-opacity:1; fill:none\" points=\"1966.3,107.979 1966.3,1486.45 2004.6,1486.45 2004.6,107.979 1966.3,107.979 \"/>\n",
       "<path clip-path=\"url(#clip692)\" d=\"M2004.6 77.9526 L2004.6 1486.45 L2042.9 1486.45 L2042.9 77.9526 L2004.6 77.9526 L2004.6 77.9526  Z\" fill=\"#8be9fd\" fill-rule=\"evenodd\" fill-opacity=\"1\"/>\n",
       "<polyline clip-path=\"url(#clip692)\" style=\"stroke:#f8f8f2; stroke-linecap:round; stroke-linejoin:round; stroke-width:4; stroke-opacity:1; fill:none\" points=\"2004.6,77.9526 2004.6,1486.45 2042.9,1486.45 2042.9,77.9526 2004.6,77.9526 \"/>\n",
       "<path clip-path=\"url(#clip692)\" d=\"M2042.9 90.9184 L2042.9 1486.45 L2081.2 1486.45 L2081.2 90.9184 L2042.9 90.9184 L2042.9 90.9184  Z\" fill=\"#8be9fd\" fill-rule=\"evenodd\" fill-opacity=\"1\"/>\n",
       "<polyline clip-path=\"url(#clip692)\" style=\"stroke:#f8f8f2; stroke-linecap:round; stroke-linejoin:round; stroke-width:4; stroke-opacity:1; fill:none\" points=\"2042.9,90.9184 2042.9,1486.45 2081.2,1486.45 2081.2,90.9184 2042.9,90.9184 \"/>\n",
       "<path clip-path=\"url(#clip692)\" d=\"M2081.2 109.343 L2081.2 1486.45 L2119.5 1486.45 L2119.5 109.343 L2081.2 109.343 L2081.2 109.343  Z\" fill=\"#8be9fd\" fill-rule=\"evenodd\" fill-opacity=\"1\"/>\n",
       "<polyline clip-path=\"url(#clip692)\" style=\"stroke:#f8f8f2; stroke-linecap:round; stroke-linejoin:round; stroke-width:4; stroke-opacity:1; fill:none\" points=\"2081.2,109.343 2081.2,1486.45 2119.5,1486.45 2119.5,109.343 2081.2,109.343 \"/>\n",
       "<path clip-path=\"url(#clip692)\" d=\"M2119.5 71.8109 L2119.5 1486.45 L2157.81 1486.45 L2157.81 71.8109 L2119.5 71.8109 L2119.5 71.8109  Z\" fill=\"#8be9fd\" fill-rule=\"evenodd\" fill-opacity=\"1\"/>\n",
       "<polyline clip-path=\"url(#clip692)\" style=\"stroke:#f8f8f2; stroke-linecap:round; stroke-linejoin:round; stroke-width:4; stroke-opacity:1; fill:none\" points=\"2119.5,71.8109 2119.5,1486.45 2157.81,1486.45 2157.81,71.8109 2119.5,71.8109 \"/>\n",
       "<path clip-path=\"url(#clip692)\" d=\"M2157.81 117.532 L2157.81 1486.45 L2196.11 1486.45 L2196.11 117.532 L2157.81 117.532 L2157.81 117.532  Z\" fill=\"#8be9fd\" fill-rule=\"evenodd\" fill-opacity=\"1\"/>\n",
       "<polyline clip-path=\"url(#clip692)\" style=\"stroke:#f8f8f2; stroke-linecap:round; stroke-linejoin:round; stroke-width:4; stroke-opacity:1; fill:none\" points=\"2157.81,117.532 2157.81,1486.45 2196.11,1486.45 2196.11,117.532 2157.81,117.532 \"/>\n",
       "<path clip-path=\"url(#clip692)\" d=\"M2196.11 96.3777 L2196.11 1486.45 L2234.41 1486.45 L2234.41 96.3777 L2196.11 96.3777 L2196.11 96.3777  Z\" fill=\"#8be9fd\" fill-rule=\"evenodd\" fill-opacity=\"1\"/>\n",
       "<polyline clip-path=\"url(#clip692)\" style=\"stroke:#f8f8f2; stroke-linecap:round; stroke-linejoin:round; stroke-width:4; stroke-opacity:1; fill:none\" points=\"2196.11,96.3777 2196.11,1486.45 2234.41,1486.45 2234.41,96.3777 2196.11,96.3777 \"/>\n",
       "<circle clip-path=\"url(#clip692)\" style=\"fill:#8be9fd; stroke:none; fill-opacity:0\" cx=\"338.519\" cy=\"161.207\" r=\"2\"/>\n",
       "<circle clip-path=\"url(#clip692)\" style=\"fill:#8be9fd; stroke:none; fill-opacity:0\" cx=\"376.82\" cy=\"152.335\" r=\"2\"/>\n",
       "<circle clip-path=\"url(#clip692)\" style=\"fill:#8be9fd; stroke:none; fill-opacity:0\" cx=\"415.121\" cy=\"93.648\" r=\"2\"/>\n",
       "<circle clip-path=\"url(#clip692)\" style=\"fill:#8be9fd; stroke:none; fill-opacity:0\" cx=\"453.421\" cy=\"71.1285\" r=\"2\"/>\n",
       "<circle clip-path=\"url(#clip692)\" style=\"fill:#8be9fd; stroke:none; fill-opacity:0\" cx=\"491.722\" cy=\"100.472\" r=\"2\"/>\n",
       "<circle clip-path=\"url(#clip692)\" style=\"fill:#8be9fd; stroke:none; fill-opacity:0\" cx=\"530.023\" cy=\"125.039\" r=\"2\"/>\n",
       "<circle clip-path=\"url(#clip692)\" style=\"fill:#8be9fd; stroke:none; fill-opacity:0\" cx=\"568.324\" cy=\"123.674\" r=\"2\"/>\n",
       "<circle clip-path=\"url(#clip692)\" style=\"fill:#8be9fd; stroke:none; fill-opacity:0\" cx=\"606.624\" cy=\"138.687\" r=\"2\"/>\n",
       "<circle clip-path=\"url(#clip692)\" style=\"fill:#8be9fd; stroke:none; fill-opacity:0\" cx=\"644.925\" cy=\"125.039\" r=\"2\"/>\n",
       "<circle clip-path=\"url(#clip692)\" style=\"fill:#8be9fd; stroke:none; fill-opacity:0\" cx=\"683.226\" cy=\"119.58\" r=\"2\"/>\n",
       "<circle clip-path=\"url(#clip692)\" style=\"fill:#8be9fd; stroke:none; fill-opacity:0\" cx=\"721.527\" cy=\"111.391\" r=\"2\"/>\n",
       "<circle clip-path=\"url(#clip692)\" style=\"fill:#8be9fd; stroke:none; fill-opacity:0\" cx=\"759.827\" cy=\"116.85\" r=\"2\"/>\n",
       "<circle clip-path=\"url(#clip692)\" style=\"fill:#8be9fd; stroke:none; fill-opacity:0\" cx=\"798.128\" cy=\"148.241\" r=\"2\"/>\n",
       "<circle clip-path=\"url(#clip692)\" style=\"fill:#8be9fd; stroke:none; fill-opacity:0\" cx=\"836.429\" cy=\"92.9656\" r=\"2\"/>\n",
       "<circle clip-path=\"url(#clip692)\" style=\"fill:#8be9fd; stroke:none; fill-opacity:0\" cx=\"874.73\" cy=\"170.078\" r=\"2\"/>\n",
       "<circle clip-path=\"url(#clip692)\" style=\"fill:#8be9fd; stroke:none; fill-opacity:0\" cx=\"913.03\" cy=\"105.931\" r=\"2\"/>\n",
       "<circle clip-path=\"url(#clip692)\" style=\"fill:#8be9fd; stroke:none; fill-opacity:0\" cx=\"951.331\" cy=\"119.58\" r=\"2\"/>\n",
       "<circle clip-path=\"url(#clip692)\" style=\"fill:#8be9fd; stroke:none; fill-opacity:0\" cx=\"989.632\" cy=\"90.9184\" r=\"2\"/>\n",
       "<circle clip-path=\"url(#clip692)\" style=\"fill:#8be9fd; stroke:none; fill-opacity:0\" cx=\"1027.93\" cy=\"171.443\" r=\"2\"/>\n",
       "<circle clip-path=\"url(#clip692)\" style=\"fill:#8be9fd; stroke:none; fill-opacity:0\" cx=\"1066.23\" cy=\"180.997\" r=\"2\"/>\n",
       "<circle clip-path=\"url(#clip692)\" style=\"fill:#8be9fd; stroke:none; fill-opacity:0\" cx=\"1104.53\" cy=\"97.0601\" r=\"2\"/>\n",
       "<circle clip-path=\"url(#clip692)\" style=\"fill:#8be9fd; stroke:none; fill-opacity:0\" cx=\"1142.83\" cy=\"115.485\" r=\"2\"/>\n",
       "<circle clip-path=\"url(#clip692)\" style=\"fill:#8be9fd; stroke:none; fill-opacity:0\" cx=\"1181.14\" cy=\"199.422\" r=\"2\"/>\n",
       "<circle clip-path=\"url(#clip692)\" style=\"fill:#8be9fd; stroke:none; fill-opacity:0\" cx=\"1219.44\" cy=\"93.648\" r=\"2\"/>\n",
       "<circle clip-path=\"url(#clip692)\" style=\"fill:#8be9fd; stroke:none; fill-opacity:0\" cx=\"1257.74\" cy=\"143.464\" r=\"2\"/>\n",
       "<circle clip-path=\"url(#clip692)\" style=\"fill:#8be9fd; stroke:none; fill-opacity:0\" cx=\"1296.04\" cy=\"152.335\" r=\"2\"/>\n",
       "<circle clip-path=\"url(#clip692)\" style=\"fill:#8be9fd; stroke:none; fill-opacity:0\" cx=\"1334.34\" cy=\"116.168\" r=\"2\"/>\n",
       "<circle clip-path=\"url(#clip692)\" style=\"fill:#8be9fd; stroke:none; fill-opacity:0\" cx=\"1372.64\" cy=\"152.335\" r=\"2\"/>\n",
       "<circle clip-path=\"url(#clip692)\" style=\"fill:#8be9fd; stroke:none; fill-opacity:0\" cx=\"1410.94\" cy=\"172.808\" r=\"2\"/>\n",
       "<circle clip-path=\"url(#clip692)\" style=\"fill:#8be9fd; stroke:none; fill-opacity:0\" cx=\"1449.24\" cy=\"83.4119\" r=\"2\"/>\n",
       "<circle clip-path=\"url(#clip692)\" style=\"fill:#8be9fd; stroke:none; fill-opacity:0\" cx=\"1487.54\" cy=\"158.477\" r=\"2\"/>\n",
       "<circle clip-path=\"url(#clip692)\" style=\"fill:#8be9fd; stroke:none; fill-opacity:0\" cx=\"1525.84\" cy=\"47.2441\" r=\"2\"/>\n",
       "<circle clip-path=\"url(#clip692)\" style=\"fill:#8be9fd; stroke:none; fill-opacity:0\" cx=\"1564.14\" cy=\"100.472\" r=\"2\"/>\n",
       "<circle clip-path=\"url(#clip692)\" style=\"fill:#8be9fd; stroke:none; fill-opacity:0\" cx=\"1602.44\" cy=\"217.847\" r=\"2\"/>\n",
       "<circle clip-path=\"url(#clip692)\" style=\"fill:#8be9fd; stroke:none; fill-opacity:0\" cx=\"1640.74\" cy=\"114.803\" r=\"2\"/>\n",
       "<circle clip-path=\"url(#clip692)\" style=\"fill:#8be9fd; stroke:none; fill-opacity:0\" cx=\"1679.05\" cy=\"117.532\" r=\"2\"/>\n",
       "<circle clip-path=\"url(#clip692)\" style=\"fill:#8be9fd; stroke:none; fill-opacity:0\" cx=\"1717.35\" cy=\"82.7294\" r=\"2\"/>\n",
       "<circle clip-path=\"url(#clip692)\" style=\"fill:#8be9fd; stroke:none; fill-opacity:0\" cx=\"1755.65\" cy=\"119.58\" r=\"2\"/>\n",
       "<circle clip-path=\"url(#clip692)\" style=\"fill:#8be9fd; stroke:none; fill-opacity:0\" cx=\"1793.95\" cy=\"171.443\" r=\"2\"/>\n",
       "<circle clip-path=\"url(#clip692)\" style=\"fill:#8be9fd; stroke:none; fill-opacity:0\" cx=\"1832.25\" cy=\"79.9998\" r=\"2\"/>\n",
       "<circle clip-path=\"url(#clip692)\" style=\"fill:#8be9fd; stroke:none; fill-opacity:0\" cx=\"1870.55\" cy=\"144.829\" r=\"2\"/>\n",
       "<circle clip-path=\"url(#clip692)\" style=\"fill:#8be9fd; stroke:none; fill-opacity:0\" cx=\"1908.85\" cy=\"81.3646\" r=\"2\"/>\n",
       "<circle clip-path=\"url(#clip692)\" style=\"fill:#8be9fd; stroke:none; fill-opacity:0\" cx=\"1947.15\" cy=\"127.769\" r=\"2\"/>\n",
       "<circle clip-path=\"url(#clip692)\" style=\"fill:#8be9fd; stroke:none; fill-opacity:0\" cx=\"1985.45\" cy=\"107.979\" r=\"2\"/>\n",
       "<circle clip-path=\"url(#clip692)\" style=\"fill:#8be9fd; stroke:none; fill-opacity:0\" cx=\"2023.75\" cy=\"77.9526\" r=\"2\"/>\n",
       "<circle clip-path=\"url(#clip692)\" style=\"fill:#8be9fd; stroke:none; fill-opacity:0\" cx=\"2062.05\" cy=\"90.9184\" r=\"2\"/>\n",
       "<circle clip-path=\"url(#clip692)\" style=\"fill:#8be9fd; stroke:none; fill-opacity:0\" cx=\"2100.35\" cy=\"109.343\" r=\"2\"/>\n",
       "<circle clip-path=\"url(#clip692)\" style=\"fill:#8be9fd; stroke:none; fill-opacity:0\" cx=\"2138.65\" cy=\"71.8109\" r=\"2\"/>\n",
       "<circle clip-path=\"url(#clip692)\" style=\"fill:#8be9fd; stroke:none; fill-opacity:0\" cx=\"2176.96\" cy=\"117.532\" r=\"2\"/>\n",
       "<circle clip-path=\"url(#clip692)\" style=\"fill:#8be9fd; stroke:none; fill-opacity:0\" cx=\"2215.26\" cy=\"96.3777\" r=\"2\"/>\n",
       "</svg>\n"
      ]
     },
     "execution_count": 87,
     "metadata": {},
     "output_type": "execute_result"
    }
   ],
   "source": [
    "x = rand(10^5)\n",
    "histogram(x, bins=64, legend=false)"
   ]
  },
  {
   "cell_type": "code",
   "execution_count": 88,
   "metadata": {},
   "outputs": [
    {
     "data": {
      "text/latex": [
       "\\textbf{Normal Distribution}\n",
       "\n"
      ],
      "text/markdown": [
       "**Normal Distribution**\n"
      ],
      "text/plain": [
       "  \u001b[1mNormal Distribution\u001b[22m"
      ]
     },
     "execution_count": 88,
     "metadata": {},
     "output_type": "execute_result"
    }
   ],
   "source": [
    "md\"**Normal Distribution**\""
   ]
  },
  {
   "cell_type": "code",
   "execution_count": 89,
   "metadata": {},
   "outputs": [],
   "source": [
    "?randn;"
   ]
  },
  {
   "cell_type": "code",
   "execution_count": 90,
   "metadata": {},
   "outputs": [
    {
     "data": {
      "image/png": "[encoded data removed]",
      "image/svg+xml": [
       "<?xml version=\"1.0\" encoding=\"utf-8\"?>\n",
       "<svg xmlns=\"http://www.w3.org/2000/svg\" xmlns:xlink=\"http://www.w3.org/1999/xlink\" width=\"600\" height=\"400\" viewBox=\"0 0 2400 1600\">\n",
       "<defs>\n",
       "  <clipPath id=\"clip730\">\n",
       "    <rect x=\"0\" y=\"0\" width=\"2400\" height=\"1600\"/>\n",
       "  </clipPath>\n",
       "</defs>\n",
       "<path clip-path=\"url(#clip730)\" d=\"M0 1600 L2400 1600 L2400 0 L0 0  Z\" fill=\"#282a36\" fill-rule=\"evenodd\" fill-opacity=\"1\"/>\n",
       "<defs>\n",
       "  <clipPath id=\"clip731\">\n",
       "    <rect x=\"480\" y=\"0\" width=\"1681\" height=\"1600\"/>\n",
       "  </clipPath>\n",
       "</defs>\n",
       "<path clip-path=\"url(#clip730)\" d=\"M202.177 1486.45 L2352.76 1486.45 L2352.76 47.2441 L202.177 47.2441  Z\" fill=\"#30343b\" fill-rule=\"evenodd\" fill-opacity=\"1\"/>\n",
       "<defs>\n",
       "  <clipPath id=\"clip732\">\n",
       "    <rect x=\"202\" y=\"47\" width=\"2152\" height=\"1440\"/>\n",
       "  </clipPath>\n",
       "</defs>\n",
       "<polyline clip-path=\"url(#clip732)\" style=\"stroke:#f8f8f2; stroke-linecap:round; stroke-linejoin:round; stroke-width:2; stroke-opacity:0.1; fill:none\" points=\"401.91,1486.45 401.91,47.2441 \"/>\n",
       "<polyline clip-path=\"url(#clip732)\" style=\"stroke:#f8f8f2; stroke-linecap:round; stroke-linejoin:round; stroke-width:2; stroke-opacity:0.1; fill:none\" points=\"809.145,1486.45 809.145,47.2441 \"/>\n",
       "<polyline clip-path=\"url(#clip732)\" style=\"stroke:#f8f8f2; stroke-linecap:round; stroke-linejoin:round; stroke-width:2; stroke-opacity:0.1; fill:none\" points=\"1216.38,1486.45 1216.38,47.2441 \"/>\n",
       "<polyline clip-path=\"url(#clip732)\" style=\"stroke:#f8f8f2; stroke-linecap:round; stroke-linejoin:round; stroke-width:2; stroke-opacity:0.1; fill:none\" points=\"1623.62,1486.45 1623.62,47.2441 \"/>\n",
       "<polyline clip-path=\"url(#clip732)\" style=\"stroke:#f8f8f2; stroke-linecap:round; stroke-linejoin:round; stroke-width:2; stroke-opacity:0.1; fill:none\" points=\"2030.85,1486.45 2030.85,47.2441 \"/>\n",
       "<polyline clip-path=\"url(#clip730)\" style=\"stroke:#f8f8f2; stroke-linecap:round; stroke-linejoin:round; stroke-width:4; stroke-opacity:1; fill:none\" points=\"202.177,1486.45 2352.76,1486.45 \"/>\n",
       "<polyline clip-path=\"url(#clip730)\" style=\"stroke:#f8f8f2; stroke-linecap:round; stroke-linejoin:round; stroke-width:4; stroke-opacity:1; fill:none\" points=\"401.91,1486.45 401.91,1467.55 \"/>\n",
       "<polyline clip-path=\"url(#clip730)\" style=\"stroke:#f8f8f2; stroke-linecap:round; stroke-linejoin:round; stroke-width:4; stroke-opacity:1; fill:none\" points=\"809.145,1486.45 809.145,1467.55 \"/>\n",
       "<polyline clip-path=\"url(#clip730)\" style=\"stroke:#f8f8f2; stroke-linecap:round; stroke-linejoin:round; stroke-width:4; stroke-opacity:1; fill:none\" points=\"1216.38,1486.45 1216.38,1467.55 \"/>\n",
       "<polyline clip-path=\"url(#clip730)\" style=\"stroke:#f8f8f2; stroke-linecap:round; stroke-linejoin:round; stroke-width:4; stroke-opacity:1; fill:none\" points=\"1623.62,1486.45 1623.62,1467.55 \"/>\n",
       "<polyline clip-path=\"url(#clip730)\" style=\"stroke:#f8f8f2; stroke-linecap:round; stroke-linejoin:round; stroke-width:4; stroke-opacity:1; fill:none\" points=\"2030.85,1486.45 2030.85,1467.55 \"/>\n",
       "<path clip-path=\"url(#clip730)\" d=\"M370.81 1532.02 L400.486 1532.02 L400.486 1535.95 L370.81 1535.95 L370.81 1532.02 Z\" fill=\"#f8f8f2\" fill-rule=\"nonzero\" fill-opacity=\"1\" /><path clip-path=\"url(#clip730)\" d=\"M423.426 1518.36 L411.62 1536.81 L423.426 1536.81 L423.426 1518.36 M422.199 1514.29 L428.078 1514.29 L428.078 1536.81 L433.009 1536.81 L433.009 1540.7 L428.078 1540.7 L428.078 1548.85 L423.426 1548.85 L423.426 1540.7 L407.824 1540.7 L407.824 1536.19 L422.199 1514.29 Z\" fill=\"#f8f8f2\" fill-rule=\"nonzero\" fill-opacity=\"1\" /><path clip-path=\"url(#clip730)\" d=\"M779.088 1532.02 L808.763 1532.02 L808.763 1535.95 L779.088 1535.95 L779.088 1532.02 Z\" fill=\"#f8f8f2\" fill-rule=\"nonzero\" fill-opacity=\"1\" /><path clip-path=\"url(#clip730)\" d=\"M822.884 1544.91 L839.203 1544.91 L839.203 1548.85 L817.259 1548.85 L817.259 1544.91 Q819.921 1542.16 824.504 1537.53 Q829.11 1532.88 830.291 1531.53 Q832.536 1529.01 833.416 1527.27 Q834.319 1525.51 834.319 1523.82 Q834.319 1521.07 832.374 1519.33 Q830.453 1517.6 827.351 1517.6 Q825.152 1517.6 822.698 1518.36 Q820.268 1519.13 817.49 1520.68 L817.49 1515.95 Q820.314 1514.82 822.768 1514.24 Q825.222 1513.66 827.259 1513.66 Q832.629 1513.66 835.823 1516.35 Q839.018 1519.03 839.018 1523.52 Q839.018 1525.65 838.208 1527.57 Q837.421 1529.47 835.314 1532.07 Q834.735 1532.74 831.634 1535.95 Q828.532 1539.15 822.884 1544.91 Z\" fill=\"#f8f8f2\" fill-rule=\"nonzero\" fill-opacity=\"1\" /><path clip-path=\"url(#clip730)\" d=\"M1216.38 1517.37 Q1212.77 1517.37 1210.94 1520.93 Q1209.14 1524.47 1209.14 1531.6 Q1209.14 1538.71 1210.94 1542.27 Q1212.77 1545.82 1216.38 1545.82 Q1220.02 1545.82 1221.82 1542.27 Q1223.65 1538.71 1223.65 1531.6 Q1223.65 1524.47 1221.82 1520.93 Q1220.02 1517.37 1216.38 1517.37 M1216.38 1513.66 Q1222.19 1513.66 1225.25 1518.27 Q1228.33 1522.85 1228.33 1531.6 Q1228.33 1540.33 1225.25 1544.94 Q1222.19 1549.52 1216.38 1549.52 Q1210.57 1549.52 1207.49 1544.94 Q1204.44 1540.33 1204.44 1531.6 Q1204.44 1522.85 1207.49 1518.27 Q1210.57 1513.66 1216.38 1513.66 Z\" fill=\"#f8f8f2\" fill-rule=\"nonzero\" fill-opacity=\"1\" /><path clip-path=\"url(#clip730)\" d=\"M1618.27 1544.91 L1634.59 1544.91 L1634.59 1548.85 L1612.64 1548.85 L1612.64 1544.91 Q1615.31 1542.16 1619.89 1537.53 Q1624.5 1532.88 1625.68 1531.53 Q1627.92 1529.01 1628.8 1527.27 Q1629.7 1525.51 1629.7 1523.82 Q1629.7 1521.07 1627.76 1519.33 Q1625.84 1517.6 1622.74 1517.6 Q1620.54 1517.6 1618.08 1518.36 Q1615.65 1519.13 1612.88 1520.68 L1612.88 1515.95 Q1615.7 1514.82 1618.15 1514.24 Q1620.61 1513.66 1622.64 1513.66 Q1628.01 1513.66 1631.21 1516.35 Q1634.4 1519.03 1634.4 1523.52 Q1634.4 1525.65 1633.59 1527.57 Q1632.81 1529.47 1630.7 1532.07 Q1630.12 1532.74 1627.02 1535.95 Q1623.92 1539.15 1618.27 1544.91 Z\" fill=\"#f8f8f2\" fill-rule=\"nonzero\" fill-opacity=\"1\" /><path clip-path=\"url(#clip730)\" d=\"M2033.86 1518.36 L2022.06 1536.81 L2033.86 1536.81 L2033.86 1518.36 M2032.63 1514.29 L2038.51 1514.29 L2038.51 1536.81 L2043.44 1536.81 L2043.44 1540.7 L2038.51 1540.7 L2038.51 1548.85 L2033.86 1548.85 L2033.86 1540.7 L2018.26 1540.7 L2018.26 1536.19 L2032.63 1514.29 Z\" fill=\"#f8f8f2\" fill-rule=\"nonzero\" fill-opacity=\"1\" /><polyline clip-path=\"url(#clip732)\" style=\"stroke:#f8f8f2; stroke-linecap:round; stroke-linejoin:round; stroke-width:2; stroke-opacity:0.1; fill:none\" points=\"202.177,1486.45 2352.76,1486.45 \"/>\n",
       "<polyline clip-path=\"url(#clip732)\" style=\"stroke:#f8f8f2; stroke-linecap:round; stroke-linejoin:round; stroke-width:2; stroke-opacity:0.1; fill:none\" points=\"202.177,1127.9 2352.76,1127.9 \"/>\n",
       "<polyline clip-path=\"url(#clip732)\" style=\"stroke:#f8f8f2; stroke-linecap:round; stroke-linejoin:round; stroke-width:2; stroke-opacity:0.1; fill:none\" points=\"202.177,769.356 2352.76,769.356 \"/>\n",
       "<polyline clip-path=\"url(#clip732)\" style=\"stroke:#f8f8f2; stroke-linecap:round; stroke-linejoin:round; stroke-width:2; stroke-opacity:0.1; fill:none\" points=\"202.177,410.81 2352.76,410.81 \"/>\n",
       "<polyline clip-path=\"url(#clip732)\" style=\"stroke:#f8f8f2; stroke-linecap:round; stroke-linejoin:round; stroke-width:2; stroke-opacity:0.1; fill:none\" points=\"202.177,52.2637 2352.76,52.2637 \"/>\n",
       "<polyline clip-path=\"url(#clip730)\" style=\"stroke:#f8f8f2; stroke-linecap:round; stroke-linejoin:round; stroke-width:4; stroke-opacity:1; fill:none\" points=\"202.177,1486.45 202.177,47.2441 \"/>\n",
       "<polyline clip-path=\"url(#clip730)\" style=\"stroke:#f8f8f2; stroke-linecap:round; stroke-linejoin:round; stroke-width:4; stroke-opacity:1; fill:none\" points=\"202.177,1486.45 221.074,1486.45 \"/>\n",
       "<polyline clip-path=\"url(#clip730)\" style=\"stroke:#f8f8f2; stroke-linecap:round; stroke-linejoin:round; stroke-width:4; stroke-opacity:1; fill:none\" points=\"202.177,1127.9 221.074,1127.9 \"/>\n",
       "<polyline clip-path=\"url(#clip730)\" style=\"stroke:#f8f8f2; stroke-linecap:round; stroke-linejoin:round; stroke-width:4; stroke-opacity:1; fill:none\" points=\"202.177,769.356 221.074,769.356 \"/>\n",
       "<polyline clip-path=\"url(#clip730)\" style=\"stroke:#f8f8f2; stroke-linecap:round; stroke-linejoin:round; stroke-width:4; stroke-opacity:1; fill:none\" points=\"202.177,410.81 221.074,410.81 \"/>\n",
       "<polyline clip-path=\"url(#clip730)\" style=\"stroke:#f8f8f2; stroke-linecap:round; stroke-linejoin:round; stroke-width:4; stroke-opacity:1; fill:none\" points=\"202.177,52.2637 221.074,52.2637 \"/>\n",
       "<path clip-path=\"url(#clip730)\" d=\"M154.232 1472.25 Q150.621 1472.25 148.793 1475.81 Q146.987 1479.35 146.987 1486.48 Q146.987 1493.59 148.793 1497.15 Q150.621 1500.7 154.232 1500.7 Q157.867 1500.7 159.672 1497.15 Q161.501 1493.59 161.501 1486.48 Q161.501 1479.35 159.672 1475.81 Q157.867 1472.25 154.232 1472.25 M154.232 1468.54 Q160.042 1468.54 163.098 1473.15 Q166.177 1477.73 166.177 1486.48 Q166.177 1495.21 163.098 1499.82 Q160.042 1504.4 154.232 1504.4 Q148.422 1504.4 145.343 1499.82 Q142.288 1495.21 142.288 1486.48 Q142.288 1477.73 145.343 1473.15 Q148.422 1468.54 154.232 1468.54 Z\" fill=\"#f8f8f2\" fill-rule=\"nonzero\" fill-opacity=\"1\" /><path clip-path=\"url(#clip730)\" d=\"M57.7745 1141.25 L74.0939 1141.25 L74.0939 1145.18 L52.1495 1145.18 L52.1495 1141.25 Q54.8115 1138.49 59.3949 1133.86 Q64.0013 1129.21 65.1819 1127.87 Q67.4272 1125.34 68.3068 1123.61 Q69.2096 1121.85 69.2096 1120.16 Q69.2096 1117.4 67.2652 1115.67 Q65.3439 1113.93 62.2421 1113.93 Q60.043 1113.93 57.5893 1114.7 Q55.1588 1115.46 52.381 1117.01 L52.381 1112.29 Q55.2051 1111.15 57.6588 1110.58 Q60.1124 1110 62.1495 1110 Q67.5198 1110 70.7142 1112.68 Q73.9087 1115.37 73.9087 1119.86 Q73.9087 1121.99 73.0985 1123.91 Q72.3115 1125.81 70.205 1128.4 Q69.6263 1129.07 66.5245 1132.29 Q63.4226 1135.48 57.7745 1141.25 Z\" fill=\"#f8f8f2\" fill-rule=\"nonzero\" fill-opacity=\"1\" /><path clip-path=\"url(#clip730)\" d=\"M93.9086 1113.7 Q90.2975 1113.7 88.4688 1117.27 Q86.6632 1120.81 86.6632 1127.94 Q86.6632 1135.04 88.4688 1138.61 Q90.2975 1142.15 93.9086 1142.15 Q97.5428 1142.15 99.3483 1138.61 Q101.177 1135.04 101.177 1127.94 Q101.177 1120.81 99.3483 1117.27 Q97.5428 1113.7 93.9086 1113.7 M93.9086 1110 Q99.7187 1110 102.774 1114.6 Q105.853 1119.19 105.853 1127.94 Q105.853 1136.66 102.774 1141.27 Q99.7187 1145.85 93.9086 1145.85 Q88.0984 1145.85 85.0197 1141.27 Q81.9642 1136.66 81.9642 1127.94 Q81.9642 1119.19 85.0197 1114.6 Q88.0984 1110 93.9086 1110 Z\" fill=\"#f8f8f2\" fill-rule=\"nonzero\" fill-opacity=\"1\" /><path clip-path=\"url(#clip730)\" d=\"M124.07 1113.7 Q120.459 1113.7 118.631 1117.27 Q116.825 1120.81 116.825 1127.94 Q116.825 1135.04 118.631 1138.61 Q120.459 1142.15 124.07 1142.15 Q127.705 1142.15 129.51 1138.61 Q131.339 1135.04 131.339 1127.94 Q131.339 1120.81 129.51 1117.27 Q127.705 1113.7 124.07 1113.7 M124.07 1110 Q129.881 1110 132.936 1114.6 Q136.015 1119.19 136.015 1127.94 Q136.015 1136.66 132.936 1141.27 Q129.881 1145.85 124.07 1145.85 Q118.26 1145.85 115.182 1141.27 Q112.126 1136.66 112.126 1127.94 Q112.126 1119.19 115.182 1114.6 Q118.26 1110 124.07 1110 Z\" fill=\"#f8f8f2\" fill-rule=\"nonzero\" fill-opacity=\"1\" /><path clip-path=\"url(#clip730)\" d=\"M154.232 1113.7 Q150.621 1113.7 148.793 1117.27 Q146.987 1120.81 146.987 1127.94 Q146.987 1135.04 148.793 1138.61 Q150.621 1142.15 154.232 1142.15 Q157.867 1142.15 159.672 1138.61 Q161.501 1135.04 161.501 1127.94 Q161.501 1120.81 159.672 1117.27 Q157.867 1113.7 154.232 1113.7 M154.232 1110 Q160.042 1110 163.098 1114.6 Q166.177 1119.19 166.177 1127.94 Q166.177 1136.66 163.098 1141.27 Q160.042 1145.85 154.232 1145.85 Q148.422 1145.85 145.343 1141.27 Q142.288 1136.66 142.288 1127.94 Q142.288 1119.19 145.343 1114.6 Q148.422 1110 154.232 1110 Z\" fill=\"#f8f8f2\" fill-rule=\"nonzero\" fill-opacity=\"1\" /><path clip-path=\"url(#clip730)\" d=\"M66.5939 756.15 L54.7884 774.599 L66.5939 774.599 L66.5939 756.15 M65.367 752.076 L71.2466 752.076 L71.2466 774.599 L76.1772 774.599 L76.1772 778.488 L71.2466 778.488 L71.2466 786.636 L66.5939 786.636 L66.5939 778.488 L50.9921 778.488 L50.9921 773.974 L65.367 752.076 Z\" fill=\"#f8f8f2\" fill-rule=\"nonzero\" fill-opacity=\"1\" /><path clip-path=\"url(#clip730)\" d=\"M93.9086 755.154 Q90.2975 755.154 88.4688 758.719 Q86.6632 762.261 86.6632 769.391 Q86.6632 776.497 88.4688 780.062 Q90.2975 783.603 93.9086 783.603 Q97.5428 783.603 99.3483 780.062 Q101.177 776.497 101.177 769.391 Q101.177 762.261 99.3483 758.719 Q97.5428 755.154 93.9086 755.154 M93.9086 751.451 Q99.7187 751.451 102.774 756.057 Q105.853 760.641 105.853 769.391 Q105.853 778.117 102.774 782.724 Q99.7187 787.307 93.9086 787.307 Q88.0984 787.307 85.0197 782.724 Q81.9642 778.117 81.9642 769.391 Q81.9642 760.641 85.0197 756.057 Q88.0984 751.451 93.9086 751.451 Z\" fill=\"#f8f8f2\" fill-rule=\"nonzero\" fill-opacity=\"1\" /><path clip-path=\"url(#clip730)\" d=\"M124.07 755.154 Q120.459 755.154 118.631 758.719 Q116.825 762.261 116.825 769.391 Q116.825 776.497 118.631 780.062 Q120.459 783.603 124.07 783.603 Q127.705 783.603 129.51 780.062 Q131.339 776.497 131.339 769.391 Q131.339 762.261 129.51 758.719 Q127.705 755.154 124.07 755.154 M124.07 751.451 Q129.881 751.451 132.936 756.057 Q136.015 760.641 136.015 769.391 Q136.015 778.117 132.936 782.724 Q129.881 787.307 124.07 787.307 Q118.26 787.307 115.182 782.724 Q112.126 778.117 112.126 769.391 Q112.126 760.641 115.182 756.057 Q118.26 751.451 124.07 751.451 Z\" fill=\"#f8f8f2\" fill-rule=\"nonzero\" fill-opacity=\"1\" /><path clip-path=\"url(#clip730)\" d=\"M154.232 755.154 Q150.621 755.154 148.793 758.719 Q146.987 762.261 146.987 769.391 Q146.987 776.497 148.793 780.062 Q150.621 783.603 154.232 783.603 Q157.867 783.603 159.672 780.062 Q161.501 776.497 161.501 769.391 Q161.501 762.261 159.672 758.719 Q157.867 755.154 154.232 755.154 M154.232 751.451 Q160.042 751.451 163.098 756.057 Q166.177 760.641 166.177 769.391 Q166.177 778.117 163.098 782.724 Q160.042 787.307 154.232 787.307 Q148.422 787.307 145.343 782.724 Q142.288 778.117 142.288 769.391 Q142.288 760.641 145.343 756.057 Q148.422 751.451 154.232 751.451 Z\" fill=\"#f8f8f2\" fill-rule=\"nonzero\" fill-opacity=\"1\" /><path clip-path=\"url(#clip730)\" d=\"M64.3254 408.946 Q61.1773 408.946 59.3254 411.099 Q57.4967 413.252 57.4967 417.002 Q57.4967 420.729 59.3254 422.905 Q61.1773 425.057 64.3254 425.057 Q67.4735 425.057 69.3022 422.905 Q71.1541 420.729 71.1541 417.002 Q71.1541 413.252 69.3022 411.099 Q67.4735 408.946 64.3254 408.946 M73.6077 394.294 L73.6077 398.553 Q71.8485 397.72 70.0429 397.28 Q68.2606 396.84 66.5013 396.84 Q61.8717 396.84 59.418 399.965 Q56.9875 403.09 56.6402 409.409 Q58.006 407.395 60.0662 406.331 Q62.1263 405.243 64.6032 405.243 Q69.8115 405.243 72.8207 408.414 Q75.8531 411.562 75.8531 417.002 Q75.8531 422.326 72.705 425.543 Q69.5568 428.761 64.3254 428.761 Q58.33 428.761 55.1588 424.178 Q51.9875 419.571 51.9875 410.844 Q51.9875 402.65 55.8764 397.789 Q59.7652 392.905 66.3161 392.905 Q68.0754 392.905 69.8578 393.252 Q71.6633 393.599 73.6077 394.294 Z\" fill=\"#f8f8f2\" fill-rule=\"nonzero\" fill-opacity=\"1\" /><path clip-path=\"url(#clip730)\" d=\"M93.9086 396.608 Q90.2975 396.608 88.4688 400.173 Q86.6632 403.715 86.6632 410.844 Q86.6632 417.951 88.4688 421.516 Q90.2975 425.057 93.9086 425.057 Q97.5428 425.057 99.3483 421.516 Q101.177 417.951 101.177 410.844 Q101.177 403.715 99.3483 400.173 Q97.5428 396.608 93.9086 396.608 M93.9086 392.905 Q99.7187 392.905 102.774 397.511 Q105.853 402.095 105.853 410.844 Q105.853 419.571 102.774 424.178 Q99.7187 428.761 93.9086 428.761 Q88.0984 428.761 85.0197 424.178 Q81.9642 419.571 81.9642 410.844 Q81.9642 402.095 85.0197 397.511 Q88.0984 392.905 93.9086 392.905 Z\" fill=\"#f8f8f2\" fill-rule=\"nonzero\" fill-opacity=\"1\" /><path clip-path=\"url(#clip730)\" d=\"M124.07 396.608 Q120.459 396.608 118.631 400.173 Q116.825 403.715 116.825 410.844 Q116.825 417.951 118.631 421.516 Q120.459 425.057 124.07 425.057 Q127.705 425.057 129.51 421.516 Q131.339 417.951 131.339 410.844 Q131.339 403.715 129.51 400.173 Q127.705 396.608 124.07 396.608 M124.07 392.905 Q129.881 392.905 132.936 397.511 Q136.015 402.095 136.015 410.844 Q136.015 419.571 132.936 424.178 Q129.881 428.761 124.07 428.761 Q118.26 428.761 115.182 424.178 Q112.126 419.571 112.126 410.844 Q112.126 402.095 115.182 397.511 Q118.26 392.905 124.07 392.905 Z\" fill=\"#f8f8f2\" fill-rule=\"nonzero\" fill-opacity=\"1\" /><path clip-path=\"url(#clip730)\" d=\"M154.232 396.608 Q150.621 396.608 148.793 400.173 Q146.987 403.715 146.987 410.844 Q146.987 417.951 148.793 421.516 Q150.621 425.057 154.232 425.057 Q157.867 425.057 159.672 421.516 Q161.501 417.951 161.501 410.844 Q161.501 403.715 159.672 400.173 Q157.867 396.608 154.232 396.608 M154.232 392.905 Q160.042 392.905 163.098 397.511 Q166.177 402.095 166.177 410.844 Q166.177 419.571 163.098 424.178 Q160.042 428.761 154.232 428.761 Q148.422 428.761 145.343 424.178 Q142.288 419.571 142.288 410.844 Q142.288 402.095 145.343 397.511 Q148.422 392.905 154.232 392.905 Z\" fill=\"#f8f8f2\" fill-rule=\"nonzero\" fill-opacity=\"1\" /><path clip-path=\"url(#clip730)\" d=\"M63.7467 53.1318 Q60.4134 53.1318 58.4921 54.9142 Q56.5939 56.6966 56.5939 59.8216 Q56.5939 62.9466 58.4921 64.7289 Q60.4134 66.5113 63.7467 66.5113 Q67.08 66.5113 69.0013 64.7289 Q70.9226 62.9234 70.9226 59.8216 Q70.9226 56.6966 69.0013 54.9142 Q67.1032 53.1318 63.7467 53.1318 M59.0708 51.1411 Q56.0615 50.4003 54.3717 48.3401 Q52.7051 46.28 52.7051 43.317 Q52.7051 39.1735 55.6449 36.7661 Q58.6078 34.3587 63.7467 34.3587 Q68.9087 34.3587 71.8485 36.7661 Q74.7883 39.1735 74.7883 43.317 Q74.7883 46.28 73.0985 48.3401 Q71.4318 50.4003 68.4457 51.1411 Q71.8253 51.9281 73.7003 54.2197 Q75.5985 56.5114 75.5985 59.8216 Q75.5985 64.8447 72.5198 67.5299 Q69.4642 70.215 63.7467 70.215 Q58.0291 70.215 54.9504 67.5299 Q51.8949 64.8447 51.8949 59.8216 Q51.8949 56.5114 53.793 54.2197 Q55.6912 51.9281 59.0708 51.1411 M57.3578 43.7568 Q57.3578 46.442 59.0245 47.9466 Q60.7143 49.4513 63.7467 49.4513 Q66.7559 49.4513 68.4457 47.9466 Q70.1587 46.442 70.1587 43.7568 Q70.1587 41.0717 68.4457 39.567 Q66.7559 38.0624 63.7467 38.0624 Q60.7143 38.0624 59.0245 39.567 Q57.3578 41.0717 57.3578 43.7568 Z\" fill=\"#f8f8f2\" fill-rule=\"nonzero\" fill-opacity=\"1\" /><path clip-path=\"url(#clip730)\" d=\"M93.9086 38.0624 Q90.2975 38.0624 88.4688 41.6272 Q86.6632 45.1689 86.6632 52.2985 Q86.6632 59.4049 88.4688 62.9697 Q90.2975 66.5113 93.9086 66.5113 Q97.5428 66.5113 99.3483 62.9697 Q101.177 59.4049 101.177 52.2985 Q101.177 45.1689 99.3483 41.6272 Q97.5428 38.0624 93.9086 38.0624 M93.9086 34.3587 Q99.7187 34.3587 102.774 38.9652 Q105.853 43.5485 105.853 52.2985 Q105.853 61.0253 102.774 65.6317 Q99.7187 70.215 93.9086 70.215 Q88.0984 70.215 85.0197 65.6317 Q81.9642 61.0253 81.9642 52.2985 Q81.9642 43.5485 85.0197 38.9652 Q88.0984 34.3587 93.9086 34.3587 Z\" fill=\"#f8f8f2\" fill-rule=\"nonzero\" fill-opacity=\"1\" /><path clip-path=\"url(#clip730)\" d=\"M124.07 38.0624 Q120.459 38.0624 118.631 41.6272 Q116.825 45.1689 116.825 52.2985 Q116.825 59.4049 118.631 62.9697 Q120.459 66.5113 124.07 66.5113 Q127.705 66.5113 129.51 62.9697 Q131.339 59.4049 131.339 52.2985 Q131.339 45.1689 129.51 41.6272 Q127.705 38.0624 124.07 38.0624 M124.07 34.3587 Q129.881 34.3587 132.936 38.9652 Q136.015 43.5485 136.015 52.2985 Q136.015 61.0253 132.936 65.6317 Q129.881 70.215 124.07 70.215 Q118.26 70.215 115.182 65.6317 Q112.126 61.0253 112.126 52.2985 Q112.126 43.5485 115.182 38.9652 Q118.26 34.3587 124.07 34.3587 Z\" fill=\"#f8f8f2\" fill-rule=\"nonzero\" fill-opacity=\"1\" /><path clip-path=\"url(#clip730)\" d=\"M154.232 38.0624 Q150.621 38.0624 148.793 41.6272 Q146.987 45.1689 146.987 52.2985 Q146.987 59.4049 148.793 62.9697 Q150.621 66.5113 154.232 66.5113 Q157.867 66.5113 159.672 62.9697 Q161.501 59.4049 161.501 52.2985 Q161.501 45.1689 159.672 41.6272 Q157.867 38.0624 154.232 38.0624 M154.232 34.3587 Q160.042 34.3587 163.098 38.9652 Q166.177 43.5485 166.177 52.2985 Q166.177 61.0253 163.098 65.6317 Q160.042 70.215 154.232 70.215 Q148.422 70.215 145.343 65.6317 Q142.288 61.0253 142.288 52.2985 Q142.288 43.5485 145.343 38.9652 Q148.422 34.3587 154.232 34.3587 Z\" fill=\"#f8f8f2\" fill-rule=\"nonzero\" fill-opacity=\"1\" /><path clip-path=\"url(#clip732)\" d=\"M320.462 1486.27 L320.462 1486.45 L361.186 1486.45 L361.186 1486.27 L320.462 1486.27 L320.462 1486.27  Z\" fill=\"#8be9fd\" fill-rule=\"evenodd\" fill-opacity=\"1\"/>\n",
       "<polyline clip-path=\"url(#clip732)\" style=\"stroke:#f8f8f2; stroke-linecap:round; stroke-linejoin:round; stroke-width:4; stroke-opacity:1; fill:none\" points=\"320.462,1486.27 320.462,1486.45 361.186,1486.45 361.186,1486.27 320.462,1486.27 \"/>\n",
       "<path clip-path=\"url(#clip732)\" d=\"M361.186 1485.73 L361.186 1486.45 L401.91 1486.45 L401.91 1485.73 L361.186 1485.73 L361.186 1485.73  Z\" fill=\"#8be9fd\" fill-rule=\"evenodd\" fill-opacity=\"1\"/>\n",
       "<polyline clip-path=\"url(#clip732)\" style=\"stroke:#f8f8f2; stroke-linecap:round; stroke-linejoin:round; stroke-width:4; stroke-opacity:1; fill:none\" points=\"361.186,1485.73 361.186,1486.45 401.91,1486.45 401.91,1485.73 361.186,1485.73 \"/>\n",
       "<path clip-path=\"url(#clip732)\" d=\"M401.91 1485.91 L401.91 1486.45 L442.633 1486.45 L442.633 1485.91 L401.91 1485.91 L401.91 1485.91  Z\" fill=\"#8be9fd\" fill-rule=\"evenodd\" fill-opacity=\"1\"/>\n",
       "<polyline clip-path=\"url(#clip732)\" style=\"stroke:#f8f8f2; stroke-linecap:round; stroke-linejoin:round; stroke-width:4; stroke-opacity:1; fill:none\" points=\"401.91,1485.91 401.91,1486.45 442.633,1486.45 442.633,1485.91 401.91,1485.91 \"/>\n",
       "<path clip-path=\"url(#clip732)\" d=\"M442.633 1484.66 L442.633 1486.45 L483.357 1486.45 L483.357 1484.66 L442.633 1484.66 L442.633 1484.66  Z\" fill=\"#8be9fd\" fill-rule=\"evenodd\" fill-opacity=\"1\"/>\n",
       "<polyline clip-path=\"url(#clip732)\" style=\"stroke:#f8f8f2; stroke-linecap:round; stroke-linejoin:round; stroke-width:4; stroke-opacity:1; fill:none\" points=\"442.633,1484.66 442.633,1486.45 483.357,1486.45 483.357,1484.66 442.633,1484.66 \"/>\n",
       "<path clip-path=\"url(#clip732)\" d=\"M483.357 1483.4 L483.357 1486.45 L524.08 1486.45 L524.08 1483.4 L483.357 1483.4 L483.357 1483.4  Z\" fill=\"#8be9fd\" fill-rule=\"evenodd\" fill-opacity=\"1\"/>\n",
       "<polyline clip-path=\"url(#clip732)\" style=\"stroke:#f8f8f2; stroke-linecap:round; stroke-linejoin:round; stroke-width:4; stroke-opacity:1; fill:none\" points=\"483.357,1483.4 483.357,1486.45 524.08,1486.45 524.08,1483.4 483.357,1483.4 \"/>\n",
       "<path clip-path=\"url(#clip732)\" d=\"M524.08 1479.81 L524.08 1486.45 L564.804 1486.45 L564.804 1479.81 L524.08 1479.81 L524.08 1479.81  Z\" fill=\"#8be9fd\" fill-rule=\"evenodd\" fill-opacity=\"1\"/>\n",
       "<polyline clip-path=\"url(#clip732)\" style=\"stroke:#f8f8f2; stroke-linecap:round; stroke-linejoin:round; stroke-width:4; stroke-opacity:1; fill:none\" points=\"524.08,1479.81 524.08,1486.45 564.804,1486.45 564.804,1479.81 524.08,1479.81 \"/>\n",
       "<path clip-path=\"url(#clip732)\" d=\"M564.804 1476.77 L564.804 1486.45 L605.527 1486.45 L605.527 1476.77 L564.804 1476.77 L564.804 1476.77  Z\" fill=\"#8be9fd\" fill-rule=\"evenodd\" fill-opacity=\"1\"/>\n",
       "<polyline clip-path=\"url(#clip732)\" style=\"stroke:#f8f8f2; stroke-linecap:round; stroke-linejoin:round; stroke-width:4; stroke-opacity:1; fill:none\" points=\"564.804,1476.77 564.804,1486.45 605.527,1486.45 605.527,1476.77 564.804,1476.77 \"/>\n",
       "<path clip-path=\"url(#clip732)\" d=\"M605.527 1466.37 L605.527 1486.45 L646.251 1486.45 L646.251 1466.37 L605.527 1466.37 L605.527 1466.37  Z\" fill=\"#8be9fd\" fill-rule=\"evenodd\" fill-opacity=\"1\"/>\n",
       "<polyline clip-path=\"url(#clip732)\" style=\"stroke:#f8f8f2; stroke-linecap:round; stroke-linejoin:round; stroke-width:4; stroke-opacity:1; fill:none\" points=\"605.527,1466.37 605.527,1486.45 646.251,1486.45 646.251,1466.37 605.527,1466.37 \"/>\n",
       "<path clip-path=\"url(#clip732)\" d=\"M646.251 1450.95 L646.251 1486.45 L686.975 1486.45 L686.975 1450.95 L646.251 1450.95 L646.251 1450.95  Z\" fill=\"#8be9fd\" fill-rule=\"evenodd\" fill-opacity=\"1\"/>\n",
       "<polyline clip-path=\"url(#clip732)\" style=\"stroke:#f8f8f2; stroke-linecap:round; stroke-linejoin:round; stroke-width:4; stroke-opacity:1; fill:none\" points=\"646.251,1450.95 646.251,1486.45 686.975,1486.45 686.975,1450.95 646.251,1450.95 \"/>\n",
       "<path clip-path=\"url(#clip732)\" d=\"M686.975 1420.48 L686.975 1486.45 L727.698 1486.45 L727.698 1420.48 L686.975 1420.48 L686.975 1420.48  Z\" fill=\"#8be9fd\" fill-rule=\"evenodd\" fill-opacity=\"1\"/>\n",
       "<polyline clip-path=\"url(#clip732)\" style=\"stroke:#f8f8f2; stroke-linecap:round; stroke-linejoin:round; stroke-width:4; stroke-opacity:1; fill:none\" points=\"686.975,1420.48 686.975,1486.45 727.698,1486.45 727.698,1420.48 686.975,1420.48 \"/>\n",
       "<path clip-path=\"url(#clip732)\" d=\"M727.698 1377.81 L727.698 1486.45 L768.422 1486.45 L768.422 1377.81 L727.698 1377.81 L727.698 1377.81  Z\" fill=\"#8be9fd\" fill-rule=\"evenodd\" fill-opacity=\"1\"/>\n",
       "<polyline clip-path=\"url(#clip732)\" style=\"stroke:#f8f8f2; stroke-linecap:round; stroke-linejoin:round; stroke-width:4; stroke-opacity:1; fill:none\" points=\"727.698,1377.81 727.698,1486.45 768.422,1486.45 768.422,1377.81 727.698,1377.81 \"/>\n",
       "<path clip-path=\"url(#clip732)\" d=\"M768.422 1329.23 L768.422 1486.45 L809.145 1486.45 L809.145 1329.23 L768.422 1329.23 L768.422 1329.23  Z\" fill=\"#8be9fd\" fill-rule=\"evenodd\" fill-opacity=\"1\"/>\n",
       "<polyline clip-path=\"url(#clip732)\" style=\"stroke:#f8f8f2; stroke-linecap:round; stroke-linejoin:round; stroke-width:4; stroke-opacity:1; fill:none\" points=\"768.422,1329.23 768.422,1486.45 809.145,1486.45 809.145,1329.23 768.422,1329.23 \"/>\n",
       "<path clip-path=\"url(#clip732)\" d=\"M809.145 1244.43 L809.145 1486.45 L849.869 1486.45 L849.869 1244.43 L809.145 1244.43 L809.145 1244.43  Z\" fill=\"#8be9fd\" fill-rule=\"evenodd\" fill-opacity=\"1\"/>\n",
       "<polyline clip-path=\"url(#clip732)\" style=\"stroke:#f8f8f2; stroke-linecap:round; stroke-linejoin:round; stroke-width:4; stroke-opacity:1; fill:none\" points=\"809.145,1244.43 809.145,1486.45 849.869,1486.45 849.869,1244.43 809.145,1244.43 \"/>\n",
       "<path clip-path=\"url(#clip732)\" d=\"M849.869 1143.86 L849.869 1486.45 L890.592 1486.45 L890.592 1143.86 L849.869 1143.86 L849.869 1143.86  Z\" fill=\"#8be9fd\" fill-rule=\"evenodd\" fill-opacity=\"1\"/>\n",
       "<polyline clip-path=\"url(#clip732)\" style=\"stroke:#f8f8f2; stroke-linecap:round; stroke-linejoin:round; stroke-width:4; stroke-opacity:1; fill:none\" points=\"849.869,1143.86 849.869,1486.45 890.592,1486.45 890.592,1143.86 849.869,1143.86 \"/>\n",
       "<path clip-path=\"url(#clip732)\" d=\"M890.592 1035.93 L890.592 1486.45 L931.316 1486.45 L931.316 1035.93 L890.592 1035.93 L890.592 1035.93  Z\" fill=\"#8be9fd\" fill-rule=\"evenodd\" fill-opacity=\"1\"/>\n",
       "<polyline clip-path=\"url(#clip732)\" style=\"stroke:#f8f8f2; stroke-linecap:round; stroke-linejoin:round; stroke-width:4; stroke-opacity:1; fill:none\" points=\"890.592,1035.93 890.592,1486.45 931.316,1486.45 931.316,1035.93 890.592,1035.93 \"/>\n",
       "<path clip-path=\"url(#clip732)\" d=\"M931.316 890.903 L931.316 1486.45 L972.04 1486.45 L972.04 890.903 L931.316 890.903 L931.316 890.903  Z\" fill=\"#8be9fd\" fill-rule=\"evenodd\" fill-opacity=\"1\"/>\n",
       "<polyline clip-path=\"url(#clip732)\" style=\"stroke:#f8f8f2; stroke-linecap:round; stroke-linejoin:round; stroke-width:4; stroke-opacity:1; fill:none\" points=\"931.316,890.903 931.316,1486.45 972.04,1486.45 972.04,890.903 931.316,890.903 \"/>\n",
       "<path clip-path=\"url(#clip732)\" d=\"M972.04 707.686 L972.04 1486.45 L1012.76 1486.45 L1012.76 707.686 L972.04 707.686 L972.04 707.686  Z\" fill=\"#8be9fd\" fill-rule=\"evenodd\" fill-opacity=\"1\"/>\n",
       "<polyline clip-path=\"url(#clip732)\" style=\"stroke:#f8f8f2; stroke-linecap:round; stroke-linejoin:round; stroke-width:4; stroke-opacity:1; fill:none\" points=\"972.04,707.686 972.04,1486.45 1012.76,1486.45 1012.76,707.686 972.04,707.686 \"/>\n",
       "<path clip-path=\"url(#clip732)\" d=\"M1012.76 528.771 L1012.76 1486.45 L1053.49 1486.45 L1053.49 528.771 L1012.76 528.771 L1012.76 528.771  Z\" fill=\"#8be9fd\" fill-rule=\"evenodd\" fill-opacity=\"1\"/>\n",
       "<polyline clip-path=\"url(#clip732)\" style=\"stroke:#f8f8f2; stroke-linecap:round; stroke-linejoin:round; stroke-width:4; stroke-opacity:1; fill:none\" points=\"1012.76,528.771 1012.76,1486.45 1053.49,1486.45 1053.49,528.771 1012.76,528.771 \"/>\n",
       "<path clip-path=\"url(#clip732)\" d=\"M1053.49 338.204 L1053.49 1486.45 L1094.21 1486.45 L1094.21 338.204 L1053.49 338.204 L1053.49 338.204  Z\" fill=\"#8be9fd\" fill-rule=\"evenodd\" fill-opacity=\"1\"/>\n",
       "<polyline clip-path=\"url(#clip732)\" style=\"stroke:#f8f8f2; stroke-linecap:round; stroke-linejoin:round; stroke-width:4; stroke-opacity:1; fill:none\" points=\"1053.49,338.204 1053.49,1486.45 1094.21,1486.45 1094.21,338.204 1053.49,338.204 \"/>\n",
       "<path clip-path=\"url(#clip732)\" d=\"M1094.21 229.206 L1094.21 1486.45 L1134.93 1486.45 L1134.93 229.206 L1094.21 229.206 L1094.21 229.206  Z\" fill=\"#8be9fd\" fill-rule=\"evenodd\" fill-opacity=\"1\"/>\n",
       "<polyline clip-path=\"url(#clip732)\" style=\"stroke:#f8f8f2; stroke-linecap:round; stroke-linejoin:round; stroke-width:4; stroke-opacity:1; fill:none\" points=\"1094.21,229.206 1094.21,1486.45 1134.93,1486.45 1134.93,229.206 1094.21,229.206 \"/>\n",
       "<path clip-path=\"url(#clip732)\" d=\"M1134.93 131.323 L1134.93 1486.45 L1175.66 1486.45 L1175.66 131.323 L1134.93 131.323 L1134.93 131.323  Z\" fill=\"#8be9fd\" fill-rule=\"evenodd\" fill-opacity=\"1\"/>\n",
       "<polyline clip-path=\"url(#clip732)\" style=\"stroke:#f8f8f2; stroke-linecap:round; stroke-linejoin:round; stroke-width:4; stroke-opacity:1; fill:none\" points=\"1134.93,131.323 1134.93,1486.45 1175.66,1486.45 1175.66,131.323 1134.93,131.323 \"/>\n",
       "<path clip-path=\"url(#clip732)\" d=\"M1175.66 77.5412 L1175.66 1486.45 L1216.38 1486.45 L1216.38 77.5412 L1175.66 77.5412 L1175.66 77.5412  Z\" fill=\"#8be9fd\" fill-rule=\"evenodd\" fill-opacity=\"1\"/>\n",
       "<polyline clip-path=\"url(#clip732)\" style=\"stroke:#f8f8f2; stroke-linecap:round; stroke-linejoin:round; stroke-width:4; stroke-opacity:1; fill:none\" points=\"1175.66,77.5412 1175.66,1486.45 1216.38,1486.45 1216.38,77.5412 1175.66,77.5412 \"/>\n",
       "<path clip-path=\"url(#clip732)\" d=\"M1216.38 47.2441 L1216.38 1486.45 L1257.1 1486.45 L1257.1 47.2441 L1216.38 47.2441 L1216.38 47.2441  Z\" fill=\"#8be9fd\" fill-rule=\"evenodd\" fill-opacity=\"1\"/>\n",
       "<polyline clip-path=\"url(#clip732)\" style=\"stroke:#f8f8f2; stroke-linecap:round; stroke-linejoin:round; stroke-width:4; stroke-opacity:1; fill:none\" points=\"1216.38,47.2441 1216.38,1486.45 1257.1,1486.45 1257.1,47.2441 1216.38,47.2441 \"/>\n",
       "<path clip-path=\"url(#clip732)\" d=\"M1257.1 119.312 L1257.1 1486.45 L1297.83 1486.45 L1297.83 119.312 L1257.1 119.312 L1257.1 119.312  Z\" fill=\"#8be9fd\" fill-rule=\"evenodd\" fill-opacity=\"1\"/>\n",
       "<polyline clip-path=\"url(#clip732)\" style=\"stroke:#f8f8f2; stroke-linecap:round; stroke-linejoin:round; stroke-width:4; stroke-opacity:1; fill:none\" points=\"1257.1,119.312 1257.1,1486.45 1297.83,1486.45 1297.83,119.312 1257.1,119.312 \"/>\n",
       "<path clip-path=\"url(#clip732)\" d=\"M1297.83 249.464 L1297.83 1486.45 L1338.55 1486.45 L1338.55 249.464 L1297.83 249.464 L1297.83 249.464  Z\" fill=\"#8be9fd\" fill-rule=\"evenodd\" fill-opacity=\"1\"/>\n",
       "<polyline clip-path=\"url(#clip732)\" style=\"stroke:#f8f8f2; stroke-linecap:round; stroke-linejoin:round; stroke-width:4; stroke-opacity:1; fill:none\" points=\"1297.83,249.464 1297.83,1486.45 1338.55,1486.45 1338.55,249.464 1297.83,249.464 \"/>\n",
       "<path clip-path=\"url(#clip732)\" d=\"M1338.55 345.017 L1338.55 1486.45 L1379.28 1486.45 L1379.28 345.017 L1338.55 345.017 L1338.55 345.017  Z\" fill=\"#8be9fd\" fill-rule=\"evenodd\" fill-opacity=\"1\"/>\n",
       "<polyline clip-path=\"url(#clip732)\" style=\"stroke:#f8f8f2; stroke-linecap:round; stroke-linejoin:round; stroke-width:4; stroke-opacity:1; fill:none\" points=\"1338.55,345.017 1338.55,1486.45 1379.28,1486.45 1379.28,345.017 1338.55,345.017 \"/>\n",
       "<path clip-path=\"url(#clip732)\" d=\"M1379.28 513.712 L1379.28 1486.45 L1420 1486.45 L1420 513.712 L1379.28 513.712 L1379.28 513.712  Z\" fill=\"#8be9fd\" fill-rule=\"evenodd\" fill-opacity=\"1\"/>\n",
       "<polyline clip-path=\"url(#clip732)\" style=\"stroke:#f8f8f2; stroke-linecap:round; stroke-linejoin:round; stroke-width:4; stroke-opacity:1; fill:none\" points=\"1379.28,513.712 1379.28,1486.45 1420,1486.45 1420,513.712 1379.28,513.712 \"/>\n",
       "<path clip-path=\"url(#clip732)\" d=\"M1420 722.745 L1420 1486.45 L1460.72 1486.45 L1460.72 722.745 L1420 722.745 L1420 722.745  Z\" fill=\"#8be9fd\" fill-rule=\"evenodd\" fill-opacity=\"1\"/>\n",
       "<polyline clip-path=\"url(#clip732)\" style=\"stroke:#f8f8f2; stroke-linecap:round; stroke-linejoin:round; stroke-width:4; stroke-opacity:1; fill:none\" points=\"1420,722.745 1420,1486.45 1460.72,1486.45 1460.72,722.745 1420,722.745 \"/>\n",
       "<path clip-path=\"url(#clip732)\" d=\"M1460.72 868.494 L1460.72 1486.45 L1501.45 1486.45 L1501.45 868.494 L1460.72 868.494 L1460.72 868.494  Z\" fill=\"#8be9fd\" fill-rule=\"evenodd\" fill-opacity=\"1\"/>\n",
       "<polyline clip-path=\"url(#clip732)\" style=\"stroke:#f8f8f2; stroke-linecap:round; stroke-linejoin:round; stroke-width:4; stroke-opacity:1; fill:none\" points=\"1460.72,868.494 1460.72,1486.45 1501.45,1486.45 1501.45,868.494 1460.72,868.494 \"/>\n",
       "<path clip-path=\"url(#clip732)\" d=\"M1501.45 1026.43 L1501.45 1486.45 L1542.17 1486.45 L1542.17 1026.43 L1501.45 1026.43 L1501.45 1026.43  Z\" fill=\"#8be9fd\" fill-rule=\"evenodd\" fill-opacity=\"1\"/>\n",
       "<polyline clip-path=\"url(#clip732)\" style=\"stroke:#f8f8f2; stroke-linecap:round; stroke-linejoin:round; stroke-width:4; stroke-opacity:1; fill:none\" points=\"1501.45,1026.43 1501.45,1486.45 1542.17,1486.45 1542.17,1026.43 1501.45,1026.43 \"/>\n",
       "<path clip-path=\"url(#clip732)\" d=\"M1542.17 1150.13 L1542.17 1486.45 L1582.89 1486.45 L1582.89 1150.13 L1542.17 1150.13 L1542.17 1150.13  Z\" fill=\"#8be9fd\" fill-rule=\"evenodd\" fill-opacity=\"1\"/>\n",
       "<polyline clip-path=\"url(#clip732)\" style=\"stroke:#f8f8f2; stroke-linecap:round; stroke-linejoin:round; stroke-width:4; stroke-opacity:1; fill:none\" points=\"1542.17,1150.13 1542.17,1486.45 1582.89,1486.45 1582.89,1150.13 1542.17,1150.13 \"/>\n",
       "<path clip-path=\"url(#clip732)\" d=\"M1582.89 1249.45 L1582.89 1486.45 L1623.62 1486.45 L1623.62 1249.45 L1582.89 1249.45 L1582.89 1249.45  Z\" fill=\"#8be9fd\" fill-rule=\"evenodd\" fill-opacity=\"1\"/>\n",
       "<polyline clip-path=\"url(#clip732)\" style=\"stroke:#f8f8f2; stroke-linecap:round; stroke-linejoin:round; stroke-width:4; stroke-opacity:1; fill:none\" points=\"1582.89,1249.45 1582.89,1486.45 1623.62,1486.45 1623.62,1249.45 1582.89,1249.45 \"/>\n",
       "<path clip-path=\"url(#clip732)\" d=\"M1623.62 1328.69 L1623.62 1486.45 L1664.34 1486.45 L1664.34 1328.69 L1623.62 1328.69 L1623.62 1328.69  Z\" fill=\"#8be9fd\" fill-rule=\"evenodd\" fill-opacity=\"1\"/>\n",
       "<polyline clip-path=\"url(#clip732)\" style=\"stroke:#f8f8f2; stroke-linecap:round; stroke-linejoin:round; stroke-width:4; stroke-opacity:1; fill:none\" points=\"1623.62,1328.69 1623.62,1486.45 1664.34,1486.45 1664.34,1328.69 1623.62,1328.69 \"/>\n",
       "<path clip-path=\"url(#clip732)\" d=\"M1664.34 1383.37 L1664.34 1486.45 L1705.06 1486.45 L1705.06 1383.37 L1664.34 1383.37 L1664.34 1383.37  Z\" fill=\"#8be9fd\" fill-rule=\"evenodd\" fill-opacity=\"1\"/>\n",
       "<polyline clip-path=\"url(#clip732)\" style=\"stroke:#f8f8f2; stroke-linecap:round; stroke-linejoin:round; stroke-width:4; stroke-opacity:1; fill:none\" points=\"1664.34,1383.37 1664.34,1486.45 1705.06,1486.45 1705.06,1383.37 1664.34,1383.37 \"/>\n",
       "<path clip-path=\"url(#clip732)\" d=\"M1705.06 1426.93 L1705.06 1486.45 L1745.79 1486.45 L1745.79 1426.93 L1705.06 1426.93 L1705.06 1426.93  Z\" fill=\"#8be9fd\" fill-rule=\"evenodd\" fill-opacity=\"1\"/>\n",
       "<polyline clip-path=\"url(#clip732)\" style=\"stroke:#f8f8f2; stroke-linecap:round; stroke-linejoin:round; stroke-width:4; stroke-opacity:1; fill:none\" points=\"1705.06,1426.93 1705.06,1486.45 1745.79,1486.45 1745.79,1426.93 1705.06,1426.93 \"/>\n",
       "<path clip-path=\"url(#clip732)\" d=\"M1745.79 1445.93 L1745.79 1486.45 L1786.51 1486.45 L1786.51 1445.93 L1745.79 1445.93 L1745.79 1445.93  Z\" fill=\"#8be9fd\" fill-rule=\"evenodd\" fill-opacity=\"1\"/>\n",
       "<polyline clip-path=\"url(#clip732)\" style=\"stroke:#f8f8f2; stroke-linecap:round; stroke-linejoin:round; stroke-width:4; stroke-opacity:1; fill:none\" points=\"1745.79,1445.93 1745.79,1486.45 1786.51,1486.45 1786.51,1445.93 1745.79,1445.93 \"/>\n",
       "<path clip-path=\"url(#clip732)\" d=\"M1786.51 1464.22 L1786.51 1486.45 L1827.23 1486.45 L1827.23 1464.22 L1786.51 1464.22 L1786.51 1464.22  Z\" fill=\"#8be9fd\" fill-rule=\"evenodd\" fill-opacity=\"1\"/>\n",
       "<polyline clip-path=\"url(#clip732)\" style=\"stroke:#f8f8f2; stroke-linecap:round; stroke-linejoin:round; stroke-width:4; stroke-opacity:1; fill:none\" points=\"1786.51,1464.22 1786.51,1486.45 1827.23,1486.45 1827.23,1464.22 1786.51,1464.22 \"/>\n",
       "<path clip-path=\"url(#clip732)\" d=\"M1827.23 1473.9 L1827.23 1486.45 L1867.96 1486.45 L1867.96 1473.9 L1827.23 1473.9 L1827.23 1473.9  Z\" fill=\"#8be9fd\" fill-rule=\"evenodd\" fill-opacity=\"1\"/>\n",
       "<polyline clip-path=\"url(#clip732)\" style=\"stroke:#f8f8f2; stroke-linecap:round; stroke-linejoin:round; stroke-width:4; stroke-opacity:1; fill:none\" points=\"1827.23,1473.9 1827.23,1486.45 1867.96,1486.45 1867.96,1473.9 1827.23,1473.9 \"/>\n",
       "<path clip-path=\"url(#clip732)\" d=\"M1867.96 1479.99 L1867.96 1486.45 L1908.68 1486.45 L1908.68 1479.99 L1867.96 1479.99 L1867.96 1479.99  Z\" fill=\"#8be9fd\" fill-rule=\"evenodd\" fill-opacity=\"1\"/>\n",
       "<polyline clip-path=\"url(#clip732)\" style=\"stroke:#f8f8f2; stroke-linecap:round; stroke-linejoin:round; stroke-width:4; stroke-opacity:1; fill:none\" points=\"1867.96,1479.99 1867.96,1486.45 1908.68,1486.45 1908.68,1479.99 1867.96,1479.99 \"/>\n",
       "<path clip-path=\"url(#clip732)\" d=\"M1908.68 1483.76 L1908.68 1486.45 L1949.41 1486.45 L1949.41 1483.76 L1908.68 1483.76 L1908.68 1483.76  Z\" fill=\"#8be9fd\" fill-rule=\"evenodd\" fill-opacity=\"1\"/>\n",
       "<polyline clip-path=\"url(#clip732)\" style=\"stroke:#f8f8f2; stroke-linecap:round; stroke-linejoin:round; stroke-width:4; stroke-opacity:1; fill:none\" points=\"1908.68,1483.76 1908.68,1486.45 1949.41,1486.45 1949.41,1483.76 1908.68,1483.76 \"/>\n",
       "<path clip-path=\"url(#clip732)\" d=\"M1949.41 1483.94 L1949.41 1486.45 L1990.13 1486.45 L1990.13 1483.94 L1949.41 1483.94 L1949.41 1483.94  Z\" fill=\"#8be9fd\" fill-rule=\"evenodd\" fill-opacity=\"1\"/>\n",
       "<polyline clip-path=\"url(#clip732)\" style=\"stroke:#f8f8f2; stroke-linecap:round; stroke-linejoin:round; stroke-width:4; stroke-opacity:1; fill:none\" points=\"1949.41,1483.94 1949.41,1486.45 1990.13,1486.45 1990.13,1483.94 1949.41,1483.94 \"/>\n",
       "<path clip-path=\"url(#clip732)\" d=\"M1990.13 1485.73 L1990.13 1486.45 L2030.85 1486.45 L2030.85 1485.73 L1990.13 1485.73 L1990.13 1485.73  Z\" fill=\"#8be9fd\" fill-rule=\"evenodd\" fill-opacity=\"1\"/>\n",
       "<polyline clip-path=\"url(#clip732)\" style=\"stroke:#f8f8f2; stroke-linecap:round; stroke-linejoin:round; stroke-width:4; stroke-opacity:1; fill:none\" points=\"1990.13,1485.73 1990.13,1486.45 2030.85,1486.45 2030.85,1485.73 1990.13,1485.73 \"/>\n",
       "<path clip-path=\"url(#clip732)\" d=\"M2030.85 1486.45 L2030.85 1486.45 L2071.58 1486.45 L2071.58 1486.45 L2030.85 1486.45 L2030.85 1486.45  Z\" fill=\"#8be9fd\" fill-rule=\"evenodd\" fill-opacity=\"1\"/>\n",
       "<polyline clip-path=\"url(#clip732)\" style=\"stroke:#f8f8f2; stroke-linecap:round; stroke-linejoin:round; stroke-width:4; stroke-opacity:1; fill:none\" points=\"2030.85,1486.45 2030.85,1486.45 2071.58,1486.45 2030.85,1486.45 \"/>\n",
       "<path clip-path=\"url(#clip732)\" d=\"M2071.58 1486.45 L2071.58 1486.45 L2112.3 1486.45 L2112.3 1486.45 L2071.58 1486.45 L2071.58 1486.45  Z\" fill=\"#8be9fd\" fill-rule=\"evenodd\" fill-opacity=\"1\"/>\n",
       "<polyline clip-path=\"url(#clip732)\" style=\"stroke:#f8f8f2; stroke-linecap:round; stroke-linejoin:round; stroke-width:4; stroke-opacity:1; fill:none\" points=\"2071.58,1486.45 2071.58,1486.45 2112.3,1486.45 2071.58,1486.45 \"/>\n",
       "<path clip-path=\"url(#clip732)\" d=\"M2112.3 1486.45 L2112.3 1486.45 L2153.02 1486.45 L2153.02 1486.45 L2112.3 1486.45 L2112.3 1486.45  Z\" fill=\"#8be9fd\" fill-rule=\"evenodd\" fill-opacity=\"1\"/>\n",
       "<polyline clip-path=\"url(#clip732)\" style=\"stroke:#f8f8f2; stroke-linecap:round; stroke-linejoin:round; stroke-width:4; stroke-opacity:1; fill:none\" points=\"2112.3,1486.45 2112.3,1486.45 2153.02,1486.45 2112.3,1486.45 \"/>\n",
       "<path clip-path=\"url(#clip732)\" d=\"M2153.02 1486.45 L2153.02 1486.45 L2193.75 1486.45 L2193.75 1486.45 L2153.02 1486.45 L2153.02 1486.45  Z\" fill=\"#8be9fd\" fill-rule=\"evenodd\" fill-opacity=\"1\"/>\n",
       "<polyline clip-path=\"url(#clip732)\" style=\"stroke:#f8f8f2; stroke-linecap:round; stroke-linejoin:round; stroke-width:4; stroke-opacity:1; fill:none\" points=\"2153.02,1486.45 2153.02,1486.45 2193.75,1486.45 2153.02,1486.45 \"/>\n",
       "<path clip-path=\"url(#clip732)\" d=\"M2193.75 1486.27 L2193.75 1486.45 L2234.47 1486.45 L2234.47 1486.27 L2193.75 1486.27 L2193.75 1486.27  Z\" fill=\"#8be9fd\" fill-rule=\"evenodd\" fill-opacity=\"1\"/>\n",
       "<polyline clip-path=\"url(#clip732)\" style=\"stroke:#f8f8f2; stroke-linecap:round; stroke-linejoin:round; stroke-width:4; stroke-opacity:1; fill:none\" points=\"2193.75,1486.27 2193.75,1486.45 2234.47,1486.45 2234.47,1486.27 2193.75,1486.27 \"/>\n",
       "<circle clip-path=\"url(#clip732)\" style=\"fill:#8be9fd; stroke:none; fill-opacity:0\" cx=\"340.824\" cy=\"1486.27\" r=\"2\"/>\n",
       "<circle clip-path=\"url(#clip732)\" style=\"fill:#8be9fd; stroke:none; fill-opacity:0\" cx=\"381.548\" cy=\"1485.73\" r=\"2\"/>\n",
       "<circle clip-path=\"url(#clip732)\" style=\"fill:#8be9fd; stroke:none; fill-opacity:0\" cx=\"422.271\" cy=\"1485.91\" r=\"2\"/>\n",
       "<circle clip-path=\"url(#clip732)\" style=\"fill:#8be9fd; stroke:none; fill-opacity:0\" cx=\"462.995\" cy=\"1484.66\" r=\"2\"/>\n",
       "<circle clip-path=\"url(#clip732)\" style=\"fill:#8be9fd; stroke:none; fill-opacity:0\" cx=\"503.718\" cy=\"1483.4\" r=\"2\"/>\n",
       "<circle clip-path=\"url(#clip732)\" style=\"fill:#8be9fd; stroke:none; fill-opacity:0\" cx=\"544.442\" cy=\"1479.81\" r=\"2\"/>\n",
       "<circle clip-path=\"url(#clip732)\" style=\"fill:#8be9fd; stroke:none; fill-opacity:0\" cx=\"585.166\" cy=\"1476.77\" r=\"2\"/>\n",
       "<circle clip-path=\"url(#clip732)\" style=\"fill:#8be9fd; stroke:none; fill-opacity:0\" cx=\"625.889\" cy=\"1466.37\" r=\"2\"/>\n",
       "<circle clip-path=\"url(#clip732)\" style=\"fill:#8be9fd; stroke:none; fill-opacity:0\" cx=\"666.613\" cy=\"1450.95\" r=\"2\"/>\n",
       "<circle clip-path=\"url(#clip732)\" style=\"fill:#8be9fd; stroke:none; fill-opacity:0\" cx=\"707.336\" cy=\"1420.48\" r=\"2\"/>\n",
       "<circle clip-path=\"url(#clip732)\" style=\"fill:#8be9fd; stroke:none; fill-opacity:0\" cx=\"748.06\" cy=\"1377.81\" r=\"2\"/>\n",
       "<circle clip-path=\"url(#clip732)\" style=\"fill:#8be9fd; stroke:none; fill-opacity:0\" cx=\"788.783\" cy=\"1329.23\" r=\"2\"/>\n",
       "<circle clip-path=\"url(#clip732)\" style=\"fill:#8be9fd; stroke:none; fill-opacity:0\" cx=\"829.507\" cy=\"1244.43\" r=\"2\"/>\n",
       "<circle clip-path=\"url(#clip732)\" style=\"fill:#8be9fd; stroke:none; fill-opacity:0\" cx=\"870.231\" cy=\"1143.86\" r=\"2\"/>\n",
       "<circle clip-path=\"url(#clip732)\" style=\"fill:#8be9fd; stroke:none; fill-opacity:0\" cx=\"910.954\" cy=\"1035.93\" r=\"2\"/>\n",
       "<circle clip-path=\"url(#clip732)\" style=\"fill:#8be9fd; stroke:none; fill-opacity:0\" cx=\"951.678\" cy=\"890.903\" r=\"2\"/>\n",
       "<circle clip-path=\"url(#clip732)\" style=\"fill:#8be9fd; stroke:none; fill-opacity:0\" cx=\"992.401\" cy=\"707.686\" r=\"2\"/>\n",
       "<circle clip-path=\"url(#clip732)\" style=\"fill:#8be9fd; stroke:none; fill-opacity:0\" cx=\"1033.12\" cy=\"528.771\" r=\"2\"/>\n",
       "<circle clip-path=\"url(#clip732)\" style=\"fill:#8be9fd; stroke:none; fill-opacity:0\" cx=\"1073.85\" cy=\"338.204\" r=\"2\"/>\n",
       "<circle clip-path=\"url(#clip732)\" style=\"fill:#8be9fd; stroke:none; fill-opacity:0\" cx=\"1114.57\" cy=\"229.206\" r=\"2\"/>\n",
       "<circle clip-path=\"url(#clip732)\" style=\"fill:#8be9fd; stroke:none; fill-opacity:0\" cx=\"1155.3\" cy=\"131.323\" r=\"2\"/>\n",
       "<circle clip-path=\"url(#clip732)\" style=\"fill:#8be9fd; stroke:none; fill-opacity:0\" cx=\"1196.02\" cy=\"77.5412\" r=\"2\"/>\n",
       "<circle clip-path=\"url(#clip732)\" style=\"fill:#8be9fd; stroke:none; fill-opacity:0\" cx=\"1236.74\" cy=\"47.2441\" r=\"2\"/>\n",
       "<circle clip-path=\"url(#clip732)\" style=\"fill:#8be9fd; stroke:none; fill-opacity:0\" cx=\"1277.47\" cy=\"119.312\" r=\"2\"/>\n",
       "<circle clip-path=\"url(#clip732)\" style=\"fill:#8be9fd; stroke:none; fill-opacity:0\" cx=\"1318.19\" cy=\"249.464\" r=\"2\"/>\n",
       "<circle clip-path=\"url(#clip732)\" style=\"fill:#8be9fd; stroke:none; fill-opacity:0\" cx=\"1358.91\" cy=\"345.017\" r=\"2\"/>\n",
       "<circle clip-path=\"url(#clip732)\" style=\"fill:#8be9fd; stroke:none; fill-opacity:0\" cx=\"1399.64\" cy=\"513.712\" r=\"2\"/>\n",
       "<circle clip-path=\"url(#clip732)\" style=\"fill:#8be9fd; stroke:none; fill-opacity:0\" cx=\"1440.36\" cy=\"722.745\" r=\"2\"/>\n",
       "<circle clip-path=\"url(#clip732)\" style=\"fill:#8be9fd; stroke:none; fill-opacity:0\" cx=\"1481.08\" cy=\"868.494\" r=\"2\"/>\n",
       "<circle clip-path=\"url(#clip732)\" style=\"fill:#8be9fd; stroke:none; fill-opacity:0\" cx=\"1521.81\" cy=\"1026.43\" r=\"2\"/>\n",
       "<circle clip-path=\"url(#clip732)\" style=\"fill:#8be9fd; stroke:none; fill-opacity:0\" cx=\"1562.53\" cy=\"1150.13\" r=\"2\"/>\n",
       "<circle clip-path=\"url(#clip732)\" style=\"fill:#8be9fd; stroke:none; fill-opacity:0\" cx=\"1603.25\" cy=\"1249.45\" r=\"2\"/>\n",
       "<circle clip-path=\"url(#clip732)\" style=\"fill:#8be9fd; stroke:none; fill-opacity:0\" cx=\"1643.98\" cy=\"1328.69\" r=\"2\"/>\n",
       "<circle clip-path=\"url(#clip732)\" style=\"fill:#8be9fd; stroke:none; fill-opacity:0\" cx=\"1684.7\" cy=\"1383.37\" r=\"2\"/>\n",
       "<circle clip-path=\"url(#clip732)\" style=\"fill:#8be9fd; stroke:none; fill-opacity:0\" cx=\"1725.43\" cy=\"1426.93\" r=\"2\"/>\n",
       "<circle clip-path=\"url(#clip732)\" style=\"fill:#8be9fd; stroke:none; fill-opacity:0\" cx=\"1766.15\" cy=\"1445.93\" r=\"2\"/>\n",
       "<circle clip-path=\"url(#clip732)\" style=\"fill:#8be9fd; stroke:none; fill-opacity:0\" cx=\"1806.87\" cy=\"1464.22\" r=\"2\"/>\n",
       "<circle clip-path=\"url(#clip732)\" style=\"fill:#8be9fd; stroke:none; fill-opacity:0\" cx=\"1847.6\" cy=\"1473.9\" r=\"2\"/>\n",
       "<circle clip-path=\"url(#clip732)\" style=\"fill:#8be9fd; stroke:none; fill-opacity:0\" cx=\"1888.32\" cy=\"1479.99\" r=\"2\"/>\n",
       "<circle clip-path=\"url(#clip732)\" style=\"fill:#8be9fd; stroke:none; fill-opacity:0\" cx=\"1929.04\" cy=\"1483.76\" r=\"2\"/>\n",
       "<circle clip-path=\"url(#clip732)\" style=\"fill:#8be9fd; stroke:none; fill-opacity:0\" cx=\"1969.77\" cy=\"1483.94\" r=\"2\"/>\n",
       "<circle clip-path=\"url(#clip732)\" style=\"fill:#8be9fd; stroke:none; fill-opacity:0\" cx=\"2010.49\" cy=\"1485.73\" r=\"2\"/>\n",
       "<circle clip-path=\"url(#clip732)\" style=\"fill:#8be9fd; stroke:none; fill-opacity:0\" cx=\"2051.21\" cy=\"1486.45\" r=\"2\"/>\n",
       "<circle clip-path=\"url(#clip732)\" style=\"fill:#8be9fd; stroke:none; fill-opacity:0\" cx=\"2091.94\" cy=\"1486.45\" r=\"2\"/>\n",
       "<circle clip-path=\"url(#clip732)\" style=\"fill:#8be9fd; stroke:none; fill-opacity:0\" cx=\"2132.66\" cy=\"1486.45\" r=\"2\"/>\n",
       "<circle clip-path=\"url(#clip732)\" style=\"fill:#8be9fd; stroke:none; fill-opacity:0\" cx=\"2173.38\" cy=\"1486.45\" r=\"2\"/>\n",
       "<circle clip-path=\"url(#clip732)\" style=\"fill:#8be9fd; stroke:none; fill-opacity:0\" cx=\"2214.11\" cy=\"1486.27\" r=\"2\"/>\n",
       "</svg>\n"
      ],
      "text/html": [
       "<?xml version=\"1.0\" encoding=\"utf-8\"?>\n",
       "<svg xmlns=\"http://www.w3.org/2000/svg\" xmlns:xlink=\"http://www.w3.org/1999/xlink\" width=\"600\" height=\"400\" viewBox=\"0 0 2400 1600\">\n",
       "<defs>\n",
       "  <clipPath id=\"clip780\">\n",
       "    <rect x=\"0\" y=\"0\" width=\"2400\" height=\"1600\"/>\n",
       "  </clipPath>\n",
       "</defs>\n",
       "<path clip-path=\"url(#clip780)\" d=\"M0 1600 L2400 1600 L2400 0 L0 0  Z\" fill=\"#282a36\" fill-rule=\"evenodd\" fill-opacity=\"1\"/>\n",
       "<defs>\n",
       "  <clipPath id=\"clip781\">\n",
       "    <rect x=\"480\" y=\"0\" width=\"1681\" height=\"1600\"/>\n",
       "  </clipPath>\n",
       "</defs>\n",
       "<path clip-path=\"url(#clip780)\" d=\"M202.177 1486.45 L2352.76 1486.45 L2352.76 47.2441 L202.177 47.2441  Z\" fill=\"#30343b\" fill-rule=\"evenodd\" fill-opacity=\"1\"/>\n",
       "<defs>\n",
       "  <clipPath id=\"clip782\">\n",
       "    <rect x=\"202\" y=\"47\" width=\"2152\" height=\"1440\"/>\n",
       "  </clipPath>\n",
       "</defs>\n",
       "<polyline clip-path=\"url(#clip782)\" style=\"stroke:#f8f8f2; stroke-linecap:round; stroke-linejoin:round; stroke-width:2; stroke-opacity:0.1; fill:none\" points=\"401.91,1486.45 401.91,47.2441 \"/>\n",
       "<polyline clip-path=\"url(#clip782)\" style=\"stroke:#f8f8f2; stroke-linecap:round; stroke-linejoin:round; stroke-width:2; stroke-opacity:0.1; fill:none\" points=\"809.145,1486.45 809.145,47.2441 \"/>\n",
       "<polyline clip-path=\"url(#clip782)\" style=\"stroke:#f8f8f2; stroke-linecap:round; stroke-linejoin:round; stroke-width:2; stroke-opacity:0.1; fill:none\" points=\"1216.38,1486.45 1216.38,47.2441 \"/>\n",
       "<polyline clip-path=\"url(#clip782)\" style=\"stroke:#f8f8f2; stroke-linecap:round; stroke-linejoin:round; stroke-width:2; stroke-opacity:0.1; fill:none\" points=\"1623.62,1486.45 1623.62,47.2441 \"/>\n",
       "<polyline clip-path=\"url(#clip782)\" style=\"stroke:#f8f8f2; stroke-linecap:round; stroke-linejoin:round; stroke-width:2; stroke-opacity:0.1; fill:none\" points=\"2030.85,1486.45 2030.85,47.2441 \"/>\n",
       "<polyline clip-path=\"url(#clip780)\" style=\"stroke:#f8f8f2; stroke-linecap:round; stroke-linejoin:round; stroke-width:4; stroke-opacity:1; fill:none\" points=\"202.177,1486.45 2352.76,1486.45 \"/>\n",
       "<polyline clip-path=\"url(#clip780)\" style=\"stroke:#f8f8f2; stroke-linecap:round; stroke-linejoin:round; stroke-width:4; stroke-opacity:1; fill:none\" points=\"401.91,1486.45 401.91,1467.55 \"/>\n",
       "<polyline clip-path=\"url(#clip780)\" style=\"stroke:#f8f8f2; stroke-linecap:round; stroke-linejoin:round; stroke-width:4; stroke-opacity:1; fill:none\" points=\"809.145,1486.45 809.145,1467.55 \"/>\n",
       "<polyline clip-path=\"url(#clip780)\" style=\"stroke:#f8f8f2; stroke-linecap:round; stroke-linejoin:round; stroke-width:4; stroke-opacity:1; fill:none\" points=\"1216.38,1486.45 1216.38,1467.55 \"/>\n",
       "<polyline clip-path=\"url(#clip780)\" style=\"stroke:#f8f8f2; stroke-linecap:round; stroke-linejoin:round; stroke-width:4; stroke-opacity:1; fill:none\" points=\"1623.62,1486.45 1623.62,1467.55 \"/>\n",
       "<polyline clip-path=\"url(#clip780)\" style=\"stroke:#f8f8f2; stroke-linecap:round; stroke-linejoin:round; stroke-width:4; stroke-opacity:1; fill:none\" points=\"2030.85,1486.45 2030.85,1467.55 \"/>\n",
       "<path clip-path=\"url(#clip780)\" d=\"M370.81 1532.02 L400.486 1532.02 L400.486 1535.95 L370.81 1535.95 L370.81 1532.02 Z\" fill=\"#f8f8f2\" fill-rule=\"nonzero\" fill-opacity=\"1\" /><path clip-path=\"url(#clip780)\" d=\"M423.426 1518.36 L411.62 1536.81 L423.426 1536.81 L423.426 1518.36 M422.199 1514.29 L428.078 1514.29 L428.078 1536.81 L433.009 1536.81 L433.009 1540.7 L428.078 1540.7 L428.078 1548.85 L423.426 1548.85 L423.426 1540.7 L407.824 1540.7 L407.824 1536.19 L422.199 1514.29 Z\" fill=\"#f8f8f2\" fill-rule=\"nonzero\" fill-opacity=\"1\" /><path clip-path=\"url(#clip780)\" d=\"M779.088 1532.02 L808.763 1532.02 L808.763 1535.95 L779.088 1535.95 L779.088 1532.02 Z\" fill=\"#f8f8f2\" fill-rule=\"nonzero\" fill-opacity=\"1\" /><path clip-path=\"url(#clip780)\" d=\"M822.884 1544.91 L839.203 1544.91 L839.203 1548.85 L817.259 1548.85 L817.259 1544.91 Q819.921 1542.16 824.504 1537.53 Q829.11 1532.88 830.291 1531.53 Q832.536 1529.01 833.416 1527.27 Q834.319 1525.51 834.319 1523.82 Q834.319 1521.07 832.374 1519.33 Q830.453 1517.6 827.351 1517.6 Q825.152 1517.6 822.698 1518.36 Q820.268 1519.13 817.49 1520.68 L817.49 1515.95 Q820.314 1514.82 822.768 1514.24 Q825.222 1513.66 827.259 1513.66 Q832.629 1513.66 835.823 1516.35 Q839.018 1519.03 839.018 1523.52 Q839.018 1525.65 838.208 1527.57 Q837.421 1529.47 835.314 1532.07 Q834.735 1532.74 831.634 1535.95 Q828.532 1539.15 822.884 1544.91 Z\" fill=\"#f8f8f2\" fill-rule=\"nonzero\" fill-opacity=\"1\" /><path clip-path=\"url(#clip780)\" d=\"M1216.38 1517.37 Q1212.77 1517.37 1210.94 1520.93 Q1209.14 1524.47 1209.14 1531.6 Q1209.14 1538.71 1210.94 1542.27 Q1212.77 1545.82 1216.38 1545.82 Q1220.02 1545.82 1221.82 1542.27 Q1223.65 1538.71 1223.65 1531.6 Q1223.65 1524.47 1221.82 1520.93 Q1220.02 1517.37 1216.38 1517.37 M1216.38 1513.66 Q1222.19 1513.66 1225.25 1518.27 Q1228.33 1522.85 1228.33 1531.6 Q1228.33 1540.33 1225.25 1544.94 Q1222.19 1549.52 1216.38 1549.52 Q1210.57 1549.52 1207.49 1544.94 Q1204.44 1540.33 1204.44 1531.6 Q1204.44 1522.85 1207.49 1518.27 Q1210.57 1513.66 1216.38 1513.66 Z\" fill=\"#f8f8f2\" fill-rule=\"nonzero\" fill-opacity=\"1\" /><path clip-path=\"url(#clip780)\" d=\"M1618.27 1544.91 L1634.59 1544.91 L1634.59 1548.85 L1612.64 1548.85 L1612.64 1544.91 Q1615.31 1542.16 1619.89 1537.53 Q1624.5 1532.88 1625.68 1531.53 Q1627.92 1529.01 1628.8 1527.27 Q1629.7 1525.51 1629.7 1523.82 Q1629.7 1521.07 1627.76 1519.33 Q1625.84 1517.6 1622.74 1517.6 Q1620.54 1517.6 1618.08 1518.36 Q1615.65 1519.13 1612.88 1520.68 L1612.88 1515.95 Q1615.7 1514.82 1618.15 1514.24 Q1620.61 1513.66 1622.64 1513.66 Q1628.01 1513.66 1631.21 1516.35 Q1634.4 1519.03 1634.4 1523.52 Q1634.4 1525.65 1633.59 1527.57 Q1632.81 1529.47 1630.7 1532.07 Q1630.12 1532.74 1627.02 1535.95 Q1623.92 1539.15 1618.27 1544.91 Z\" fill=\"#f8f8f2\" fill-rule=\"nonzero\" fill-opacity=\"1\" /><path clip-path=\"url(#clip780)\" d=\"M2033.86 1518.36 L2022.06 1536.81 L2033.86 1536.81 L2033.86 1518.36 M2032.63 1514.29 L2038.51 1514.29 L2038.51 1536.81 L2043.44 1536.81 L2043.44 1540.7 L2038.51 1540.7 L2038.51 1548.85 L2033.86 1548.85 L2033.86 1540.7 L2018.26 1540.7 L2018.26 1536.19 L2032.63 1514.29 Z\" fill=\"#f8f8f2\" fill-rule=\"nonzero\" fill-opacity=\"1\" /><polyline clip-path=\"url(#clip782)\" style=\"stroke:#f8f8f2; stroke-linecap:round; stroke-linejoin:round; stroke-width:2; stroke-opacity:0.1; fill:none\" points=\"202.177,1486.45 2352.76,1486.45 \"/>\n",
       "<polyline clip-path=\"url(#clip782)\" style=\"stroke:#f8f8f2; stroke-linecap:round; stroke-linejoin:round; stroke-width:2; stroke-opacity:0.1; fill:none\" points=\"202.177,1127.9 2352.76,1127.9 \"/>\n",
       "<polyline clip-path=\"url(#clip782)\" style=\"stroke:#f8f8f2; stroke-linecap:round; stroke-linejoin:round; stroke-width:2; stroke-opacity:0.1; fill:none\" points=\"202.177,769.356 2352.76,769.356 \"/>\n",
       "<polyline clip-path=\"url(#clip782)\" style=\"stroke:#f8f8f2; stroke-linecap:round; stroke-linejoin:round; stroke-width:2; stroke-opacity:0.1; fill:none\" points=\"202.177,410.81 2352.76,410.81 \"/>\n",
       "<polyline clip-path=\"url(#clip782)\" style=\"stroke:#f8f8f2; stroke-linecap:round; stroke-linejoin:round; stroke-width:2; stroke-opacity:0.1; fill:none\" points=\"202.177,52.2637 2352.76,52.2637 \"/>\n",
       "<polyline clip-path=\"url(#clip780)\" style=\"stroke:#f8f8f2; stroke-linecap:round; stroke-linejoin:round; stroke-width:4; stroke-opacity:1; fill:none\" points=\"202.177,1486.45 202.177,47.2441 \"/>\n",
       "<polyline clip-path=\"url(#clip780)\" style=\"stroke:#f8f8f2; stroke-linecap:round; stroke-linejoin:round; stroke-width:4; stroke-opacity:1; fill:none\" points=\"202.177,1486.45 221.074,1486.45 \"/>\n",
       "<polyline clip-path=\"url(#clip780)\" style=\"stroke:#f8f8f2; stroke-linecap:round; stroke-linejoin:round; stroke-width:4; stroke-opacity:1; fill:none\" points=\"202.177,1127.9 221.074,1127.9 \"/>\n",
       "<polyline clip-path=\"url(#clip780)\" style=\"stroke:#f8f8f2; stroke-linecap:round; stroke-linejoin:round; stroke-width:4; stroke-opacity:1; fill:none\" points=\"202.177,769.356 221.074,769.356 \"/>\n",
       "<polyline clip-path=\"url(#clip780)\" style=\"stroke:#f8f8f2; stroke-linecap:round; stroke-linejoin:round; stroke-width:4; stroke-opacity:1; fill:none\" points=\"202.177,410.81 221.074,410.81 \"/>\n",
       "<polyline clip-path=\"url(#clip780)\" style=\"stroke:#f8f8f2; stroke-linecap:round; stroke-linejoin:round; stroke-width:4; stroke-opacity:1; fill:none\" points=\"202.177,52.2637 221.074,52.2637 \"/>\n",
       "<path clip-path=\"url(#clip780)\" d=\"M154.232 1472.25 Q150.621 1472.25 148.793 1475.81 Q146.987 1479.35 146.987 1486.48 Q146.987 1493.59 148.793 1497.15 Q150.621 1500.7 154.232 1500.7 Q157.867 1500.7 159.672 1497.15 Q161.501 1493.59 161.501 1486.48 Q161.501 1479.35 159.672 1475.81 Q157.867 1472.25 154.232 1472.25 M154.232 1468.54 Q160.042 1468.54 163.098 1473.15 Q166.177 1477.73 166.177 1486.48 Q166.177 1495.21 163.098 1499.82 Q160.042 1504.4 154.232 1504.4 Q148.422 1504.4 145.343 1499.82 Q142.288 1495.21 142.288 1486.48 Q142.288 1477.73 145.343 1473.15 Q148.422 1468.54 154.232 1468.54 Z\" fill=\"#f8f8f2\" fill-rule=\"nonzero\" fill-opacity=\"1\" /><path clip-path=\"url(#clip780)\" d=\"M57.7745 1141.25 L74.0939 1141.25 L74.0939 1145.18 L52.1495 1145.18 L52.1495 1141.25 Q54.8115 1138.49 59.3949 1133.86 Q64.0013 1129.21 65.1819 1127.87 Q67.4272 1125.34 68.3068 1123.61 Q69.2096 1121.85 69.2096 1120.16 Q69.2096 1117.4 67.2652 1115.67 Q65.3439 1113.93 62.2421 1113.93 Q60.043 1113.93 57.5893 1114.7 Q55.1588 1115.46 52.381 1117.01 L52.381 1112.29 Q55.2051 1111.15 57.6588 1110.58 Q60.1124 1110 62.1495 1110 Q67.5198 1110 70.7142 1112.68 Q73.9087 1115.37 73.9087 1119.86 Q73.9087 1121.99 73.0985 1123.91 Q72.3115 1125.81 70.205 1128.4 Q69.6263 1129.07 66.5245 1132.29 Q63.4226 1135.48 57.7745 1141.25 Z\" fill=\"#f8f8f2\" fill-rule=\"nonzero\" fill-opacity=\"1\" /><path clip-path=\"url(#clip780)\" d=\"M93.9086 1113.7 Q90.2975 1113.7 88.4688 1117.27 Q86.6632 1120.81 86.6632 1127.94 Q86.6632 1135.04 88.4688 1138.61 Q90.2975 1142.15 93.9086 1142.15 Q97.5428 1142.15 99.3483 1138.61 Q101.177 1135.04 101.177 1127.94 Q101.177 1120.81 99.3483 1117.27 Q97.5428 1113.7 93.9086 1113.7 M93.9086 1110 Q99.7187 1110 102.774 1114.6 Q105.853 1119.19 105.853 1127.94 Q105.853 1136.66 102.774 1141.27 Q99.7187 1145.85 93.9086 1145.85 Q88.0984 1145.85 85.0197 1141.27 Q81.9642 1136.66 81.9642 1127.94 Q81.9642 1119.19 85.0197 1114.6 Q88.0984 1110 93.9086 1110 Z\" fill=\"#f8f8f2\" fill-rule=\"nonzero\" fill-opacity=\"1\" /><path clip-path=\"url(#clip780)\" d=\"M124.07 1113.7 Q120.459 1113.7 118.631 1117.27 Q116.825 1120.81 116.825 1127.94 Q116.825 1135.04 118.631 1138.61 Q120.459 1142.15 124.07 1142.15 Q127.705 1142.15 129.51 1138.61 Q131.339 1135.04 131.339 1127.94 Q131.339 1120.81 129.51 1117.27 Q127.705 1113.7 124.07 1113.7 M124.07 1110 Q129.881 1110 132.936 1114.6 Q136.015 1119.19 136.015 1127.94 Q136.015 1136.66 132.936 1141.27 Q129.881 1145.85 124.07 1145.85 Q118.26 1145.85 115.182 1141.27 Q112.126 1136.66 112.126 1127.94 Q112.126 1119.19 115.182 1114.6 Q118.26 1110 124.07 1110 Z\" fill=\"#f8f8f2\" fill-rule=\"nonzero\" fill-opacity=\"1\" /><path clip-path=\"url(#clip780)\" d=\"M154.232 1113.7 Q150.621 1113.7 148.793 1117.27 Q146.987 1120.81 146.987 1127.94 Q146.987 1135.04 148.793 1138.61 Q150.621 1142.15 154.232 1142.15 Q157.867 1142.15 159.672 1138.61 Q161.501 1135.04 161.501 1127.94 Q161.501 1120.81 159.672 1117.27 Q157.867 1113.7 154.232 1113.7 M154.232 1110 Q160.042 1110 163.098 1114.6 Q166.177 1119.19 166.177 1127.94 Q166.177 1136.66 163.098 1141.27 Q160.042 1145.85 154.232 1145.85 Q148.422 1145.85 145.343 1141.27 Q142.288 1136.66 142.288 1127.94 Q142.288 1119.19 145.343 1114.6 Q148.422 1110 154.232 1110 Z\" fill=\"#f8f8f2\" fill-rule=\"nonzero\" fill-opacity=\"1\" /><path clip-path=\"url(#clip780)\" d=\"M66.5939 756.15 L54.7884 774.599 L66.5939 774.599 L66.5939 756.15 M65.367 752.076 L71.2466 752.076 L71.2466 774.599 L76.1772 774.599 L76.1772 778.488 L71.2466 778.488 L71.2466 786.636 L66.5939 786.636 L66.5939 778.488 L50.9921 778.488 L50.9921 773.974 L65.367 752.076 Z\" fill=\"#f8f8f2\" fill-rule=\"nonzero\" fill-opacity=\"1\" /><path clip-path=\"url(#clip780)\" d=\"M93.9086 755.154 Q90.2975 755.154 88.4688 758.719 Q86.6632 762.261 86.6632 769.391 Q86.6632 776.497 88.4688 780.062 Q90.2975 783.603 93.9086 783.603 Q97.5428 783.603 99.3483 780.062 Q101.177 776.497 101.177 769.391 Q101.177 762.261 99.3483 758.719 Q97.5428 755.154 93.9086 755.154 M93.9086 751.451 Q99.7187 751.451 102.774 756.057 Q105.853 760.641 105.853 769.391 Q105.853 778.117 102.774 782.724 Q99.7187 787.307 93.9086 787.307 Q88.0984 787.307 85.0197 782.724 Q81.9642 778.117 81.9642 769.391 Q81.9642 760.641 85.0197 756.057 Q88.0984 751.451 93.9086 751.451 Z\" fill=\"#f8f8f2\" fill-rule=\"nonzero\" fill-opacity=\"1\" /><path clip-path=\"url(#clip780)\" d=\"M124.07 755.154 Q120.459 755.154 118.631 758.719 Q116.825 762.261 116.825 769.391 Q116.825 776.497 118.631 780.062 Q120.459 783.603 124.07 783.603 Q127.705 783.603 129.51 780.062 Q131.339 776.497 131.339 769.391 Q131.339 762.261 129.51 758.719 Q127.705 755.154 124.07 755.154 M124.07 751.451 Q129.881 751.451 132.936 756.057 Q136.015 760.641 136.015 769.391 Q136.015 778.117 132.936 782.724 Q129.881 787.307 124.07 787.307 Q118.26 787.307 115.182 782.724 Q112.126 778.117 112.126 769.391 Q112.126 760.641 115.182 756.057 Q118.26 751.451 124.07 751.451 Z\" fill=\"#f8f8f2\" fill-rule=\"nonzero\" fill-opacity=\"1\" /><path clip-path=\"url(#clip780)\" d=\"M154.232 755.154 Q150.621 755.154 148.793 758.719 Q146.987 762.261 146.987 769.391 Q146.987 776.497 148.793 780.062 Q150.621 783.603 154.232 783.603 Q157.867 783.603 159.672 780.062 Q161.501 776.497 161.501 769.391 Q161.501 762.261 159.672 758.719 Q157.867 755.154 154.232 755.154 M154.232 751.451 Q160.042 751.451 163.098 756.057 Q166.177 760.641 166.177 769.391 Q166.177 778.117 163.098 782.724 Q160.042 787.307 154.232 787.307 Q148.422 787.307 145.343 782.724 Q142.288 778.117 142.288 769.391 Q142.288 760.641 145.343 756.057 Q148.422 751.451 154.232 751.451 Z\" fill=\"#f8f8f2\" fill-rule=\"nonzero\" fill-opacity=\"1\" /><path clip-path=\"url(#clip780)\" d=\"M64.3254 408.946 Q61.1773 408.946 59.3254 411.099 Q57.4967 413.252 57.4967 417.002 Q57.4967 420.729 59.3254 422.905 Q61.1773 425.057 64.3254 425.057 Q67.4735 425.057 69.3022 422.905 Q71.1541 420.729 71.1541 417.002 Q71.1541 413.252 69.3022 411.099 Q67.4735 408.946 64.3254 408.946 M73.6077 394.294 L73.6077 398.553 Q71.8485 397.72 70.0429 397.28 Q68.2606 396.84 66.5013 396.84 Q61.8717 396.84 59.418 399.965 Q56.9875 403.09 56.6402 409.409 Q58.006 407.395 60.0662 406.331 Q62.1263 405.243 64.6032 405.243 Q69.8115 405.243 72.8207 408.414 Q75.8531 411.562 75.8531 417.002 Q75.8531 422.326 72.705 425.543 Q69.5568 428.761 64.3254 428.761 Q58.33 428.761 55.1588 424.178 Q51.9875 419.571 51.9875 410.844 Q51.9875 402.65 55.8764 397.789 Q59.7652 392.905 66.3161 392.905 Q68.0754 392.905 69.8578 393.252 Q71.6633 393.599 73.6077 394.294 Z\" fill=\"#f8f8f2\" fill-rule=\"nonzero\" fill-opacity=\"1\" /><path clip-path=\"url(#clip780)\" d=\"M93.9086 396.608 Q90.2975 396.608 88.4688 400.173 Q86.6632 403.715 86.6632 410.844 Q86.6632 417.951 88.4688 421.516 Q90.2975 425.057 93.9086 425.057 Q97.5428 425.057 99.3483 421.516 Q101.177 417.951 101.177 410.844 Q101.177 403.715 99.3483 400.173 Q97.5428 396.608 93.9086 396.608 M93.9086 392.905 Q99.7187 392.905 102.774 397.511 Q105.853 402.095 105.853 410.844 Q105.853 419.571 102.774 424.178 Q99.7187 428.761 93.9086 428.761 Q88.0984 428.761 85.0197 424.178 Q81.9642 419.571 81.9642 410.844 Q81.9642 402.095 85.0197 397.511 Q88.0984 392.905 93.9086 392.905 Z\" fill=\"#f8f8f2\" fill-rule=\"nonzero\" fill-opacity=\"1\" /><path clip-path=\"url(#clip780)\" d=\"M124.07 396.608 Q120.459 396.608 118.631 400.173 Q116.825 403.715 116.825 410.844 Q116.825 417.951 118.631 421.516 Q120.459 425.057 124.07 425.057 Q127.705 425.057 129.51 421.516 Q131.339 417.951 131.339 410.844 Q131.339 403.715 129.51 400.173 Q127.705 396.608 124.07 396.608 M124.07 392.905 Q129.881 392.905 132.936 397.511 Q136.015 402.095 136.015 410.844 Q136.015 419.571 132.936 424.178 Q129.881 428.761 124.07 428.761 Q118.26 428.761 115.182 424.178 Q112.126 419.571 112.126 410.844 Q112.126 402.095 115.182 397.511 Q118.26 392.905 124.07 392.905 Z\" fill=\"#f8f8f2\" fill-rule=\"nonzero\" fill-opacity=\"1\" /><path clip-path=\"url(#clip780)\" d=\"M154.232 396.608 Q150.621 396.608 148.793 400.173 Q146.987 403.715 146.987 410.844 Q146.987 417.951 148.793 421.516 Q150.621 425.057 154.232 425.057 Q157.867 425.057 159.672 421.516 Q161.501 417.951 161.501 410.844 Q161.501 403.715 159.672 400.173 Q157.867 396.608 154.232 396.608 M154.232 392.905 Q160.042 392.905 163.098 397.511 Q166.177 402.095 166.177 410.844 Q166.177 419.571 163.098 424.178 Q160.042 428.761 154.232 428.761 Q148.422 428.761 145.343 424.178 Q142.288 419.571 142.288 410.844 Q142.288 402.095 145.343 397.511 Q148.422 392.905 154.232 392.905 Z\" fill=\"#f8f8f2\" fill-rule=\"nonzero\" fill-opacity=\"1\" /><path clip-path=\"url(#clip780)\" d=\"M63.7467 53.1318 Q60.4134 53.1318 58.4921 54.9142 Q56.5939 56.6966 56.5939 59.8216 Q56.5939 62.9466 58.4921 64.7289 Q60.4134 66.5113 63.7467 66.5113 Q67.08 66.5113 69.0013 64.7289 Q70.9226 62.9234 70.9226 59.8216 Q70.9226 56.6966 69.0013 54.9142 Q67.1032 53.1318 63.7467 53.1318 M59.0708 51.1411 Q56.0615 50.4003 54.3717 48.3401 Q52.7051 46.28 52.7051 43.317 Q52.7051 39.1735 55.6449 36.7661 Q58.6078 34.3587 63.7467 34.3587 Q68.9087 34.3587 71.8485 36.7661 Q74.7883 39.1735 74.7883 43.317 Q74.7883 46.28 73.0985 48.3401 Q71.4318 50.4003 68.4457 51.1411 Q71.8253 51.9281 73.7003 54.2197 Q75.5985 56.5114 75.5985 59.8216 Q75.5985 64.8447 72.5198 67.5299 Q69.4642 70.215 63.7467 70.215 Q58.0291 70.215 54.9504 67.5299 Q51.8949 64.8447 51.8949 59.8216 Q51.8949 56.5114 53.793 54.2197 Q55.6912 51.9281 59.0708 51.1411 M57.3578 43.7568 Q57.3578 46.442 59.0245 47.9466 Q60.7143 49.4513 63.7467 49.4513 Q66.7559 49.4513 68.4457 47.9466 Q70.1587 46.442 70.1587 43.7568 Q70.1587 41.0717 68.4457 39.567 Q66.7559 38.0624 63.7467 38.0624 Q60.7143 38.0624 59.0245 39.567 Q57.3578 41.0717 57.3578 43.7568 Z\" fill=\"#f8f8f2\" fill-rule=\"nonzero\" fill-opacity=\"1\" /><path clip-path=\"url(#clip780)\" d=\"M93.9086 38.0624 Q90.2975 38.0624 88.4688 41.6272 Q86.6632 45.1689 86.6632 52.2985 Q86.6632 59.4049 88.4688 62.9697 Q90.2975 66.5113 93.9086 66.5113 Q97.5428 66.5113 99.3483 62.9697 Q101.177 59.4049 101.177 52.2985 Q101.177 45.1689 99.3483 41.6272 Q97.5428 38.0624 93.9086 38.0624 M93.9086 34.3587 Q99.7187 34.3587 102.774 38.9652 Q105.853 43.5485 105.853 52.2985 Q105.853 61.0253 102.774 65.6317 Q99.7187 70.215 93.9086 70.215 Q88.0984 70.215 85.0197 65.6317 Q81.9642 61.0253 81.9642 52.2985 Q81.9642 43.5485 85.0197 38.9652 Q88.0984 34.3587 93.9086 34.3587 Z\" fill=\"#f8f8f2\" fill-rule=\"nonzero\" fill-opacity=\"1\" /><path clip-path=\"url(#clip780)\" d=\"M124.07 38.0624 Q120.459 38.0624 118.631 41.6272 Q116.825 45.1689 116.825 52.2985 Q116.825 59.4049 118.631 62.9697 Q120.459 66.5113 124.07 66.5113 Q127.705 66.5113 129.51 62.9697 Q131.339 59.4049 131.339 52.2985 Q131.339 45.1689 129.51 41.6272 Q127.705 38.0624 124.07 38.0624 M124.07 34.3587 Q129.881 34.3587 132.936 38.9652 Q136.015 43.5485 136.015 52.2985 Q136.015 61.0253 132.936 65.6317 Q129.881 70.215 124.07 70.215 Q118.26 70.215 115.182 65.6317 Q112.126 61.0253 112.126 52.2985 Q112.126 43.5485 115.182 38.9652 Q118.26 34.3587 124.07 34.3587 Z\" fill=\"#f8f8f2\" fill-rule=\"nonzero\" fill-opacity=\"1\" /><path clip-path=\"url(#clip780)\" d=\"M154.232 38.0624 Q150.621 38.0624 148.793 41.6272 Q146.987 45.1689 146.987 52.2985 Q146.987 59.4049 148.793 62.9697 Q150.621 66.5113 154.232 66.5113 Q157.867 66.5113 159.672 62.9697 Q161.501 59.4049 161.501 52.2985 Q161.501 45.1689 159.672 41.6272 Q157.867 38.0624 154.232 38.0624 M154.232 34.3587 Q160.042 34.3587 163.098 38.9652 Q166.177 43.5485 166.177 52.2985 Q166.177 61.0253 163.098 65.6317 Q160.042 70.215 154.232 70.215 Q148.422 70.215 145.343 65.6317 Q142.288 61.0253 142.288 52.2985 Q142.288 43.5485 145.343 38.9652 Q148.422 34.3587 154.232 34.3587 Z\" fill=\"#f8f8f2\" fill-rule=\"nonzero\" fill-opacity=\"1\" /><path clip-path=\"url(#clip782)\" d=\"M320.462 1486.27 L320.462 1486.45 L361.186 1486.45 L361.186 1486.27 L320.462 1486.27 L320.462 1486.27  Z\" fill=\"#8be9fd\" fill-rule=\"evenodd\" fill-opacity=\"1\"/>\n",
       "<polyline clip-path=\"url(#clip782)\" style=\"stroke:#f8f8f2; stroke-linecap:round; stroke-linejoin:round; stroke-width:4; stroke-opacity:1; fill:none\" points=\"320.462,1486.27 320.462,1486.45 361.186,1486.45 361.186,1486.27 320.462,1486.27 \"/>\n",
       "<path clip-path=\"url(#clip782)\" d=\"M361.186 1485.73 L361.186 1486.45 L401.91 1486.45 L401.91 1485.73 L361.186 1485.73 L361.186 1485.73  Z\" fill=\"#8be9fd\" fill-rule=\"evenodd\" fill-opacity=\"1\"/>\n",
       "<polyline clip-path=\"url(#clip782)\" style=\"stroke:#f8f8f2; stroke-linecap:round; stroke-linejoin:round; stroke-width:4; stroke-opacity:1; fill:none\" points=\"361.186,1485.73 361.186,1486.45 401.91,1486.45 401.91,1485.73 361.186,1485.73 \"/>\n",
       "<path clip-path=\"url(#clip782)\" d=\"M401.91 1485.91 L401.91 1486.45 L442.633 1486.45 L442.633 1485.91 L401.91 1485.91 L401.91 1485.91  Z\" fill=\"#8be9fd\" fill-rule=\"evenodd\" fill-opacity=\"1\"/>\n",
       "<polyline clip-path=\"url(#clip782)\" style=\"stroke:#f8f8f2; stroke-linecap:round; stroke-linejoin:round; stroke-width:4; stroke-opacity:1; fill:none\" points=\"401.91,1485.91 401.91,1486.45 442.633,1486.45 442.633,1485.91 401.91,1485.91 \"/>\n",
       "<path clip-path=\"url(#clip782)\" d=\"M442.633 1484.66 L442.633 1486.45 L483.357 1486.45 L483.357 1484.66 L442.633 1484.66 L442.633 1484.66  Z\" fill=\"#8be9fd\" fill-rule=\"evenodd\" fill-opacity=\"1\"/>\n",
       "<polyline clip-path=\"url(#clip782)\" style=\"stroke:#f8f8f2; stroke-linecap:round; stroke-linejoin:round; stroke-width:4; stroke-opacity:1; fill:none\" points=\"442.633,1484.66 442.633,1486.45 483.357,1486.45 483.357,1484.66 442.633,1484.66 \"/>\n",
       "<path clip-path=\"url(#clip782)\" d=\"M483.357 1483.4 L483.357 1486.45 L524.08 1486.45 L524.08 1483.4 L483.357 1483.4 L483.357 1483.4  Z\" fill=\"#8be9fd\" fill-rule=\"evenodd\" fill-opacity=\"1\"/>\n",
       "<polyline clip-path=\"url(#clip782)\" style=\"stroke:#f8f8f2; stroke-linecap:round; stroke-linejoin:round; stroke-width:4; stroke-opacity:1; fill:none\" points=\"483.357,1483.4 483.357,1486.45 524.08,1486.45 524.08,1483.4 483.357,1483.4 \"/>\n",
       "<path clip-path=\"url(#clip782)\" d=\"M524.08 1479.81 L524.08 1486.45 L564.804 1486.45 L564.804 1479.81 L524.08 1479.81 L524.08 1479.81  Z\" fill=\"#8be9fd\" fill-rule=\"evenodd\" fill-opacity=\"1\"/>\n",
       "<polyline clip-path=\"url(#clip782)\" style=\"stroke:#f8f8f2; stroke-linecap:round; stroke-linejoin:round; stroke-width:4; stroke-opacity:1; fill:none\" points=\"524.08,1479.81 524.08,1486.45 564.804,1486.45 564.804,1479.81 524.08,1479.81 \"/>\n",
       "<path clip-path=\"url(#clip782)\" d=\"M564.804 1476.77 L564.804 1486.45 L605.527 1486.45 L605.527 1476.77 L564.804 1476.77 L564.804 1476.77  Z\" fill=\"#8be9fd\" fill-rule=\"evenodd\" fill-opacity=\"1\"/>\n",
       "<polyline clip-path=\"url(#clip782)\" style=\"stroke:#f8f8f2; stroke-linecap:round; stroke-linejoin:round; stroke-width:4; stroke-opacity:1; fill:none\" points=\"564.804,1476.77 564.804,1486.45 605.527,1486.45 605.527,1476.77 564.804,1476.77 \"/>\n",
       "<path clip-path=\"url(#clip782)\" d=\"M605.527 1466.37 L605.527 1486.45 L646.251 1486.45 L646.251 1466.37 L605.527 1466.37 L605.527 1466.37  Z\" fill=\"#8be9fd\" fill-rule=\"evenodd\" fill-opacity=\"1\"/>\n",
       "<polyline clip-path=\"url(#clip782)\" style=\"stroke:#f8f8f2; stroke-linecap:round; stroke-linejoin:round; stroke-width:4; stroke-opacity:1; fill:none\" points=\"605.527,1466.37 605.527,1486.45 646.251,1486.45 646.251,1466.37 605.527,1466.37 \"/>\n",
       "<path clip-path=\"url(#clip782)\" d=\"M646.251 1450.95 L646.251 1486.45 L686.975 1486.45 L686.975 1450.95 L646.251 1450.95 L646.251 1450.95  Z\" fill=\"#8be9fd\" fill-rule=\"evenodd\" fill-opacity=\"1\"/>\n",
       "<polyline clip-path=\"url(#clip782)\" style=\"stroke:#f8f8f2; stroke-linecap:round; stroke-linejoin:round; stroke-width:4; stroke-opacity:1; fill:none\" points=\"646.251,1450.95 646.251,1486.45 686.975,1486.45 686.975,1450.95 646.251,1450.95 \"/>\n",
       "<path clip-path=\"url(#clip782)\" d=\"M686.975 1420.48 L686.975 1486.45 L727.698 1486.45 L727.698 1420.48 L686.975 1420.48 L686.975 1420.48  Z\" fill=\"#8be9fd\" fill-rule=\"evenodd\" fill-opacity=\"1\"/>\n",
       "<polyline clip-path=\"url(#clip782)\" style=\"stroke:#f8f8f2; stroke-linecap:round; stroke-linejoin:round; stroke-width:4; stroke-opacity:1; fill:none\" points=\"686.975,1420.48 686.975,1486.45 727.698,1486.45 727.698,1420.48 686.975,1420.48 \"/>\n",
       "<path clip-path=\"url(#clip782)\" d=\"M727.698 1377.81 L727.698 1486.45 L768.422 1486.45 L768.422 1377.81 L727.698 1377.81 L727.698 1377.81  Z\" fill=\"#8be9fd\" fill-rule=\"evenodd\" fill-opacity=\"1\"/>\n",
       "<polyline clip-path=\"url(#clip782)\" style=\"stroke:#f8f8f2; stroke-linecap:round; stroke-linejoin:round; stroke-width:4; stroke-opacity:1; fill:none\" points=\"727.698,1377.81 727.698,1486.45 768.422,1486.45 768.422,1377.81 727.698,1377.81 \"/>\n",
       "<path clip-path=\"url(#clip782)\" d=\"M768.422 1329.23 L768.422 1486.45 L809.145 1486.45 L809.145 1329.23 L768.422 1329.23 L768.422 1329.23  Z\" fill=\"#8be9fd\" fill-rule=\"evenodd\" fill-opacity=\"1\"/>\n",
       "<polyline clip-path=\"url(#clip782)\" style=\"stroke:#f8f8f2; stroke-linecap:round; stroke-linejoin:round; stroke-width:4; stroke-opacity:1; fill:none\" points=\"768.422,1329.23 768.422,1486.45 809.145,1486.45 809.145,1329.23 768.422,1329.23 \"/>\n",
       "<path clip-path=\"url(#clip782)\" d=\"M809.145 1244.43 L809.145 1486.45 L849.869 1486.45 L849.869 1244.43 L809.145 1244.43 L809.145 1244.43  Z\" fill=\"#8be9fd\" fill-rule=\"evenodd\" fill-opacity=\"1\"/>\n",
       "<polyline clip-path=\"url(#clip782)\" style=\"stroke:#f8f8f2; stroke-linecap:round; stroke-linejoin:round; stroke-width:4; stroke-opacity:1; fill:none\" points=\"809.145,1244.43 809.145,1486.45 849.869,1486.45 849.869,1244.43 809.145,1244.43 \"/>\n",
       "<path clip-path=\"url(#clip782)\" d=\"M849.869 1143.86 L849.869 1486.45 L890.592 1486.45 L890.592 1143.86 L849.869 1143.86 L849.869 1143.86  Z\" fill=\"#8be9fd\" fill-rule=\"evenodd\" fill-opacity=\"1\"/>\n",
       "<polyline clip-path=\"url(#clip782)\" style=\"stroke:#f8f8f2; stroke-linecap:round; stroke-linejoin:round; stroke-width:4; stroke-opacity:1; fill:none\" points=\"849.869,1143.86 849.869,1486.45 890.592,1486.45 890.592,1143.86 849.869,1143.86 \"/>\n",
       "<path clip-path=\"url(#clip782)\" d=\"M890.592 1035.93 L890.592 1486.45 L931.316 1486.45 L931.316 1035.93 L890.592 1035.93 L890.592 1035.93  Z\" fill=\"#8be9fd\" fill-rule=\"evenodd\" fill-opacity=\"1\"/>\n",
       "<polyline clip-path=\"url(#clip782)\" style=\"stroke:#f8f8f2; stroke-linecap:round; stroke-linejoin:round; stroke-width:4; stroke-opacity:1; fill:none\" points=\"890.592,1035.93 890.592,1486.45 931.316,1486.45 931.316,1035.93 890.592,1035.93 \"/>\n",
       "<path clip-path=\"url(#clip782)\" d=\"M931.316 890.903 L931.316 1486.45 L972.04 1486.45 L972.04 890.903 L931.316 890.903 L931.316 890.903  Z\" fill=\"#8be9fd\" fill-rule=\"evenodd\" fill-opacity=\"1\"/>\n",
       "<polyline clip-path=\"url(#clip782)\" style=\"stroke:#f8f8f2; stroke-linecap:round; stroke-linejoin:round; stroke-width:4; stroke-opacity:1; fill:none\" points=\"931.316,890.903 931.316,1486.45 972.04,1486.45 972.04,890.903 931.316,890.903 \"/>\n",
       "<path clip-path=\"url(#clip782)\" d=\"M972.04 707.686 L972.04 1486.45 L1012.76 1486.45 L1012.76 707.686 L972.04 707.686 L972.04 707.686  Z\" fill=\"#8be9fd\" fill-rule=\"evenodd\" fill-opacity=\"1\"/>\n",
       "<polyline clip-path=\"url(#clip782)\" style=\"stroke:#f8f8f2; stroke-linecap:round; stroke-linejoin:round; stroke-width:4; stroke-opacity:1; fill:none\" points=\"972.04,707.686 972.04,1486.45 1012.76,1486.45 1012.76,707.686 972.04,707.686 \"/>\n",
       "<path clip-path=\"url(#clip782)\" d=\"M1012.76 528.771 L1012.76 1486.45 L1053.49 1486.45 L1053.49 528.771 L1012.76 528.771 L1012.76 528.771  Z\" fill=\"#8be9fd\" fill-rule=\"evenodd\" fill-opacity=\"1\"/>\n",
       "<polyline clip-path=\"url(#clip782)\" style=\"stroke:#f8f8f2; stroke-linecap:round; stroke-linejoin:round; stroke-width:4; stroke-opacity:1; fill:none\" points=\"1012.76,528.771 1012.76,1486.45 1053.49,1486.45 1053.49,528.771 1012.76,528.771 \"/>\n",
       "<path clip-path=\"url(#clip782)\" d=\"M1053.49 338.204 L1053.49 1486.45 L1094.21 1486.45 L1094.21 338.204 L1053.49 338.204 L1053.49 338.204  Z\" fill=\"#8be9fd\" fill-rule=\"evenodd\" fill-opacity=\"1\"/>\n",
       "<polyline clip-path=\"url(#clip782)\" style=\"stroke:#f8f8f2; stroke-linecap:round; stroke-linejoin:round; stroke-width:4; stroke-opacity:1; fill:none\" points=\"1053.49,338.204 1053.49,1486.45 1094.21,1486.45 1094.21,338.204 1053.49,338.204 \"/>\n",
       "<path clip-path=\"url(#clip782)\" d=\"M1094.21 229.206 L1094.21 1486.45 L1134.93 1486.45 L1134.93 229.206 L1094.21 229.206 L1094.21 229.206  Z\" fill=\"#8be9fd\" fill-rule=\"evenodd\" fill-opacity=\"1\"/>\n",
       "<polyline clip-path=\"url(#clip782)\" style=\"stroke:#f8f8f2; stroke-linecap:round; stroke-linejoin:round; stroke-width:4; stroke-opacity:1; fill:none\" points=\"1094.21,229.206 1094.21,1486.45 1134.93,1486.45 1134.93,229.206 1094.21,229.206 \"/>\n",
       "<path clip-path=\"url(#clip782)\" d=\"M1134.93 131.323 L1134.93 1486.45 L1175.66 1486.45 L1175.66 131.323 L1134.93 131.323 L1134.93 131.323  Z\" fill=\"#8be9fd\" fill-rule=\"evenodd\" fill-opacity=\"1\"/>\n",
       "<polyline clip-path=\"url(#clip782)\" style=\"stroke:#f8f8f2; stroke-linecap:round; stroke-linejoin:round; stroke-width:4; stroke-opacity:1; fill:none\" points=\"1134.93,131.323 1134.93,1486.45 1175.66,1486.45 1175.66,131.323 1134.93,131.323 \"/>\n",
       "<path clip-path=\"url(#clip782)\" d=\"M1175.66 77.5412 L1175.66 1486.45 L1216.38 1486.45 L1216.38 77.5412 L1175.66 77.5412 L1175.66 77.5412  Z\" fill=\"#8be9fd\" fill-rule=\"evenodd\" fill-opacity=\"1\"/>\n",
       "<polyline clip-path=\"url(#clip782)\" style=\"stroke:#f8f8f2; stroke-linecap:round; stroke-linejoin:round; stroke-width:4; stroke-opacity:1; fill:none\" points=\"1175.66,77.5412 1175.66,1486.45 1216.38,1486.45 1216.38,77.5412 1175.66,77.5412 \"/>\n",
       "<path clip-path=\"url(#clip782)\" d=\"M1216.38 47.2441 L1216.38 1486.45 L1257.1 1486.45 L1257.1 47.2441 L1216.38 47.2441 L1216.38 47.2441  Z\" fill=\"#8be9fd\" fill-rule=\"evenodd\" fill-opacity=\"1\"/>\n",
       "<polyline clip-path=\"url(#clip782)\" style=\"stroke:#f8f8f2; stroke-linecap:round; stroke-linejoin:round; stroke-width:4; stroke-opacity:1; fill:none\" points=\"1216.38,47.2441 1216.38,1486.45 1257.1,1486.45 1257.1,47.2441 1216.38,47.2441 \"/>\n",
       "<path clip-path=\"url(#clip782)\" d=\"M1257.1 119.312 L1257.1 1486.45 L1297.83 1486.45 L1297.83 119.312 L1257.1 119.312 L1257.1 119.312  Z\" fill=\"#8be9fd\" fill-rule=\"evenodd\" fill-opacity=\"1\"/>\n",
       "<polyline clip-path=\"url(#clip782)\" style=\"stroke:#f8f8f2; stroke-linecap:round; stroke-linejoin:round; stroke-width:4; stroke-opacity:1; fill:none\" points=\"1257.1,119.312 1257.1,1486.45 1297.83,1486.45 1297.83,119.312 1257.1,119.312 \"/>\n",
       "<path clip-path=\"url(#clip782)\" d=\"M1297.83 249.464 L1297.83 1486.45 L1338.55 1486.45 L1338.55 249.464 L1297.83 249.464 L1297.83 249.464  Z\" fill=\"#8be9fd\" fill-rule=\"evenodd\" fill-opacity=\"1\"/>\n",
       "<polyline clip-path=\"url(#clip782)\" style=\"stroke:#f8f8f2; stroke-linecap:round; stroke-linejoin:round; stroke-width:4; stroke-opacity:1; fill:none\" points=\"1297.83,249.464 1297.83,1486.45 1338.55,1486.45 1338.55,249.464 1297.83,249.464 \"/>\n",
       "<path clip-path=\"url(#clip782)\" d=\"M1338.55 345.017 L1338.55 1486.45 L1379.28 1486.45 L1379.28 345.017 L1338.55 345.017 L1338.55 345.017  Z\" fill=\"#8be9fd\" fill-rule=\"evenodd\" fill-opacity=\"1\"/>\n",
       "<polyline clip-path=\"url(#clip782)\" style=\"stroke:#f8f8f2; stroke-linecap:round; stroke-linejoin:round; stroke-width:4; stroke-opacity:1; fill:none\" points=\"1338.55,345.017 1338.55,1486.45 1379.28,1486.45 1379.28,345.017 1338.55,345.017 \"/>\n",
       "<path clip-path=\"url(#clip782)\" d=\"M1379.28 513.712 L1379.28 1486.45 L1420 1486.45 L1420 513.712 L1379.28 513.712 L1379.28 513.712  Z\" fill=\"#8be9fd\" fill-rule=\"evenodd\" fill-opacity=\"1\"/>\n",
       "<polyline clip-path=\"url(#clip782)\" style=\"stroke:#f8f8f2; stroke-linecap:round; stroke-linejoin:round; stroke-width:4; stroke-opacity:1; fill:none\" points=\"1379.28,513.712 1379.28,1486.45 1420,1486.45 1420,513.712 1379.28,513.712 \"/>\n",
       "<path clip-path=\"url(#clip782)\" d=\"M1420 722.745 L1420 1486.45 L1460.72 1486.45 L1460.72 722.745 L1420 722.745 L1420 722.745  Z\" fill=\"#8be9fd\" fill-rule=\"evenodd\" fill-opacity=\"1\"/>\n",
       "<polyline clip-path=\"url(#clip782)\" style=\"stroke:#f8f8f2; stroke-linecap:round; stroke-linejoin:round; stroke-width:4; stroke-opacity:1; fill:none\" points=\"1420,722.745 1420,1486.45 1460.72,1486.45 1460.72,722.745 1420,722.745 \"/>\n",
       "<path clip-path=\"url(#clip782)\" d=\"M1460.72 868.494 L1460.72 1486.45 L1501.45 1486.45 L1501.45 868.494 L1460.72 868.494 L1460.72 868.494  Z\" fill=\"#8be9fd\" fill-rule=\"evenodd\" fill-opacity=\"1\"/>\n",
       "<polyline clip-path=\"url(#clip782)\" style=\"stroke:#f8f8f2; stroke-linecap:round; stroke-linejoin:round; stroke-width:4; stroke-opacity:1; fill:none\" points=\"1460.72,868.494 1460.72,1486.45 1501.45,1486.45 1501.45,868.494 1460.72,868.494 \"/>\n",
       "<path clip-path=\"url(#clip782)\" d=\"M1501.45 1026.43 L1501.45 1486.45 L1542.17 1486.45 L1542.17 1026.43 L1501.45 1026.43 L1501.45 1026.43  Z\" fill=\"#8be9fd\" fill-rule=\"evenodd\" fill-opacity=\"1\"/>\n",
       "<polyline clip-path=\"url(#clip782)\" style=\"stroke:#f8f8f2; stroke-linecap:round; stroke-linejoin:round; stroke-width:4; stroke-opacity:1; fill:none\" points=\"1501.45,1026.43 1501.45,1486.45 1542.17,1486.45 1542.17,1026.43 1501.45,1026.43 \"/>\n",
       "<path clip-path=\"url(#clip782)\" d=\"M1542.17 1150.13 L1542.17 1486.45 L1582.89 1486.45 L1582.89 1150.13 L1542.17 1150.13 L1542.17 1150.13  Z\" fill=\"#8be9fd\" fill-rule=\"evenodd\" fill-opacity=\"1\"/>\n",
       "<polyline clip-path=\"url(#clip782)\" style=\"stroke:#f8f8f2; stroke-linecap:round; stroke-linejoin:round; stroke-width:4; stroke-opacity:1; fill:none\" points=\"1542.17,1150.13 1542.17,1486.45 1582.89,1486.45 1582.89,1150.13 1542.17,1150.13 \"/>\n",
       "<path clip-path=\"url(#clip782)\" d=\"M1582.89 1249.45 L1582.89 1486.45 L1623.62 1486.45 L1623.62 1249.45 L1582.89 1249.45 L1582.89 1249.45  Z\" fill=\"#8be9fd\" fill-rule=\"evenodd\" fill-opacity=\"1\"/>\n",
       "<polyline clip-path=\"url(#clip782)\" style=\"stroke:#f8f8f2; stroke-linecap:round; stroke-linejoin:round; stroke-width:4; stroke-opacity:1; fill:none\" points=\"1582.89,1249.45 1582.89,1486.45 1623.62,1486.45 1623.62,1249.45 1582.89,1249.45 \"/>\n",
       "<path clip-path=\"url(#clip782)\" d=\"M1623.62 1328.69 L1623.62 1486.45 L1664.34 1486.45 L1664.34 1328.69 L1623.62 1328.69 L1623.62 1328.69  Z\" fill=\"#8be9fd\" fill-rule=\"evenodd\" fill-opacity=\"1\"/>\n",
       "<polyline clip-path=\"url(#clip782)\" style=\"stroke:#f8f8f2; stroke-linecap:round; stroke-linejoin:round; stroke-width:4; stroke-opacity:1; fill:none\" points=\"1623.62,1328.69 1623.62,1486.45 1664.34,1486.45 1664.34,1328.69 1623.62,1328.69 \"/>\n",
       "<path clip-path=\"url(#clip782)\" d=\"M1664.34 1383.37 L1664.34 1486.45 L1705.06 1486.45 L1705.06 1383.37 L1664.34 1383.37 L1664.34 1383.37  Z\" fill=\"#8be9fd\" fill-rule=\"evenodd\" fill-opacity=\"1\"/>\n",
       "<polyline clip-path=\"url(#clip782)\" style=\"stroke:#f8f8f2; stroke-linecap:round; stroke-linejoin:round; stroke-width:4; stroke-opacity:1; fill:none\" points=\"1664.34,1383.37 1664.34,1486.45 1705.06,1486.45 1705.06,1383.37 1664.34,1383.37 \"/>\n",
       "<path clip-path=\"url(#clip782)\" d=\"M1705.06 1426.93 L1705.06 1486.45 L1745.79 1486.45 L1745.79 1426.93 L1705.06 1426.93 L1705.06 1426.93  Z\" fill=\"#8be9fd\" fill-rule=\"evenodd\" fill-opacity=\"1\"/>\n",
       "<polyline clip-path=\"url(#clip782)\" style=\"stroke:#f8f8f2; stroke-linecap:round; stroke-linejoin:round; stroke-width:4; stroke-opacity:1; fill:none\" points=\"1705.06,1426.93 1705.06,1486.45 1745.79,1486.45 1745.79,1426.93 1705.06,1426.93 \"/>\n",
       "<path clip-path=\"url(#clip782)\" d=\"M1745.79 1445.93 L1745.79 1486.45 L1786.51 1486.45 L1786.51 1445.93 L1745.79 1445.93 L1745.79 1445.93  Z\" fill=\"#8be9fd\" fill-rule=\"evenodd\" fill-opacity=\"1\"/>\n",
       "<polyline clip-path=\"url(#clip782)\" style=\"stroke:#f8f8f2; stroke-linecap:round; stroke-linejoin:round; stroke-width:4; stroke-opacity:1; fill:none\" points=\"1745.79,1445.93 1745.79,1486.45 1786.51,1486.45 1786.51,1445.93 1745.79,1445.93 \"/>\n",
       "<path clip-path=\"url(#clip782)\" d=\"M1786.51 1464.22 L1786.51 1486.45 L1827.23 1486.45 L1827.23 1464.22 L1786.51 1464.22 L1786.51 1464.22  Z\" fill=\"#8be9fd\" fill-rule=\"evenodd\" fill-opacity=\"1\"/>\n",
       "<polyline clip-path=\"url(#clip782)\" style=\"stroke:#f8f8f2; stroke-linecap:round; stroke-linejoin:round; stroke-width:4; stroke-opacity:1; fill:none\" points=\"1786.51,1464.22 1786.51,1486.45 1827.23,1486.45 1827.23,1464.22 1786.51,1464.22 \"/>\n",
       "<path clip-path=\"url(#clip782)\" d=\"M1827.23 1473.9 L1827.23 1486.45 L1867.96 1486.45 L1867.96 1473.9 L1827.23 1473.9 L1827.23 1473.9  Z\" fill=\"#8be9fd\" fill-rule=\"evenodd\" fill-opacity=\"1\"/>\n",
       "<polyline clip-path=\"url(#clip782)\" style=\"stroke:#f8f8f2; stroke-linecap:round; stroke-linejoin:round; stroke-width:4; stroke-opacity:1; fill:none\" points=\"1827.23,1473.9 1827.23,1486.45 1867.96,1486.45 1867.96,1473.9 1827.23,1473.9 \"/>\n",
       "<path clip-path=\"url(#clip782)\" d=\"M1867.96 1479.99 L1867.96 1486.45 L1908.68 1486.45 L1908.68 1479.99 L1867.96 1479.99 L1867.96 1479.99  Z\" fill=\"#8be9fd\" fill-rule=\"evenodd\" fill-opacity=\"1\"/>\n",
       "<polyline clip-path=\"url(#clip782)\" style=\"stroke:#f8f8f2; stroke-linecap:round; stroke-linejoin:round; stroke-width:4; stroke-opacity:1; fill:none\" points=\"1867.96,1479.99 1867.96,1486.45 1908.68,1486.45 1908.68,1479.99 1867.96,1479.99 \"/>\n",
       "<path clip-path=\"url(#clip782)\" d=\"M1908.68 1483.76 L1908.68 1486.45 L1949.41 1486.45 L1949.41 1483.76 L1908.68 1483.76 L1908.68 1483.76  Z\" fill=\"#8be9fd\" fill-rule=\"evenodd\" fill-opacity=\"1\"/>\n",
       "<polyline clip-path=\"url(#clip782)\" style=\"stroke:#f8f8f2; stroke-linecap:round; stroke-linejoin:round; stroke-width:4; stroke-opacity:1; fill:none\" points=\"1908.68,1483.76 1908.68,1486.45 1949.41,1486.45 1949.41,1483.76 1908.68,1483.76 \"/>\n",
       "<path clip-path=\"url(#clip782)\" d=\"M1949.41 1483.94 L1949.41 1486.45 L1990.13 1486.45 L1990.13 1483.94 L1949.41 1483.94 L1949.41 1483.94  Z\" fill=\"#8be9fd\" fill-rule=\"evenodd\" fill-opacity=\"1\"/>\n",
       "<polyline clip-path=\"url(#clip782)\" style=\"stroke:#f8f8f2; stroke-linecap:round; stroke-linejoin:round; stroke-width:4; stroke-opacity:1; fill:none\" points=\"1949.41,1483.94 1949.41,1486.45 1990.13,1486.45 1990.13,1483.94 1949.41,1483.94 \"/>\n",
       "<path clip-path=\"url(#clip782)\" d=\"M1990.13 1485.73 L1990.13 1486.45 L2030.85 1486.45 L2030.85 1485.73 L1990.13 1485.73 L1990.13 1485.73  Z\" fill=\"#8be9fd\" fill-rule=\"evenodd\" fill-opacity=\"1\"/>\n",
       "<polyline clip-path=\"url(#clip782)\" style=\"stroke:#f8f8f2; stroke-linecap:round; stroke-linejoin:round; stroke-width:4; stroke-opacity:1; fill:none\" points=\"1990.13,1485.73 1990.13,1486.45 2030.85,1486.45 2030.85,1485.73 1990.13,1485.73 \"/>\n",
       "<path clip-path=\"url(#clip782)\" d=\"M2030.85 1486.45 L2030.85 1486.45 L2071.58 1486.45 L2071.58 1486.45 L2030.85 1486.45 L2030.85 1486.45  Z\" fill=\"#8be9fd\" fill-rule=\"evenodd\" fill-opacity=\"1\"/>\n",
       "<polyline clip-path=\"url(#clip782)\" style=\"stroke:#f8f8f2; stroke-linecap:round; stroke-linejoin:round; stroke-width:4; stroke-opacity:1; fill:none\" points=\"2030.85,1486.45 2030.85,1486.45 2071.58,1486.45 2030.85,1486.45 \"/>\n",
       "<path clip-path=\"url(#clip782)\" d=\"M2071.58 1486.45 L2071.58 1486.45 L2112.3 1486.45 L2112.3 1486.45 L2071.58 1486.45 L2071.58 1486.45  Z\" fill=\"#8be9fd\" fill-rule=\"evenodd\" fill-opacity=\"1\"/>\n",
       "<polyline clip-path=\"url(#clip782)\" style=\"stroke:#f8f8f2; stroke-linecap:round; stroke-linejoin:round; stroke-width:4; stroke-opacity:1; fill:none\" points=\"2071.58,1486.45 2071.58,1486.45 2112.3,1486.45 2071.58,1486.45 \"/>\n",
       "<path clip-path=\"url(#clip782)\" d=\"M2112.3 1486.45 L2112.3 1486.45 L2153.02 1486.45 L2153.02 1486.45 L2112.3 1486.45 L2112.3 1486.45  Z\" fill=\"#8be9fd\" fill-rule=\"evenodd\" fill-opacity=\"1\"/>\n",
       "<polyline clip-path=\"url(#clip782)\" style=\"stroke:#f8f8f2; stroke-linecap:round; stroke-linejoin:round; stroke-width:4; stroke-opacity:1; fill:none\" points=\"2112.3,1486.45 2112.3,1486.45 2153.02,1486.45 2112.3,1486.45 \"/>\n",
       "<path clip-path=\"url(#clip782)\" d=\"M2153.02 1486.45 L2153.02 1486.45 L2193.75 1486.45 L2193.75 1486.45 L2153.02 1486.45 L2153.02 1486.45  Z\" fill=\"#8be9fd\" fill-rule=\"evenodd\" fill-opacity=\"1\"/>\n",
       "<polyline clip-path=\"url(#clip782)\" style=\"stroke:#f8f8f2; stroke-linecap:round; stroke-linejoin:round; stroke-width:4; stroke-opacity:1; fill:none\" points=\"2153.02,1486.45 2153.02,1486.45 2193.75,1486.45 2153.02,1486.45 \"/>\n",
       "<path clip-path=\"url(#clip782)\" d=\"M2193.75 1486.27 L2193.75 1486.45 L2234.47 1486.45 L2234.47 1486.27 L2193.75 1486.27 L2193.75 1486.27  Z\" fill=\"#8be9fd\" fill-rule=\"evenodd\" fill-opacity=\"1\"/>\n",
       "<polyline clip-path=\"url(#clip782)\" style=\"stroke:#f8f8f2; stroke-linecap:round; stroke-linejoin:round; stroke-width:4; stroke-opacity:1; fill:none\" points=\"2193.75,1486.27 2193.75,1486.45 2234.47,1486.45 2234.47,1486.27 2193.75,1486.27 \"/>\n",
       "<circle clip-path=\"url(#clip782)\" style=\"fill:#8be9fd; stroke:none; fill-opacity:0\" cx=\"340.824\" cy=\"1486.27\" r=\"2\"/>\n",
       "<circle clip-path=\"url(#clip782)\" style=\"fill:#8be9fd; stroke:none; fill-opacity:0\" cx=\"381.548\" cy=\"1485.73\" r=\"2\"/>\n",
       "<circle clip-path=\"url(#clip782)\" style=\"fill:#8be9fd; stroke:none; fill-opacity:0\" cx=\"422.271\" cy=\"1485.91\" r=\"2\"/>\n",
       "<circle clip-path=\"url(#clip782)\" style=\"fill:#8be9fd; stroke:none; fill-opacity:0\" cx=\"462.995\" cy=\"1484.66\" r=\"2\"/>\n",
       "<circle clip-path=\"url(#clip782)\" style=\"fill:#8be9fd; stroke:none; fill-opacity:0\" cx=\"503.718\" cy=\"1483.4\" r=\"2\"/>\n",
       "<circle clip-path=\"url(#clip782)\" style=\"fill:#8be9fd; stroke:none; fill-opacity:0\" cx=\"544.442\" cy=\"1479.81\" r=\"2\"/>\n",
       "<circle clip-path=\"url(#clip782)\" style=\"fill:#8be9fd; stroke:none; fill-opacity:0\" cx=\"585.166\" cy=\"1476.77\" r=\"2\"/>\n",
       "<circle clip-path=\"url(#clip782)\" style=\"fill:#8be9fd; stroke:none; fill-opacity:0\" cx=\"625.889\" cy=\"1466.37\" r=\"2\"/>\n",
       "<circle clip-path=\"url(#clip782)\" style=\"fill:#8be9fd; stroke:none; fill-opacity:0\" cx=\"666.613\" cy=\"1450.95\" r=\"2\"/>\n",
       "<circle clip-path=\"url(#clip782)\" style=\"fill:#8be9fd; stroke:none; fill-opacity:0\" cx=\"707.336\" cy=\"1420.48\" r=\"2\"/>\n",
       "<circle clip-path=\"url(#clip782)\" style=\"fill:#8be9fd; stroke:none; fill-opacity:0\" cx=\"748.06\" cy=\"1377.81\" r=\"2\"/>\n",
       "<circle clip-path=\"url(#clip782)\" style=\"fill:#8be9fd; stroke:none; fill-opacity:0\" cx=\"788.783\" cy=\"1329.23\" r=\"2\"/>\n",
       "<circle clip-path=\"url(#clip782)\" style=\"fill:#8be9fd; stroke:none; fill-opacity:0\" cx=\"829.507\" cy=\"1244.43\" r=\"2\"/>\n",
       "<circle clip-path=\"url(#clip782)\" style=\"fill:#8be9fd; stroke:none; fill-opacity:0\" cx=\"870.231\" cy=\"1143.86\" r=\"2\"/>\n",
       "<circle clip-path=\"url(#clip782)\" style=\"fill:#8be9fd; stroke:none; fill-opacity:0\" cx=\"910.954\" cy=\"1035.93\" r=\"2\"/>\n",
       "<circle clip-path=\"url(#clip782)\" style=\"fill:#8be9fd; stroke:none; fill-opacity:0\" cx=\"951.678\" cy=\"890.903\" r=\"2\"/>\n",
       "<circle clip-path=\"url(#clip782)\" style=\"fill:#8be9fd; stroke:none; fill-opacity:0\" cx=\"992.401\" cy=\"707.686\" r=\"2\"/>\n",
       "<circle clip-path=\"url(#clip782)\" style=\"fill:#8be9fd; stroke:none; fill-opacity:0\" cx=\"1033.12\" cy=\"528.771\" r=\"2\"/>\n",
       "<circle clip-path=\"url(#clip782)\" style=\"fill:#8be9fd; stroke:none; fill-opacity:0\" cx=\"1073.85\" cy=\"338.204\" r=\"2\"/>\n",
       "<circle clip-path=\"url(#clip782)\" style=\"fill:#8be9fd; stroke:none; fill-opacity:0\" cx=\"1114.57\" cy=\"229.206\" r=\"2\"/>\n",
       "<circle clip-path=\"url(#clip782)\" style=\"fill:#8be9fd; stroke:none; fill-opacity:0\" cx=\"1155.3\" cy=\"131.323\" r=\"2\"/>\n",
       "<circle clip-path=\"url(#clip782)\" style=\"fill:#8be9fd; stroke:none; fill-opacity:0\" cx=\"1196.02\" cy=\"77.5412\" r=\"2\"/>\n",
       "<circle clip-path=\"url(#clip782)\" style=\"fill:#8be9fd; stroke:none; fill-opacity:0\" cx=\"1236.74\" cy=\"47.2441\" r=\"2\"/>\n",
       "<circle clip-path=\"url(#clip782)\" style=\"fill:#8be9fd; stroke:none; fill-opacity:0\" cx=\"1277.47\" cy=\"119.312\" r=\"2\"/>\n",
       "<circle clip-path=\"url(#clip782)\" style=\"fill:#8be9fd; stroke:none; fill-opacity:0\" cx=\"1318.19\" cy=\"249.464\" r=\"2\"/>\n",
       "<circle clip-path=\"url(#clip782)\" style=\"fill:#8be9fd; stroke:none; fill-opacity:0\" cx=\"1358.91\" cy=\"345.017\" r=\"2\"/>\n",
       "<circle clip-path=\"url(#clip782)\" style=\"fill:#8be9fd; stroke:none; fill-opacity:0\" cx=\"1399.64\" cy=\"513.712\" r=\"2\"/>\n",
       "<circle clip-path=\"url(#clip782)\" style=\"fill:#8be9fd; stroke:none; fill-opacity:0\" cx=\"1440.36\" cy=\"722.745\" r=\"2\"/>\n",
       "<circle clip-path=\"url(#clip782)\" style=\"fill:#8be9fd; stroke:none; fill-opacity:0\" cx=\"1481.08\" cy=\"868.494\" r=\"2\"/>\n",
       "<circle clip-path=\"url(#clip782)\" style=\"fill:#8be9fd; stroke:none; fill-opacity:0\" cx=\"1521.81\" cy=\"1026.43\" r=\"2\"/>\n",
       "<circle clip-path=\"url(#clip782)\" style=\"fill:#8be9fd; stroke:none; fill-opacity:0\" cx=\"1562.53\" cy=\"1150.13\" r=\"2\"/>\n",
       "<circle clip-path=\"url(#clip782)\" style=\"fill:#8be9fd; stroke:none; fill-opacity:0\" cx=\"1603.25\" cy=\"1249.45\" r=\"2\"/>\n",
       "<circle clip-path=\"url(#clip782)\" style=\"fill:#8be9fd; stroke:none; fill-opacity:0\" cx=\"1643.98\" cy=\"1328.69\" r=\"2\"/>\n",
       "<circle clip-path=\"url(#clip782)\" style=\"fill:#8be9fd; stroke:none; fill-opacity:0\" cx=\"1684.7\" cy=\"1383.37\" r=\"2\"/>\n",
       "<circle clip-path=\"url(#clip782)\" style=\"fill:#8be9fd; stroke:none; fill-opacity:0\" cx=\"1725.43\" cy=\"1426.93\" r=\"2\"/>\n",
       "<circle clip-path=\"url(#clip782)\" style=\"fill:#8be9fd; stroke:none; fill-opacity:0\" cx=\"1766.15\" cy=\"1445.93\" r=\"2\"/>\n",
       "<circle clip-path=\"url(#clip782)\" style=\"fill:#8be9fd; stroke:none; fill-opacity:0\" cx=\"1806.87\" cy=\"1464.22\" r=\"2\"/>\n",
       "<circle clip-path=\"url(#clip782)\" style=\"fill:#8be9fd; stroke:none; fill-opacity:0\" cx=\"1847.6\" cy=\"1473.9\" r=\"2\"/>\n",
       "<circle clip-path=\"url(#clip782)\" style=\"fill:#8be9fd; stroke:none; fill-opacity:0\" cx=\"1888.32\" cy=\"1479.99\" r=\"2\"/>\n",
       "<circle clip-path=\"url(#clip782)\" style=\"fill:#8be9fd; stroke:none; fill-opacity:0\" cx=\"1929.04\" cy=\"1483.76\" r=\"2\"/>\n",
       "<circle clip-path=\"url(#clip782)\" style=\"fill:#8be9fd; stroke:none; fill-opacity:0\" cx=\"1969.77\" cy=\"1483.94\" r=\"2\"/>\n",
       "<circle clip-path=\"url(#clip782)\" style=\"fill:#8be9fd; stroke:none; fill-opacity:0\" cx=\"2010.49\" cy=\"1485.73\" r=\"2\"/>\n",
       "<circle clip-path=\"url(#clip782)\" style=\"fill:#8be9fd; stroke:none; fill-opacity:0\" cx=\"2051.21\" cy=\"1486.45\" r=\"2\"/>\n",
       "<circle clip-path=\"url(#clip782)\" style=\"fill:#8be9fd; stroke:none; fill-opacity:0\" cx=\"2091.94\" cy=\"1486.45\" r=\"2\"/>\n",
       "<circle clip-path=\"url(#clip782)\" style=\"fill:#8be9fd; stroke:none; fill-opacity:0\" cx=\"2132.66\" cy=\"1486.45\" r=\"2\"/>\n",
       "<circle clip-path=\"url(#clip782)\" style=\"fill:#8be9fd; stroke:none; fill-opacity:0\" cx=\"2173.38\" cy=\"1486.45\" r=\"2\"/>\n",
       "<circle clip-path=\"url(#clip782)\" style=\"fill:#8be9fd; stroke:none; fill-opacity:0\" cx=\"2214.11\" cy=\"1486.27\" r=\"2\"/>\n",
       "</svg>\n"
      ]
     },
     "execution_count": 90,
     "metadata": {},
     "output_type": "execute_result"
    }
   ],
   "source": [
    "x = randn(10^5)\n",
    "histogram(x, bins=64, legend=false)"
   ]
  },
  {
   "cell_type": "code",
   "execution_count": 91,
   "metadata": {},
   "outputs": [
    {
     "data": {
      "text/latex": [
       "\\textbf{Histogram in 2D}\n",
       "\n"
      ],
      "text/markdown": [
       "**Histogram in 2D**\n"
      ],
      "text/plain": [
       "  \u001b[1mHistogram in 2D\u001b[22m"
      ]
     },
     "execution_count": 91,
     "metadata": {},
     "output_type": "execute_result"
    }
   ],
   "source": [
    "md\"**Histogram in 2D**\""
   ]
  },
  {
   "cell_type": "code",
   "execution_count": 92,
   "metadata": {},
   "outputs": [
    {
     "data": {
      "image/png": "[encoded data removed]",
      "image/svg+xml": [
       "<?xml version=\"1.0\" encoding=\"utf-8\"?>\n",
       "<svg xmlns=\"http://www.w3.org/2000/svg\" xmlns:xlink=\"http://www.w3.org/1999/xlink\" width=\"600\" height=\"400\" viewBox=\"0 0 2400 1600\">\n",
       "<defs>\n",
       "  <clipPath id=\"clip820\">\n",
       "    <rect x=\"0\" y=\"0\" width=\"2400\" height=\"1600\"/>\n",
       "  </clipPath>\n",
       "</defs>\n",
       "<path clip-path=\"url(#clip820)\" d=\"M0 1600 L2400 1600 L2400 0 L0 0  Z\" fill=\"#282a36\" fill-rule=\"evenodd\" fill-opacity=\"1\"/>\n",
       "<defs>\n",
       "  <clipPath id=\"clip821\">\n",
       "    <rect x=\"480\" y=\"0\" width=\"1681\" height=\"1600\"/>\n",
       "  </clipPath>\n",
       "</defs>\n",
       "<path clip-path=\"url(#clip820)\" d=\"M149.191 1486.45 L2112.76 1486.45 L2112.76 47.2441 L149.191 47.2441  Z\" fill=\"#30343b\" fill-rule=\"evenodd\" fill-opacity=\"1\"/>\n",
       "<defs>\n",
       "  <clipPath id=\"clip822\">\n",
       "    <rect x=\"149\" y=\"47\" width=\"1965\" height=\"1440\"/>\n",
       "  </clipPath>\n",
       "</defs>\n",
       "<polyline clip-path=\"url(#clip822)\" style=\"stroke:#f8f8f2; stroke-linecap:round; stroke-linejoin:round; stroke-width:2; stroke-opacity:0.1; fill:none\" points=\"240.519,1486.45 240.519,47.2441 \"/>\n",
       "<polyline clip-path=\"url(#clip822)\" style=\"stroke:#f8f8f2; stroke-linecap:round; stroke-linejoin:round; stroke-width:2; stroke-opacity:0.1; fill:none\" points=\"697.163,1486.45 697.163,47.2441 \"/>\n",
       "<polyline clip-path=\"url(#clip822)\" style=\"stroke:#f8f8f2; stroke-linecap:round; stroke-linejoin:round; stroke-width:2; stroke-opacity:0.1; fill:none\" points=\"1153.81,1486.45 1153.81,47.2441 \"/>\n",
       "<polyline clip-path=\"url(#clip822)\" style=\"stroke:#f8f8f2; stroke-linecap:round; stroke-linejoin:round; stroke-width:2; stroke-opacity:0.1; fill:none\" points=\"1610.45,1486.45 1610.45,47.2441 \"/>\n",
       "<polyline clip-path=\"url(#clip822)\" style=\"stroke:#f8f8f2; stroke-linecap:round; stroke-linejoin:round; stroke-width:2; stroke-opacity:0.1; fill:none\" points=\"2067.09,1486.45 2067.09,47.2441 \"/>\n",
       "<polyline clip-path=\"url(#clip820)\" style=\"stroke:#f8f8f2; stroke-linecap:round; stroke-linejoin:round; stroke-width:4; stroke-opacity:1; fill:none\" points=\"149.191,1486.45 2112.76,1486.45 \"/>\n",
       "<polyline clip-path=\"url(#clip820)\" style=\"stroke:#f8f8f2; stroke-linecap:round; stroke-linejoin:round; stroke-width:4; stroke-opacity:1; fill:none\" points=\"240.519,1486.45 240.519,1467.55 \"/>\n",
       "<polyline clip-path=\"url(#clip820)\" style=\"stroke:#f8f8f2; stroke-linecap:round; stroke-linejoin:round; stroke-width:4; stroke-opacity:1; fill:none\" points=\"697.163,1486.45 697.163,1467.55 \"/>\n",
       "<polyline clip-path=\"url(#clip820)\" style=\"stroke:#f8f8f2; stroke-linecap:round; stroke-linejoin:round; stroke-width:4; stroke-opacity:1; fill:none\" points=\"1153.81,1486.45 1153.81,1467.55 \"/>\n",
       "<polyline clip-path=\"url(#clip820)\" style=\"stroke:#f8f8f2; stroke-linecap:round; stroke-linejoin:round; stroke-width:4; stroke-opacity:1; fill:none\" points=\"1610.45,1486.45 1610.45,1467.55 \"/>\n",
       "<polyline clip-path=\"url(#clip820)\" style=\"stroke:#f8f8f2; stroke-linecap:round; stroke-linejoin:round; stroke-width:4; stroke-opacity:1; fill:none\" points=\"2067.09,1486.45 2067.09,1467.55 \"/>\n",
       "<path clip-path=\"url(#clip820)\" d=\"M209.42 1532.02 L239.096 1532.02 L239.096 1535.95 L209.42 1535.95 L209.42 1532.02 Z\" fill=\"#f8f8f2\" fill-rule=\"nonzero\" fill-opacity=\"1\" /><path clip-path=\"url(#clip820)\" d=\"M262.036 1518.36 L250.23 1536.81 L262.036 1536.81 L262.036 1518.36 M260.809 1514.29 L266.688 1514.29 L266.688 1536.81 L271.619 1536.81 L271.619 1540.7 L266.688 1540.7 L266.688 1548.85 L262.036 1548.85 L262.036 1540.7 L246.434 1540.7 L246.434 1536.19 L260.809 1514.29 Z\" fill=\"#f8f8f2\" fill-rule=\"nonzero\" fill-opacity=\"1\" /><path clip-path=\"url(#clip820)\" d=\"M667.105 1532.02 L696.781 1532.02 L696.781 1535.95 L667.105 1535.95 L667.105 1532.02 Z\" fill=\"#f8f8f2\" fill-rule=\"nonzero\" fill-opacity=\"1\" /><path clip-path=\"url(#clip820)\" d=\"M710.901 1544.91 L727.22 1544.91 L727.22 1548.85 L705.276 1548.85 L705.276 1544.91 Q707.938 1542.16 712.521 1537.53 Q717.128 1532.88 718.308 1531.53 Q720.554 1529.01 721.433 1527.27 Q722.336 1525.51 722.336 1523.82 Q722.336 1521.07 720.392 1519.33 Q718.47 1517.6 715.368 1517.6 Q713.169 1517.6 710.716 1518.36 Q708.285 1519.13 705.507 1520.68 L705.507 1515.95 Q708.331 1514.82 710.785 1514.24 Q713.239 1513.66 715.276 1513.66 Q720.646 1513.66 723.841 1516.35 Q727.035 1519.03 727.035 1523.52 Q727.035 1525.65 726.225 1527.57 Q725.438 1529.47 723.331 1532.07 Q722.753 1532.74 719.651 1535.95 Q716.549 1539.15 710.901 1544.91 Z\" fill=\"#f8f8f2\" fill-rule=\"nonzero\" fill-opacity=\"1\" /><path clip-path=\"url(#clip820)\" d=\"M1153.81 1517.37 Q1150.19 1517.37 1148.37 1520.93 Q1146.56 1524.47 1146.56 1531.6 Q1146.56 1538.71 1148.37 1542.27 Q1150.19 1545.82 1153.81 1545.82 Q1157.44 1545.82 1159.25 1542.27 Q1161.07 1538.71 1161.07 1531.6 Q1161.07 1524.47 1159.25 1520.93 Q1157.44 1517.37 1153.81 1517.37 M1153.81 1513.66 Q1159.62 1513.66 1162.67 1518.27 Q1165.75 1522.85 1165.75 1531.6 Q1165.75 1540.33 1162.67 1544.94 Q1159.62 1549.52 1153.81 1549.52 Q1148 1549.52 1144.92 1544.94 Q1141.86 1540.33 1141.86 1531.6 Q1141.86 1522.85 1144.92 1518.27 Q1148 1513.66 1153.81 1513.66 Z\" fill=\"#f8f8f2\" fill-rule=\"nonzero\" fill-opacity=\"1\" /><path clip-path=\"url(#clip820)\" d=\"M1605.1 1544.91 L1621.42 1544.91 L1621.42 1548.85 L1599.48 1548.85 L1599.48 1544.91 Q1602.14 1542.16 1606.72 1537.53 Q1611.33 1532.88 1612.51 1531.53 Q1614.75 1529.01 1615.63 1527.27 Q1616.54 1525.51 1616.54 1523.82 Q1616.54 1521.07 1614.59 1519.33 Q1612.67 1517.6 1609.57 1517.6 Q1607.37 1517.6 1604.92 1518.36 Q1602.49 1519.13 1599.71 1520.68 L1599.71 1515.95 Q1602.53 1514.82 1604.99 1514.24 Q1607.44 1513.66 1609.48 1513.66 Q1614.85 1513.66 1618.04 1516.35 Q1621.24 1519.03 1621.24 1523.52 Q1621.24 1525.65 1620.43 1527.57 Q1619.64 1529.47 1617.53 1532.07 Q1616.95 1532.74 1613.85 1535.95 Q1610.75 1539.15 1605.1 1544.91 Z\" fill=\"#f8f8f2\" fill-rule=\"nonzero\" fill-opacity=\"1\" /><path clip-path=\"url(#clip820)\" d=\"M2070.1 1518.36 L2058.3 1536.81 L2070.1 1536.81 L2070.1 1518.36 M2068.87 1514.29 L2074.75 1514.29 L2074.75 1536.81 L2079.68 1536.81 L2079.68 1540.7 L2074.75 1540.7 L2074.75 1548.85 L2070.1 1548.85 L2070.1 1540.7 L2054.5 1540.7 L2054.5 1536.19 L2068.87 1514.29 Z\" fill=\"#f8f8f2\" fill-rule=\"nonzero\" fill-opacity=\"1\" /><polyline clip-path=\"url(#clip822)\" style=\"stroke:#f8f8f2; stroke-linecap:round; stroke-linejoin:round; stroke-width:2; stroke-opacity:0.1; fill:none\" points=\"149.191,1419.51 2112.76,1419.51 \"/>\n",
       "<polyline clip-path=\"url(#clip822)\" style=\"stroke:#f8f8f2; stroke-linecap:round; stroke-linejoin:round; stroke-width:2; stroke-opacity:0.1; fill:none\" points=\"149.191,1084.81 2112.76,1084.81 \"/>\n",
       "<polyline clip-path=\"url(#clip822)\" style=\"stroke:#f8f8f2; stroke-linecap:round; stroke-linejoin:round; stroke-width:2; stroke-opacity:0.1; fill:none\" points=\"149.191,750.111 2112.76,750.111 \"/>\n",
       "<polyline clip-path=\"url(#clip822)\" style=\"stroke:#f8f8f2; stroke-linecap:round; stroke-linejoin:round; stroke-width:2; stroke-opacity:0.1; fill:none\" points=\"149.191,415.413 2112.76,415.413 \"/>\n",
       "<polyline clip-path=\"url(#clip822)\" style=\"stroke:#f8f8f2; stroke-linecap:round; stroke-linejoin:round; stroke-width:2; stroke-opacity:0.1; fill:none\" points=\"149.191,80.7139 2112.76,80.7139 \"/>\n",
       "<polyline clip-path=\"url(#clip820)\" style=\"stroke:#f8f8f2; stroke-linecap:round; stroke-linejoin:round; stroke-width:4; stroke-opacity:1; fill:none\" points=\"149.191,1486.45 149.191,47.2441 \"/>\n",
       "<polyline clip-path=\"url(#clip820)\" style=\"stroke:#f8f8f2; stroke-linecap:round; stroke-linejoin:round; stroke-width:4; stroke-opacity:1; fill:none\" points=\"149.191,1419.51 166.03,1419.51 \"/>\n",
       "<polyline clip-path=\"url(#clip820)\" style=\"stroke:#f8f8f2; stroke-linecap:round; stroke-linejoin:round; stroke-width:4; stroke-opacity:1; fill:none\" points=\"149.191,1084.81 166.03,1084.81 \"/>\n",
       "<polyline clip-path=\"url(#clip820)\" style=\"stroke:#f8f8f2; stroke-linecap:round; stroke-linejoin:round; stroke-width:4; stroke-opacity:1; fill:none\" points=\"149.191,750.111 166.03,750.111 \"/>\n",
       "<polyline clip-path=\"url(#clip820)\" style=\"stroke:#f8f8f2; stroke-linecap:round; stroke-linejoin:round; stroke-width:4; stroke-opacity:1; fill:none\" points=\"149.191,415.413 166.03,415.413 \"/>\n",
       "<polyline clip-path=\"url(#clip820)\" style=\"stroke:#f8f8f2; stroke-linecap:round; stroke-linejoin:round; stroke-width:4; stroke-opacity:1; fill:none\" points=\"149.191,80.7139 166.03,80.7139 \"/>\n",
       "<path clip-path=\"url(#clip820)\" d=\"M50.9921 1419.96 L80.6679 1419.96 L80.6679 1423.89 L50.9921 1423.89 L50.9921 1419.96 Z\" fill=\"#f8f8f2\" fill-rule=\"nonzero\" fill-opacity=\"1\" /><path clip-path=\"url(#clip820)\" d=\"M103.608 1406.3 L91.8021 1424.75 L103.608 1424.75 L103.608 1406.3 M102.381 1402.23 L108.26 1402.23 L108.26 1424.75 L113.191 1424.75 L113.191 1428.64 L108.26 1428.64 L108.26 1436.79 L103.608 1436.79 L103.608 1428.64 L88.0058 1428.64 L88.0058 1424.13 L102.381 1402.23 Z\" fill=\"#f8f8f2\" fill-rule=\"nonzero\" fill-opacity=\"1\" /><path clip-path=\"url(#clip820)\" d=\"M53.0754 1085.26 L82.7512 1085.26 L82.7512 1089.2 L53.0754 1089.2 L53.0754 1085.26 Z\" fill=\"#f8f8f2\" fill-rule=\"nonzero\" fill-opacity=\"1\" /><path clip-path=\"url(#clip820)\" d=\"M96.8715 1098.15 L113.191 1098.15 L113.191 1102.09 L91.2465 1102.09 L91.2465 1098.15 Q93.9086 1095.4 98.4919 1090.77 Q103.098 1086.12 104.279 1084.77 Q106.524 1082.25 107.404 1080.52 Q108.307 1078.76 108.307 1077.07 Q108.307 1074.31 106.362 1072.58 Q104.441 1070.84 101.339 1070.84 Q99.14 1070.84 96.6863 1071.6 Q94.2558 1072.37 91.478 1073.92 L91.478 1069.2 Q94.3021 1068.06 96.7558 1067.48 Q99.2095 1066.9 101.246 1066.9 Q106.617 1066.9 109.811 1069.59 Q113.006 1072.27 113.006 1076.77 Q113.006 1078.9 112.196 1080.82 Q111.408 1082.71 109.302 1085.31 Q108.723 1085.98 105.621 1089.2 Q102.52 1092.39 96.8715 1098.15 Z\" fill=\"#f8f8f2\" fill-rule=\"nonzero\" fill-opacity=\"1\" /><path clip-path=\"url(#clip820)\" d=\"M101.246 735.91 Q97.6354 735.91 95.8067 739.475 Q94.0012 743.016 94.0012 750.146 Q94.0012 757.252 95.8067 760.817 Q97.6354 764.359 101.246 764.359 Q104.881 764.359 106.686 760.817 Q108.515 757.252 108.515 750.146 Q108.515 743.016 106.686 739.475 Q104.881 735.91 101.246 735.91 M101.246 732.206 Q107.057 732.206 110.112 736.813 Q113.191 741.396 113.191 750.146 Q113.191 758.873 110.112 763.479 Q107.057 768.062 101.246 768.062 Q95.4363 768.062 92.3576 763.479 Q89.3021 758.873 89.3021 750.146 Q89.3021 741.396 92.3576 736.813 Q95.4363 732.206 101.246 732.206 Z\" fill=\"#f8f8f2\" fill-rule=\"nonzero\" fill-opacity=\"1\" /><path clip-path=\"url(#clip820)\" d=\"M96.8715 428.757 L113.191 428.757 L113.191 432.693 L91.2465 432.693 L91.2465 428.757 Q93.9086 426.003 98.4919 421.373 Q103.098 416.72 104.279 415.378 Q106.524 412.855 107.404 411.119 Q108.307 409.359 108.307 407.669 Q108.307 404.915 106.362 403.179 Q104.441 401.443 101.339 401.443 Q99.14 401.443 96.6863 402.207 Q94.2558 402.97 91.478 404.521 L91.478 399.799 Q94.3021 398.665 96.7558 398.086 Q99.2095 397.508 101.246 397.508 Q106.617 397.508 109.811 400.193 Q113.006 402.878 113.006 407.369 Q113.006 409.498 112.196 411.419 Q111.408 413.318 109.302 415.91 Q108.723 416.581 105.621 419.799 Q102.52 422.993 96.8715 428.757 Z\" fill=\"#f8f8f2\" fill-rule=\"nonzero\" fill-opacity=\"1\" /><path clip-path=\"url(#clip820)\" d=\"M103.608 67.508 L91.8021 85.957 L103.608 85.957 L103.608 67.508 M102.381 63.4339 L108.26 63.4339 L108.26 85.957 L113.191 85.957 L113.191 89.8458 L108.26 89.8458 L108.26 97.9939 L103.608 97.9939 L103.608 89.8458 L88.0058 89.8458 L88.0058 85.332 L102.381 63.4339 Z\" fill=\"#f8f8f2\" fill-rule=\"nonzero\" fill-opacity=\"1\" /><g clip-path=\"url(#clip822)\">\n",
       "<image width=\"1964\" height=\"1439\" xlink:href=\"data:image/png;base64,\n",
       "iVBORw0KGgoAAAANSUhEUgAAB6wAAAWfCAYAAAAf3Aj/AAAgAElEQVR4nOzbS3JbxxmG4e4DkJRk\n",
       "2eVcRlkPtAPSlTWG3EGwn4wSl5zoQhE4nYErA0+UOl02Pv/k86zgq67GweUlewMA+B049NuR3rDV\n",
       "cTz09AYAAHiOKn4/aM13hEtyRwDg+VjSAwAAAAAAAAB4mQRrAAAAAAAAACIEawAAAAAAAAAiBGsA\n",
       "AAAAAAAAIgRrAAAAAAAAACIEawAAAAAAAAAiBGsAAAAAAAAAIgRrAAAAAAAAACIEawAAAAAAAAAi\n",
       "BGsAAAAAAAAAIgRrAAAAAAAAACIEawAAAAAAAAAiBGsAAAAAAAAAIgRrAAAAAAAAACIEawAAAAAA\n",
       "AAAiBGsAAAAAAAAAIgRrAAAAAAAAACIEawAAAAAAAAAiBGsAAAAAAAAAIgRrAAAAAAAAACIEawAA\n",
       "AAAAAAAiBGsAAAAAAAAAIgRrAAAAAAAAACIEawAAAAAAAAAiBGsAAAAAAAAAIgRrAAAAAAAAACIE\n",
       "awAAAAAAAAAiBGsAAAAAAAAAIgRrAAAAAAAAACIEawAAAAAAAAAiBGsAAAAAAAAAIgRrAAAAAAAA\n",
       "ACIEawAAAAAAAAAienoAAADAr+HQb0d6w1bH8VDyO1nFs26ttdbrHfdxva83uhW+IwVVfY4AAAD8\n",
       "j/+wBgAAAAAAACBCsAYAAAAAAAAgQrAGAAAAAAAAIEKwBgAAAAAAACBCsAYAAAAAAAAgQrAGAAAA\n",
       "AAAAIEKwBgAAAAAAACBCsAYAAAAAAAAgQrAGAAAAAAAAIEKwBgAAAAAAACBCsAYAAAAAAAAgQrAG\n",
       "AAAAAAAAIEKwBgAAAAAAACBCsAYAAAAAAAAgQrAGAAAAAAAAIEKwBgAAAAAAACBCsAYAAAAAAAAg\n",
       "QrAGAAAAAAAAIEKwBgAAAAAAACBCsAYAAAAAAAAgQrAGAAAAAAAAIEKwBgAAAAAAACBCsAYAAAAA\n",
       "AAAgQrAGAAAAAAAAIEKwBgAAAAAAACBCsAYAAAAAAAAgQrAGAAAAAAAAIEKwBgAAAAAAACBCsAYA\n",
       "AAAAAAAgQrAGAAAAAAAAIEKwBgAAAAAAACBCsAYAAAAAAAAgYp8eAAAA8KvoPb1gu5EeMKniWbfW\n",
       "jut9zeEFHceDs+arDv225BPQ3b6cw3JX8454rwEA2Mx/WAMAAAAAAAAQIVgDAAAAAAAAECFYAwAA\n",
       "AAAAABAhWAMAAAAAAAAQIVgDAAAAAAAAECFYAwAAAAAAABAhWAMAAAAAAAAQIVgDAAAAAAAAECFY\n",
       "AwAAAAAAABAhWAMAAAAAAAAQIVgDAAAAAAAAECFYAwAAAAAAABAhWAMAAAAAAAAQIVgDAAAAAAAA\n",
       "ECFYAwAAAAAAABAhWAMAAAAAAAAQIVgDAAAAAAAAECFYAwAAAAAAABAhWAMAAAAAAAAQIVgDAAAA\n",
       "AAAAECFYAwAAAAAAABAhWAMAAAAAAAAQIVgDAAAAAAAAECFYAwAAAAAAABAhWAMAAAAAAAAQIVgD\n",
       "AAAAAAAAECFYAwAAAAAAABAhWAMAAAAAAAAQIVgDAAAAAAAAECFYAwAAAAAAABAhWAMAAAAAAAAQ\n",
       "IVgDAAAAAAAAECFYAwAAAAAAABDR0wMAgF/Xod+O9IaX4jgefJbiq6q+Ht3tyzksdyXvSBs1Z/el\n",
       "3t9sj3VNT5jTaz5Gjut9zeEFef5dTtX3dXfkcqreEQDg+aj3bR0AAAAAAACAZ0GwBgAAAAAAACBC\n",
       "sAYAAAAAAAAgQrAGAAAAAAAAIEKwBgAAAAAAACBCsAYAAAAAAAAgQrAGAAAAAAAAIEKwBgAAAAAA\n",
       "ACBCsAYAAAAAAAAgQrAGAAAAAAAAIEKwBgAAAAAAACBCsAYAAAAAAAAgQrAGAAAAAAAAIEKwBgAA\n",
       "AAAAACBCsAYAAAAAAAAgQrAGAAAAAAAAIEKwBgAAAAAAACBCsAYAAAAAAAAgQrAGAAAAAAAAIEKw\n",
       "BgAAAAAAACBCsAYAAAAAAAAgQrAGAAAAAAAAIEKwBgAAAAAAACBCsAYAAAAAAAAgQrAGAAAAAAAA\n",
       "IEKwBgAAAAAAACBCsAYAAAAAAAAgQrAGAAAAAAAAIEKwBgAAAAAAACBCsAYAAAAAAAAgQrAGAAAA\n",
       "AAAAIEKwBgAAAAAAACBinx4AANBaa8fx0NMbtjr025HeMKPiWbfW2rvdD+XOe4xyk39WdDb8P2Nd\n",
       "0xO26yUf2VzQYbnz1Oaryn5mXe9LPgCrnjcAQJL/sAYAAAAAAAAgQrAGAAAAAAAAIEKwBgAAAAAA\n",
       "ACBCsAYAAAAAAAAgQrAGAAAAAAAAIEKwBgAAAAAAACBCsAYAAAAAAAAgQrAGAAAAAAAAIEKwBgAA\n",
       "AAAAACBCsAYAAAAAAAAgQrAGAAAAAAAAIEKwBgAAAAAAACBCsAYAAAAAAAAgQrAGAAAAAAAAIEKw\n",
       "BgAAAAAAACBCsAYAAAAAAAAgQrAGAAAAAAAAIEKwBgAAAAAAACBCsAYAAAAAAAAgQrAGAAAAAAAA\n",
       "IEKwBgAAAAAAACBCsAYAAAAAAAAgQrAGAAAAAAAAIEKwBgAAAAAAACBCsAYAAAAAAAAgQrAGAAAA\n",
       "AAAAIEKwBgAAAAAAACBCsAYAAAAAAAAgQrAGAAAAAAAAIEKwBgAAAAAAACBCsAYAAAAAAAAgQrAG\n",
       "AAAAAAAAIEKwBgAAAAAAACCipwcAwO/Vod+O9IYZx/FQ8v294nmXPevlrtxZc1m9l7zarfV6f487\n",
       "1nN6wpSyd2QpeEfONe9IWaPeW2Tf7dIT5hQ8ay5rrGt6wotR9ntNwe+QrdU9bwD4LdX7tg4AAAAA\n",
       "AADAsyBYAwAAAAAAABAhWAMAAAAAAAAQIVgDAAAAAAAAECFYAwAAAAAAABAhWAMAAAAAAAAQIVgD\n",
       "AAAAAAAAECFYAwAAAAAAABAhWAMAAAAAAAAQIVgDAAAAAAAAECFYAwAAAAAAABAhWAMAAAAAAAAQ\n",
       "IVgDAAAAAAAAECFYAwAAAAAAABAhWAMAAAAAAAAQIVgDAAAAAAAAECFYAwAAAAAAABAhWAMAAAAA\n",
       "AAAQIVgDAAAAAAAAECFYAwAAAAAAABAhWAMAAAAAAAAQIVgDAAAAAAAAECFYAwAAAAAAABAhWAMA\n",
       "AAAAAAAQIVgDAAAAAAAAECFYAwAAAAAAABAhWAMAAAAAAAAQIVgDAAAAAAAAECFYAwAAAAAAABAh\n",
       "WAMAAAAAAAAQIVgDAAAAAAAAECFYAwAAAAAAABDR0wMAUg79dqQ3zDiOB89uvsrdvpx3ux9KnvUY\n",
       "JWeX1JddesKUsZ7TE6b0/T49YTsvxwurd+B9V/M5UtVY692RNtb0ginjXPS9ppf7yFr2s1/Fs26t\n",
       "7nmXVPSsK373reqw3JW8JMf13h0BXhz/YQ0AAAAAAABAhGANAAAAAAAAQIRgDQAAAAAAAECEYA0A\n",
       "AAAAAABAhGANAAAAAAAAQIRgDQAAAAAAAECEYA0AAAAAAABAhGANAAAAAAAAQIRgDQAAAAAAAECE\n",
       "YA0AAAAAAABAhGANAAAAAAAAQIRgDQAAAAAAAECEYA0AAAAAAABAhGANAAAAAAAAQIRgDQAAAAAA\n",
       "AECEYA0AAAAAAABAhGANAAAAAAAAQIRgDQAAAAAAAECEYA0AAAAAAABAhGANAAAAAAAAQIRgDQAA\n",
       "AAAAAECEYA0AAAAAAABAhGANAAAAAAAAQIRgDQAAAAAAAECEYA0AAAAAAABAhGANAAAAAAAAQIRg\n",
       "DQAAAAAAAECEYA0AAAAAAABAhGANAAAAAAAAQIRgDQAAAAAAAECEYA0AAAAAAABAhGANAAAAAAAA\n",
       "QIRgDQAAAAAAAEBETw8AfunQb0d6w4zjePA84dmp+nosq9d7jPTdLj1hjpt9OWNNL5jSr67TE+bU\n",
       "e4zUVfCZ3Vprfan3N9vjdEpPmDJO5/SEOSXvds039nGueUf6UvHzX8070kbR3VzMcEcup+hZ+70S\n",
       "oI5639YBAAAAAAAAeBYEawAAAAAAAAAiBGsAAAAAAAAAIgRrAAAAAAAAACIEawAAAAAAAAAiBGsA\n",
       "AAAAAAAAIgRrAAAAAAAAACIEawAAAAAAAAAiBGsAAAAAAAAAIgRrAAAAAAAAACIEawAAAAAAAAAi\n",
       "BGsAAAAAAAAAIgRrAAAAAAAAACIEawAAAAAAAAAiBGsAAAAAAAAAIgRrAAAAAAAAACIEawAAAAAA\n",
       "AAAiBGsAAAAAAAAAIgRrAAAAAAAAACIEawAAAAAAAAAiBGsAAAAAAAAAIgRrAAAAAAAAACIEawAA\n",
       "AAAAAAAiBGsAAAAAAAAAIgRrAAAAAAAAACIEawAAAAAAAAAiBGsAAAAAAAAAIgRrAAAAAAAAACIE\n",
       "awAAAAAAAAAiBGsAAAAAAAAAIgRrAAAAAAAAACIEawAAAAAAAAAienoA8Dwc+u1Ib9jqOB48Ay/o\n",
       "sNyVuyO917wifz//reTwd1d/LXdH2rqmF8wperf7bp+esF3No25tt0svmNKXen+P29+8SU+YMh4/\n",
       "pyfMGfXealqvd69ba61fXaUnTFk/fkpP2KwvVd9sahqnU3rCdkU/+7Vzzc/a43xOT9hsrPU2V3Zc\n",
       "78u9KCv+ptNaq/nZr/nNEniZan7zBQAAAAAAAKA8wRoAAAAAAACACMEaAAAAAAAAgAjBGgAAAAAA\n",
       "AIAIwRoAAAAAAACACMEaAAAAAAAAgAjBGgAAAAAAAIAIwRoAAAAAAACACMEaAAAAAAAAgAjBGgAA\n",
       "AAAAAIAIwRoAAAAAAACACMEaAAAAAAAAgAjBGgAAAAAAAIAIwRoAAAAAAACACMEaAAAAAAAAgAjB\n",
       "GgAAAAAAAIAIwRoAAAAAAACACMEaAAAAAAAAgAjBGgAAAAAAAIAIwRoAAAAAAACACMEaAAAAAAAA\n",
       "gAjBGgAAAAAAAIAIwRoAAAAAAACACMEaAAAAAAAAgAjBGgAAAAAAAIAIwRoAAAAAAACACMEaAAAA\n",
       "AAAAgAjBGgAAAAAAAIAIwRoAAAAAAACACMEaAAAAAAAAgAjBGgAAAAAAAIAIwRoAAAAAAACACMEa\n",
       "AAAAAAAAgIieHgC/lcNyN9IbXpLjeu95wrPzbvdDzefIsksvmDLOp/SEzfpun54wpV8V3b0reLcr\n",
       "bi6s72ve7ZKqfvIbBd/ab27SC+ZUPOvW2nh8TE/YrPeaL8ix1rwj7VTvM+t4/JKeMGdf83PUeKp3\n",
       "R9pY0wumjPM5PWFKX+r9D1nVs+ZyjuOh5gcS4Hej3rsjAAAAAAAAAM+CYA0AAAAAAABAhGANAAAA\n",
       "AAAAQIRgDQAAAAAAAECEYA0AAAAAAABAhGANAAAAAAAAQIRgDQAAAAAAAECEYA0AAAAAAABAhGAN\n",
       "AAAAAAAAQIRgDQAAAAAAAECEYA0AAAAAAABAhGANAAAAAAAAQIRgDQAAAAAAAECEYA0AAAAAAABA\n",
       "hGANAAAAAAAAQIRgDQAAAAAAAECEYA0AAAAAAABAhGANAAAAAAAAQIRgDQAAAAAAAECEYA0AAAAA\n",
       "AABAhGANAAAAAAAAQIRgDQAAAAAAAECEYA0AAAAAAABAhGANAAAAAAAAQIRgDQAAAAAAAECEYA0A\n",
       "AAAAAABAhGANAAAAAAAAQIRgDQAAAAAAAECEYA0AAAAAAABAhGANAAAAAAAAQIRgDQAAAAAAAECE\n",
       "YA0AAAAAAABAxD49AH4rx/W+pze8JId+O9IbtjqOh5J35LDclTtrLmw9pxdMWV6/SU/YrC8lHyNt\n",
       "nGvekXZ9lV6wWV+K/n3oKPpW8+Z1esF2N/XudWuttaJXpF0V/Ar88VN6wZyrmne7V3yOFH1m90+f\n",
       "0xMm3aQHbFf0jrTdLr1gynh6Sk/YrC81z7qta3rBpJrfI0vqRc+66nO7oIq/abdW93dt+Jqiv6AB\n",
       "AAAAAAAAUJ1gDQAAAAAAAECEYA0AAAAAAABAhGANAAAAAAAAQIRgDQAAAAAAAECEYA0AAAAAAABA\n",
       "hGANAAAAAAAAQIRgDQAAAAAAAECEYA0AAAAAAABAhGANAAAAAAAAQIRgDQAAAAAAAECEYA0AAAAA\n",
       "AABAhGANAAAAAAAAQIRgDQAAAAAAAECEYA0AAAAAAABAhGANAAAAAAAAQIRgDQAAAAAAAECEYA0A\n",
       "AAAAAABAhGANAAAAAAAAQIRgDQAAAAAAAECEYA0AAAAAAABAhGANAAAAAAAAQIRgDQAAAAAAAECE\n",
       "YA0AAAAAAABAhGANAAAAAAAAQIRgDQAAAAAAAECEYA0AAAAAAABAhGANAAAAAAAAQIRgDQAAAAAA\n",
       "AECEYA0AAAAAAABAhGANAAAAAAAAQIRgDQAAAAAAAECEYA0AAAAAAABARE8PoIZDvx3pDVsdx4P7\n",
       "zVcdlrty97qy3gu+JCtubq21pebfoy3X1+kJm/VXN+kJc3b79II553N6wXbfvU0veFHWP9Q7735e\n",
       "0xOmjF3N95pxtUtP2G7U/MjavxR8Zread2R5PKUnzDnVvCP942N6wnYfPqQXvCjj0+f0hM3G01N6\n",
       "wpRR9DlS0lLz95Gqd7vi79oV+0FrNc8anquavzIAAAAAAAAAUJ5gDQAAAAAAAECEYA0AAAAAAABA\n",
       "hGANAAAAAAAAQIRgDQAAAAAAAECEYA0AAAAAAABAhGANAAAAAAAAQIRgDQAAAAAAAECEYA0AAAAA\n",
       "AABAhGANAAAAAAAAQIRgDQAAAAAAAECEYA0AAAAAAABAhGANAAAAAAAAQIRgDQAAAAAAAECEYA0A\n",
       "AAAAAABAhGANAAAAAAAAQIRgDQAAAAAAAECEYA0AAAAAAABAhGANAAAAAAAAQIRgDQAAAAAAAECE\n",
       "YA0AAAAAAABAhGANAAAAAAAAQIRgDQAAAAAAAECEYA0AAAAAAABAhGANAAAAAAAAQIRgDQAAAAAA\n",
       "AECEYA0AAAAAAABAhGANAAAAAAAAQIRgDQAAAAAAAECEYA0AAAAAAABAhGANAAAAAAAAQIRgDQAA\n",
       "AAAAAEBETw+ghkO/HekN8KvrNR+Bvejukpaaf9e13NykJ8y5ukov2KxfX6cnzLnapxfM2dV7TY7v\n",
       "vklPmHL6/k16wpSxK/geWXBya609fVvzObIu9Q78+qen9IQpT29r3pHdU72vvv1cb3NrrS1Pa3rC\n",
       "lP2/v6QnbLa8/5CeMOf9f9IL5tzU+44w3v+UnjBlnE7pCS/GeHxMT5gyRs33yIq//VU96+N6X++w\n",
       "i6ramI7jwR25kHq/+gEAAAAAAADwLAjWAAAAAAAAAEQI1gAAAAAAAABECNYAAAAAAAAARAjWAAAA\n",
       "AAAAAEQI1gAAAAAAAABECNYAAAAAAAAARAjWAAAAAAAAAEQI1gAAAAAAAABECNYAAAAAAAAARAjW\n",
       "AAAAAAAAAEQI1gAAAAAAAABECNYAAAAAAAAARAjWAAAAAAAAAEQI1gAAAAAAAABECNYAAAAAAAAA\n",
       "RAjWAAAAAAAAAEQI1gAAAAAAAABECNYAAAAAAAAARAjWAAAAAAAAAEQI1gAAAAAAAABECNYAAAAA\n",
       "AAAARAjWAAAAAAAAAEQI1gAAAAAAAABECNYAAAAAAAAARAjWAAAAAAAAAEQI1gAAAAAAAABECNYA\n",
       "AAAAAAAARAjWAAAAAAAAAEQI1gAAAAAAAABECNYAAAAAAAAARAjWAAAAAAAAAEQI1gAAAAAAAABE\n",
       "9PQA4JcO/XakN0zpHid8Xd/t0xM267tdesKLsvzx+/SE7a6v0gvm3FynF0wZV/WeI49/+TY9YUpf\n",
       "a34cOb2u99z+9Od6m1trbRT96Hd+VW/4+Sa9YM6rf9V8jvRzesF2r348pSdMWb7UvCP7j/XOu3+p\n",
       "t7m11nbvP6YnzDmv6QWbjX/+mJ4wZTw9pSfMGfWef+Op5nOkjXqvx9ZazTuyFj3rqr9pF7wjx/FQ\n",
       "9LC5FP9hDQAAAAAAAECEYA0AAAAAAABAhGANAAAAAAAAQIRgDQAAAAAAAECEYA0AAAAAAABAhGAN\n",
       "AAAAAAAAQIRgDQAAAAAAAECEYA0AAAAAAABAhGANAAAAAAAAQIRgDQAAAAAAAECEYA0AAAAAAABA\n",
       "hGANAAAAAAAAQIRgDQAAAAAAAECEYA0AAAAAAABAhGANAAAAAAAAQIRgDQAAAAAAAECEYA0AAAAA\n",
       "AABAhGANAAAAAAAAQIRgDQAAAAAAAECEYA0AAAAAAABAhGANAAAAAAAAQIRgDQAAAAAAAECEYA0A\n",
       "AAAAAABAhGANAAAAAAAAQIRgDQAAAAAAAECEYA0AAAAAAABAhGANAAAAAAAAQIRgDQAAAAAAAECE\n",
       "YA0AAAAAAABAhGANAAAAAAAAQIRgDQAAAAAAAECEYA0AAAAAAABAxD49gBoOy91Ib9jquN739IYp\n",
       "vebsNspdkbJnvdzcpCdMGec1PWG7ive6tdbfvE5PmFPxNXlznV4wZX1T8zly/q7e7vWq5t+Hnl7X\n",
       "3P3pT/V2P71NL5gzdukFc06v0gsmFHx7/FnN4aPg7LHU/Gnn9KrgYbfW3v6j3nvN9U81z3rsv01P\n",
       "mLL/8UN6wmb97TfpCVP642N6wpT14+f0hO1qPkZa60U/tK7n9ILN+lLv/bG11kbR3/7gOar5FAEA\n",
       "AAAAAACgPMEaAAAAAAAAgAjBGgAAAAAAAIAIwRoAAAAAAACACMEaAAAAAAAAgAjBGgAAAAAAAIAI\n",
       "wRoAAAAAAACACMEaAAAAAAAAgAjBGgAAAAAAAIAIwRoAAAAAAACACMEaAAAAAAAAgAjBGgAAAAAA\n",
       "AIAIwRoAAAAAAACACMEaAAAAAAAAgAjBGgAAAAAAAIAIwRoAAAAAAACACMEaAAAAAAAAgAjBGgAA\n",
       "AAAAAIAIwRoAAAAAAACACMEaAAAAAAAAgAjBGgAAAAAAAIAIwRoAAAAAAACACMEaAAAAAAAAgAjB\n",
       "GgAAAAAAAIAIwRoAAAAAAACACMEaAAAAAAAAgAjBGgAAAAAAAIAIwRoAAAAAAACACMEaAAAA4L/s\n",
       "2smOXdd5huG1TlcNWaSoxlZkBfAgiOFMDCRAkAsoI/OA9JXkqizegWtqIOMkgIMEthILjmxaFsWu\n",
       "WHW6nUFGmtjYCxA//+LzXMGHjX129x4AAAAiBGsAAAAAAAAAIgRrAAAAAAAAACIEawAAAAAAAAAi\n",
       "enoA8HWX/eGU3vC26Iui/9kpuruvVukJs1Xc3Fpr/e6d9IQxZ6fpBfNt1ukFQ3bv301PGLJ9Z5Oe\n",
       "MNv+Ts1r9qvv1tx9+yC9YL79eXrBmMUuvWDMcV3vUXt/cUxPGLJ8VfM6stjX+0yyfpFeMKYf0gvG\n",
       "nD+pdx258781L9onv7tOTxizqHcdWXzxVXrCmG3Nc3u6uUlPmG3a7dMThky32/SEIdOx4E1yqnd/\n",
       "bK211utds1trNY930WN9dfyk5PCKnanmGyQAAAAAAAAA5QnWAAAAAAAAAEQI1gAAAAAAAABECNYA\n",
       "AAAAAAAARAjWAAAAAAAAAEQI1gAAAAAAAABECNYAAAAAAAAARAjWAAAAAAAAAEQI1gAAAAAAAABE\n",
       "CNYAAAAAAAAARAjWAAAAAAAAAEQI1gAAAAAAAABECNYAAAAAAAAARAjWAAAAAAAAAEQI1gAAAAAA\n",
       "AABECNYAAAAAAAAARAjWAAAAAAAAAEQI1gAAAAAAAABECNYAAAAAAAAARAjWAAAAAAAAAEQI1gAA\n",
       "AAAAAABECNYAAAAAAAAARAjWAAAAAAAAAEQI1gAAAAAAAABECNYAAAAAAAAARAjWAAAAAAAAAEQI\n",
       "1gAAAAAAAABECNYAAAAAAAAARAjWAAAAAAAAAEQI1gAAAAAAAABECNYAAAAAAAAARAjWAAAAAAAA\n",
       "AEQI1gAAAAAAAABErNIDgG+Hvij4/5decHNlFc+RZcHNrbXWe3rBmHW9x5LDvbP0hCG7++v0hCE3\n",
       "7y7TE2a7fafm73F3kV4w5vaDY3rCbNOdfXrCkLP7N+kJQ/qx3m/yb777JD1hyGfPHqQnDHn6xd30\n",
       "hNl2H6UXjDn95SY9Ycirj+pdR9av6j1nt9Za63fSC4Zsnt6mJ8y3qfl7bLe79IIx05Re8Bapeaz7\n",
       "ot67b5vqvYu11tpU9Pd4NT2u90BS81CXVfEcKfolHgAAAAAAAIDqBGsAAAAAAAAAIgRrAAAAAAAA\n",
       "ACIEawAAAAAAAAAiBGsAAAAAAAAAIgRrAAAAAAAAACIEawAAAAAAAAAiBGsAAAAAAAAAIgRrAAAA\n",
       "AAAAACIEawAAAAAAAAAiBGsAAAAAAAAAIgRrAAAAAAAAACIEawAAAAAAAAAiBGsAAAAAAAAAIgRr\n",
       "AAAAAAAAACIEawAAAAAAAAAiBGsAAAAAAAAAIgRrAAAAAAAAACIEawAAAAAAAAAiBGsAAAAAAAAA\n",
       "IgRrAAAAAAAAACIEawAAAAAAAAAiBGsAAAAAAAAAIgRrAAAAAAAAACIEawAAAAAAAAAiBGsAAAAA\n",
       "AAAAIgRrAAAAAAAAACIEawAAAAAAAAAiBGsAAAAAAAAAIgRrAAAAAAAAACIEawAAAAAAAAAiBGsA\n",
       "AAAAAAAAIlbpAfBNuewPp/SGIb2nFwyZpnqHu+ihbn1V89Ldl8v0hNn65iQ9YUzBY91aa4f75+kJ\n",
       "8y1qXkgOJzX/s3j7oN7x3p+mF4y5+eCYnjCkP9imJ8z2d9//dXrCkMNU8zoyTfWuI3//4NP0hCF3\n",
       "VvV+j6219uT8Oj1hts+fXaQnDHn9Qc33ms2X9a5/t/fqXftaa60f6x3r1lo7+aLec9R0sk5PGNL7\n",
       "3fSEIb3ie+T16/SCMYdDesGQ47bec1Rf1LxmXx1+WvAH2drl4lG5j/FXx09KHmvenJpXEQAAAAAA\n",
       "AADKE6wBAAAAAAAAiBCsAQAAAAAAAIgQrAEAAAAAAACIEKwBAAAAAAAAiBCsAQAAAAAAAIgQrAEA\n",
       "AAAAAACIEKwBAAAAAAAAiBCsAQAAAAAAAIgQrAEAAAAAAACIEKwBAAAAAAAAiBCsAQAAAAAAAIgQ\n",
       "rAEAAAAAAACIEKwBAAAAAAAAiBCsAQAAAAAAAIgQrAEAAAAAAACIEKwBAAAAAAAAiBCsAQAAAAAA\n",
       "AIgQrAEAAAAAAACIEKwBAAAAAAAAiBCsAZb2CmcAACAASURBVAAAAAAAAIgQrAEAAAAAAACIEKwB\n",
       "AAAAAAAAiBCsAQAAAAAAAIgQrAEAAAAAAACIEKwBAAAAAAAAiBCsAQAAAAAAAIgQrAEAAAAAAACI\n",
       "EKwBAAAAAAAAiBCsAQAAAAAAAIgQrAEAAAAAAACIEKwBAAAAAAAAiBCsAQAAAAAAAIhYXfaHU3rE\n",
       "iKvpcU9v4M9b1XPkx4uflPxNtkXB/78cj+kFQ6b9Pj1hSD/ZpCfMt16lFwyZHlykJwxZbOud27ff\n",
       "uZOeMOS4LHmLbMdlesF8t+/XvK0fLg7pCUM263q7v3P6Ij1hyI/ufpaeMOS/b95PT5jtHy/+PT1h\n",
       "yDur6/SEIf+2/jg9YbZX24LP2a21/YcFb+yttcN1vee/m3drPvst9gW/M7TWbt87TU+Y7fTzeu9i\n",
       "rbXWpprP2r6hvUEVj3VrbXFa7zoy3d6mJwy5XDyqeSEpeP3TIvlTal6xAQAAAAAAAChPsAYAAAAA\n",
       "AAAgQrAGAAAAAAAAIEKwBgAAAAAAACBCsAYAAAAAAAAgQrAGAAAAAAAAIEKwBgAAAAAAACBCsAYA\n",
       "AAAAAAAgQrAGAAAAAAAAIEKwBgAAAAAAACBCsAYAAAAAAAAgQrAGAAAAAAAAIEKwBgAAAAAAACBC\n",
       "sAYAAAAAAAAgQrAGAAAAAAAAIEKwBgAAAAAAACBCsAYAAAAAAAAgQrAGAAAAAAAAIEKwBgAAAAAA\n",
       "ACBCsAYAAAAAAAAgQrAGAAAAAAAAIEKwBgAAAAAAACBCsAYAAAAAAAAgQrAGAAAAAAAAIEKwBgAA\n",
       "AAAAACBCsAYAAAAAAAAgQrAGAAAAAAAAIEKwBgAAAAAAACBCsAYAAAAAAAAgQrAGAAAAAAAAIEKw\n",
       "BgAAAAAAACBCsAYAAAAAAAAgYnU1Pe7pESMu+8MpvWFE2eO9eFTueF8dPyl5rKfjMT1hSO/1/v/S\n",
       "V+v0hCF9vUpPGFTwJ9kLbm6t9eev0hOGHN+/n54wX7m74/871rz8ldy9Py96X1/X3P2j7/0mPWG2\n",
       "F7vT9IQhx6nmPfKf3/+X9ITZlkX/Z359+ll6wpDTvktPeGtcPf9BesKQ4ya9YL6Km1trbVn057jc\n",
       "1nuOmtbL9IQhfVVzd6v47W9R83mkHYu+tO/36QWzTVPRY11U1c4Ef0zROw0AAAAAAAAA1QnWAAAA\n",
       "AAAAAEQI1gAAAAAAAABECNYAAAAAAAAARAjWAAAAAAAAAEQI1gAAAAAAAABECNYAAAAAAAAARAjW\n",
       "AAAAAAAAAEQI1gAAAAAAAABECNYAAAAAAAAARAjWAAAAAAAAAEQI1gAAAAAAAABECNYAAAAAAAAA\n",
       "RAjWAAAAAAAAAEQI1gAAAAAAAABECNYAAAAAAAAARAjWAAAAAAAAAEQI1gAAAAAAAABECNYAAAAA\n",
       "AAAARAjWAAAAAAAAAEQI1gAAAAAAAABECNYAAAAAAAAARAjWAAAAAAAAAEQI1gAAAAAAAABECNYA\n",
       "AAAAAAAARAjWAAAAAAAAAEQI1gAAAAAAAABECNYAAAAAAAAARAjWAAAAAAAAAEQI1gAAAAAAAABE\n",
       "CNYAAAAAAAAARAjWAAAAAAAAAEQI1gAAAAAAAABErNIDRl1Nj3t6w9vk6viJ480fNx3TC2abDukF\n",
       "g5Y1/2tU8iKy26UXDJneuUhPGDIVPEkOpzV/j9t7NXdPBWevP7hJTxhy5/w2PWHIX54/TU+Y7WJZ\n",
       "8xz5p7v/mZ4wZFHwP9v7Vu85u7XW/nZT8znqvwpe/la95jny8Xv1rtmttfar5yfpCbP139f8/Le7\n",
       "U/AFobW2vb9OT5ht+XKbnjBmmtILxiyX6QXz1fw5tl509/FQ76NlL3qwp2PN56jLxaN6F8Ci12wt\n",
       "8s2p97YOAAAAAAAAwLeCYA0AAAAAAABAhGANAAAAAAAAQIRgDQAAAAAAAECEYA0AAAAAAABAhGAN\n",
       "AAAAAAAAQIRgDQAAAAAAAECEYA0AAAAAAABAhGANAAAAAAAAQIRgDQAAAAAAAECEYA0AAAAAAABA\n",
       "hGANAAAAAAAAQIRgDQAAAAAAAECEYA0AAAAAAABAhGANAAAAAAAAQIRgDQAAAAAAAECEYA0AAAAA\n",
       "AABAhGANAAAAAAAAQIRgDQAAAAAAAECEYA0AAAAAAABAhGANAAAAAAAAQIRgDQAAAAAAAECEYA0A\n",
       "AAAAAABAhGANAAAAAAAAQIRgDQAAAAAAAECEYA0AAAAAAABAhGANAAAAAAAAQIRgDQAAAAAAAECE\n",
       "YA0AAAAAAABAhGANAAAAAAAAQIRgDQAAAAAAAECEYA0AAAAAAABAxCo9AL4pl4tHU3rDW6X39ILZ\n",
       "+nKZnjCk6u6STjbpBWOmmpe/fqy3e39e879/q1f1jnVrrR0/rHev2b6oeR354P7L9IQh76/r7f54\n",
       "82V6wpAvjvV+j6219sP1eXrCbL8/1DuvW2vtl/tjesKQd5av0hNm673mff1mv05PGFPwcE81L9nt\n",
       "WPTVtx/qnSTTuujBLvru2xYFf5S95rvvdNimJ4wpeI5M+6K/R+DPRs07DQAAAAAAAADlCdYAAAAA\n",
       "AAAARAjWAAAAAAAAAEQI1gAAAAAAAABECNYAAAAAAAAARAjWAAAAAAAAAEQI1gAAAAAAAABECNYA\n",
       "AAAAAAAARAjWAAAAAAAAAEQI1gAAAAAAAABECNYAAAAAAAAARAjWAAAAAAAAAEQI1gAAAAAAAABE\n",
       "CNYAAAAAAAAARAjWAAAAAAAAAEQI1gAAAAAAAABECNYAAAAAAAAARAjWAAAAAAAAAEQI1gAAAAAA\n",
       "AABECNYAAAAAAAAARAjWAAAAAAAAAEQI1gAAAAAAAABECNYAAAAAAAAARAjWAAAAAAAAAEQI1gAA\n",
       "AAAAAABECNYAAAAAAAAARAjWAAAAAAAAAEQI1gAAAAAAAABECNYAAAAAAAAARAjWAAAAAAAAAEQI\n",
       "1gAAAAAAAABECNYAAAAAAAAARAjWAAAAAAAAAESs0gOo4bI/nNIbZpvqTS6t1/v/y7TfpSeM6T29\n",
       "YEiv+Jt8fZteMKTfPU9PGLM7pBfMdva7bXrCkKc/OE1PGNL36QXz9V29+2NrrT356m56wpD/uP9h\n",
       "esJs333wLD1hyJPDnfSEIR8vX6cnzPbpvuY1+9mx5u6fv/jr9ITZvtqdpScM+fx/3ktPGNKP9d7H\n",
       "Ni/SC8Ysir6y70/rPf+dpAeMOhb8ztBaa7uCLza8WQVP7V70e2Vb1Ltmt9badKj3De1qelz0JOFN\n",
       "qflrBAAAAAAAAKA8wRoAAAAAAACACMEaAAAAAAAAgAjBGgAAAAAAAIAIwRoAAAAAAACACMEaAAAA\n",
       "AAAAgAjBGgAAAAAAAIAIwRoAAAAAAACACMEaAAAAAAAAgAjBGgAAAAAAAIAIwRoAAAAAAACACMEa\n",
       "AAAAAAAAgAjBGgAAAAAAAIAIwRoAAAAAAACACMEaAAAAAAAAgAjBGgAAAAAAAIAIwRoAAAAAAACA\n",
       "CMEaAAAAAAAAgAjBGgAAAAAAAIAIwRoAAAAAAACACMEaAAAAAAAAgAjBGgAAAAAAAIAIwRoAAAAA\n",
       "AACACMEaAAAAAAAAgAjBGgAAAAAAAIAIwRoAAAAAAACACMEaAAAAAAAAgAjBGgAAAAAAAIAIwRoA\n",
       "AAAAAACACMEaAAAAAAAAgAjBGgAAAAAAAIAIwRoAAAAAAACAiFV6AHxTrqbHPb1hxI+XP5nSG4ZM\n",
       "NWdXNB2P6QlD+uYsPWG+k016wZhXN+kFQ6b37qUnvDWWt1Wv2fVu7atny/SEIceLmv9r/dff/0V6\n",
       "wmxPt+fpCUP+4d1fpScM+Wz3h/SE2f6wv5ueMOR7m6fpCUN+8fzD9ITZPr5T81j38316wpDNp6fp\n",
       "CbNtiz5mnz+p+e67eXlIT5ht+dXr9IQh02adnjCkP6t3jlQ1HWpeRwq++rbWK46u+521osvFo5of\n",
       "o4p2j4p9rOaXKAAAAAAAAADKE6wBAAAAAAAAiBCsAQAAAAAAAIgQrAEAAAAAAACIEKwBAAAAAAAA\n",
       "iBCsAQAAAAAAAIgQrAEAAAAAAACIEKwBAAAAAAAAiBCsAQAAAAAAAIgQrAEAAAAAAACIEKwBAAAA\n",
       "AAAAiBCsAQAAAAAAAIgQrAEAAAAAAACIEKwBAAAAAAAAiBCsAQAAAAAAAIgQrAEAAAAAAACIEKwB\n",
       "AAAAAAAAiBCsAQAAAAAAAIgQrAEAAAAAAACIEKwBAAAAAAAAiBCsAQAAAAAAAIgQrAEAAAAAAACI\n",
       "EKwBAAAAAAAAiBCsAQAAAAAAAIgQrAEAAAAAAACIEKwBAAAAAAAAiBCsAQAAAAAAAIgQrAEAAAAA\n",
       "AACIEKwBAAAAAAAAiBCsAQAAAAAAAIgQrAEAAAAAAACIEKwBAAAAAAAAiBCsAQAAAAAAAIhYpQdQ\n",
       "w9X0uKc3zHXZH07pDSOm4zE9YUyvd7j7cpmeMKSvau6ebm7SE+Y7HtILhvR7F+kJQ/q+3vHuU71r\n",
       "X2utnTyvea85PKl3/VsWvPS11tr1yUl6wpBnh3r/x311XfNYf3j2PD1hyPc3X6QnzPab7YP0hCE/\n",
       "f/pX6QlDrvfr9ITZfvaLH6YnDDlu693XW2utFXz8O/9tesGYXu/1oLXW2ubpbXrCbNOm5ifixfNX\n",
       "6QljFvWeWUt+02mFv6Ht9ukJb4+i33Uq9pqKz1C8WfXujgAAAAAAAAB8KwjWAAAAAAAAAEQI1gAA\n",
       "AAAAAABECNYAAAAAAAAARAjWAAAAAAAAAEQI1gAAAAAAAABECNYAAAAAAAAARAjWAAAAAAAAAEQI\n",
       "1gAAAAAAAABECNYAAAAAAAAARAjWAAAAAAAAAEQI1gAAAAAAAABECNYAAAAAAAAARAjWAAAAAAAA\n",
       "AEQI1gAAAAAAAABECNYAAAAAAAAARAjWAAAAAAAAAEQI1gAAAAAAAABECNYAAAAAAAAARAjWAAAA\n",
       "AAAAAEQI1gAAAAAAAABECNYAAAAAAAAARAjWAAAAAAAAAEQI1gAAAAAAAABECNYAAAAAAAAARAjW\n",
       "AAAAAAAAAEQI1gAAAAAAAABECNYAAAAAAAAARAjWAAAAAAAAAEQI1gAAAAAAAABECNYAAAAAAAAA\n",
       "RAjWAAAAAAAAAET09AD4plz2h1N6w1ul17uc9MUyPWFIXxXdfbJJT5iv6jny4H56wpj1Kr1gtsO9\n",
       "s/SEIfuLgr/H1trr79Tb/fKjmv8P3Ra9jNx+uE9PmG15b5eeMGQq+qR9dr5NT5htt6v5PHJ6UvPc\n",
       "fv7bi/SE+fb13sVaa+3s85rn9vpFesF8p09rXrTvflbvmt1aa6uX9XYvX96kJ4w5HNMLhkxffJme\n",
       "MN/+kF4w5PjqOj1hzFTv3P7Z4aclH0g0BP6Uq+lxyXO7oppf0AAAAAAAAAAoT7AGAAAAAAAAIEKw\n",
       "BgAAAAAAACBCsAYAAAAAAAAgQrAGAAAAAAAAIEKwBgAAAAAAACBCsAYAAAAAAAAgQrAGAAAAAAAA\n",
       "IEKwBgAAAAAAACBCsAYAAAAAAAAgQrAGAAAAAAAAIEKwBgAAAAAAACBCsAYAAAAAAAAgQrAGAAAA\n",
       "AAAAIEKwBgAAAAAAACBCsAYAAAAAAAAgQrAGAAAAAAAAIEKwBgAAAAAAACBCsAYAAAAAAAAgQrAG\n",
       "AAAAAAAAIEKwBgAAAAAAACBCsAYAAAAAAAAgQrAGAAAAAAAAIEKwBgAAAAAAACBCsAYAAAAAAAAg\n",
       "QrAGAAAAAAAAIEKwBgAAAAAAACBCsAYAAAAAAAAgQrAGAAAAAAAAIEKwBgAAAAAAACBCsAYAAAAA\n",
       "AAAgQrAGAAAAAAAAIEKwBgAAAAAAACCipwcAX3fZH07pDSOupsflrieXi0clj3VfLtMTxvR6/5Fa\n",
       "nJ2mJwzpm3V6wpiTk/SC2ab37qcnDDme1TxHdvc26Qmzvfyo5rHeXpS7rbfWWtufpRfMt30nvWDM\n",
       "7t1DesKQaX1MT3hrrJ6u0hOGHM7rnSPnv6n5fnDyZXrBmNVNvdfI8yf79IQhm6926QlDls9epyfM\n",
       "1p+/TE8Ys615jkw3N+kJs0232/SEIdOu5jnSpnr3mqng5tZa673mu2/F4311/KTmweaNqVcPAAAA\n",
       "AAAAAPhWEKwBAAAAAAAAiBCsAQAAAAAAAIgQrAEAAAAAAACIEKwBAAAAAAAAiBCsAQAAAAAAAIgQ\n",
       "rAEAAAAAAACIEKwBAAAAAAAAiBCsAQAAAAAAAIgQrAEAAAAAAACIEKwBAAAAAAAAiBCsAQAAAAAA\n",
       "AIgQrAEAAAAAAACIEKwBAAAAAAAAiBCsAQAAAAAAAIgQrAEAAAAAAACIEKwBAAAAAAAAiBCsAQAA\n",
       "AAAAAIgQrAEAAAAAAACIEKwBAAAAAAAAiBCsAQAAAAAAAIgQrAEAAAAAAACIEKwBAAAAAAAAiBCs\n",
       "AQAAAAAAAIgQrAEAAAAAAACIEKwBAAAAAAAAiBCsAQAAAAAAAIgQrAEAAAAAAACIEKwBAAAAAAAA\n",
       "iBCsAQAAAAAAAIgQrAEAAAAAAACIEKwBAAAAAAAAiFilBwBfdzU97ukNIy4Xj6b0hrl6L3moW5vK\n",
       "HerWWmt9U++Wc3x9k54wZHE8picM6b3e/+j6q6LnyKHmObLZ19t9Z1nzXrPY17tmt9bablfveG+e\n",
       "pxeMud4v0xOG9GO93cvX6QWD6v0cW2utLW8KniO36QVjTp7Vu6+31trmRb3di13Nd8jF9TY9YUi/\n",
       "Lbi76PvBdF3zJjkdDukJs037eptba2W/ofHmTEW/ocG3Ub0vwwAAAAAAAAB8KwjWAAAAAAAAAEQI\n",
       "1gAAAAAAAABECNYAAAAAAAAARAjWAAAAAAAAAEQI1gAAAAAAAABECNYAAAAAAAAARAjWAAAAAAAA\n",
       "AEQI1gAAAAAAAABECNYAAAAAAAAARAjWAAAAAAAAAEQI1gAAAAAAAABECNYAAAAAAAAARAjWAAAA\n",
       "AAAAAEQI1gAAAAAAAABECNYAAAAAAAAARAjWAAAAAAAAAEQI1gAAAAAAAABECNYAAAAAAAAARAjW\n",
       "AAAAAAAAAEQI1gAAAAAAAABECNYAAAAAAAAARAjWAAAAAAAAAEQI1gAAAAAAAABECNYAAAAAAAAA\n",
       "RAjWAAAAAAAAAEQI1gAAAAAAAABECNYAAAAAAAAARAjWAAAAAAAAAEQI1gAAAAAAAABECNYAAAAA\n",
       "AAAARAjWAAAAAAAAAEQI1gAAAAAAAABErNIDgK+7XDya0hveFtPxmJ4wpvf0gjHbbXrBbH29Tk8Y\n",
       "Mh2LXkYO+/SC2frNbXrCmPOT9IIh06refy3Xz3fpCUP6vuZ15HZX7/Vmsat5rPtxmZ4wpBd8/Fve\n",
       "1jxHdhc1n1kvfl3weaTmKdJaqzl887Tge83ukJ4wZPHydXrCmJfX6QXzVX2HXNS817RD0d0VFf2G\n",
       "VvGb5dXxk5IH+7I/LHkBvJoelzze8MfU++oHAAAAAAAAwLeCYA0AAAAAAABAhGANAAAAAAAAQIRg\n",
       "DQAAAAAAAECEYA0AAAAAAABAhGANAAAAAAAAQIRgDQAAAAAAAECEYA0AAAAAAABAhGANAAAAAAAA\n",
       "QIRgDQAAAAAAAECEYA0AAAAAAABAhGANAAAAAAAAQIRgDQAAAAAAAECEYA0AAAAAAABAhGANAAAA\n",
       "AAAAQIRgDQAAAAAAAECEYA0AAAAAAABAhGANAAAAAAAAQIRgDQAAAAAAAECEYA0AAAAAAABAhGAN\n",
       "AAAAAAAAQIRgDQAAAAAAAECEYA0AAAAAAABAhGANAAAAAAAAQIRgDQAAAAAAAECEYA0AAAAAAABA\n",
       "hGANAAAAAAAAQIRgDQAAAAAAAECEYA0AAAAAAABAhGANAAAAAAAAQIRgDQAAAAAAAECEYA0AAAAA\n",
       "AABARE8PeNtc9odTesOQXu9UuTp+Um90YT9e/qTcuT0dj+kJQ/pymZ4wZip3irS+WqcnjFnW/D9a\n",
       "X63SE2brp6fpCWPOz9ILxqzrXf+ms5P0hCHb9++kJwxZvt6nJ8y2u79JTxhy2NR81O4FH/8W+3rP\n",
       "UK21trqu93tsrbXdRb3nkeVNwRO7tbZ58io9YUzB98j+vOixLvgO2Vpr7XabXjDbtL1NTxhU83nk\n",
       "+PomPWG+gte+1v6vfXtJjuS4EijqkUCxSMmsZ9pRcgcAe4ttLOyA2ExroKlGEln4ZPSkJ5oUlWEU\n",
       "br3COSt45ubh8bmZa+2X13qEY6aef7yZx/1h5gEIXzDzizYAAAAAAAAA4wnWAAAAAAAAACQEawAA\n",
       "AAAAAAASgjUAAAAAAAAACcEaAAAAAAAAgIRgDQAAAAAAAEBCsAYAAAAAAAAgIVgDAAAAAAAAkBCs\n",
       "AQAAAAAAAEgI1gAAAAAAAAAkBGsAAAAAAAAAEoI1AAAAAAAAAAnBGgAAAAAAAICEYA0AAAAAAABA\n",
       "QrAGAAAAAAAAICFYAwAAAAAAAJAQrAEAAAAAAABICNYAAAAAAAAAJARrAAAAAAAAABKCNQAAAAAA\n",
       "AAAJwRoAAAAAAACAhGANAAAAAAAAQEKwBgAAAAAAACAhWAMAAAAAAACQEKwBAAAAAAAASAjWAAAA\n",
       "AAAAACQEawAAAAAAAAASgjUAAAAAAAAACcEaAAAAAAAAgIRgDQAAAAAAAEBCsAYAAAAAAAAgIVgD\n",
       "AAAAAAAAkLitB3hvHveHrZ7hiPO62+sZ3ovzNnOtf3n9edzePp/uR671/vpaj3DIdjvvlrO/vtQj\n",
       "HLJt89Z6rbX2p+d6hOudhv727/PneoJDtj//qR7hauNujv/v419n7pGXv/xXPcLVfvjfv9cjHHL5\n",
       "4WM9wiGXjzPvkRPttzNPwO//9o96hKudPg98hlprrd+e6gmOeR74jvBh6Nn362/1BIfsTwP39mXk\n",
       "55GZa73WWvvA9d4v9QTvysSGMPWbNvD1GPqVFQAAAAAAAIDpBGsAAAAAAAAAEoI1AAAAAAAAAAnB\n",
       "GgAAAAAAAICEYA0AAAAAAABAQrAGAAAAAAAAICFYAwAAAAAAAJAQrAEAAAAAAABICNYAAAAAAAAA\n",
       "JARrAAAAAAAAABKCNQAAAAAAAAAJwRoAAAAAAACAhGANAAAAAAAAQEKwBgAAAAAAACAhWAMAAAAA\n",
       "AACQEKwBAAAAAAAASAjWAAAAAAAAACQEawAAAAAAAAASgjUAAAAAAAAACcEaAAAAAAAAgIRgDQAA\n",
       "AAAAAEBCsAYAAAAAAAAgIVgDAAAAAAAAkBCsAQAAAAAAAEgI1gAAAAAAAAAkBGsAAAAAAAAAEoI1\n",
       "AAAAAAAAAAnBGgAAAAAAAICEYA0AAAAAAABAQrAGAAAAAAAAICFYAwAAAAAAAJAQrAEAAAAAAABI\n",
       "CNYAAAAAAAAAJLZ6AOBfnbe7vZ7hvXjcH0aegefTvT3yRh4vn0bukR9v/3vkHtk+fKhHuN42covM\n",
       "XOu11vbD9/UI13u91BMccxr6u9YfPtYTXO/7gTOvtdZl5K1m7R9v6xGutj291CMcM3Xum4Hn32nm\n",
       "88h6HrpH/vHPeoKr7b/+Vo9wzO28M3uttfanp3qEd2N/fq5HOGR/GXr+8Xb2mc/avJ2p37XhSwa+\n",
       "iQEAAAAAAADwLRCsAQAAAAAAAEgI1gAAAAAAAAAkBGsAAAAAAAAAEoI1AAAAAAAAAAnBGgAAAAAA\n",
       "AICEYA0AAAAAAABAQrAGAAAAAAAAICFYAwAAAAAAAJAQrAEAAAAAAABICNYAAAAAAAAAJARrAAAA\n",
       "AAAAABKCNQAAAAAAAAAJwRoAAAAAAACAhGANAAAAAAAAQEKwBgAAAAAAACAhWAMAAAAAAACQEKwB\n",
       "AAAAAAAASAjWAAAAAAAAACQEawAAAAAAAAASgjUAAAAAAAAACcEaAAAAAAAAgIRgDQAAAAAAAEBC\n",
       "sAYAAAAAAAAgIVgDAAAAAAAAkBCsAQAAAAAAAEgI1gAAAAAAAAAkBGsAAAAAAAAAEoI1AAAAAAAA\n",
       "AAnBGgAAAAAAAICEYA0AAAAAAABAQrAGAAAAAAAAILHVAwBUztvdXs/AV25zm3xL2+mmHuGAmcfI\n",
       "9t139QjHXOat93Y7cV+vtT7O3CPbzW09wvX2Sz3BMVPPkefneoLr3Qw9R15f6wmOmXerWfvTUz3C\n",
       "MVP39sRzZKj95aUe4Zh93kFirfk9v7z+PPIDyfl0P3OTDNzbj/vDzD0y9Pvw1PWGL/EPawAAAAAA\n",
       "AAASgjUAAAAAAAAACcEaAAAAAAAAgIRgDQAAAAAAAEBCsAYAAAAAAAAgIVgDAAAAAAAAkBCsAQAA\n",
       "AAAAAEgI1gAAAAAAAAAkBGsAAAAAAAAAEoI1AAAAAAAAAAnBGgAAAAAAAICEYA0AAAAAAABAQrAG\n",
       "AAAAAAAAICFYAwAAAAAAAJAQrAEAAAAAAABICNYAAAAAAAAAJARrAAAAAAAAABKCNQAAAAAAAAAJ\n",
       "wRoAAAAAAACAhGANAAAAAAAAQEKwBgAAAAAAACAhWAMAAAAAAACQEKwBAAAAAAAASAjWAAAAAAAA\n",
       "ACQEawAAAAAAAAASgjUAAAAAAAAACcEaAAAAAAAAgIRgDQAAAAAAAEBCsAYAAAAAAAAgIVgDAAAA\n",
       "AAAAkBCsAQAAAAAAAEgI1gAAAAAAAAAkBGsAAAAAAAAAEls9AADvw/l0v9czXG2fN/Jaa22nmb9H\n",
       "2weu99S13m4/1CMcsr881yNcbfswc62372bOPdLNbT3BIfvnz/UIh0y8Jrebm3qEQ/bneWf2Wmut\n",
       "gff27XbmHrn8+ls9wjGvr/UE1xu4r9daa13mvR+stUa+R16en+oRDpn6PrZfLvUI78bj5dPI/nHe\n",
       "7sYdJI/7w8i1Br4eM+/qAAAAAAAAAIwnWAMAAAAAAACQEKwBAAAAAAAASAjWAAAAAAAAACQEawAA\n",
       "AAAAAAASgjUAAAAAAAAACcEaAAAAAAAAgIRgDQAAAAAAAEBCsAYAAAAAAAAgIVgDAAAAAAAAkBCs\n",
       "AQAAAAAAAEgI1gAAAAAAAAAkBGsAAAAAAAAAEoI1AAAAAAAAAAnBGgAAAAAAAICEYA0AAAAAAABA\n",
       "QrAGAAAAAAAAICFYAwAAAAAAAJAQYGhZJAAADihJREFUrAEAAAAAAABICNYAAAAAAAAAJARrAAAA\n",
       "AAAAABKCNQAAAAAAAAAJwRoAAAAAAACAhGANAAAAAAAAQEKwBgAAAAAAACAhWAMAAAAAAACQEKwB\n",
       "AAAAAAAASAjWAAAAAAAAACQEawAAAAAAAAASgjUAAAAAAAAACcEaAAAAAAAAgIRgDQAAAAAAAEBi\n",
       "qwcA4H04b3d7PcPVNrdJvmw7Df3t3z7vclxrrbXNW+/t9qYe4ZihW2Tk283Qc2Ts+Tdw7v3lpR7h\n",
       "mLH3moEHydC13p+n7u1LPQH84fah58hYA9f7cX8YeIMEYJJ5b+sAAAAAAAAAfBMEawAAAAAAAAAS\n",
       "gjUAAAAAAAAACcEaAAAAAAAAgIRgDQAAAAAAAEBCsAYAAAAAAAAgIVgDAAAAAAAAkBCsAQAAAAAA\n",
       "AEgI1gAAAAAAAAAkBGsAAAAAAAAAEoI1AAAAAAAAAAnBGgAAAAAAAICEYA0AAAAAAABAQrAGAAAA\n",
       "AAAAICFYAwAAAAAAAJAQrAEAAAAAAABICNYAAAAAAAAAJARrAAAAAAAAABKCNQAAAAAAAAAJwRoA\n",
       "AAAAAACAhGANAAAAAAAAQEKwBgAAAAAAACAhWAMAAAAAAACQEKwBAAAAAAAASAjWAAAAAAAAACQE\n",
       "awAAAAAAAAASgjUAAAAAAAAACcEaAAAAAAAAgIRgDQAAAAAAAEBCsAYAAAAAAAAgIVgDAAAAAAAA\n",
       "kBCsAQAAAAAAAEgI1gAAAAAAAAAktnoA4F+dt7u9nuGIx/3BecIXTdzb9vXb+vHmp3F7ZN/HjbzW\n",
       "WmvbbO23MnaP3NzUIxwzcm9PnHmt9fpST8BXbrv9UI9wyH651CNcb+i9ZurxtwYu9z71zB55Xx9q\n",
       "6Dky9Z39fLqft+D2CAD/Yf5hDQAAAAAAAEBCsAYAAAAAAAAgIVgDAAAAAAAAkBCsAQAAAAAAAEgI\n",
       "1gAAAAAAAAAkBGsAAAAAAAAAEoI1AAAAAAAAAAnBGgAAAAAAAICEYA0AAAAAAABAQrAGAAAAAAAA\n",
       "ICFYAwAAAAAAAJAQrAEAAAAAAABICNYAAAAAAAAAJARrAAAAAAAAABKCNQAAAAAAAAAJwRoAAAAA\n",
       "AACAhGANAAAAAAAAQEKwBgAAAAAAACAhWAMAAAAAAACQEKwBAAAAAAAASAjWAAAAAAAAACQEawAA\n",
       "AAAAAAASgjUAAAAAAAAACcEaAAAAAAAAgIRgDQAAAAAAAEBCsAYAAAAAAAAgIVgDAAAAAAAAkBCs\n",
       "AQAAAAAAAEgI1gAAAAAAAAAkBGsAAAAAAAAAEoI1AAAAAAAAAAnBGgAAAAAAAIDEVg8AAF+r83a3\n",
       "1zMc8bg/uL/zRT/e/DRyb++XSz3C9baZl+N2e1uPcMzraz3B9YbukZHX41DbaebvzKfuke3mph7h\n",
       "ar88/8/Ig2Tq88hE+z5zqR8vn0bu7fPpfuaCDzR2jwz81uA7AwD/aTPffAEAAAAAAAAYT7AGAAAA\n",
       "AAAAICFYAwAAAAAAAJAQrAEAAAAAAABICNYAAAAAAAAAJARrAAAAAAAAABKCNQAAAAAAAAAJwRoA\n",
       "AAAAAACAhGANAAAAAAAAQEKwBgAAAAAAACAhWAMAAAAAAACQEKwBAAAAAAAASAjWAAAAAAAAACQE\n",
       "awAAAAAAAAASgjUAAAAAAAAACcEaAAAAAAAAgIRgDQAAAAAAAEBCsAYAAAAAAAAgIVgDAAAAAAAA\n",
       "kBCsAQAAAAAAAEgI1gAAAAAAAAAkBGsAAAAAAAAAEoI1AAAAAAAAAAnBGgAAAAAAAICEYA0AAAAA\n",
       "AABAQrAGAAAAAAAAICFYAwAAAAAAAJAQrAEAAAAAAABICNYAAAAAAAAAJARrAAAAAAAAABKCNQAA\n",
       "AAAAAAAJwRoAAAAAAACAhGANAAAAAAAAQGKrBwConLe7vZ7hiMf9wdnNF9nbb8dav63z6X7cem/b\n",
       "yKVe+z5uqeHfM3Bvb6eZvzN3jryhoWs99Xnkx5ufxi34L68/j1zrqSY+szpHAIDazDdfAAAAAAAA\n",
       "AMYTrAEAAAAAAABICNYAAAAAAAAAJARrAAAAAAAAABKCNQAAAAAAAAAJwRoAAAAAAACAhGANAAAA\n",
       "AAAAQEKwBgAAAAAAACAhWAMAAAAAAACQEKwBAAAAAAAASAjWAAAAAAAAACQEawAAAAAAAAASgjUA\n",
       "AAAAAAAACcEaAAAAAAAAgIRgDQAAAAAAAEBCsAYAAAAAAAAgIVgDAAAAAAAAkBCsAQAAAAAAAEgI\n",
       "1gAAAAAAAAAkBGsAAAAAAAAAEoI1AAAAAAAAAAnBGgAAAAAAAICEYA0AAAAAAABAQrAGAAAAAAAA\n",
       "ICFYAwAAAAAAAJAQrAEAAAAAAABICNYAAAAAAAAAJARrAAAAAAAAABKCNQAAAAAAAAAJwRoAAAAA\n",
       "AACAhGANAAAAAAAAQEKwBgAAAAAAACCx1QMAAEx13u72eoYjHvcHz4BvxB55WyPXexu51Gvt85Z6\n",
       "rTVyvR8vn+YNvYZej2vu+TfR+XQ/c48MvSYBAOBr5h/WAAAAAAAAACQEawAAAAAAAAASgjUAAAAA\n",
       "AAAACcEaAAAAAAAAgIRgDQAAAAAAAEBCsAYAAAAAAAAgIVgDAAAAAAAAkBCsAQAAAAAAAEgI1gAA\n",
       "AAAAAAAkBGsAAAAAAAAAEoI1AAAAAAAAAAnBGgAAAAAAAICEYA0AAAAAAABAQrAGAAAAAAAAICFY\n",
       "AwAAAAAAAJAQrAEAAAAAAABICNYAAAAAAAAAJARrAAAAAAAAABKCNQAAAAAAAAAJwRoAAAAAAACA\n",
       "hGANAAAAAAAAQEKwBgAAAAAAACAhWAMAAAAAAACQEKwBAAAAAAAASAjWAAAAAAAAACQEawAAAAAA\n",
       "AAASgjUAAAAAAAAACcEaAAAAAAAAgIRgDQAAAAAAAEBCsAYAAAAAAAAgIVgDAAAAAAAAkBCsAQAA\n",
       "AAAAAEgI1gAAAAAAAAAktnoAAAD4d5y3u72e4VqP+4Pnbb5JE6/HtVyT/L6Je9u+5vdM3Ndr2dtv\n",
       "yR4BAGr+YQ0AAAAAAABAQrAGAAAAAAAAICFYAwAAAAAAAJAQrAEAAAAAAABICNYAAAAAAAAAJARr\n",
       "AAAAAAAAABKCNQAAAAAAAAAJwRoAAAAAAACAhGANAAAAAAAAQEKwBgAAAAAAACAhWAMAAAAAAACQ\n",
       "EKwBAAAAAAAASAjWAAAAAAAAACQEawAAAAAAAAASgjUAAAAAAAAACcEaAAAAAAAAgIRgDQAAAAAA\n",
       "AEBCsAYAAAAAAAAgIVgDAAAAAAAAkBCsAQAAAAAAAEgI1gAAAAAAAAAkBGsAAAAAAAAAEoI1AAAA\n",
       "AAAAAAnBGgAAAAAAAICEYA0AAAAAAABAQrAGAAAAAAAAICFYAwAAAAAAAJAQrAEAAAAAAABICNYA\n",
       "AAAAAAAAJARrAAAAAAAAABKCNQAAAAAAAAAJwRoAAAAAAACAxFYPAMD7cN7u9nqGaz3uD+6TAPAN\n",
       "OZ/u5z2PXD55HoGviPcaAAD44/mHNQAAAAAAAAAJwRoAAAAAAACAhGANAAAAAAAAQEKwBgAAAAAA\n",
       "ACAhWAMAAAAAAACQEKwBAAAAAAAASAjWAAAAAAAAACQEawAAAAAAAAASgjUAAAAAAAAACcEaAAAA\n",
       "AAAAgIRgDQAAAAAAAEBCsAYAAAAAAAAgIVgDAAAAAAAAkBCsAQAAAAAAAEgI1gAAAAAAAAAkBGsA\n",
       "AAAAAAAAEoI1AAAAAAAAAAnBGgAAAAAAAICEYA0AAAAAAABAQrAGAAAAAAAAICFYAwAAAAAAAJAQ\n",
       "rAEAAAAAAABICNYAAAAAAAAAJARrAAAAAAAAABKCNQAAAAAAAAAJwRoAAAAAAACAhGANAAAAAAAA\n",
       "QEKwBgAAAAAAACAhWAMAAAAAAACQEKwBAAAAAAAASAjWAAAAAAAAACQEawAAAAAAAAASgjUAAAAA\n",
       "AAAAia0eAAAAAPi2nLe7vZ7hiMf9wXcSAACAN+Yf1gAAAAAAAAAkBGsAAAAAAAAAEoI1AAAAAAAA\n",
       "AAnBGgAAAAAAAICEYA0AAAAAAABAQrAGAAAAAAAAICFYAwAAAAAAAJAQrAEAAAAAAABICNYAAAAA\n",
       "AAAAJARrAAAAAAAAABKCNQAAAAAAAAAJwRoAAAAAAACAhGANAAAAAAAAQEKwBgAAAAAAACAhWAMA\n",
       "AAAAAACQEKwBAAAAAAAASAjWAAAAAAAAACQEawAAAAAAAAASgjUAAAAAAAAACcEaAAAAAAAAgIRg\n",
       "DQAAAAAAAEBCsAYAAAAAAAAgIVgDAAAAAAAAkBCsAQAAAAAAAEgI1gAAAAAAAAAkBGsAAAAAAAAA\n",
       "EoI1AAAAAAAAAAnBGgAAAAAAAICEYA0AAAAAAABAQrAGAAAAAAAAICFYAwAAAAAAAJAQrAEAAAAA\n",
       "AABIbPUAAAAAf4TzdrfXM1zrcX/wTgYAAAC8a/5hDQAAAAAAAEBCsAYAAAAAAAAgIVgDAAAAAAAA\n",
       "kBCsAQAAAAAAAEgI1gAAAAAAAAAkBGsAAAAAAAAAEoI1AAAAAAAAAAnBGgAAAAAAAICEYA0AAAAA\n",
       "AABAQrAGAAAAAAAAICFYAwAAAAAAAJAQrAEAAAAAAABICNYAAAAAAAAAJARrAAAAAAAAABKCNQAA\n",
       "AAAAAAAJwRoAAAAAAACAhGANAAAAAAAAQEKwBgAAAAAAACAhWAMAAAAAAACQEKwBAAAAAAAASAjW\n",
       "AAAAAAAAACQEawAAAAAAAAASgjUAAAAAAAAACcEaAAAAAAAAgIRgDQAAAAAAAEBCsAYAAAAAAAAg\n",
       "IVgDAAAAAAAAkBCsAQAAAAAAAEgI1gAAAAAAAAAkBGsAAAAAAAAAEoI1AAAAAAAAAAnBGgAAAAAA\n",
       "AIDE/wGfjDAO+bD+5gAAAABJRU5ErkJggg==\n",
       "\" transform=\"translate(149, 47)\"/>\n",
       "</g>\n",
       "<defs>\n",
       "  <clipPath id=\"clip823\">\n",
       "    <rect x=\"2160\" y=\"47\" width=\"73\" height=\"1440\"/>\n",
       "  </clipPath>\n",
       "</defs>\n",
       "<g clip-path=\"url(#clip823)\">\n",
       "<image width=\"72\" height=\"1439\" xlink:href=\"data:image/png;base64,\n",
       "iVBORw0KGgoAAAANSUhEUgAAAEgAAAWfCAYAAAAI7rB3AAAMJ0lEQVR4nO3dwa3cSBAFQVIoU9Z/\n",
       "t2QFm7JgK4+cQ4QFQuJhiG7OfN3P3//ei//15+t/wK8TKAgUBAoChXne8/W/4adZUBAoCBQECgKF\n",
       "OZej2MaCgkBBoCBQmHM5amwsKAgUBAoCBYHCPK+jxsaCgkBBoCBQECg4iwULCgIFgYJAYR5vNVYW\n",
       "FAQKAgWBgkBhjguzlQUFgYJAQaDgqBEsKAgUBAoCBYHCeKexs6AgUBAoCBQECr5hFiwoCBQECgKF\n",
       "eb7+F/w4CwoCBYGCQEGg4MIsWFAQKAgUBAoChXncl60sKAgUBAoCBUeNYEFBoCBQECgIFOa57q//\n",
       "DT/NgoJAQaAgUJjn9SG9saAgUBAoCBQECnMcNVYWFAQKAgWBgkDBhVmwoCBQECgIFOa4MFtZUBAo\n",
       "CBQECgIFR41gQUGgIFAQKAgUPMWCBQWBgkBBoDDn1WijThAoCBQECgIFR41gQUGgIFAQKMyj0Uqd\n",
       "IFAQKAgUBAouzII6QaAgUBAoCBRcmAULCgIFgYJAYR5HjZU6QaAgUBAoCBTmaLRSJwgUBAoCBYGC\n",
       "C7NgQUGgIFAQKLgwC+oEgYJAQaAgUHBhFtQJAgWBgkDBUSOoEwQKAgWBgkDBW41gQUGgIFAQKAgU\n",
       "/CQzqBMECgIFgYK//hLUCQIFgYJAQaAwj/9fbGVBQaAgUBAo+AJVUCcIFAQKAgWBgm+YBXWCQEGg\n",
       "IFAQKHjtE9QJAgWBgkBhjrcaKwsKAgWBgkBBoOCoEdQJAgWBgkBBoODHLEGdIFAQKAgU/G4+WFAQ\n",
       "KAgUBAoCBUeNoE4QKAgUBAqOGsGCgkBBoCBQECg4agR1gkBBoCBQECj4SWZQJwgUBAoChTkuzFYW\n",
       "FAQKAgWBgkDBUSOoEwQKAgWBgkDBWSxYUBAoCBQECo4aQZ0gUBAoCBQECv6GWbCgIFAQKAgU/Imu\n",
       "oE4QKAgUBAoCBUeNYEFBoCBQECgIFDzFggUFgYJAQaDgwiyoEwQKAgWBgkDBUSNYUBAoCBQECgIF\n",
       "f8MsqBMECgIFgYJfHAYLCgIFgYJAQaAwjwuzlQUFgYJAQaDgPiioEwQKAgWBgkDBu/lgQUGgIFAQ\n",
       "KAgUvPYJFhQECgIFgYK3GsGCgkBBoCBQECh47RPUCQIFgYJAwVuNYEFBoCBQECgIFLzVCBYUBAoC\n",
       "BYGCQMFZLFhQECgIFAQKPqSDBQWBgkBBoCBQ8BQLFhQECgIFgYJAwTfMgjpBoCBQECh4Nx8sKAgU\n",
       "BAoCBYGCC7NgQUGgIFAQKPiQDhYUBAoCBYGCQMFTLFhQECgIFAQKAoV5PcVWFhQECgIFgYJ388GC\n",
       "gkBBoCBQECi4MAsWFAQKAgWBgkDBUyxYUBAoCBQECt5qBAsKAgWBgkBBoOCoESwoCBQECgIFH9LB\n",
       "goJAQaAgUBAozPv1v+DHWVAQKAgUBAoCBWexYEFBoCBQECh4Nx8sKAgUBAoCBYGCo0awoCBQECgI\n",
       "FAQKzmLBgoJAQaAgUJjj5fzKgoJAQaAgUBAoOGoECwoCBYGCQMGHdLCgIFAQKAgUBArezQcLCgIF\n",
       "gYJAQaDgJ5nBgoJAQaAgUHBhFiwoCBQECgIFgYKnWLCgIFAQKAgUBArzujFbWVAQKAgUBAqOGsGC\n",
       "gkBBoCBQECh4igULCgIFgYJAwX1QsKAgUBAoCBQECo4awYKCQEGgIFAQKDiLBQsKAgWBgkBhLkeN\n",
       "lQUFgYJAQaAgUHBhFiwoCBQECgIFf9wkWFAQKAgUBAoCBRdmwYKCQEGgIFAQKHg3HywoCBQECgKF\n",
       "uXxIrywoCBQECgIFgYJ388GCgkBBoCBQECg4iwULCgIFgYJAwbv5YEFBoCBQECgIFLybDxYUBAoC\n",
       "BYGCo0awoCBQECgIFAQK3moECwoCBYGCQEGg4CkWLCgIFAQKAgUXZsGCgkBBoCBQECg4agQLCgIF\n",
       "gYJAQaDgKRYsKAgUBAoCBRdmwYKCQEGgIFAQKAgUBAoCBYGCQMF9ULCgIFAQKAgUBAqeYsGCgkBB\n",
       "oCBQECjM7bXPyoKCQEGgIFBw1AgWFAQKAgWBgkDBUyxYUBAoCBQECgIFT7FgQUGgIFAQKPgxS7Cg\n",
       "IFAQKAgUBApzO2qsLCgIFAQKAgX3QcGCgkBBoCBQECh4igULCgIFgYJAQaDgwixYUBAoCBQECo4a\n",
       "wYKCQEGgIFAQKPiGWbCgIFAQKAgU3AcFCwoCBYGCQEGg4MIsWFAQKAgUBAoCBU+xYEFBoCBQECiM\n",
       "dxo7CwoCBYGCQEGg4KgRLCgIFAQKAgWBgqdYsKAgUBAoCBR8wyxYUBAoCBQECgIFR41gQUGgIFAQ\n",
       "KPiQDhYUBAoCBYGCQMGFWbCgIFAQKAgUBAr++kuwoCBQECgIFBw1ggUFgYJAQaAgUPDaJ1hQECgI\n",
       "FAQKAgVPsWBBQaAgUBAouDALFhQECgIFgYJAwVEjWFAQKAgUBAo+pIMFBYGCQEGgIFBwYRYsKAgU\n",
       "BAoCBYGCs1iwoCBQECgIFAQKAgWBgkBBoCBQcGEWLCgIFAQKAgWBgguzYEFBoCBQECg4agQLCgIF\n",
       "gYJAQaDgqBEsKAgUBAoCBR/SwYKCQEGgIFAQKLgwCxYUBAoCBYGCQMFZLFhQECgIFAQKjhrBgoJA\n",
       "QaAgUBAoOGoECwoCBYGCQMGHdLCgIFAQKAgUBAouzIIFBYGCQEGgIFBwFgsWFAQKAgWBgqNGsKAg\n",
       "UBAoCBQECo4awYKCQEGgIFAQKHiKBQsKAgWBgkBh7ten9MaCgkBBoCBQECg4agQLCgIFgYJAwbv5\n",
       "YEFBoCBQECgIFBw1ggUFgYJAQaAgUHAWCxYUBAoCBYGCo0awoCBQECgIFAQKnmLBgoJAQaAgUBAo\n",
       "uDALFhQECgIFgYKjRrCgIFAQKAgUBAqOGsGCgkBBoCBQcNQIFhQECgIFgYJAwVEjWFAQKAgUBAoC\n",
       "BWexYEFBoCBQECj4Q5PBgoJAQaAgUBAoOGoECwoCBYGCQEGg4LVPsKAgUBAoCBQcNYIFBYGCQEGg\n",
       "IFBw1AgWFAQKAgWBgqNGsKAgUBAoCBQECo4awYKCQEGgIFAQKMzle9IrCwoCBYGCQMFRI1hQECgI\n",
       "FAQKAgWvfYIFBYGCQEGgIFBwFgsWFAQKAgWBgqNGsKAgUBAoCBQECv6GWbCgIFAQKAgUHDWCBQWB\n",
       "gkBBoCBQmPt8/U/4bRYUBAoCBYGCQMFZLFhQECgIFAQK3moECwoCBYGCQEGg4KgRLCgIFAQKAgUf\n",
       "0sGCgkBBoCBQECj4xWGwoCBQECgIFAQK/tBksKAgUBAoCBQcNYIFBYGCQEGgIFCY63iMbSwoCBQE\n",
       "CgIFgYKzWLCgIFAQKAgUfMMsWFAQKAgUBAoCBT/JDBYUBAoCBYGCo0awoCBQECgIFAQKjhrBgoJA\n",
       "QaAgUBAozOXPJa8sKAgUBAoCBb84DBYUBAoCBYGCQMHXgIMFBYGCQEGgIFBwFgsWFAQKAgWBgm+Y\n",
       "BQsKAgWBgkBBoOAbZsGCgkBBoCBQ8Ce6ggUFgYJAQaAgUPBuPlhQECgIFAQKAgXv5oMFBYGCQEGg\n",
       "4EM6WFAQKAgUBAoCBb+bDxYUBAoCBYGCQME3zIIFBYGCQEGg4MIsWFAQKAgUBAoCBU+xYEFBoCBQ\n",
       "ECh4qxEsKAgUBAoCBYGCtxrBgoJAQaAgUBAouDALFhQECgIFgYIP6WBBQaAgUBAoCBT8DbNgQUGg\n",
       "IFAQKDhqBAsKAgWBgkBBoOApFiwoCBQECgIFgYKnWLCgIFAQKAgU5vZWY2VBQaAgUBAoCBQcNYIF\n",
       "BYGCQEGgIFDwFAsWFAQKAgWBgg/pYEFBoCBQECgIFPyYJVhQECgIFAQKjhrBgoJAQaAgUBAoeIoF\n",
       "CwoCBYGCQEGgMNfxV/83FhQECgIFgYKjRrCgIFAQKAgUBArzeoqtLCgIFAQKAgWBgm+YBQsKAgWB\n",
       "gkBhrtdbjY0FBYGCQEGgIFDw2idYUBAoCBQECu6DggUFgYJAQaAgUHBhFiwoCBQECgIFgYKzWLCg\n",
       "IFAQKAgUfA04WFAQKAgUBAoCBb+bDxYUBAoCBYGCQME3zIIFBYGCQEGg4KgRLCgIFAQKAgWBgtc+\n",
       "wYKCQEGgIFDwBapgQUGgIFAQKAgU/JglWFAQKAgUBAoChXmdxVYWFAQKAgWBgqNGsKAgUBAoCBQE\n",
       "Cr4GHCwoCBQECgKFf4jrjN/mS6F7AAAAAElFTkSuQmCC\n",
       "\" transform=\"translate(2161, 47)\"/>\n",
       "</g>\n",
       "<path clip-path=\"url(#clip820)\" d=\"M2269.43 1274.92 L2277.07 1274.92 L2277.07 1248.55 L2268.76 1250.22 L2268.76 1245.96 L2277.02 1244.3 L2281.7 1244.3 L2281.7 1274.92 L2289.33 1274.92 L2289.33 1278.86 L2269.43 1278.86 L2269.43 1274.92 Z\" fill=\"#f8f8f2\" fill-rule=\"nonzero\" fill-opacity=\"1\" /><path clip-path=\"url(#clip820)\" d=\"M2308.78 1247.37 Q2305.17 1247.37 2303.34 1250.94 Q2301.53 1254.48 2301.53 1261.61 Q2301.53 1268.72 2303.34 1272.28 Q2305.17 1275.82 2308.78 1275.82 Q2312.41 1275.82 2314.22 1272.28 Q2316.05 1268.72 2316.05 1261.61 Q2316.05 1254.48 2314.22 1250.94 Q2312.41 1247.37 2308.78 1247.37 M2308.78 1243.67 Q2314.59 1243.67 2317.64 1248.28 Q2320.72 1252.86 2320.72 1261.61 Q2320.72 1270.34 2317.64 1274.94 Q2314.59 1279.53 2308.78 1279.53 Q2302.97 1279.53 2299.89 1274.94 Q2296.83 1270.34 2296.83 1261.61 Q2296.83 1252.86 2299.89 1248.28 Q2302.97 1243.67 2308.78 1243.67 Z\" fill=\"#f8f8f2\" fill-rule=\"nonzero\" fill-opacity=\"1\" /><path clip-path=\"url(#clip820)\" d=\"M2338.94 1247.37 Q2335.33 1247.37 2333.5 1250.94 Q2331.7 1254.48 2331.7 1261.61 Q2331.7 1268.72 2333.5 1272.28 Q2335.33 1275.82 2338.94 1275.82 Q2342.57 1275.82 2344.38 1272.28 Q2346.21 1268.72 2346.21 1261.61 Q2346.21 1254.48 2344.38 1250.94 Q2342.57 1247.37 2338.94 1247.37 M2338.94 1243.67 Q2344.75 1243.67 2347.81 1248.28 Q2350.89 1252.86 2350.89 1261.61 Q2350.89 1270.34 2347.81 1274.94 Q2344.75 1279.53 2338.94 1279.53 Q2333.13 1279.53 2330.05 1274.94 Q2327 1270.34 2327 1261.61 Q2327 1252.86 2330.05 1248.28 Q2333.13 1243.67 2338.94 1243.67 Z\" fill=\"#f8f8f2\" fill-rule=\"nonzero\" fill-opacity=\"1\" /><path clip-path=\"url(#clip820)\" d=\"M2274.38 1051.44 L2290.7 1051.44 L2290.7 1055.38 L2268.76 1055.38 L2268.76 1051.44 Q2271.42 1048.69 2276 1044.06 Q2280.61 1039.4 2281.79 1038.06 Q2284.03 1035.54 2284.91 1033.8 Q2285.82 1032.04 2285.82 1030.35 Q2285.82 1027.6 2283.87 1025.86 Q2281.95 1024.13 2278.85 1024.13 Q2276.65 1024.13 2274.2 1024.89 Q2271.77 1025.65 2268.99 1027.21 L2268.99 1022.48 Q2271.81 1021.35 2274.27 1020.77 Q2276.72 1020.19 2278.76 1020.19 Q2284.13 1020.19 2287.32 1022.88 Q2290.52 1025.56 2290.52 1030.05 Q2290.52 1032.18 2289.7 1034.1 Q2288.92 1036 2286.81 1038.59 Q2286.23 1039.27 2283.13 1042.48 Q2280.03 1045.68 2274.38 1051.44 Z\" fill=\"#f8f8f2\" fill-rule=\"nonzero\" fill-opacity=\"1\" /><path clip-path=\"url(#clip820)\" d=\"M2310.51 1023.89 Q2306.9 1023.89 2305.08 1027.46 Q2303.27 1031 2303.27 1038.13 Q2303.27 1045.24 2305.08 1048.8 Q2306.9 1052.34 2310.51 1052.34 Q2314.15 1052.34 2315.95 1048.8 Q2317.78 1045.24 2317.78 1038.13 Q2317.78 1031 2315.95 1027.46 Q2314.15 1023.89 2310.51 1023.89 M2310.51 1020.19 Q2316.33 1020.19 2319.38 1024.8 Q2322.46 1029.38 2322.46 1038.13 Q2322.46 1046.86 2319.38 1051.46 Q2316.33 1056.05 2310.51 1056.05 Q2304.7 1056.05 2301.63 1051.46 Q2298.57 1046.86 2298.57 1038.13 Q2298.57 1029.38 2301.63 1024.8 Q2304.7 1020.19 2310.51 1020.19 Z\" fill=\"#f8f8f2\" fill-rule=\"nonzero\" fill-opacity=\"1\" /><path clip-path=\"url(#clip820)\" d=\"M2340.68 1023.89 Q2337.07 1023.89 2335.24 1027.46 Q2333.43 1031 2333.43 1038.13 Q2333.43 1045.24 2335.24 1048.8 Q2337.07 1052.34 2340.68 1052.34 Q2344.31 1052.34 2346.12 1048.8 Q2347.95 1045.24 2347.95 1038.13 Q2347.95 1031 2346.12 1027.46 Q2344.31 1023.89 2340.68 1023.89 M2340.68 1020.19 Q2346.49 1020.19 2349.54 1024.8 Q2352.62 1029.38 2352.62 1038.13 Q2352.62 1046.86 2349.54 1051.46 Q2346.49 1056.05 2340.68 1056.05 Q2334.87 1056.05 2331.79 1051.46 Q2328.73 1046.86 2328.73 1038.13 Q2328.73 1029.38 2331.79 1024.8 Q2334.87 1020.19 2340.68 1020.19 Z\" fill=\"#f8f8f2\" fill-rule=\"nonzero\" fill-opacity=\"1\" /><path clip-path=\"url(#clip820)\" d=\"M2284.38 813.263 Q2287.74 813.981 2289.61 816.249 Q2291.51 818.518 2291.51 821.851 Q2291.51 826.967 2287.99 829.768 Q2284.47 832.569 2277.99 832.569 Q2275.82 832.569 2273.5 832.129 Q2271.21 831.712 2268.76 830.856 L2268.76 826.342 Q2270.7 827.476 2273.02 828.055 Q2275.33 828.633 2277.85 828.633 Q2282.25 828.633 2284.54 826.897 Q2286.86 825.161 2286.86 821.851 Q2286.86 818.796 2284.7 817.083 Q2282.58 815.346 2278.76 815.346 L2274.73 815.346 L2274.73 811.504 L2278.94 811.504 Q2282.39 811.504 2284.22 810.138 Q2286.05 808.749 2286.05 806.157 Q2286.05 803.495 2284.15 802.083 Q2282.27 800.647 2278.76 800.647 Q2276.83 800.647 2274.64 801.064 Q2272.44 801.481 2269.8 802.36 L2269.8 798.194 Q2272.46 797.453 2274.77 797.083 Q2277.11 796.712 2279.17 796.712 Q2284.5 796.712 2287.6 799.143 Q2290.7 801.55 2290.7 805.671 Q2290.7 808.541 2289.06 810.532 Q2287.41 812.499 2284.38 813.263 Z\" fill=\"#f8f8f2\" fill-rule=\"nonzero\" fill-opacity=\"1\" /><path clip-path=\"url(#clip820)\" d=\"M2310.38 800.416 Q2306.76 800.416 2304.94 803.981 Q2303.13 807.522 2303.13 814.652 Q2303.13 821.758 2304.94 825.323 Q2306.76 828.865 2310.38 828.865 Q2314.01 828.865 2315.82 825.323 Q2317.64 821.758 2317.64 814.652 Q2317.64 807.522 2315.82 803.981 Q2314.01 800.416 2310.38 800.416 M2310.38 796.712 Q2316.19 796.712 2319.24 801.319 Q2322.32 805.902 2322.32 814.652 Q2322.32 823.379 2319.24 827.985 Q2316.19 832.569 2310.38 832.569 Q2304.57 832.569 2301.49 827.985 Q2298.43 823.379 2298.43 814.652 Q2298.43 805.902 2301.49 801.319 Q2304.57 796.712 2310.38 796.712 Z\" fill=\"#f8f8f2\" fill-rule=\"nonzero\" fill-opacity=\"1\" /><path clip-path=\"url(#clip820)\" d=\"M2340.54 800.416 Q2336.93 800.416 2335.1 803.981 Q2333.29 807.522 2333.29 814.652 Q2333.29 821.758 2335.1 825.323 Q2336.93 828.865 2340.54 828.865 Q2344.17 828.865 2345.98 825.323 Q2347.81 821.758 2347.81 814.652 Q2347.81 807.522 2345.98 803.981 Q2344.17 800.416 2340.54 800.416 M2340.54 796.712 Q2346.35 796.712 2349.4 801.319 Q2352.48 805.902 2352.48 814.652 Q2352.48 823.379 2349.4 827.985 Q2346.35 832.569 2340.54 832.569 Q2334.73 832.569 2331.65 827.985 Q2328.59 823.379 2328.59 814.652 Q2328.59 805.902 2331.65 801.319 Q2334.73 796.712 2340.54 796.712 Z\" fill=\"#f8f8f2\" fill-rule=\"nonzero\" fill-opacity=\"1\" /><path clip-path=\"url(#clip820)\" d=\"M2284.36 577.933 L2272.55 596.381 L2284.36 596.381 L2284.36 577.933 M2283.13 573.858 L2289.01 573.858 L2289.01 596.381 L2293.94 596.381 L2293.94 600.27 L2289.01 600.27 L2289.01 608.418 L2284.36 608.418 L2284.36 600.27 L2268.76 600.27 L2268.76 595.757 L2283.13 573.858 Z\" fill=\"#f8f8f2\" fill-rule=\"nonzero\" fill-opacity=\"1\" /><path clip-path=\"url(#clip820)\" d=\"M2311.67 576.937 Q2308.06 576.937 2306.23 580.502 Q2304.43 584.044 2304.43 591.173 Q2304.43 598.28 2306.23 601.844 Q2308.06 605.386 2311.67 605.386 Q2315.31 605.386 2317.11 601.844 Q2318.94 598.28 2318.94 591.173 Q2318.94 584.044 2317.11 580.502 Q2315.31 576.937 2311.67 576.937 M2311.67 573.233 Q2317.48 573.233 2320.54 577.84 Q2323.62 582.423 2323.62 591.173 Q2323.62 599.9 2320.54 604.506 Q2317.48 609.09 2311.67 609.09 Q2305.86 609.09 2302.78 604.506 Q2299.73 599.9 2299.73 591.173 Q2299.73 582.423 2302.78 577.84 Q2305.86 573.233 2311.67 573.233 Z\" fill=\"#f8f8f2\" fill-rule=\"nonzero\" fill-opacity=\"1\" /><path clip-path=\"url(#clip820)\" d=\"M2341.83 576.937 Q2338.22 576.937 2336.39 580.502 Q2334.59 584.044 2334.59 591.173 Q2334.59 598.28 2336.39 601.844 Q2338.22 605.386 2341.83 605.386 Q2345.47 605.386 2347.27 601.844 Q2349.1 598.28 2349.1 591.173 Q2349.1 584.044 2347.27 580.502 Q2345.47 576.937 2341.83 576.937 M2341.83 573.233 Q2347.64 573.233 2350.7 577.84 Q2353.78 582.423 2353.78 591.173 Q2353.78 599.9 2350.7 604.506 Q2347.64 609.09 2341.83 609.09 Q2336.02 609.09 2332.95 604.506 Q2329.89 599.9 2329.89 591.173 Q2329.89 582.423 2332.95 577.84 Q2336.02 573.233 2341.83 573.233 Z\" fill=\"#f8f8f2\" fill-rule=\"nonzero\" fill-opacity=\"1\" /><path clip-path=\"url(#clip820)\" d=\"M2270.21 350.38 L2288.57 350.38 L2288.57 354.315 L2274.5 354.315 L2274.5 362.787 Q2275.52 362.44 2276.53 362.278 Q2277.55 362.093 2278.57 362.093 Q2284.36 362.093 2287.74 365.264 Q2291.12 368.435 2291.12 373.852 Q2291.12 379.43 2287.64 382.532 Q2284.17 385.611 2277.85 385.611 Q2275.68 385.611 2273.41 385.241 Q2271.16 384.87 2268.76 384.129 L2268.76 379.43 Q2270.84 380.565 2273.06 381.12 Q2275.28 381.676 2277.76 381.676 Q2281.77 381.676 2284.1 379.569 Q2286.44 377.463 2286.44 373.852 Q2286.44 370.241 2284.1 368.134 Q2281.77 366.028 2277.76 366.028 Q2275.89 366.028 2274.01 366.444 Q2272.16 366.861 2270.21 367.741 L2270.21 350.38 Z\" fill=\"#f8f8f2\" fill-rule=\"nonzero\" fill-opacity=\"1\" /><path clip-path=\"url(#clip820)\" d=\"M2310.33 353.458 Q2306.72 353.458 2304.89 357.023 Q2303.08 360.565 2303.08 367.694 Q2303.08 374.801 2304.89 378.366 Q2306.72 381.907 2310.33 381.907 Q2313.96 381.907 2315.77 378.366 Q2317.6 374.801 2317.6 367.694 Q2317.6 360.565 2315.77 357.023 Q2313.96 353.458 2310.33 353.458 M2310.33 349.755 Q2316.14 349.755 2319.2 354.361 Q2322.27 358.944 2322.27 367.694 Q2322.27 376.421 2319.2 381.028 Q2316.14 385.611 2310.33 385.611 Q2304.52 385.611 2301.44 381.028 Q2298.39 376.421 2298.39 367.694 Q2298.39 358.944 2301.44 354.361 Q2304.52 349.755 2310.33 349.755 Z\" fill=\"#f8f8f2\" fill-rule=\"nonzero\" fill-opacity=\"1\" /><path clip-path=\"url(#clip820)\" d=\"M2340.49 353.458 Q2336.88 353.458 2335.05 357.023 Q2333.25 360.565 2333.25 367.694 Q2333.25 374.801 2335.05 378.366 Q2336.88 381.907 2340.49 381.907 Q2344.13 381.907 2345.93 378.366 Q2347.76 374.801 2347.76 367.694 Q2347.76 360.565 2345.93 357.023 Q2344.13 353.458 2340.49 353.458 M2340.49 349.755 Q2346.3 349.755 2349.36 354.361 Q2352.44 358.944 2352.44 367.694 Q2352.44 376.421 2349.36 381.028 Q2346.3 385.611 2340.49 385.611 Q2334.68 385.611 2331.6 381.028 Q2328.55 376.421 2328.55 367.694 Q2328.55 358.944 2331.6 354.361 Q2334.68 349.755 2340.49 349.755 Z\" fill=\"#f8f8f2\" fill-rule=\"nonzero\" fill-opacity=\"1\" /><path clip-path=\"url(#clip820)\" d=\"M2281.09 142.317 Q2277.95 142.317 2276.09 144.47 Q2274.27 146.623 2274.27 150.373 Q2274.27 154.1 2276.09 156.276 Q2277.95 158.428 2281.09 158.428 Q2284.24 158.428 2286.07 156.276 Q2287.92 154.1 2287.92 150.373 Q2287.92 146.623 2286.07 144.47 Q2284.24 142.317 2281.09 142.317 M2290.38 127.665 L2290.38 131.924 Q2288.62 131.091 2286.81 130.651 Q2285.03 130.211 2283.27 130.211 Q2278.64 130.211 2276.19 133.336 Q2273.76 136.461 2273.41 142.78 Q2274.77 140.766 2276.83 139.702 Q2278.89 138.614 2281.37 138.614 Q2286.58 138.614 2289.59 141.785 Q2292.62 144.933 2292.62 150.373 Q2292.62 155.697 2289.47 158.914 Q2286.33 162.132 2281.09 162.132 Q2275.1 162.132 2271.93 157.549 Q2268.76 152.942 2268.76 144.215 Q2268.76 136.021 2272.64 131.16 Q2276.53 126.276 2283.08 126.276 Q2284.84 126.276 2286.63 126.623 Q2288.43 126.97 2290.38 127.665 Z\" fill=\"#f8f8f2\" fill-rule=\"nonzero\" fill-opacity=\"1\" /><path clip-path=\"url(#clip820)\" d=\"M2310.68 129.979 Q2307.07 129.979 2305.24 133.544 Q2303.43 137.086 2303.43 144.215 Q2303.43 151.322 2305.24 154.887 Q2307.07 158.428 2310.68 158.428 Q2314.31 158.428 2316.12 154.887 Q2317.95 151.322 2317.95 144.215 Q2317.95 137.086 2316.12 133.544 Q2314.31 129.979 2310.68 129.979 M2310.68 126.276 Q2316.49 126.276 2319.54 130.882 Q2322.62 135.466 2322.62 144.215 Q2322.62 152.942 2319.54 157.549 Q2316.49 162.132 2310.68 162.132 Q2304.87 162.132 2301.79 157.549 Q2298.73 152.942 2298.73 144.215 Q2298.73 135.466 2301.79 130.882 Q2304.87 126.276 2310.68 126.276 Z\" fill=\"#f8f8f2\" fill-rule=\"nonzero\" fill-opacity=\"1\" /><path clip-path=\"url(#clip820)\" d=\"M2340.84 129.979 Q2337.23 129.979 2335.4 133.544 Q2333.59 137.086 2333.59 144.215 Q2333.59 151.322 2335.4 154.887 Q2337.23 158.428 2340.84 158.428 Q2344.47 158.428 2346.28 154.887 Q2348.11 151.322 2348.11 144.215 Q2348.11 137.086 2346.28 133.544 Q2344.47 129.979 2340.84 129.979 M2340.84 126.276 Q2346.65 126.276 2349.7 130.882 Q2352.78 135.466 2352.78 144.215 Q2352.78 152.942 2349.7 157.549 Q2346.65 162.132 2340.84 162.132 Q2335.03 162.132 2331.95 157.549 Q2328.89 152.942 2328.89 144.215 Q2328.89 135.466 2331.95 130.882 Q2335.03 126.276 2340.84 126.276 Z\" fill=\"#f8f8f2\" fill-rule=\"nonzero\" fill-opacity=\"1\" /><polyline clip-path=\"url(#clip820)\" style=\"stroke:#000000; stroke-linecap:round; stroke-linejoin:round; stroke-width:4; stroke-opacity:1; fill:none\" points=\"2232.76,1486.45 2232.76,1265.2 2256.76,1265.2 2232.76,1265.2 2232.76,1041.72 2256.76,1041.72 2232.76,1041.72 2232.76,818.246 2256.76,818.246 2232.76,818.246 2232.76,594.767 2256.76,594.767 2232.76,594.767 2232.76,371.288 2256.76,371.288 2232.76,371.288 2232.76,147.81 2256.76,147.81 2232.76,147.81 2232.76,47.2441 \"/>\n",
       "</svg>\n"
      ],
      "text/html": [
       "<?xml version=\"1.0\" encoding=\"utf-8\"?>\n",
       "<svg xmlns=\"http://www.w3.org/2000/svg\" xmlns:xlink=\"http://www.w3.org/1999/xlink\" width=\"600\" height=\"400\" viewBox=\"0 0 2400 1600\">\n",
       "<defs>\n",
       "  <clipPath id=\"clip870\">\n",
       "    <rect x=\"0\" y=\"0\" width=\"2400\" height=\"1600\"/>\n",
       "  </clipPath>\n",
       "</defs>\n",
       "<path clip-path=\"url(#clip870)\" d=\"M0 1600 L2400 1600 L2400 0 L0 0  Z\" fill=\"#282a36\" fill-rule=\"evenodd\" fill-opacity=\"1\"/>\n",
       "<defs>\n",
       "  <clipPath id=\"clip871\">\n",
       "    <rect x=\"480\" y=\"0\" width=\"1681\" height=\"1600\"/>\n",
       "  </clipPath>\n",
       "</defs>\n",
       "<path clip-path=\"url(#clip870)\" d=\"M149.191 1486.45 L2112.76 1486.45 L2112.76 47.2441 L149.191 47.2441  Z\" fill=\"#30343b\" fill-rule=\"evenodd\" fill-opacity=\"1\"/>\n",
       "<defs>\n",
       "  <clipPath id=\"clip872\">\n",
       "    <rect x=\"149\" y=\"47\" width=\"1965\" height=\"1440\"/>\n",
       "  </clipPath>\n",
       "</defs>\n",
       "<polyline clip-path=\"url(#clip872)\" style=\"stroke:#f8f8f2; stroke-linecap:round; stroke-linejoin:round; stroke-width:2; stroke-opacity:0.1; fill:none\" points=\"240.519,1486.45 240.519,47.2441 \"/>\n",
       "<polyline clip-path=\"url(#clip872)\" style=\"stroke:#f8f8f2; stroke-linecap:round; stroke-linejoin:round; stroke-width:2; stroke-opacity:0.1; fill:none\" points=\"697.163,1486.45 697.163,47.2441 \"/>\n",
       "<polyline clip-path=\"url(#clip872)\" style=\"stroke:#f8f8f2; stroke-linecap:round; stroke-linejoin:round; stroke-width:2; stroke-opacity:0.1; fill:none\" points=\"1153.81,1486.45 1153.81,47.2441 \"/>\n",
       "<polyline clip-path=\"url(#clip872)\" style=\"stroke:#f8f8f2; stroke-linecap:round; stroke-linejoin:round; stroke-width:2; stroke-opacity:0.1; fill:none\" points=\"1610.45,1486.45 1610.45,47.2441 \"/>\n",
       "<polyline clip-path=\"url(#clip872)\" style=\"stroke:#f8f8f2; stroke-linecap:round; stroke-linejoin:round; stroke-width:2; stroke-opacity:0.1; fill:none\" points=\"2067.09,1486.45 2067.09,47.2441 \"/>\n",
       "<polyline clip-path=\"url(#clip870)\" style=\"stroke:#f8f8f2; stroke-linecap:round; stroke-linejoin:round; stroke-width:4; stroke-opacity:1; fill:none\" points=\"149.191,1486.45 2112.76,1486.45 \"/>\n",
       "<polyline clip-path=\"url(#clip870)\" style=\"stroke:#f8f8f2; stroke-linecap:round; stroke-linejoin:round; stroke-width:4; stroke-opacity:1; fill:none\" points=\"240.519,1486.45 240.519,1467.55 \"/>\n",
       "<polyline clip-path=\"url(#clip870)\" style=\"stroke:#f8f8f2; stroke-linecap:round; stroke-linejoin:round; stroke-width:4; stroke-opacity:1; fill:none\" points=\"697.163,1486.45 697.163,1467.55 \"/>\n",
       "<polyline clip-path=\"url(#clip870)\" style=\"stroke:#f8f8f2; stroke-linecap:round; stroke-linejoin:round; stroke-width:4; stroke-opacity:1; fill:none\" points=\"1153.81,1486.45 1153.81,1467.55 \"/>\n",
       "<polyline clip-path=\"url(#clip870)\" style=\"stroke:#f8f8f2; stroke-linecap:round; stroke-linejoin:round; stroke-width:4; stroke-opacity:1; fill:none\" points=\"1610.45,1486.45 1610.45,1467.55 \"/>\n",
       "<polyline clip-path=\"url(#clip870)\" style=\"stroke:#f8f8f2; stroke-linecap:round; stroke-linejoin:round; stroke-width:4; stroke-opacity:1; fill:none\" points=\"2067.09,1486.45 2067.09,1467.55 \"/>\n",
       "<path clip-path=\"url(#clip870)\" d=\"M209.42 1532.02 L239.096 1532.02 L239.096 1535.95 L209.42 1535.95 L209.42 1532.02 Z\" fill=\"#f8f8f2\" fill-rule=\"nonzero\" fill-opacity=\"1\" /><path clip-path=\"url(#clip870)\" d=\"M262.036 1518.36 L250.23 1536.81 L262.036 1536.81 L262.036 1518.36 M260.809 1514.29 L266.688 1514.29 L266.688 1536.81 L271.619 1536.81 L271.619 1540.7 L266.688 1540.7 L266.688 1548.85 L262.036 1548.85 L262.036 1540.7 L246.434 1540.7 L246.434 1536.19 L260.809 1514.29 Z\" fill=\"#f8f8f2\" fill-rule=\"nonzero\" fill-opacity=\"1\" /><path clip-path=\"url(#clip870)\" d=\"M667.105 1532.02 L696.781 1532.02 L696.781 1535.95 L667.105 1535.95 L667.105 1532.02 Z\" fill=\"#f8f8f2\" fill-rule=\"nonzero\" fill-opacity=\"1\" /><path clip-path=\"url(#clip870)\" d=\"M710.901 1544.91 L727.22 1544.91 L727.22 1548.85 L705.276 1548.85 L705.276 1544.91 Q707.938 1542.16 712.521 1537.53 Q717.128 1532.88 718.308 1531.53 Q720.554 1529.01 721.433 1527.27 Q722.336 1525.51 722.336 1523.82 Q722.336 1521.07 720.392 1519.33 Q718.47 1517.6 715.368 1517.6 Q713.169 1517.6 710.716 1518.36 Q708.285 1519.13 705.507 1520.68 L705.507 1515.95 Q708.331 1514.82 710.785 1514.24 Q713.239 1513.66 715.276 1513.66 Q720.646 1513.66 723.841 1516.35 Q727.035 1519.03 727.035 1523.52 Q727.035 1525.65 726.225 1527.57 Q725.438 1529.47 723.331 1532.07 Q722.753 1532.74 719.651 1535.95 Q716.549 1539.15 710.901 1544.91 Z\" fill=\"#f8f8f2\" fill-rule=\"nonzero\" fill-opacity=\"1\" /><path clip-path=\"url(#clip870)\" d=\"M1153.81 1517.37 Q1150.19 1517.37 1148.37 1520.93 Q1146.56 1524.47 1146.56 1531.6 Q1146.56 1538.71 1148.37 1542.27 Q1150.19 1545.82 1153.81 1545.82 Q1157.44 1545.82 1159.25 1542.27 Q1161.07 1538.71 1161.07 1531.6 Q1161.07 1524.47 1159.25 1520.93 Q1157.44 1517.37 1153.81 1517.37 M1153.81 1513.66 Q1159.62 1513.66 1162.67 1518.27 Q1165.75 1522.85 1165.75 1531.6 Q1165.75 1540.33 1162.67 1544.94 Q1159.62 1549.52 1153.81 1549.52 Q1148 1549.52 1144.92 1544.94 Q1141.86 1540.33 1141.86 1531.6 Q1141.86 1522.85 1144.92 1518.27 Q1148 1513.66 1153.81 1513.66 Z\" fill=\"#f8f8f2\" fill-rule=\"nonzero\" fill-opacity=\"1\" /><path clip-path=\"url(#clip870)\" d=\"M1605.1 1544.91 L1621.42 1544.91 L1621.42 1548.85 L1599.48 1548.85 L1599.48 1544.91 Q1602.14 1542.16 1606.72 1537.53 Q1611.33 1532.88 1612.51 1531.53 Q1614.75 1529.01 1615.63 1527.27 Q1616.54 1525.51 1616.54 1523.82 Q1616.54 1521.07 1614.59 1519.33 Q1612.67 1517.6 1609.57 1517.6 Q1607.37 1517.6 1604.92 1518.36 Q1602.49 1519.13 1599.71 1520.68 L1599.71 1515.95 Q1602.53 1514.82 1604.99 1514.24 Q1607.44 1513.66 1609.48 1513.66 Q1614.85 1513.66 1618.04 1516.35 Q1621.24 1519.03 1621.24 1523.52 Q1621.24 1525.65 1620.43 1527.57 Q1619.64 1529.47 1617.53 1532.07 Q1616.95 1532.74 1613.85 1535.95 Q1610.75 1539.15 1605.1 1544.91 Z\" fill=\"#f8f8f2\" fill-rule=\"nonzero\" fill-opacity=\"1\" /><path clip-path=\"url(#clip870)\" d=\"M2070.1 1518.36 L2058.3 1536.81 L2070.1 1536.81 L2070.1 1518.36 M2068.87 1514.29 L2074.75 1514.29 L2074.75 1536.81 L2079.68 1536.81 L2079.68 1540.7 L2074.75 1540.7 L2074.75 1548.85 L2070.1 1548.85 L2070.1 1540.7 L2054.5 1540.7 L2054.5 1536.19 L2068.87 1514.29 Z\" fill=\"#f8f8f2\" fill-rule=\"nonzero\" fill-opacity=\"1\" /><polyline clip-path=\"url(#clip872)\" style=\"stroke:#f8f8f2; stroke-linecap:round; stroke-linejoin:round; stroke-width:2; stroke-opacity:0.1; fill:none\" points=\"149.191,1419.51 2112.76,1419.51 \"/>\n",
       "<polyline clip-path=\"url(#clip872)\" style=\"stroke:#f8f8f2; stroke-linecap:round; stroke-linejoin:round; stroke-width:2; stroke-opacity:0.1; fill:none\" points=\"149.191,1084.81 2112.76,1084.81 \"/>\n",
       "<polyline clip-path=\"url(#clip872)\" style=\"stroke:#f8f8f2; stroke-linecap:round; stroke-linejoin:round; stroke-width:2; stroke-opacity:0.1; fill:none\" points=\"149.191,750.111 2112.76,750.111 \"/>\n",
       "<polyline clip-path=\"url(#clip872)\" style=\"stroke:#f8f8f2; stroke-linecap:round; stroke-linejoin:round; stroke-width:2; stroke-opacity:0.1; fill:none\" points=\"149.191,415.413 2112.76,415.413 \"/>\n",
       "<polyline clip-path=\"url(#clip872)\" style=\"stroke:#f8f8f2; stroke-linecap:round; stroke-linejoin:round; stroke-width:2; stroke-opacity:0.1; fill:none\" points=\"149.191,80.7139 2112.76,80.7139 \"/>\n",
       "<polyline clip-path=\"url(#clip870)\" style=\"stroke:#f8f8f2; stroke-linecap:round; stroke-linejoin:round; stroke-width:4; stroke-opacity:1; fill:none\" points=\"149.191,1486.45 149.191,47.2441 \"/>\n",
       "<polyline clip-path=\"url(#clip870)\" style=\"stroke:#f8f8f2; stroke-linecap:round; stroke-linejoin:round; stroke-width:4; stroke-opacity:1; fill:none\" points=\"149.191,1419.51 166.03,1419.51 \"/>\n",
       "<polyline clip-path=\"url(#clip870)\" style=\"stroke:#f8f8f2; stroke-linecap:round; stroke-linejoin:round; stroke-width:4; stroke-opacity:1; fill:none\" points=\"149.191,1084.81 166.03,1084.81 \"/>\n",
       "<polyline clip-path=\"url(#clip870)\" style=\"stroke:#f8f8f2; stroke-linecap:round; stroke-linejoin:round; stroke-width:4; stroke-opacity:1; fill:none\" points=\"149.191,750.111 166.03,750.111 \"/>\n",
       "<polyline clip-path=\"url(#clip870)\" style=\"stroke:#f8f8f2; stroke-linecap:round; stroke-linejoin:round; stroke-width:4; stroke-opacity:1; fill:none\" points=\"149.191,415.413 166.03,415.413 \"/>\n",
       "<polyline clip-path=\"url(#clip870)\" style=\"stroke:#f8f8f2; stroke-linecap:round; stroke-linejoin:round; stroke-width:4; stroke-opacity:1; fill:none\" points=\"149.191,80.7139 166.03,80.7139 \"/>\n",
       "<path clip-path=\"url(#clip870)\" d=\"M50.9921 1419.96 L80.6679 1419.96 L80.6679 1423.89 L50.9921 1423.89 L50.9921 1419.96 Z\" fill=\"#f8f8f2\" fill-rule=\"nonzero\" fill-opacity=\"1\" /><path clip-path=\"url(#clip870)\" d=\"M103.608 1406.3 L91.8021 1424.75 L103.608 1424.75 L103.608 1406.3 M102.381 1402.23 L108.26 1402.23 L108.26 1424.75 L113.191 1424.75 L113.191 1428.64 L108.26 1428.64 L108.26 1436.79 L103.608 1436.79 L103.608 1428.64 L88.0058 1428.64 L88.0058 1424.13 L102.381 1402.23 Z\" fill=\"#f8f8f2\" fill-rule=\"nonzero\" fill-opacity=\"1\" /><path clip-path=\"url(#clip870)\" d=\"M53.0754 1085.26 L82.7512 1085.26 L82.7512 1089.2 L53.0754 1089.2 L53.0754 1085.26 Z\" fill=\"#f8f8f2\" fill-rule=\"nonzero\" fill-opacity=\"1\" /><path clip-path=\"url(#clip870)\" d=\"M96.8715 1098.15 L113.191 1098.15 L113.191 1102.09 L91.2465 1102.09 L91.2465 1098.15 Q93.9086 1095.4 98.4919 1090.77 Q103.098 1086.12 104.279 1084.77 Q106.524 1082.25 107.404 1080.52 Q108.307 1078.76 108.307 1077.07 Q108.307 1074.31 106.362 1072.58 Q104.441 1070.84 101.339 1070.84 Q99.14 1070.84 96.6863 1071.6 Q94.2558 1072.37 91.478 1073.92 L91.478 1069.2 Q94.3021 1068.06 96.7558 1067.48 Q99.2095 1066.9 101.246 1066.9 Q106.617 1066.9 109.811 1069.59 Q113.006 1072.27 113.006 1076.77 Q113.006 1078.9 112.196 1080.82 Q111.408 1082.71 109.302 1085.31 Q108.723 1085.98 105.621 1089.2 Q102.52 1092.39 96.8715 1098.15 Z\" fill=\"#f8f8f2\" fill-rule=\"nonzero\" fill-opacity=\"1\" /><path clip-path=\"url(#clip870)\" d=\"M101.246 735.91 Q97.6354 735.91 95.8067 739.475 Q94.0012 743.016 94.0012 750.146 Q94.0012 757.252 95.8067 760.817 Q97.6354 764.359 101.246 764.359 Q104.881 764.359 106.686 760.817 Q108.515 757.252 108.515 750.146 Q108.515 743.016 106.686 739.475 Q104.881 735.91 101.246 735.91 M101.246 732.206 Q107.057 732.206 110.112 736.813 Q113.191 741.396 113.191 750.146 Q113.191 758.873 110.112 763.479 Q107.057 768.062 101.246 768.062 Q95.4363 768.062 92.3576 763.479 Q89.3021 758.873 89.3021 750.146 Q89.3021 741.396 92.3576 736.813 Q95.4363 732.206 101.246 732.206 Z\" fill=\"#f8f8f2\" fill-rule=\"nonzero\" fill-opacity=\"1\" /><path clip-path=\"url(#clip870)\" d=\"M96.8715 428.757 L113.191 428.757 L113.191 432.693 L91.2465 432.693 L91.2465 428.757 Q93.9086 426.003 98.4919 421.373 Q103.098 416.72 104.279 415.378 Q106.524 412.855 107.404 411.119 Q108.307 409.359 108.307 407.669 Q108.307 404.915 106.362 403.179 Q104.441 401.443 101.339 401.443 Q99.14 401.443 96.6863 402.207 Q94.2558 402.97 91.478 404.521 L91.478 399.799 Q94.3021 398.665 96.7558 398.086 Q99.2095 397.508 101.246 397.508 Q106.617 397.508 109.811 400.193 Q113.006 402.878 113.006 407.369 Q113.006 409.498 112.196 411.419 Q111.408 413.318 109.302 415.91 Q108.723 416.581 105.621 419.799 Q102.52 422.993 96.8715 428.757 Z\" fill=\"#f8f8f2\" fill-rule=\"nonzero\" fill-opacity=\"1\" /><path clip-path=\"url(#clip870)\" d=\"M103.608 67.508 L91.8021 85.957 L103.608 85.957 L103.608 67.508 M102.381 63.4339 L108.26 63.4339 L108.26 85.957 L113.191 85.957 L113.191 89.8458 L108.26 89.8458 L108.26 97.9939 L103.608 97.9939 L103.608 89.8458 L88.0058 89.8458 L88.0058 85.332 L102.381 63.4339 Z\" fill=\"#f8f8f2\" fill-rule=\"nonzero\" fill-opacity=\"1\" /><g clip-path=\"url(#clip872)\">\n",
       "<image width=\"1964\" height=\"1439\" xlink:href=\"data:image/png;base64,\n",
       "iVBORw0KGgoAAAANSUhEUgAAB6wAAAWfCAYAAAAf3Aj/AAAgAElEQVR4nOzbS3JbxxmG4e4DkJRk\n",
       "2eVcRlkPtAPSlTWG3EGwn4wSl5zoQhE4nYErA0+UOl02Pv/k86zgq67GweUlewMA+B049NuR3rDV\n",
       "cTz09AYAAHiOKn4/aM13hEtyRwDg+VjSAwAAAAAAAAB4mQRrAAAAAAAAACIEawAAAAAAAAAiBGsA\n",
       "AAAAAAAAIgRrAAAAAAAAACIEawAAAAAAAAAiBGsAAAAAAAAAIgRrAAAAAAAAACIEawAAAAAAAAAi\n",
       "BGsAAAAAAAAAIgRrAAAAAAAAACIEawAAAAAAAAAiBGsAAAAAAAAAIgRrAAAAAAAAACIEawAAAAAA\n",
       "AAAiBGsAAAAAAAAAIgRrAAAAAAAAACIEawAAAAAAAAAiBGsAAAAAAAAAIgRrAAAAAAAAACIEawAA\n",
       "AAAAAAAiBGsAAAAAAAAAIgRrAAAAAAAAACIEawAAAAAAAAAiBGsAAAAAAAAAIgRrAAAAAAAAACIE\n",
       "awAAAAAAAAAiBGsAAAAAAAAAIgRrAAAAAAAAACIEawAAAAAAAAAiBGsAAAAAAAAAIgRrAAAAAAAA\n",
       "ACIEawAAAAAAAAAienoAAADAr+HQb0d6w1bH8VDyO1nFs26ttdbrHfdxva83uhW+IwVVfY4AAAD8\n",
       "j/+wBgAAAAAAACBCsAYAAAAAAAAgQrAGAAAAAAAAIEKwBgAAAAAAACBCsAYAAAAAAAAgQrAGAAAA\n",
       "AAAAIEKwBgAAAAAAACBCsAYAAAAAAAAgQrAGAAAAAAAAIEKwBgAAAAAAACBCsAYAAAAAAAAgQrAG\n",
       "AAAAAAAAIEKwBgAAAAAAACBCsAYAAAAAAAAgQrAGAAAAAAAAIEKwBgAAAAAAACBCsAYAAAAAAAAg\n",
       "QrAGAAAAAAAAIEKwBgAAAAAAACBCsAYAAAAAAAAgQrAGAAAAAAAAIEKwBgAAAAAAACBCsAYAAAAA\n",
       "AAAgQrAGAAAAAAAAIEKwBgAAAAAAACBCsAYAAAAAAAAgQrAGAAAAAAAAIEKwBgAAAAAAACBCsAYA\n",
       "AAAAAAAgQrAGAAAAAAAAIEKwBgAAAAAAACBCsAYAAAAAAAAgYp8eAAAA8KvoPb1gu5EeMKniWbfW\n",
       "jut9zeEFHceDs+arDv225BPQ3b6cw3JX8454rwEA2Mx/WAMAAAAAAAAQIVgDAAAAAAAAECFYAwAA\n",
       "AAAAABAhWAMAAAAAAAAQIVgDAAAAAAAAECFYAwAAAAAAABAhWAMAAAAAAAAQIVgDAAAAAAAAECFY\n",
       "AwAAAAAAABAhWAMAAAAAAAAQIVgDAAAAAAAAECFYAwAAAAAAABAhWAMAAAAAAAAQIVgDAAAAAAAA\n",
       "ECFYAwAAAAAAABAhWAMAAAAAAAAQIVgDAAAAAAAAECFYAwAAAAAAABAhWAMAAAAAAAAQIVgDAAAA\n",
       "AAAAECFYAwAAAAAAABAhWAMAAAAAAAAQIVgDAAAAAAAAECFYAwAAAAAAABAhWAMAAAAAAAAQIVgD\n",
       "AAAAAAAAECFYAwAAAAAAABAhWAMAAAAAAAAQIVgDAAAAAAAAECFYAwAAAAAAABAhWAMAAAAAAAAQ\n",
       "IVgDAAAAAAAAECFYAwAAAAAAABDR0wMAgF/Xod+O9IaX4jgefJbiq6q+Ht3tyzksdyXvSBs1Z/el\n",
       "3t9sj3VNT5jTaz5Gjut9zeEFef5dTtX3dXfkcqreEQDg+aj3bR0AAAAAAACAZ0GwBgAAAAAAACBC\n",
       "sAYAAAAAAAAgQrAGAAAAAAAAIEKwBgAAAAAAACBCsAYAAAAAAAAgQrAGAAAAAAAAIEKwBgAAAAAA\n",
       "ACBCsAYAAAAAAAAgQrAGAAAAAAAAIEKwBgAAAAAAACBCsAYAAAAAAAAgQrAGAAAAAAAAIEKwBgAA\n",
       "AAAAACBCsAYAAAAAAAAgQrAGAAAAAAAAIEKwBgAAAAAAACBCsAYAAAAAAAAgQrAGAAAAAAAAIEKw\n",
       "BgAAAAAAACBCsAYAAAAAAAAgQrAGAAAAAAAAIEKwBgAAAAAAACBCsAYAAAAAAAAgQrAGAAAAAAAA\n",
       "IEKwBgAAAAAAACBCsAYAAAAAAAAgQrAGAAAAAAAAIEKwBgAAAAAAACBCsAYAAAAAAAAgQrAGAAAA\n",
       "AAAAIEKwBgAAAAAAACBinx4AANBaa8fx0NMbtjr025HeMKPiWbfW2rvdD+XOe4xyk39WdDb8P2Nd\n",
       "0xO26yUf2VzQYbnz1Oaryn5mXe9LPgCrnjcAQJL/sAYAAAAAAAAgQrAGAAAAAAAAIEKwBgAAAAAA\n",
       "ACBCsAYAAAAAAAAgQrAGAAAAAAAAIEKwBgAAAAAAACBCsAYAAAAAAAAgQrAGAAAAAAAAIEKwBgAA\n",
       "AAAAACBCsAYAAAAAAAAgQrAGAAAAAAAAIEKwBgAAAAAAACBCsAYAAAAAAAAgQrAGAAAAAAAAIEKw\n",
       "BgAAAAAAACBCsAYAAAAAAAAgQrAGAAAAAAAAIEKwBgAAAAAAACBCsAYAAAAAAAAgQrAGAAAAAAAA\n",
       "IEKwBgAAAAAAACBCsAYAAAAAAAAgQrAGAAAAAAAAIEKwBgAAAAAAACBCsAYAAAAAAAAgQrAGAAAA\n",
       "AAAAIEKwBgAAAAAAACBCsAYAAAAAAAAgQrAGAAAAAAAAIEKwBgAAAAAAACBCsAYAAAAAAAAgQrAG\n",
       "AAAAAAAAIEKwBgAAAAAAACCipwcAwO/Vod+O9IYZx/FQ8v294nmXPevlrtxZc1m9l7zarfV6f487\n",
       "1nN6wpSyd2QpeEfONe9IWaPeW2Tf7dIT5hQ8ay5rrGt6wotR9ntNwe+QrdU9bwD4LdX7tg4AAAAA\n",
       "AADAsyBYAwAAAAAAABAhWAMAAAAAAAAQIVgDAAAAAAAAECFYAwAAAAAAABAhWAMAAAAAAAAQIVgD\n",
       "AAAAAAAAECFYAwAAAAAAABAhWAMAAAAAAAAQIVgDAAAAAAAAECFYAwAAAAAAABAhWAMAAAAAAAAQ\n",
       "IVgDAAAAAAAAECFYAwAAAAAAABAhWAMAAAAAAAAQIVgDAAAAAAAAECFYAwAAAAAAABAhWAMAAAAA\n",
       "AAAQIVgDAAAAAAAAECFYAwAAAAAAABAhWAMAAAAAAAAQIVgDAAAAAAAAECFYAwAAAAAAABAhWAMA\n",
       "AAAAAAAQIVgDAAAAAAAAECFYAwAAAAAAABAhWAMAAAAAAAAQIVgDAAAAAAAAECFYAwAAAAAAABAh\n",
       "WAMAAAAAAAAQIVgDAAAAAAAAECFYAwAAAAAAABDR0wMAUg79dqQ3zDiOB89uvsrdvpx3ux9KnvUY\n",
       "JWeX1JddesKUsZ7TE6b0/T49YTsvxwurd+B9V/M5UtVY692RNtb0ginjXPS9ppf7yFr2s1/Fs26t\n",
       "7nmXVPSsK373reqw3JW8JMf13h0BXhz/YQ0AAAAAAABAhGANAAAAAAAAQIRgDQAAAAAAAECEYA0A\n",
       "AAAAAABAhGANAAAAAAAAQIRgDQAAAAAAAECEYA0AAAAAAABAhGANAAAAAAAAQIRgDQAAAAAAAECE\n",
       "YA0AAAAAAABAhGANAAAAAAAAQIRgDQAAAAAAAECEYA0AAAAAAABAhGANAAAAAAAAQIRgDQAAAAAA\n",
       "AECEYA0AAAAAAABAhGANAAAAAAAAQIRgDQAAAAAAAECEYA0AAAAAAABAhGANAAAAAAAAQIRgDQAA\n",
       "AAAAAECEYA0AAAAAAABAhGANAAAAAAAAQIRgDQAAAAAAAECEYA0AAAAAAABAhGANAAAAAAAAQIRg\n",
       "DQAAAAAAAECEYA0AAAAAAABAhGANAAAAAAAAQIRgDQAAAAAAAECEYA0AAAAAAABAhGANAAAAAAAA\n",
       "QIRgDQAAAAAAAEBETw8AfunQb0d6w4zjePA84dmp+nosq9d7jPTdLj1hjpt9OWNNL5jSr67TE+bU\n",
       "e4zUVfCZ3Vprfan3N9vjdEpPmDJO5/SEOSXvds039nGueUf6UvHzX8070kbR3VzMcEcup+hZ+70S\n",
       "oI5639YBAAAAAAAAeBYEawAAAAAAAAAiBGsAAAAAAAAAIgRrAAAAAAAAACIEawAAAAAAAAAiBGsA\n",
       "AAAAAAAAIgRrAAAAAAAAACIEawAAAAAAAAAiBGsAAAAAAAAAIgRrAAAAAAAAACIEawAAAAAAAAAi\n",
       "BGsAAAAAAAAAIgRrAAAAAAAAACIEawAAAAAAAAAiBGsAAAAAAAAAIgRrAAAAAAAAACIEawAAAAAA\n",
       "AAAiBGsAAAAAAAAAIgRrAAAAAAAAACIEawAAAAAAAAAiBGsAAAAAAAAAIgRrAAAAAAAAACIEawAA\n",
       "AAAAAAAiBGsAAAAAAAAAIgRrAAAAAAAAACIEawAAAAAAAAAiBGsAAAAAAAAAIgRrAAAAAAAAACIE\n",
       "awAAAAAAAAAiBGsAAAAAAAAAIgRrAAAAAAAAACIEawAAAAAAAAAienoA8Dwc+u1Ib9jqOB48Ay/o\n",
       "sNyVuyO917wifz//reTwd1d/LXdH2rqmF8wperf7bp+esF3No25tt0svmNKXen+P29+8SU+YMh4/\n",
       "pyfMGfXealqvd69ba61fXaUnTFk/fkpP2KwvVd9sahqnU3rCdkU/+7Vzzc/a43xOT9hsrPU2V3Zc\n",
       "78u9KCv+ptNaq/nZr/nNEniZan7zBQAAAAAAAKA8wRoAAAAAAACACMEaAAAAAAAAgAjBGgAAAAAA\n",
       "AIAIwRoAAAAAAACACMEaAAAAAAAAgAjBGgAAAAAAAIAIwRoAAAAAAACACMEaAAAAAAAAgAjBGgAA\n",
       "AAAAAIAIwRoAAAAAAACACMEaAAAAAAAAgAjBGgAAAAAAAIAIwRoAAAAAAACACMEaAAAAAAAAgAjB\n",
       "GgAAAAAAAIAIwRoAAAAAAACACMEaAAAAAAAAgAjBGgAAAAAAAIAIwRoAAAAAAACACMEaAAAAAAAA\n",
       "gAjBGgAAAAAAAIAIwRoAAAAAAACACMEaAAAAAAAAgAjBGgAAAAAAAIAIwRoAAAAAAACACMEaAAAA\n",
       "AAAAgAjBGgAAAAAAAIAIwRoAAAAAAACACMEaAAAAAAAAgAjBGgAAAAAAAIAIwRoAAAAAAACACMEa\n",
       "AAAAAAAAgIieHgC/lcNyN9IbXpLjeu95wrPzbvdDzefIsksvmDLOp/SEzfpun54wpV8V3b0reLcr\n",
       "bi6s72ve7ZKqfvIbBd/ab27SC+ZUPOvW2nh8TE/YrPeaL8ix1rwj7VTvM+t4/JKeMGdf83PUeKp3\n",
       "R9pY0wumjPM5PWFKX+r9D1nVs+ZyjuOh5gcS4Hej3rsjAAAAAAAAAM+CYA0AAAAAAABAhGANAAAA\n",
       "AAAAQIRgDQAAAAAAAECEYA0AAAAAAABAhGANAAAAAAAAQIRgDQAAAAAAAECEYA0AAAAAAABAhGAN\n",
       "AAAAAAAAQIRgDQAAAAAAAECEYA0AAAAAAABAhGANAAAAAAAAQIRgDQAAAAAAAECEYA0AAAAAAABA\n",
       "hGANAAAAAAAAQIRgDQAAAAAAAECEYA0AAAAAAABAhGANAAAAAAAAQIRgDQAAAAAAAECEYA0AAAAA\n",
       "AABAhGANAAAAAAAAQIRgDQAAAAAAAECEYA0AAAAAAABAhGANAAAAAAAAQIRgDQAAAAAAAECEYA0A\n",
       "AAAAAABAhGANAAAAAAAAQIRgDQAAAAAAAECEYA0AAAAAAABAhGANAAAAAAAAQIRgDQAAAAAAAECE\n",
       "YA0AAAAAAABAxD49AH4rx/W+pze8JId+O9IbtjqOh5J35LDclTtrLmw9pxdMWV6/SU/YrC8lHyNt\n",
       "nGvekXZ9lV6wWV+K/n3oKPpW8+Z1esF2N/XudWuttaJXpF0V/Ar88VN6wZyrmne7V3yOFH1m90+f\n",
       "0xMm3aQHbFf0jrTdLr1gynh6Sk/YrC81z7qta3rBpJrfI0vqRc+66nO7oIq/abdW93dt+Jqiv6AB\n",
       "AAAAAAAAUJ1gDQAAAAAAAECEYA0AAAAAAABAhGANAAAAAAAAQIRgDQAAAAAAAECEYA0AAAAAAABA\n",
       "hGANAAAAAAAAQIRgDQAAAAAAAECEYA0AAAAAAABAhGANAAAAAAAAQIRgDQAAAAAAAECEYA0AAAAA\n",
       "AABAhGANAAAAAAAAQIRgDQAAAAAAAECEYA0AAAAAAABAhGANAAAAAAAAQIRgDQAAAAAAAECEYA0A\n",
       "AAAAAABAhGANAAAAAAAAQIRgDQAAAAAAAECEYA0AAAAAAABAhGANAAAAAAAAQIRgDQAAAAAAAECE\n",
       "YA0AAAAAAABAhGANAAAAAAAAQIRgDQAAAAAAAECEYA0AAAAAAABAhGANAAAAAAAAQIRgDQAAAAAA\n",
       "AECEYA0AAAAAAABAhGANAAAAAAAAQIRgDQAAAAAAAECEYA0AAAAAAABARE8PoIZDvx3pDVsdx4P7\n",
       "zVcdlrty97qy3gu+JCtubq21pebfoy3X1+kJm/VXN+kJc3b79II553N6wXbfvU0veFHWP9Q7735e\n",
       "0xOmjF3N95pxtUtP2G7U/MjavxR8Zread2R5PKUnzDnVvCP942N6wnYfPqQXvCjj0+f0hM3G01N6\n",
       "wpRR9DlS0lLz95Gqd7vi79oV+0FrNc8anquavzIAAAAAAAAAUJ5gDQAAAAAAAECEYA0AAAAAAABA\n",
       "hGANAAAAAAAAQIRgDQAAAAAAAECEYA0AAAAAAABAhGANAAAAAAAAQIRgDQAAAAAAAECEYA0AAAAA\n",
       "AABAhGANAAAAAAAAQIRgDQAAAAAAAECEYA0AAAAAAABAhGANAAAAAAAAQIRgDQAAAAAAAECEYA0A\n",
       "AAAAAABAhGANAAAAAAAAQIRgDQAAAAAAAECEYA0AAAAAAABAhGANAAAAAAAAQIRgDQAAAAAAAECE\n",
       "YA0AAAAAAABAhGANAAAAAAAAQIRgDQAAAAAAAECEYA0AAAAAAABAhGANAAAAAAAAQIRgDQAAAAAA\n",
       "AECEYA0AAAAAAABAhGANAAAAAAAAQIRgDQAAAAAAAECEYA0AAAAAAABAhGANAAAAAAAAQIRgDQAA\n",
       "AAAAAEBETw+ghkO/HekN8KvrNR+Bvejukpaaf9e13NykJ8y5ukov2KxfX6cnzLnapxfM2dV7TY7v\n",
       "vklPmHL6/k16wpSxK/geWXBya609fVvzObIu9Q78+qen9IQpT29r3pHdU72vvv1cb3NrrS1Pa3rC\n",
       "lP2/v6QnbLa8/5CeMOf9f9IL5tzU+44w3v+UnjBlnE7pCS/GeHxMT5gyRs33yIq//VU96+N6X++w\n",
       "i6ramI7jwR25kHq/+gEAAAAAAADwLAjWAAAAAAAAAEQI1gAAAAAAAABECNYAAAAAAAAARAjWAAAA\n",
       "AAAAAEQI1gAAAAAAAABECNYAAAAAAAAARAjWAAAAAAAAAEQI1gAAAAAAAABECNYAAAAAAAAARAjW\n",
       "AAAAAAAAAEQI1gAAAAAAAABECNYAAAAAAAAARAjWAAAAAAAAAEQI1gAAAAAAAABECNYAAAAAAAAA\n",
       "RAjWAAAAAAAAAEQI1gAAAAAAAABECNYAAAAAAAAARAjWAAAAAAAAAEQI1gAAAAAAAABECNYAAAAA\n",
       "AAAARAjWAAAAAAAAAEQI1gAAAAAAAABECNYAAAAAAAAARAjWAAAAAAAAAEQI1gAAAAAAAABECNYA\n",
       "AAAAAAAARAjWAAAAAAAAAEQI1gAAAAAAAABECNYAAAAAAAAARAjWAAAAAAAAAEQI1gAAAAAAAABE\n",
       "9PQA4JcO/XakN0zpHid8Xd/t0xM267tdesKLsvzx+/SE7a6v0gvm3FynF0wZV/WeI49/+TY9YUpf\n",
       "a34cOb2u99z+9Od6m1trbRT96Hd+VW/4+Sa9YM6rf9V8jvRzesF2r348pSdMWb7UvCP7j/XOu3+p\n",
       "t7m11nbvP6YnzDmv6QWbjX/+mJ4wZTw9pSfMGfWef+Op5nOkjXqvx9ZazTuyFj3rqr9pF7wjx/FQ\n",
       "9LC5FP9hDQAAAAAAAECEYA0AAAAAAABAhGANAAAAAAAAQIRgDQAAAAAAAECEYA0AAAAAAABAhGAN\n",
       "AAAAAAAAQIRgDQAAAAAAAECEYA0AAAAAAABAhGANAAAAAAAAQIRgDQAAAAAAAECEYA0AAAAAAABA\n",
       "hGANAAAAAAAAQIRgDQAAAAAAAECEYA0AAAAAAABAhGANAAAAAAAAQIRgDQAAAAAAAECEYA0AAAAA\n",
       "AABAhGANAAAAAAAAQIRgDQAAAAAAAECEYA0AAAAAAABAhGANAAAAAAAAQIRgDQAAAAAAAECEYA0A\n",
       "AAAAAABAhGANAAAAAAAAQIRgDQAAAAAAAECEYA0AAAAAAABAhGANAAAAAAAAQIRgDQAAAAAAAECE\n",
       "YA0AAAAAAABAhGANAAAAAAAAQIRgDQAAAAAAAECEYA0AAAAAAABAxD49gBoOy91Ib9jquN739IYp\n",
       "vebsNspdkbJnvdzcpCdMGec1PWG7ive6tdbfvE5PmFPxNXlznV4wZX1T8zly/q7e7vWq5t+Hnl7X\n",
       "3P3pT/V2P71NL5gzdukFc06v0gsmFHx7/FnN4aPg7LHU/Gnn9KrgYbfW3v6j3nvN9U81z3rsv01P\n",
       "mLL/8UN6wmb97TfpCVP642N6wpT14+f0hO1qPkZa60U/tK7n9ILN+lLv/bG11kbR3/7gOar5FAEA\n",
       "AAAAAACgPMEaAAAAAAAAgAjBGgAAAAAAAIAIwRoAAAAAAACACMEaAAAAAAAAgAjBGgAAAAAAAIAI\n",
       "wRoAAAAAAACACMEaAAAAAAAAgAjBGgAAAAAAAIAIwRoAAAAAAACACMEaAAAAAAAAgAjBGgAAAAAA\n",
       "AIAIwRoAAAAAAACACMEaAAAAAAAAgAjBGgAAAAAAAIAIwRoAAAAAAACACMEaAAAAAAAAgAjBGgAA\n",
       "AAAAAIAIwRoAAAAAAACACMEaAAAAAAAAgAjBGgAAAAAAAIAIwRoAAAAAAACACMEaAAAAAAAAgAjB\n",
       "GgAAAAAAAIAIwRoAAAAAAACACMEaAAAAAAAAgAjBGgAAAAAAAIAIwRoAAAAAAACACMEaAAAA4L/s\n",
       "2smOXdd5huG1TlcNWaSoxlZkBfAgiOFMDCRAkAsoI/OA9JXkqizegWtqIOMkgIMEthILjmxaFsWu\n",
       "WHW6nUFGmtjYCxA//+LzXMGHjX129x4AAAAiBGsAAAAAAAAAIgRrAAAAAAAAACIEawAAAAAAAAAi\n",
       "enoA8HWX/eGU3vC26Iui/9kpuruvVukJs1Xc3Fpr/e6d9IQxZ6fpBfNt1ukFQ3bv301PGLJ9Z5Oe\n",
       "MNv+Ts1r9qvv1tx9+yC9YL79eXrBmMUuvWDMcV3vUXt/cUxPGLJ8VfM6stjX+0yyfpFeMKYf0gvG\n",
       "nD+pdx258781L9onv7tOTxizqHcdWXzxVXrCmG3Nc3u6uUlPmG3a7dMThky32/SEIdOx4E1yqnd/\n",
       "bK211utds1trNY930WN9dfyk5PCKnanmGyQAAAAAAAAA5QnWAAAAAAAAAEQI1gAAAAAAAABECNYA\n",
       "AAAAAAAARAjWAAAAAAAAAEQI1gAAAAAAAABECNYAAAAAAAAARAjWAAAAAAAAAEQI1gAAAAAAAABE\n",
       "CNYAAAAAAAAARAjWAAAAAAAAAEQI1gAAAAAAAABECNYAAAAAAAAARAjWAAAAAAAAAEQI1gAAAAAA\n",
       "AABECNYAAAAAAAAARAjWAAAAAAAAAEQI1gAAAAAAAABECNYAAAAAAAAARAjWAAAAAAAAAEQI1gAA\n",
       "AAAAAABECNYAAAAAAAAARAjWAAAAAAAAAEQI1gAAAAAAAABECNYAAAAAAAAARAjWAAAAAAAAAEQI\n",
       "1gAAAAAAAABECNYAAAAAAAAARAjWAAAAAAAAAEQI1gAAAAAAAABECNYAAAAAAAAARAjWAAAAAAAA\n",
       "AEQI1gAAAAAAAABErNIDgG+Hvij4/5decHNlFc+RZcHNrbXWe3rBmHW9x5LDvbP0hCG7++v0hCE3\n",
       "7y7TE2a7fafm73F3kV4w5vaDY3rCbNOdfXrCkLP7N+kJQ/qx3m/yb777JD1hyGfPHqQnDHn6xd30\n",
       "hNl2H6UXjDn95SY9Ycirj+pdR9av6j1nt9Za63fSC4Zsnt6mJ8y3qfl7bLe79IIx05Re8Bapeaz7\n",
       "ot67b5vqvYu11tpU9Pd4NT2u90BS81CXVfEcKfolHgAAAAAAAIDqBGsAAAAAAAAAIgRrAAAAAAAA\n",
       "ACIEawAAAAAAAAAiBGsAAAAAAAAAIgRrAAAAAAAAACIEawAAAAAAAAAiBGsAAAAAAAAAIgRrAAAA\n",
       "AAAAACIEawAAAAAAAAAiBGsAAAAAAAAAIgRrAAAAAAAAACIEawAAAAAAAAAiBGsAAAAAAAAAIgRr\n",
       "AAAAAAAAACIEawAAAAAAAAAiBGsAAAAAAAAAIgRrAAAAAAAAACIEawAAAAAAAAAiBGsAAAAAAAAA\n",
       "IgRrAAAAAAAAACIEawAAAAAAAAAiBGsAAAAAAAAAIgRrAAAAAAAAACIEawAAAAAAAAAiBGsAAAAA\n",
       "AAAAIgRrAAAAAAAAACIEawAAAAAAAAAiBGsAAAAAAAAAIgRrAAAAAAAAACIEawAAAAAAAAAiBGsA\n",
       "AAAAAAAAIlbpAfBNuewPp/SGIb2nFwyZpnqHu+ihbn1V89Ldl8v0hNn65iQ9YUzBY91aa4f75+kJ\n",
       "8y1qXkgOJzX/s3j7oN7x3p+mF4y5+eCYnjCkP9imJ8z2d9//dXrCkMNU8zoyTfWuI3//4NP0hCF3\n",
       "VvV+j6219uT8Oj1hts+fXaQnDHn9Qc33ms2X9a5/t/fqXftaa60f6x3r1lo7+aLec9R0sk5PGNL7\n",
       "3fSEIb3ie+T16/SCMYdDesGQ47bec1Rf1LxmXx1+WvAH2drl4lG5j/FXx09KHmvenJpXEQAAAAAA\n",
       "AADKE6wBAAAAAAAAiBCsAQAAAAAAAIgQrAEAAAAAAACIEKwBAAAAAAAAiBCsAQAAAAAAAIgQrAEA\n",
       "AAAAAACIEKwBAAAAAAAAiBCsAQAAAAAAAIgQrAEAAAAAAACIEKwBAAAAAAAAiBCsAQAAAAAAAIgQ\n",
       "rAEAAAAAAACIEKwBAAAAAAAAiBCsAQAAAAAAAIgQrAEAAAAAAACIEKwBAAAAAAAAiBCsAQAAAAAA\n",
       "AIgQrAEAAAAAAACIEKwBAAAAAAAAiBCsAZb2CmcAACAASURBVAAAAAAAAIgQrAEAAAAAAACIEKwB\n",
       "AAAAAAAAiBCsAQAAAAAAAIgQrAEAAAAAAACIEKwBAAAAAAAAiBCsAQAAAAAAAIgQrAEAAAAAAACI\n",
       "EKwBAAAAAAAAiBCsAQAAAAAAAIgQrAEAAAAAAACIEKwBAAAAAAAAiBCsAQAAAAAAAIhYXfaHU3rE\n",
       "iKvpcU9v4M9b1XPkx4uflPxNtkXB/78cj+kFQ6b9Pj1hSD/ZpCfMt16lFwyZHlykJwxZbOud27ff\n",
       "uZOeMOS4LHmLbMdlesF8t+/XvK0fLg7pCUM263q7v3P6Ij1hyI/ufpaeMOS/b95PT5jtHy/+PT1h\n",
       "yDur6/SEIf+2/jg9YbZX24LP2a21/YcFb+yttcN1vee/m3drPvst9gW/M7TWbt87TU+Y7fTzeu9i\n",
       "rbXWpprP2r6hvUEVj3VrbXFa7zoy3d6mJwy5XDyqeSEpeP3TIvlTal6xAQAAAAAAAChPsAYAAAAA\n",
       "AAAgQrAGAAAAAAAAIEKwBgAAAAAAACBCsAYAAAAAAAAgQrAGAAAAAAAAIEKwBgAAAAAAACBCsAYA\n",
       "AAAAAAAgQrAGAAAAAAAAIEKwBgAAAAAAACBCsAYAAAAAAAAgQrAGAAAAAAAAIEKwBgAAAAAAACBC\n",
       "sAYAAAAAAAAgQrAGAAAAAAAAIEKwBgAAAAAAACBCsAYAAAAAAAAgQrAGAAAAAAAAIEKwBgAAAAAA\n",
       "ACBCsAYAAAAAAAAgQrAGAAAAAAAAIEKwBgAAAAAAACBCsAYAAAAAAAAgQrAGAAAAAAAAIEKwBgAA\n",
       "AAAAACBCsAYAAAAAAAAgQrAGAAAAAAAAIEKwBgAAAAAAACBCsAYAAAAAAAAgQrAGAAAAAAAAIEKw\n",
       "BgAAAAAAACBCsAYAAAAAAAAgYnU1Pe7pESMu+8MpvWFE2eO9eFTueF8dPyl5rKfjMT1hSO/1/v/S\n",
       "V+v0hCF9vUpPGFTwJ9kLbm6t9eev0hOGHN+/n54wX7m74/871rz8ldy9Py96X1/X3P2j7/0mPWG2\n",
       "F7vT9IQhx6nmPfKf3/+X9ITZlkX/Z359+ll6wpDTvktPeGtcPf9BesKQ4ya9YL6Km1trbVn057jc\n",
       "1nuOmtbL9IQhfVVzd6v47W9R83mkHYu+tO/36QWzTVPRY11U1c4Ef0zROw0AAAAAAAAA1QnWAAAA\n",
       "AAAAAEQI1gAAAAAAAABECNYAAAAAAAAARAjWAAAAAAAAAEQI1gAAAAAAAABECNYAAAAAAAAARAjW\n",
       "AAAAAAAAAEQI1gAAAAAAAABECNYAAAAAAAAARAjWAAAAAAAAAEQI1gAAAAAAAABECNYAAAAAAAAA\n",
       "RAjWAAAAAAAAAEQI1gAAAAAAAABECNYAAAAAAAAARAjWAAAAAAAAAEQI1gAAAAAAAABECNYAAAAA\n",
       "AAAARAjWAAAAAAAAAEQI1gAAAAAAAABECNYAAAAAAAAARAjWAAAAAAAAAEQI1gAAAAAAAABECNYA\n",
       "AAAAAAAARAjWAAAAAAAAAEQI1gAAAAAAAABECNYAAAAAAAAARAjWAAAAAAAAAEQI1gAAAAAAAABE\n",
       "CNYAAAAAAAAARAjWAAAAAAAAAEQI1gAAAAAAAABErNIDRl1Nj3t6w9vk6viJ480fNx3TC2abDukF\n",
       "g5Y1/2tU8iKy26UXDJneuUhPGDIVPEkOpzV/j9t7NXdPBWevP7hJTxhy5/w2PWHIX54/TU+Y7WJZ\n",
       "8xz5p7v/mZ4wZFHwP9v7Vu85u7XW/nZT8znqvwpe/la95jny8Xv1rtmttfar5yfpCbP139f8/Le7\n",
       "U/AFobW2vb9OT5ht+XKbnjBmmtILxiyX6QXz1fw5tl509/FQ76NlL3qwp2PN56jLxaN6F8Ci12wt\n",
       "8s2p97YOAAAAAAAAwLeCYA0AAAAAAABAhGANAAAAAAAAQIRgDQAAAAAAAECEYA0AAAAAAABAhGAN\n",
       "AAAAAAAAQIRgDQAAAAAAAECEYA0AAAAAAABAhGANAAAAAAAAQIRgDQAAAAAAAECEYA0AAAAAAABA\n",
       "hGANAAAAAAAAQIRgDQAAAAAAAECEYA0AAAAAAABAhGANAAAAAAAAQIRgDQAAAAAAAECEYA0AAAAA\n",
       "AABAhGANAAAAAAAAQIRgDQAAAAAAAECEYA0AAAAAAABAhGANAAAAAAAAQIRgDQAAAAAAAECEYA0A\n",
       "AAAAAABAhGANAAAAAAAAQIRgDQAAAAAAAECEYA0AAAAAAABAhGANAAAAAAAAQIRgDQAAAAAAAECE\n",
       "YA0AAAAAAABAhGANAAAAAAAAQIRgDQAAAAAAAECEYA0AAAAAAABAxCo9AL4pl4tHU3rDW6X39ILZ\n",
       "+nKZnjCk6u6STjbpBWOmmpe/fqy3e39e879/q1f1jnVrrR0/rHev2b6oeR354P7L9IQh76/r7f54\n",
       "82V6wpAvjvV+j6219sP1eXrCbL8/1DuvW2vtl/tjesKQd5av0hNm673mff1mv05PGFPwcE81L9nt\n",
       "WPTVtx/qnSTTuujBLvru2xYFf5S95rvvdNimJ4wpeI5M+6K/R+DPRs07DQAAAAAAAADlCdYAAAAA\n",
       "AAAARAjWAAAAAAAAAEQI1gAAAAAAAABECNYAAAAAAAAARAjWAAAAAAAAAEQI1gAAAAAAAABECNYA\n",
       "AAAAAAAARAjWAAAAAAAAAEQI1gAAAAAAAABECNYAAAAAAAAARAjWAAAAAAAAAEQI1gAAAAAAAABE\n",
       "CNYAAAAAAAAARAjWAAAAAAAAAEQI1gAAAAAAAABECNYAAAAAAAAARAjWAAAAAAAAAEQI1gAAAAAA\n",
       "AABECNYAAAAAAAAARAjWAAAAAAAAAEQI1gAAAAAAAABECNYAAAAAAAAARAjWAAAAAAAAAEQI1gAA\n",
       "AAAAAABECNYAAAAAAAAARAjWAAAAAAAAAEQI1gAAAAAAAABECNYAAAAAAAAARAjWAAAAAAAAAEQI\n",
       "1gAAAAAAAABECNYAAAAAAAAARAjWAAAAAAAAAESs0gOo4bI/nNIbZpvqTS6t1/v/y7TfpSeM6T29\n",
       "YEiv+Jt8fZteMKTfPU9PGLM7pBfMdva7bXrCkKc/OE1PGNL36QXz9V29+2NrrT356m56wpD/uP9h\n",
       "esJs333wLD1hyJPDnfSEIR8vX6cnzPbpvuY1+9mx5u6fv/jr9ITZvtqdpScM+fx/3ktPGNKP9d7H\n",
       "Ni/SC8Ysir6y70/rPf+dpAeMOhb8ztBaa7uCLza8WQVP7V70e2Vb1Ltmt9badKj3De1qelz0JOFN\n",
       "qflrBAAAAAAAAKA8wRoAAAAAAACACMEaAAAAAAAAgAjBGgAAAAAAAIAIwRoAAAAAAACACMEaAAAA\n",
       "AAAAgAjBGgAAAAAAAIAIwRoAAAAAAACACMEaAAAAAAAAgAjBGgAAAAAAAIAIwRoAAAAAAACACMEa\n",
       "AAAAAAAAgAjBGgAAAAAAAIAIwRoAAAAAAACACMEaAAAAAAAAgAjBGgAAAAAAAIAIwRoAAAAAAACA\n",
       "CMEaAAAAAAAAgAjBGgAAAAAAAIAIwRoAAAAAAACACMEaAAAAAAAAgAjBGgAAAAAAAIAIwRoAAAAA\n",
       "AACACMEaAAAAAAAAgAjBGgAAAAAAAIAIwRoAAAAAAACACMEaAAAAAAAAgAjBGgAAAAAAAIAIwRoA\n",
       "AAAAAACACMEaAAAAAAAAgAjBGgAAAAAAAIAIwRoAAAAAAACAiFV6AHxTrqbHPb1hxI+XP5nSG4ZM\n",
       "NWdXNB2P6QlD+uYsPWG+k016wZhXN+kFQ6b37qUnvDWWt1Wv2fVu7atny/SEIceLmv9r/dff/0V6\n",
       "wmxPt+fpCUP+4d1fpScM+Wz3h/SE2f6wv5ueMOR7m6fpCUN+8fzD9ITZPr5T81j38316wpDNp6fp\n",
       "CbNtiz5mnz+p+e67eXlIT5ht+dXr9IQh02adnjCkP6t3jlQ1HWpeRwq++rbWK46u+521osvFo5of\n",
       "o4p2j4p9rOaXKAAAAAAAAADKE6wBAAAAAAAAiBCsAQAAAAAAAIgQrAEAAAAAAACIEKwBAAAAAAAA\n",
       "iBCsAQAAAAAAAIgQrAEAAAAAAACIEKwBAAAAAAAAiBCsAQAAAAAAAIgQrAEAAAAAAACIEKwBAAAA\n",
       "AAAAiBCsAQAAAAAAAIgQrAEAAAAAAACIEKwBAAAAAAAAiBCsAQAAAAAAAIgQrAEAAAAAAACIEKwB\n",
       "AAAAAAAAiBCsAQAAAAAAAIgQrAEAAAAAAACIEKwBAAAAAAAAiBCsAQAAAAAAAIgQrAEAAAAAAACI\n",
       "EKwBAAAAAAAAiBCsAQAAAAAAAIgQrAEAAAAAAACIEKwBAAAAAAAAiBCsAQAAAAAAAIgQrAEAAAAA\n",
       "AACIEKwBAAAAAAAAiBCsAQAAAAAAAIgQrAEAAAAAAACIEKwBAAAAAAAAiBCsAQAAAAAAAIhYpQdQ\n",
       "w9X0uKc3zHXZH07pDSOm4zE9YUyvd7j7cpmeMKSvau6ebm7SE+Y7HtILhvR7F+kJQ/q+3vHuU71r\n",
       "X2utnTyvea85PKl3/VsWvPS11tr1yUl6wpBnh3r/x311XfNYf3j2PD1hyPc3X6QnzPab7YP0hCE/\n",
       "f/pX6QlDrvfr9ITZfvaLH6YnDDlu693XW2utFXz8O/9tesGYXu/1oLXW2ubpbXrCbNOm5ifixfNX\n",
       "6QljFvWeWUt+02mFv6Ht9ukJb4+i33Uq9pqKz1C8WfXujgAAAAAAAAB8KwjWAAAAAAAAAEQI1gAA\n",
       "AAAAAABECNYAAAAAAAAARAjWAAAAAAAAAEQI1gAAAAAAAABECNYAAAAAAAAARAjWAAAAAAAAAEQI\n",
       "1gAAAAAAAABECNYAAAAAAAAARAjWAAAAAAAAAEQI1gAAAAAAAABECNYAAAAAAAAARAjWAAAAAAAA\n",
       "AEQI1gAAAAAAAABECNYAAAAAAAAARAjWAAAAAAAAAEQI1gAAAAAAAABECNYAAAAAAAAARAjWAAAA\n",
       "AAAAAEQI1gAAAAAAAABECNYAAAAAAAAARAjWAAAAAAAAAEQI1gAAAAAAAABECNYAAAAAAAAARAjW\n",
       "AAAAAAAAAEQI1gAAAAAAAABECNYAAAAAAAAARAjWAAAAAAAAAEQI1gAAAAAAAABECNYAAAAAAAAA\n",
       "RAjWAAAAAAAAAET09AD4plz2h1N6w1ul17uc9MUyPWFIXxXdfbJJT5iv6jny4H56wpj1Kr1gtsO9\n",
       "s/SEIfuLgr/H1trr79Tb/fKjmv8P3Ra9jNx+uE9PmG15b5eeMGQq+qR9dr5NT5htt6v5PHJ6UvPc\n",
       "fv7bi/SE+fb13sVaa+3s85rn9vpFesF8p09rXrTvflbvmt1aa6uX9XYvX96kJ4w5HNMLhkxffJme\n",
       "MN/+kF4w5PjqOj1hzFTv3P7Z4aclH0g0BP6Uq+lxyXO7oppf0AAAAAAAAAAoT7AGAAAAAAAAIEKw\n",
       "BgAAAAAAACBCsAYAAAAAAAAgQrAGAAAAAAAAIEKwBgAAAAAAACBCsAYAAAAAAAAgQrAGAAAAAAAA\n",
       "IEKwBgAAAAAAACBCsAYAAAAAAAAgQrAGAAAAAAAAIEKwBgAAAAAAACBCsAYAAAAAAAAgQrAGAAAA\n",
       "AAAAIEKwBgAAAAAAACBCsAYAAAAAAAAgQrAGAAAAAAAAIEKwBgAAAAAAACBCsAYAAAAAAAAgQrAG\n",
       "AAAAAAAAIEKwBgAAAAAAACBCsAYAAAAAAAAgQrAGAAAAAAAAIEKwBgAAAAAAACBCsAYAAAAAAAAg\n",
       "QrAGAAAAAAAAIEKwBgAAAAAAACBCsAYAAAAAAAAgQrAGAAAAAAAAIEKwBgAAAAAAACBCsAYAAAAA\n",
       "AAAgQrAGAAAAAAAAIEKwBgAAAAAAACCipwcAX3fZH07pDSOupsflrieXi0clj3VfLtMTxvR6/5Fa\n",
       "nJ2mJwzpm3V6wpiTk/SC2ab37qcnDDme1TxHdvc26Qmzvfyo5rHeXpS7rbfWWtufpRfMt30nvWDM\n",
       "7t1DesKQaX1MT3hrrJ6u0hOGHM7rnSPnv6n5fnDyZXrBmNVNvdfI8yf79IQhm6926QlDls9epyfM\n",
       "1p+/TE8Ys615jkw3N+kJs0232/SEIdOu5jnSpnr3mqng5tZa673mu2/F4311/KTmweaNqVcPAAAA\n",
       "AAAAAPhWEKwBAAAAAAAAiBCsAQAAAAAAAIgQrAEAAAAAAACIEKwBAAAAAAAAiBCsAQAAAAAAAIgQ\n",
       "rAEAAAAAAACIEKwBAAAAAAAAiBCsAQAAAAAAAIgQrAEAAAAAAACIEKwBAAAAAAAAiBCsAQAAAAAA\n",
       "AIgQrAEAAAAAAACIEKwBAAAAAAAAiBCsAQAAAAAAAIgQrAEAAAAAAACIEKwBAAAAAAAAiBCsAQAA\n",
       "AAAAAIgQrAEAAAAAAACIEKwBAAAAAAAAiBCsAQAAAAAAAIgQrAEAAAAAAACIEKwBAAAAAAAAiBCs\n",
       "AQAAAAAAAIgQrAEAAAAAAACIEKwBAAAAAAAAiBCsAQAAAAAAAIgQrAEAAAAAAACIEKwBAAAAAAAA\n",
       "iBCsAQAAAAAAAIgQrAEAAAAAAACIEKwBAAAAAAAAiFilBwBfdzU97ukNIy4Xj6b0hrl6L3moW5vK\n",
       "HerWWmt9U++Wc3x9k54wZHE8picM6b3e/+j6q6LnyKHmObLZ19t9Z1nzXrPY17tmt9bablfveG+e\n",
       "pxeMud4v0xOG9GO93cvX6QWD6v0cW2utLW8KniO36QVjTp7Vu6+31trmRb3di13Nd8jF9TY9YUi/\n",
       "Lbi76PvBdF3zJjkdDukJs037eptba2W/ofHmTEW/ocG3Ub0vwwAAAAAAAAB8KwjWAAAAAAAAAEQI\n",
       "1gAAAAAAAABECNYAAAAAAAAARAjWAAAAAAAAAEQI1gAAAAAAAABECNYAAAAAAAAARAjWAAAAAAAA\n",
       "AEQI1gAAAAAAAABECNYAAAAAAAAARAjWAAAAAAAAAEQI1gAAAAAAAABECNYAAAAAAAAARAjWAAAA\n",
       "AAAAAEQI1gAAAAAAAABECNYAAAAAAAAARAjWAAAAAAAAAEQI1gAAAAAAAABECNYAAAAAAAAARAjW\n",
       "AAAAAAAAAEQI1gAAAAAAAABECNYAAAAAAAAARAjWAAAAAAAAAEQI1gAAAAAAAABECNYAAAAAAAAA\n",
       "RAjWAAAAAAAAAEQI1gAAAAAAAABECNYAAAAAAAAARAjWAAAAAAAAAEQI1gAAAAAAAABECNYAAAAA\n",
       "AAAARAjWAAAAAAAAAEQI1gAAAAAAAABErNIDgK+7XDya0hveFtPxmJ4wpvf0gjHbbXrBbH29Tk8Y\n",
       "Mh2LXkYO+/SC2frNbXrCmPOT9IIh06refy3Xz3fpCUP6vuZ15HZX7/Vmsat5rPtxmZ4wpBd8/Fve\n",
       "1jxHdhc1n1kvfl3weaTmKdJaqzl887Tge83ukJ4wZPHydXrCmJfX6QXzVX2HXNS817RD0d0VFf2G\n",
       "VvGb5dXxk5IH+7I/LHkBvJoelzze8MfU++oHAAAAAAAAwLeCYA0AAAAAAABAhGANAAAAAAAAQIRg\n",
       "DQAAAAAAAECEYA0AAAAAAABAhGANAAAAAAAAQIRgDQAAAAAAAECEYA0AAAAAAABAhGANAAAAAAAA\n",
       "QIRgDQAAAAAAAECEYA0AAAAAAABAhGANAAAAAAAAQIRgDQAAAAAAAECEYA0AAAAAAABAhGANAAAA\n",
       "AAAAQIRgDQAAAAAAAECEYA0AAAAAAABAhGANAAAAAAAAQIRgDQAAAAAAAECEYA0AAAAAAABAhGAN\n",
       "AAAAAAAAQIRgDQAAAAAAAECEYA0AAAAAAABAhGANAAAAAAAAQIRgDQAAAAAAAECEYA0AAAAAAABA\n",
       "hGANAAAAAAAAQIRgDQAAAAAAAECEYA0AAAAAAABAhGANAAAAAAAAQIRgDQAAAAAAAECEYA0AAAAA\n",
       "AABARE8PeNtc9odTesOQXu9UuTp+Um90YT9e/qTcuT0dj+kJQ/pymZ4wZip3irS+WqcnjFnW/D9a\n",
       "X63SE2brp6fpCWPOz9ILxqzrXf+ms5P0hCHb9++kJwxZvt6nJ8y2u79JTxhy2NR81O4FH/8W+3rP\n",
       "UK21trqu93tsrbXdRb3nkeVNwRO7tbZ58io9YUzB98j+vOixLvgO2Vpr7XabXjDbtL1NTxhU83nk\n",
       "+PomPWG+gte+1v6vfXtJjuS4EijqkUCxSMmsZ9pRcgcAe4ttLOyA2ExroKlGEln4ZPSkJ5oUlWEU\n",
       "br3COSt45ubh8bmZa+2X13qEY6aef7yZx/1h5gEIXzDzizYAAAAAAAAA4wnWAAAAAAAAACQEawAA\n",
       "AAAAAAASgjUAAAAAAAAACcEaAAAAAAAAgIRgDQAAAAAAAEBCsAYAAAAAAAAgIVgDAAAAAAAAkBCs\n",
       "AQAAAAAAAEgI1gAAAAAAAAAkBGsAAAAAAAAAEoI1AAAAAAAAAAnBGgAAAAAAAICEYA0AAAAAAABA\n",
       "QrAGAAAAAAAAICFYAwAAAAAAAJAQrAEAAAAAAABICNYAAAAAAAAAJARrAAAAAAAAABKCNQAAAAAA\n",
       "AAAJwRoAAAAAAACAhGANAAAAAAAAQEKwBgAAAAAAACAhWAMAAAAAAACQEKwBAAAAAAAASAjWAAAA\n",
       "AAAAACQEawAAAAAAAAASgjUAAAAAAAAACcEaAAAAAAAAgIRgDQAAAAAAAEBCsAYAAAAAAAAgIVgD\n",
       "AAAAAAAAkLitB3hvHveHrZ7hiPO62+sZ3ovzNnOtf3n9edzePp/uR671/vpaj3DIdjvvlrO/vtQj\n",
       "HLJt89Z6rbX2p+d6hOudhv727/PneoJDtj//qR7hauNujv/v419n7pGXv/xXPcLVfvjfv9cjHHL5\n",
       "4WM9wiGXjzPvkRPttzNPwO//9o96hKudPg98hlprrd+e6gmOeR74jvBh6Nn362/1BIfsTwP39mXk\n",
       "55GZa73WWvvA9d4v9QTvysSGMPWbNvD1GPqVFQAAAAAAAIDpBGsAAAAAAAAAEoI1AAAAAAAAAAnB\n",
       "GgAAAAAAAICEYA0AAAAAAABAQrAGAAAAAAAAICFYAwAAAAAAAJAQrAEAAAAAAABICNYAAAAAAAAA\n",
       "JARrAAAAAAAAABKCNQAAAAAAAAAJwRoAAAAAAACAhGANAAAAAAAAQEKwBgAAAAAAACAhWAMAAAAA\n",
       "AACQEKwBAAAAAAAASAjWAAAAAAAAACQEawAAAAAAAAASgjUAAAAAAAAACcEaAAAAAAAAgIRgDQAA\n",
       "AAAAAEBCsAYAAAAAAAAgIVgDAAAAAAAAkBCsAQAAAAAAAEgI1gAAAAAAAAAkBGsAAAAAAAAAEoI1\n",
       "AAAAAAAAAAnBGgAAAAAAAICEYA0AAAAAAABAQrAGAAAAAAAAICFYAwAAAAAAAJAQrAEAAAAAAABI\n",
       "CNYAAAAAAAAAJLZ6AOBfnbe7vZ7hvXjcH0aegefTvT3yRh4vn0bukR9v/3vkHtk+fKhHuN42covM\n",
       "XOu11vbD9/UI13u91BMccxr6u9YfPtYTXO/7gTOvtdZl5K1m7R9v6xGutj291CMcM3Xum4Hn32nm\n",
       "88h6HrpH/vHPeoKr7b/+Vo9wzO28M3uttfanp3qEd2N/fq5HOGR/GXr+8Xb2mc/avJ2p37XhSwa+\n",
       "iQEAAAAAAADwLRCsAQAAAAAAAEgI1gAAAAAAAAAkBGsAAAAAAAAAEoI1AAAAAAAAAAnBGgAAAAAA\n",
       "AICEYA0AAAAAAABAQrAGAAAAAAAAICFYAwAAAAAAAJAQrAEAAAAAAABICNYAAAAAAAAAJARrAAAA\n",
       "AAAAABKCNQAAAAAAAAAJwRoAAAAAAACAhGANAAAAAAAAQEKwBgAAAAAAACAhWAMAAAAAAACQEKwB\n",
       "AAAAAAAASAjWAAAAAAAAACQEawAAAAAAAAASgjUAAAAAAAAACcEaAAAAAAAAgIRgDQAAAAAAAEBC\n",
       "sAYAAAAAAAAgIVgDAAAAAAAAkBCsAQAAAAAAAEgI1gAAAAAAAAAkBGsAAAAAAAAAEoI1AAAAAAAA\n",
       "AAnBGgAAAAAAAICEYA0AAAAAAABAQrAGAAAAAAAAILHVAwBUztvdXs/AV25zm3xL2+mmHuGAmcfI\n",
       "9t139QjHXOat93Y7cV+vtT7O3CPbzW09wvX2Sz3BMVPPkefneoLr3Qw9R15f6wmOmXerWfvTUz3C\n",
       "MVP39sRzZKj95aUe4Zh93kFirfk9v7z+PPIDyfl0P3OTDNzbj/vDzD0y9Pvw1PWGL/EPawAAAAAA\n",
       "AAASgjUAAAAAAAAACcEaAAAAAAAAgIRgDQAAAAAAAEBCsAYAAAAAAAAgIVgDAAAAAAAAkBCsAQAA\n",
       "AAAAAEgI1gAAAAAAAAAkBGsAAAAAAAAAEoI1AAAAAAAAAAnBGgAAAAAAAICEYA0AAAAAAABAQrAG\n",
       "AAAAAAAAICFYAwAAAAAAAJAQrAEAAAAAAABICNYAAAAAAAAAJARrAAAAAAAAABKCNQAAAAAAAAAJ\n",
       "wRoAAAAAAACAhGANAAAAAAAAQEKwBgAAAAAAACAhWAMAAAAAAACQEKwBAAAAAAAASAjWAAAAAAAA\n",
       "ACQEawAAAAAAAAASgjUAAAAAAAAACcEaAAAAAAAAgIRgDQAAAAAAAEBCsAYAAAAAAAAgIVgDAAAA\n",
       "AAAAkBCsAQAAAAAAAEgI1gAAAAAAAAAkBGsAAAAAAAAAEls9AADvw/l0v9czXG2fN/Jaa22nmb9H\n",
       "2weu99S13m4/1CMcsr881yNcbfswc62372bOPdLNbT3BIfvnz/UIh0y8Jrebm3qEQ/bneWf2Wmut\n",
       "gff27XbmHrn8+ls9wjGvr/UE1xu4r9daa13mvR+stUa+R16en+oRDpn6PrZfLvUI78bj5dPI/nHe\n",
       "7sYdJI/7w8i1Br4eM+/qAAAAAAAAAIwnWAMAAAAAAACQEKwBAAAAAAAASAjWAAAAAAAAACQEawAA\n",
       "AAAAAAASgjUAAAAAAAAACcEaAAAAAAAAgIRgDQAAAAAAAEBCsAYAAAAAAAAgIVgDAAAAAAAAkBCs\n",
       "AQAAAAAAAEgI1gAAAAAAAAAkBGsAAAAAAAAAEoI1AAAAAAAAAAnBGgAAAAAAAICEYA0AAAAAAABA\n",
       "QrAGAAAAAAAAICFYAwAAAAAAAJAQYGhZJAAADihJREFUrAEAAAAAAABICNYAAAAAAAAAJARrAAAA\n",
       "AAAAABKCNQAAAAAAAAAJwRoAAAAAAACAhGANAAAAAAAAQEKwBgAAAAAAACAhWAMAAAAAAACQEKwB\n",
       "AAAAAAAASAjWAAAAAAAAACQEawAAAAAAAAASgjUAAAAAAAAACcEaAAAAAAAAgIRgDQAAAAAAAEBi\n",
       "qwcA4H04b3d7PcPVNrdJvmw7Df3t3z7vclxrrbXNW+/t9qYe4ZihW2Tk283Qc2Ts+Tdw7v3lpR7h\n",
       "mLH3moEHydC13p+n7u1LPQH84fah58hYA9f7cX8YeIMEYJJ5b+sAAAAAAAAAfBMEawAAAAAAAAAS\n",
       "gjUAAAAAAAAACcEaAAAAAAAAgIRgDQAAAAAAAEBCsAYAAAAAAAAgIVgDAAAAAAAAkBCsAQAAAAAA\n",
       "AEgI1gAAAAAAAAAkBGsAAAAAAAAAEoI1AAAAAAAAAAnBGgAAAAAAAICEYA0AAAAAAABAQrAGAAAA\n",
       "AAAAICFYAwAAAAAAAJAQrAEAAAAAAABICNYAAAAAAAAAJARrAAAAAAAAABKCNQAAAAAAAAAJwRoA\n",
       "AAAAAACAhGANAAAAAAAAQEKwBgAAAAAAACAhWAMAAAAAAACQEKwBAAAAAAAASAjWAAAAAAAAACQE\n",
       "awAAAAAAAAASgjUAAAAAAAAACcEaAAAAAAAAgIRgDQAAAAAAAEBCsAYAAAAAAAAgIVgDAAAAAAAA\n",
       "kBCsAQAAAAAAAEgI1gAAAAAAAAAktnoA4F+dt7u9nuGIx/3BecIXTdzb9vXb+vHmp3F7ZN/HjbzW\n",
       "WmvbbO23MnaP3NzUIxwzcm9PnHmt9fpST8BXbrv9UI9wyH651CNcb+i9ZurxtwYu9z71zB55Xx9q\n",
       "6Dky9Z39fLqft+D2CAD/Yf5hDQAAAAAAAEBCsAYAAAAAAAAgIVgDAAAAAAAAkBCsAQAAAAAAAEgI\n",
       "1gAAAAAAAAAkBGsAAAAAAAAAEoI1AAAAAAAAAAnBGgAAAAAAAICEYA0AAAAAAABAQrAGAAAAAAAA\n",
       "ICFYAwAAAAAAAJAQrAEAAAAAAABICNYAAAAAAAAAJARrAAAAAAAAABKCNQAAAAAAAAAJwRoAAAAA\n",
       "AACAhGANAAAAAAAAQEKwBgAAAAAAACAhWAMAAAAAAACQEKwBAAAAAAAASAjWAAAAAAAAACQEawAA\n",
       "AAAAAAASgjUAAAAAAAAACcEaAAAAAAAAgIRgDQAAAAAAAEBCsAYAAAAAAAAgIVgDAAAAAAAAkBCs\n",
       "AQAAAAAAAEgI1gAAAAAAAAAkBGsAAAAAAAAAEoI1AAAAAAAAAAnBGgAAAAAAAIDEVg8AAF+r83a3\n",
       "1zMc8bg/uL/zRT/e/DRyb++XSz3C9baZl+N2e1uPcMzraz3B9YbukZHX41DbaebvzKfuke3mph7h\n",
       "ar88/8/Ig2Tq88hE+z5zqR8vn0bu7fPpfuaCDzR2jwz81uA7AwD/aTPffAEAAAAAAAAYT7AGAAAA\n",
       "AAAAICFYAwAAAAAAAJAQrAEAAAAAAABICNYAAAAAAAAAJARrAAAAAAAAABKCNQAAAAAAAAAJwRoA\n",
       "AAAAAACAhGANAAAAAAAAQEKwBgAAAAAAACAhWAMAAAAAAACQEKwBAAAAAAAASAjWAAAAAAAAACQE\n",
       "awAAAAAAAAASgjUAAAAAAAAACcEaAAAAAAAAgIRgDQAAAAAAAEBCsAYAAAAAAAAgIVgDAAAAAAAA\n",
       "kBCsAQAAAAAAAEgI1gAAAAAAAAAkBGsAAAAAAAAAEoI1AAAAAAAAAAnBGgAAAAAAAICEYA0AAAAA\n",
       "AABAQrAGAAAAAAAAICFYAwAAAAAAAJAQrAEAAAAAAABICNYAAAAAAAAAJARrAAAAAAAAABKCNQAA\n",
       "AAAAAAAJwRoAAAAAAACAhGANAAAAAAAAQGKrBwConLe7vZ7hiMf9wdnNF9nbb8dav63z6X7cem/b\n",
       "yKVe+z5uqeHfM3Bvb6eZvzN3jryhoWs99Xnkx5ufxi34L68/j1zrqSY+szpHAIDazDdfAAAAAAAA\n",
       "AMYTrAEAAAAAAABICNYAAAAAAAAAJARrAAAAAAAAABKCNQAAAAAAAAAJwRoAAAAAAACAhGANAAAA\n",
       "AAAAQEKwBgAAAAAAACAhWAMAAAAAAACQEKwBAAAAAAAASAjWAAAAAAAAACQEawAAAAAAAAASgjUA\n",
       "AAAAAAAACcEaAAAAAAAAgIRgDQAAAAAAAEBCsAYAAAAAAAAgIVgDAAAAAAAAkBCsAQAAAAAAAEgI\n",
       "1gAAAAAAAAAkBGsAAAAAAAAAEoI1AAAAAAAAAAnBGgAAAAAAAICEYA0AAAAAAABAQrAGAAAAAAAA\n",
       "ICFYAwAAAAAAAJAQrAEAAAAAAABICNYAAAAAAAAAJARrAAAAAAAAABKCNQAAAAAAAAAJwRoAAAAA\n",
       "AACAhGANAAAAAAAAQEKwBgAAAAAAACCx1QMAAEx13u72eoYjHvcHz4BvxB55WyPXexu51Gvt85Z6\n",
       "rTVyvR8vn+YNvYZej2vu+TfR+XQ/c48MvSYBAOBr5h/WAAAAAAAAACQEawAAAAAAAAASgjUAAAAA\n",
       "AAAACcEaAAAAAAAAgIRgDQAAAAAAAEBCsAYAAAAAAAAgIVgDAAAAAAAAkBCsAQAAAAAAAEgI1gAA\n",
       "AAAAAAAkBGsAAAAAAAAAEoI1AAAAAAAAAAnBGgAAAAAAAICEYA0AAAAAAABAQrAGAAAAAAAAICFY\n",
       "AwAAAAAAAJAQrAEAAAAAAABICNYAAAAAAAAAJARrAAAAAAAAABKCNQAAAAAAAAAJwRoAAAAAAACA\n",
       "hGANAAAAAAAAQEKwBgAAAAAAACAhWAMAAAAAAACQEKwBAAAAAAAASAjWAAAAAAAAACQEawAAAAAA\n",
       "AAASgjUAAAAAAAAACcEaAAAAAAAAgIRgDQAAAAAAAEBCsAYAAAAAAAAgIVgDAAAAAAAAkBCsAQAA\n",
       "AAAAAEgI1gAAAAAAAAAktnoAAAD4d5y3u72e4VqP+4Pnbb5JE6/HtVyT/L6Je9u+5vdM3Ndr2dtv\n",
       "yR4BAGr+YQ0AAAAAAABAQrAGAAAAAAAAICFYAwAAAAAAAJAQrAEAAAAAAABICNYAAAAAAAAAJARr\n",
       "AAAAAAAAABKCNQAAAAAAAAAJwRoAAAAAAACAhGANAAAAAAAAQEKwBgAAAAAAACAhWAMAAAAAAACQ\n",
       "EKwBAAAAAAAASAjWAAAAAAAAACQEawAAAAAAAAASgjUAAAAAAAAACcEaAAAAAAAAgIRgDQAAAAAA\n",
       "AEBCsAYAAAAAAAAgIVgDAAAAAAAAkBCsAQAAAAAAAEgI1gAAAAAAAAAkBGsAAAAAAAAAEoI1AAAA\n",
       "AAAAAAnBGgAAAAAAAICEYA0AAAAAAABAQrAGAAAAAAAAICFYAwAAAAAAAJAQrAEAAAAAAABICNYA\n",
       "AAAAAAAAJARrAAAAAAAAABKCNQAAAAAAAAAJwRoAAAAAAACAxFYPAMD7cN7u9nqGaz3uD+6TAPAN\n",
       "OZ/u5z2PXD55HoGviPcaAAD44/mHNQAAAAAAAAAJwRoAAAAAAACAhGANAAAAAAAAQEKwBgAAAAAA\n",
       "ACAhWAMAAAAAAACQEKwBAAAAAAAASAjWAAAAAAAAACQEawAAAAAAAAASgjUAAAAAAAAACcEaAAAA\n",
       "AAAAgIRgDQAAAAAAAEBCsAYAAAAAAAAgIVgDAAAAAAAAkBCsAQAAAAAAAEgI1gAAAAAAAAAkBGsA\n",
       "AAAAAAAAEoI1AAAAAAAAAAnBGgAAAAAAAICEYA0AAAAAAABAQrAGAAAAAAAAICFYAwAAAAAAAJAQ\n",
       "rAEAAAAAAABICNYAAAAAAAAAJARrAAAAAAAAABKCNQAAAAAAAAAJwRoAAAAAAACAhGANAAAAAAAA\n",
       "QEKwBgAAAAAAACAhWAMAAAAAAACQEKwBAAAAAAAASAjWAAAAAAAAACQEawAAAAAAAAASgjUAAAAA\n",
       "AAAAia0eAAAAAPi2nLe7vZ7hiMf9wXcSAACAN+Yf1gAAAAAAAAAkBGsAAAAAAAAAEoI1AAAAAAAA\n",
       "AAnBGgAAAAAAAICEYA0AAAAAAABAQrAGAAAAAAAAICFYAwAAAAAAAJAQrAEAAAAAAABICNYAAAAA\n",
       "AAAAJARrAAAAAAAAABKCNQAAAAAAAAAJwRoAAAAAAACAhGANAAAAAAAAQEKwBgAAAAAAACAhWAMA\n",
       "AAAAAACQEKwBAAAAAAAASAjWAAAAAAAAACQEawAAAAAAAAASgjUAAAAAAAAACcEaAAAAAAAAgIRg\n",
       "DQAAAAAAAEBCsAYAAAAAAAAgIVgDAAAAAAAAkBCsAQAAAAAAAEgI1gAAAAAAAAAkBGsAAAAAAAAA\n",
       "EoI1AAAAAAAAAAnBGgAAAAAAAICEYA0AAAAAAABAQrAGAAAAAAAAICFYAwAAAAAAAJAQrAEAAAAA\n",
       "AABIbPUAAAAAf4TzdrfXM1zrcX/wTgYAAAC8a/5hDQAAAAAAAEBCsAYAAAAAAAAgIVgDAAAAAAAA\n",
       "kBCsAQAAAAAAAEgI1gAAAAAAAAAkBGsAAAAAAAAAEoI1AAAAAAAAAAnBGgAAAAAAAICEYA0AAAAA\n",
       "AABAQrAGAAAAAAAAICFYAwAAAAAAAJAQrAEAAAAAAABICNYAAAAAAAAAJARrAAAAAAAAABKCNQAA\n",
       "AAAAAAAJwRoAAAAAAACAhGANAAAAAAAAQEKwBgAAAAAAACAhWAMAAAAAAACQEKwBAAAAAAAASAjW\n",
       "AAAAAAAAACQEawAAAAAAAAASgjUAAAAAAAAACcEaAAAAAAAAgIRgDQAAAAAAAEBCsAYAAAAAAAAg\n",
       "IVgDAAAAAAAAkBCsAQAAAAAAAEgI1gAAAAAAAAAkBGsAAAAAAAAAEoI1AAAAAAAAAAnBGgAAAAAA\n",
       "AIDE/wGfjDAO+bD+5gAAAABJRU5ErkJggg==\n",
       "\" transform=\"translate(149, 47)\"/>\n",
       "</g>\n",
       "<defs>\n",
       "  <clipPath id=\"clip873\">\n",
       "    <rect x=\"2160\" y=\"47\" width=\"73\" height=\"1440\"/>\n",
       "  </clipPath>\n",
       "</defs>\n",
       "<g clip-path=\"url(#clip873)\">\n",
       "<image width=\"72\" height=\"1439\" xlink:href=\"data:image/png;base64,\n",
       "iVBORw0KGgoAAAANSUhEUgAAAEgAAAWfCAYAAAAI7rB3AAAMJ0lEQVR4nO3dwa3cSBAFQVIoU9Z/\n",
       "t2QFm7JgK4+cQ4QFQuJhiG7OfN3P3//ei//15+t/wK8TKAgUBAoChXne8/W/4adZUBAoCBQECgKF\n",
       "OZej2MaCgkBBoCBQmHM5amwsKAgUBAoCBYHCPK+jxsaCgkBBoCBQECg4iwULCgIFgYJAYR5vNVYW\n",
       "FAQKAgWBgkBhjguzlQUFgYJAQaDgqBEsKAgUBAoCBYHCeKexs6AgUBAoCBQECr5hFiwoCBQECgKF\n",
       "eb7+F/w4CwoCBYGCQEGg4MIsWFAQKAgUBAoChXncl60sKAgUBAoCBUeNYEFBoCBQECgIFOa57q//\n",
       "DT/NgoJAQaAgUJjn9SG9saAgUBAoCBQECnMcNVYWFAQKAgWBgkDBhVmwoCBQECgIFOa4MFtZUBAo\n",
       "CBQECgIFR41gQUGgIFAQKAgUPMWCBQWBgkBBoDDn1WijThAoCBQECgIFR41gQUGgIFAQKMyj0Uqd\n",
       "IFAQKAgUBAouzII6QaAgUBAoCBRcmAULCgIFgYJAYR5HjZU6QaAgUBAoCBTmaLRSJwgUBAoCBYGC\n",
       "C7NgQUGgIFAQKLgwC+oEgYJAQaAgUHBhFtQJAgWBgkDBUSOoEwQKAgWBgkDBW41gQUGgIFAQKAgU\n",
       "/CQzqBMECgIFgYK//hLUCQIFgYJAQaAwj/9fbGVBQaAgUBAo+AJVUCcIFAQKAgWBgm+YBXWCQEGg\n",
       "IFAQKHjtE9QJAgWBgkBhjrcaKwsKAgWBgkBBoOCoEdQJAgWBgkBBoODHLEGdIFAQKAgU/G4+WFAQ\n",
       "KAgUBAoCBUeNoE4QKAgUBAqOGsGCgkBBoCBQECg4agR1gkBBoCBQECj4SWZQJwgUBAoChTkuzFYW\n",
       "FAQKAgWBgkDBUSOoEwQKAgWBgkDBWSxYUBAoCBQECo4aQZ0gUBAoCBQECv6GWbCgIFAQKAgU/Imu\n",
       "oE4QKAgUBAoCBUeNYEFBoCBQECgIFDzFggUFgYJAQaDgwiyoEwQKAgWBgkDBUSNYUBAoCBQECgIF\n",
       "f8MsqBMECgIFgYJfHAYLCgIFgYJAQaAwjwuzlQUFgYJAQaDgPiioEwQKAgWBgkDBu/lgQUGgIFAQ\n",
       "KAgUvPYJFhQECgIFgYK3GsGCgkBBoCBQECh47RPUCQIFgYJAwVuNYEFBoCBQECgIFLzVCBYUBAoC\n",
       "BYGCQMFZLFhQECgIFAQKPqSDBQWBgkBBoCBQ8BQLFhQECgIFgYJAwTfMgjpBoCBQECh4Nx8sKAgU\n",
       "BAoCBYGCC7NgQUGgIFAQKPiQDhYUBAoCBYGCQMFTLFhQECgIFAQKAoV5PcVWFhQECgIFgYJ388GC\n",
       "gkBBoCBQECi4MAsWFAQKAgWBgkDBUyxYUBAoCBQECt5qBAsKAgWBgkBBoOCoESwoCBQECgIFH9LB\n",
       "goJAQaAgUBAozPv1v+DHWVAQKAgUBAoCBWexYEFBoCBQECh4Nx8sKAgUBAoCBYGCo0awoCBQECgI\n",
       "FAQKzmLBgoJAQaAgUJjj5fzKgoJAQaAgUBAoOGoECwoCBYGCQMGHdLCgIFAQKAgUBArezQcLCgIF\n",
       "gYJAQaDgJ5nBgoJAQaAgUHBhFiwoCBQECgIFgYKnWLCgIFAQKAgUBArzujFbWVAQKAgUBAqOGsGC\n",
       "gkBBoCBQECh4igULCgIFgYJAwX1QsKAgUBAoCBQECo4awYKCQEGgIFAQKDiLBQsKAgWBgkBhLkeN\n",
       "lQUFgYJAQaAgUHBhFiwoCBQECgIFf9wkWFAQKAgUBAoCBRdmwYKCQEGgIFAQKHg3HywoCBQECgKF\n",
       "uXxIrywoCBQECgIFgYJ388GCgkBBoCBQECg4iwULCgIFgYJAwbv5YEFBoCBQECgIFLybDxYUBAoC\n",
       "BYGCo0awoCBQECgIFAQK3moECwoCBYGCQEGg4CkWLCgIFAQKAgUXZsGCgkBBoCBQECg4agQLCgIF\n",
       "gYJAQaDgKRYsKAgUBAoCBRdmwYKCQEGgIFAQKAgUBAoCBYGCQMF9ULCgIFAQKAgUBAqeYsGCgkBB\n",
       "oCBQECjM7bXPyoKCQEGgIFBw1AgWFAQKAgWBgkDBUyxYUBAoCBQECgIFT7FgQUGgIFAQKPgxS7Cg\n",
       "IFAQKAgUBApzO2qsLCgIFAQKAgX3QcGCgkBBoCBQECh4igULCgIFgYJAQaDgwixYUBAoCBQECo4a\n",
       "wYKCQEGgIFAQKPiGWbCgIFAQKAgU3AcFCwoCBYGCQEGg4MIsWFAQKAgUBAoCBU+xYEFBoCBQECiM\n",
       "dxo7CwoCBYGCQEGg4KgRLCgIFAQKAgWBgqdYsKAgUBAoCBR8wyxYUBAoCBQECgIFR41gQUGgIFAQ\n",
       "KPiQDhYUBAoCBYGCQMGFWbCgIFAQKAgUBAr++kuwoCBQECgIFBw1ggUFgYJAQaAgUPDaJ1hQECgI\n",
       "FAQKAgVPsWBBQaAgUBAouDALFhQECgIFgYJAwVEjWFAQKAgUBAo+pIMFBYGCQEGgIFBwYRYsKAgU\n",
       "BAoCBYGCs1iwoCBQECgIFAQKAgWBgkBBoCBQcGEWLCgIFAQKAgWBgguzYEFBoCBQECg4agQLCgIF\n",
       "gYJAQaDgqBEsKAgUBAoCBR/SwYKCQEGgIFAQKLgwCxYUBAoCBYGCQMFZLFhQECgIFAQKjhrBgoJA\n",
       "QaAgUBAoOGoECwoCBYGCQMGHdLCgIFAQKAgUBAouzIIFBYGCQEGgIFBwFgsWFAQKAgWBgqNGsKAg\n",
       "UBAoCBQECo4awYKCQEGgIFAQKHiKBQsKAgWBgkBh7ten9MaCgkBBoCBQECg4agQLCgIFgYJAwbv5\n",
       "YEFBoCBQECgIFBw1ggUFgYJAQaAgUHAWCxYUBAoCBYGCo0awoCBQECgIFAQKnmLBgoJAQaAgUBAo\n",
       "uDALFhQECgIFgYKjRrCgIFAQKAgUBAqOGsGCgkBBoCBQcNQIFhQECgIFgYJAwVEjWFAQKAgUBAoC\n",
       "BWexYEFBoCBQECj4Q5PBgoJAQaAgUBAoOGoECwoCBYGCQEGg4LVPsKAgUBAoCBQcNYIFBYGCQEGg\n",
       "IFBw1AgWFAQKAgWBgqNGsKAgUBAoCBQECo4awYKCQEGgIFAQKMzle9IrCwoCBYGCQMFRI1hQECgI\n",
       "FAQKAgWvfYIFBYGCQEGgIFBwFgsWFAQKAgWBgqNGsKAgUBAoCBQECv6GWbCgIFAQKAgUHDWCBQWB\n",
       "gkBBoCBQmPt8/U/4bRYUBAoCBYGCQMFZLFhQECgIFAQK3moECwoCBYGCQEGg4KgRLCgIFAQKAgUf\n",
       "0sGCgkBBoCBQECj4xWGwoCBQECgIFAQK/tBksKAgUBAoCBQcNYIFBYGCQEGgIFCY63iMbSwoCBQE\n",
       "CgIFgYKzWLCgIFAQKAgUfMMsWFAQKAgUBAoCBT/JDBYUBAoCBYGCo0awoCBQECgIFAQKjhrBgoJA\n",
       "QaAgUBAozOXPJa8sKAgUBAoCBb84DBYUBAoCBYGCQMHXgIMFBYGCQEGgIFBwFgsWFAQKAgWBgm+Y\n",
       "BQsKAgWBgkBBoOAbZsGCgkBBoCBQ8Ce6ggUFgYJAQaAgUPBuPlhQECgIFAQKAgXv5oMFBYGCQEGg\n",
       "4EM6WFAQKAgUBAoCBb+bDxYUBAoCBYGCQME3zIIFBYGCQEGg4MIsWFAQKAgUBAoCBU+xYEFBoCBQ\n",
       "ECh4qxEsKAgUBAoCBYGCtxrBgoJAQaAgUBAouDALFhQECgIFgYIP6WBBQaAgUBAoCBT8DbNgQUGg\n",
       "IFAQKDhqBAsKAgWBgkBBoOApFiwoCBQECgIFgYKnWLCgIFAQKAgU5vZWY2VBQaAgUBAoCBQcNYIF\n",
       "BYGCQEGgIFDwFAsWFAQKAgWBgg/pYEFBoCBQECgIFPyYJVhQECgIFAQKjhrBgoJAQaAgUBAoeIoF\n",
       "CwoCBYGCQEGgMNfxV/83FhQECgIFgYKjRrCgIFAQKAgUBArzeoqtLCgIFAQKAgWBgm+YBQsKAgWB\n",
       "gkBhrtdbjY0FBYGCQEGgIFDw2idYUBAoCBQECu6DggUFgYJAQaAgUHBhFiwoCBQECgIFgYKzWLCg\n",
       "IFAQKAgUfA04WFAQKAgUBAoCBb+bDxYUBAoCBYGCQME3zIIFBYGCQEGg4KgRLCgIFAQKAgWBgtc+\n",
       "wYKCQEGgIFDwBapgQUGgIFAQKAgU/JglWFAQKAgUBAoChXmdxVYWFAQKAgWBgqNGsKAgUBAoCBQE\n",
       "Cr4GHCwoCBQECgKFf4jrjN/mS6F7AAAAAElFTkSuQmCC\n",
       "\" transform=\"translate(2161, 47)\"/>\n",
       "</g>\n",
       "<path clip-path=\"url(#clip870)\" d=\"M2269.43 1274.92 L2277.07 1274.92 L2277.07 1248.55 L2268.76 1250.22 L2268.76 1245.96 L2277.02 1244.3 L2281.7 1244.3 L2281.7 1274.92 L2289.33 1274.92 L2289.33 1278.86 L2269.43 1278.86 L2269.43 1274.92 Z\" fill=\"#f8f8f2\" fill-rule=\"nonzero\" fill-opacity=\"1\" /><path clip-path=\"url(#clip870)\" d=\"M2308.78 1247.37 Q2305.17 1247.37 2303.34 1250.94 Q2301.53 1254.48 2301.53 1261.61 Q2301.53 1268.72 2303.34 1272.28 Q2305.17 1275.82 2308.78 1275.82 Q2312.41 1275.82 2314.22 1272.28 Q2316.05 1268.72 2316.05 1261.61 Q2316.05 1254.48 2314.22 1250.94 Q2312.41 1247.37 2308.78 1247.37 M2308.78 1243.67 Q2314.59 1243.67 2317.64 1248.28 Q2320.72 1252.86 2320.72 1261.61 Q2320.72 1270.34 2317.64 1274.94 Q2314.59 1279.53 2308.78 1279.53 Q2302.97 1279.53 2299.89 1274.94 Q2296.83 1270.34 2296.83 1261.61 Q2296.83 1252.86 2299.89 1248.28 Q2302.97 1243.67 2308.78 1243.67 Z\" fill=\"#f8f8f2\" fill-rule=\"nonzero\" fill-opacity=\"1\" /><path clip-path=\"url(#clip870)\" d=\"M2338.94 1247.37 Q2335.33 1247.37 2333.5 1250.94 Q2331.7 1254.48 2331.7 1261.61 Q2331.7 1268.72 2333.5 1272.28 Q2335.33 1275.82 2338.94 1275.82 Q2342.57 1275.82 2344.38 1272.28 Q2346.21 1268.72 2346.21 1261.61 Q2346.21 1254.48 2344.38 1250.94 Q2342.57 1247.37 2338.94 1247.37 M2338.94 1243.67 Q2344.75 1243.67 2347.81 1248.28 Q2350.89 1252.86 2350.89 1261.61 Q2350.89 1270.34 2347.81 1274.94 Q2344.75 1279.53 2338.94 1279.53 Q2333.13 1279.53 2330.05 1274.94 Q2327 1270.34 2327 1261.61 Q2327 1252.86 2330.05 1248.28 Q2333.13 1243.67 2338.94 1243.67 Z\" fill=\"#f8f8f2\" fill-rule=\"nonzero\" fill-opacity=\"1\" /><path clip-path=\"url(#clip870)\" d=\"M2274.38 1051.44 L2290.7 1051.44 L2290.7 1055.38 L2268.76 1055.38 L2268.76 1051.44 Q2271.42 1048.69 2276 1044.06 Q2280.61 1039.4 2281.79 1038.06 Q2284.03 1035.54 2284.91 1033.8 Q2285.82 1032.04 2285.82 1030.35 Q2285.82 1027.6 2283.87 1025.86 Q2281.95 1024.13 2278.85 1024.13 Q2276.65 1024.13 2274.2 1024.89 Q2271.77 1025.65 2268.99 1027.21 L2268.99 1022.48 Q2271.81 1021.35 2274.27 1020.77 Q2276.72 1020.19 2278.76 1020.19 Q2284.13 1020.19 2287.32 1022.88 Q2290.52 1025.56 2290.52 1030.05 Q2290.52 1032.18 2289.7 1034.1 Q2288.92 1036 2286.81 1038.59 Q2286.23 1039.27 2283.13 1042.48 Q2280.03 1045.68 2274.38 1051.44 Z\" fill=\"#f8f8f2\" fill-rule=\"nonzero\" fill-opacity=\"1\" /><path clip-path=\"url(#clip870)\" d=\"M2310.51 1023.89 Q2306.9 1023.89 2305.08 1027.46 Q2303.27 1031 2303.27 1038.13 Q2303.27 1045.24 2305.08 1048.8 Q2306.9 1052.34 2310.51 1052.34 Q2314.15 1052.34 2315.95 1048.8 Q2317.78 1045.24 2317.78 1038.13 Q2317.78 1031 2315.95 1027.46 Q2314.15 1023.89 2310.51 1023.89 M2310.51 1020.19 Q2316.33 1020.19 2319.38 1024.8 Q2322.46 1029.38 2322.46 1038.13 Q2322.46 1046.86 2319.38 1051.46 Q2316.33 1056.05 2310.51 1056.05 Q2304.7 1056.05 2301.63 1051.46 Q2298.57 1046.86 2298.57 1038.13 Q2298.57 1029.38 2301.63 1024.8 Q2304.7 1020.19 2310.51 1020.19 Z\" fill=\"#f8f8f2\" fill-rule=\"nonzero\" fill-opacity=\"1\" /><path clip-path=\"url(#clip870)\" d=\"M2340.68 1023.89 Q2337.07 1023.89 2335.24 1027.46 Q2333.43 1031 2333.43 1038.13 Q2333.43 1045.24 2335.24 1048.8 Q2337.07 1052.34 2340.68 1052.34 Q2344.31 1052.34 2346.12 1048.8 Q2347.95 1045.24 2347.95 1038.13 Q2347.95 1031 2346.12 1027.46 Q2344.31 1023.89 2340.68 1023.89 M2340.68 1020.19 Q2346.49 1020.19 2349.54 1024.8 Q2352.62 1029.38 2352.62 1038.13 Q2352.62 1046.86 2349.54 1051.46 Q2346.49 1056.05 2340.68 1056.05 Q2334.87 1056.05 2331.79 1051.46 Q2328.73 1046.86 2328.73 1038.13 Q2328.73 1029.38 2331.79 1024.8 Q2334.87 1020.19 2340.68 1020.19 Z\" fill=\"#f8f8f2\" fill-rule=\"nonzero\" fill-opacity=\"1\" /><path clip-path=\"url(#clip870)\" d=\"M2284.38 813.263 Q2287.74 813.981 2289.61 816.249 Q2291.51 818.518 2291.51 821.851 Q2291.51 826.967 2287.99 829.768 Q2284.47 832.569 2277.99 832.569 Q2275.82 832.569 2273.5 832.129 Q2271.21 831.712 2268.76 830.856 L2268.76 826.342 Q2270.7 827.476 2273.02 828.055 Q2275.33 828.633 2277.85 828.633 Q2282.25 828.633 2284.54 826.897 Q2286.86 825.161 2286.86 821.851 Q2286.86 818.796 2284.7 817.083 Q2282.58 815.346 2278.76 815.346 L2274.73 815.346 L2274.73 811.504 L2278.94 811.504 Q2282.39 811.504 2284.22 810.138 Q2286.05 808.749 2286.05 806.157 Q2286.05 803.495 2284.15 802.083 Q2282.27 800.647 2278.76 800.647 Q2276.83 800.647 2274.64 801.064 Q2272.44 801.481 2269.8 802.36 L2269.8 798.194 Q2272.46 797.453 2274.77 797.083 Q2277.11 796.712 2279.17 796.712 Q2284.5 796.712 2287.6 799.143 Q2290.7 801.55 2290.7 805.671 Q2290.7 808.541 2289.06 810.532 Q2287.41 812.499 2284.38 813.263 Z\" fill=\"#f8f8f2\" fill-rule=\"nonzero\" fill-opacity=\"1\" /><path clip-path=\"url(#clip870)\" d=\"M2310.38 800.416 Q2306.76 800.416 2304.94 803.981 Q2303.13 807.522 2303.13 814.652 Q2303.13 821.758 2304.94 825.323 Q2306.76 828.865 2310.38 828.865 Q2314.01 828.865 2315.82 825.323 Q2317.64 821.758 2317.64 814.652 Q2317.64 807.522 2315.82 803.981 Q2314.01 800.416 2310.38 800.416 M2310.38 796.712 Q2316.19 796.712 2319.24 801.319 Q2322.32 805.902 2322.32 814.652 Q2322.32 823.379 2319.24 827.985 Q2316.19 832.569 2310.38 832.569 Q2304.57 832.569 2301.49 827.985 Q2298.43 823.379 2298.43 814.652 Q2298.43 805.902 2301.49 801.319 Q2304.57 796.712 2310.38 796.712 Z\" fill=\"#f8f8f2\" fill-rule=\"nonzero\" fill-opacity=\"1\" /><path clip-path=\"url(#clip870)\" d=\"M2340.54 800.416 Q2336.93 800.416 2335.1 803.981 Q2333.29 807.522 2333.29 814.652 Q2333.29 821.758 2335.1 825.323 Q2336.93 828.865 2340.54 828.865 Q2344.17 828.865 2345.98 825.323 Q2347.81 821.758 2347.81 814.652 Q2347.81 807.522 2345.98 803.981 Q2344.17 800.416 2340.54 800.416 M2340.54 796.712 Q2346.35 796.712 2349.4 801.319 Q2352.48 805.902 2352.48 814.652 Q2352.48 823.379 2349.4 827.985 Q2346.35 832.569 2340.54 832.569 Q2334.73 832.569 2331.65 827.985 Q2328.59 823.379 2328.59 814.652 Q2328.59 805.902 2331.65 801.319 Q2334.73 796.712 2340.54 796.712 Z\" fill=\"#f8f8f2\" fill-rule=\"nonzero\" fill-opacity=\"1\" /><path clip-path=\"url(#clip870)\" d=\"M2284.36 577.933 L2272.55 596.381 L2284.36 596.381 L2284.36 577.933 M2283.13 573.858 L2289.01 573.858 L2289.01 596.381 L2293.94 596.381 L2293.94 600.27 L2289.01 600.27 L2289.01 608.418 L2284.36 608.418 L2284.36 600.27 L2268.76 600.27 L2268.76 595.757 L2283.13 573.858 Z\" fill=\"#f8f8f2\" fill-rule=\"nonzero\" fill-opacity=\"1\" /><path clip-path=\"url(#clip870)\" d=\"M2311.67 576.937 Q2308.06 576.937 2306.23 580.502 Q2304.43 584.044 2304.43 591.173 Q2304.43 598.28 2306.23 601.844 Q2308.06 605.386 2311.67 605.386 Q2315.31 605.386 2317.11 601.844 Q2318.94 598.28 2318.94 591.173 Q2318.94 584.044 2317.11 580.502 Q2315.31 576.937 2311.67 576.937 M2311.67 573.233 Q2317.48 573.233 2320.54 577.84 Q2323.62 582.423 2323.62 591.173 Q2323.62 599.9 2320.54 604.506 Q2317.48 609.09 2311.67 609.09 Q2305.86 609.09 2302.78 604.506 Q2299.73 599.9 2299.73 591.173 Q2299.73 582.423 2302.78 577.84 Q2305.86 573.233 2311.67 573.233 Z\" fill=\"#f8f8f2\" fill-rule=\"nonzero\" fill-opacity=\"1\" /><path clip-path=\"url(#clip870)\" d=\"M2341.83 576.937 Q2338.22 576.937 2336.39 580.502 Q2334.59 584.044 2334.59 591.173 Q2334.59 598.28 2336.39 601.844 Q2338.22 605.386 2341.83 605.386 Q2345.47 605.386 2347.27 601.844 Q2349.1 598.28 2349.1 591.173 Q2349.1 584.044 2347.27 580.502 Q2345.47 576.937 2341.83 576.937 M2341.83 573.233 Q2347.64 573.233 2350.7 577.84 Q2353.78 582.423 2353.78 591.173 Q2353.78 599.9 2350.7 604.506 Q2347.64 609.09 2341.83 609.09 Q2336.02 609.09 2332.95 604.506 Q2329.89 599.9 2329.89 591.173 Q2329.89 582.423 2332.95 577.84 Q2336.02 573.233 2341.83 573.233 Z\" fill=\"#f8f8f2\" fill-rule=\"nonzero\" fill-opacity=\"1\" /><path clip-path=\"url(#clip870)\" d=\"M2270.21 350.38 L2288.57 350.38 L2288.57 354.315 L2274.5 354.315 L2274.5 362.787 Q2275.52 362.44 2276.53 362.278 Q2277.55 362.093 2278.57 362.093 Q2284.36 362.093 2287.74 365.264 Q2291.12 368.435 2291.12 373.852 Q2291.12 379.43 2287.64 382.532 Q2284.17 385.611 2277.85 385.611 Q2275.68 385.611 2273.41 385.241 Q2271.16 384.87 2268.76 384.129 L2268.76 379.43 Q2270.84 380.565 2273.06 381.12 Q2275.28 381.676 2277.76 381.676 Q2281.77 381.676 2284.1 379.569 Q2286.44 377.463 2286.44 373.852 Q2286.44 370.241 2284.1 368.134 Q2281.77 366.028 2277.76 366.028 Q2275.89 366.028 2274.01 366.444 Q2272.16 366.861 2270.21 367.741 L2270.21 350.38 Z\" fill=\"#f8f8f2\" fill-rule=\"nonzero\" fill-opacity=\"1\" /><path clip-path=\"url(#clip870)\" d=\"M2310.33 353.458 Q2306.72 353.458 2304.89 357.023 Q2303.08 360.565 2303.08 367.694 Q2303.08 374.801 2304.89 378.366 Q2306.72 381.907 2310.33 381.907 Q2313.96 381.907 2315.77 378.366 Q2317.6 374.801 2317.6 367.694 Q2317.6 360.565 2315.77 357.023 Q2313.96 353.458 2310.33 353.458 M2310.33 349.755 Q2316.14 349.755 2319.2 354.361 Q2322.27 358.944 2322.27 367.694 Q2322.27 376.421 2319.2 381.028 Q2316.14 385.611 2310.33 385.611 Q2304.52 385.611 2301.44 381.028 Q2298.39 376.421 2298.39 367.694 Q2298.39 358.944 2301.44 354.361 Q2304.52 349.755 2310.33 349.755 Z\" fill=\"#f8f8f2\" fill-rule=\"nonzero\" fill-opacity=\"1\" /><path clip-path=\"url(#clip870)\" d=\"M2340.49 353.458 Q2336.88 353.458 2335.05 357.023 Q2333.25 360.565 2333.25 367.694 Q2333.25 374.801 2335.05 378.366 Q2336.88 381.907 2340.49 381.907 Q2344.13 381.907 2345.93 378.366 Q2347.76 374.801 2347.76 367.694 Q2347.76 360.565 2345.93 357.023 Q2344.13 353.458 2340.49 353.458 M2340.49 349.755 Q2346.3 349.755 2349.36 354.361 Q2352.44 358.944 2352.44 367.694 Q2352.44 376.421 2349.36 381.028 Q2346.3 385.611 2340.49 385.611 Q2334.68 385.611 2331.6 381.028 Q2328.55 376.421 2328.55 367.694 Q2328.55 358.944 2331.6 354.361 Q2334.68 349.755 2340.49 349.755 Z\" fill=\"#f8f8f2\" fill-rule=\"nonzero\" fill-opacity=\"1\" /><path clip-path=\"url(#clip870)\" d=\"M2281.09 142.317 Q2277.95 142.317 2276.09 144.47 Q2274.27 146.623 2274.27 150.373 Q2274.27 154.1 2276.09 156.276 Q2277.95 158.428 2281.09 158.428 Q2284.24 158.428 2286.07 156.276 Q2287.92 154.1 2287.92 150.373 Q2287.92 146.623 2286.07 144.47 Q2284.24 142.317 2281.09 142.317 M2290.38 127.665 L2290.38 131.924 Q2288.62 131.091 2286.81 130.651 Q2285.03 130.211 2283.27 130.211 Q2278.64 130.211 2276.19 133.336 Q2273.76 136.461 2273.41 142.78 Q2274.77 140.766 2276.83 139.702 Q2278.89 138.614 2281.37 138.614 Q2286.58 138.614 2289.59 141.785 Q2292.62 144.933 2292.62 150.373 Q2292.62 155.697 2289.47 158.914 Q2286.33 162.132 2281.09 162.132 Q2275.1 162.132 2271.93 157.549 Q2268.76 152.942 2268.76 144.215 Q2268.76 136.021 2272.64 131.16 Q2276.53 126.276 2283.08 126.276 Q2284.84 126.276 2286.63 126.623 Q2288.43 126.97 2290.38 127.665 Z\" fill=\"#f8f8f2\" fill-rule=\"nonzero\" fill-opacity=\"1\" /><path clip-path=\"url(#clip870)\" d=\"M2310.68 129.979 Q2307.07 129.979 2305.24 133.544 Q2303.43 137.086 2303.43 144.215 Q2303.43 151.322 2305.24 154.887 Q2307.07 158.428 2310.68 158.428 Q2314.31 158.428 2316.12 154.887 Q2317.95 151.322 2317.95 144.215 Q2317.95 137.086 2316.12 133.544 Q2314.31 129.979 2310.68 129.979 M2310.68 126.276 Q2316.49 126.276 2319.54 130.882 Q2322.62 135.466 2322.62 144.215 Q2322.62 152.942 2319.54 157.549 Q2316.49 162.132 2310.68 162.132 Q2304.87 162.132 2301.79 157.549 Q2298.73 152.942 2298.73 144.215 Q2298.73 135.466 2301.79 130.882 Q2304.87 126.276 2310.68 126.276 Z\" fill=\"#f8f8f2\" fill-rule=\"nonzero\" fill-opacity=\"1\" /><path clip-path=\"url(#clip870)\" d=\"M2340.84 129.979 Q2337.23 129.979 2335.4 133.544 Q2333.59 137.086 2333.59 144.215 Q2333.59 151.322 2335.4 154.887 Q2337.23 158.428 2340.84 158.428 Q2344.47 158.428 2346.28 154.887 Q2348.11 151.322 2348.11 144.215 Q2348.11 137.086 2346.28 133.544 Q2344.47 129.979 2340.84 129.979 M2340.84 126.276 Q2346.65 126.276 2349.7 130.882 Q2352.78 135.466 2352.78 144.215 Q2352.78 152.942 2349.7 157.549 Q2346.65 162.132 2340.84 162.132 Q2335.03 162.132 2331.95 157.549 Q2328.89 152.942 2328.89 144.215 Q2328.89 135.466 2331.95 130.882 Q2335.03 126.276 2340.84 126.276 Z\" fill=\"#f8f8f2\" fill-rule=\"nonzero\" fill-opacity=\"1\" /><polyline clip-path=\"url(#clip870)\" style=\"stroke:#000000; stroke-linecap:round; stroke-linejoin:round; stroke-width:4; stroke-opacity:1; fill:none\" points=\"2232.76,1486.45 2232.76,1265.2 2256.76,1265.2 2232.76,1265.2 2232.76,1041.72 2256.76,1041.72 2232.76,1041.72 2232.76,818.246 2256.76,818.246 2232.76,818.246 2232.76,594.767 2256.76,594.767 2232.76,594.767 2232.76,371.288 2256.76,371.288 2232.76,371.288 2232.76,147.81 2256.76,147.81 2232.76,147.81 2232.76,47.2441 \"/>\n",
       "</svg>\n"
      ]
     },
     "execution_count": 92,
     "metadata": {},
     "output_type": "execute_result"
    }
   ],
   "source": [
    "x = randn(10^5)\n",
    "y = randn(10^5)\n",
    "histogram2d(x, y, bins=(64, 64))"
   ]
  },
  {
   "cell_type": "markdown",
   "metadata": {},
   "source": [
    "### Importing Data\n",
    "Bring data from external files into ${\\tt Julia}$."
   ]
  },
  {
   "cell_type": "markdown",
   "metadata": {},
   "source": [
    "Data is typically stored in files, such as _CSV_ or _JSON_ files. In order to train and test machine learning models, the data needs to be loaded into the program. Additionally, the results of the training and testing process, such as model weights and performance metrics, also need to be saved to files. Therefore, the ability to manipulate files is essential for loading and saving data and model information in the machine learning process."
   ]
  },
  {
   "cell_type": "code",
   "execution_count": 93,
   "metadata": {},
   "outputs": [
    {
     "name": "stderr",
     "output_type": "stream",
     "text": [
      "\u001b[32m\u001b[1m   Resolving\u001b[22m\u001b[39m package versions...\n",
      "\u001b[32m\u001b[1m  No Changes\u001b[22m\u001b[39m to `~/MEGA/git-repos/infodev/Codes/Project.toml`\n",
      "\u001b[32m\u001b[1m  No Changes\u001b[22m\u001b[39m to `~/MEGA/git-repos/infodev/Codes/Manifest.toml`\n",
      "\u001b[32m\u001b[1m   Resolving\u001b[22m\u001b[39m package versions...\n",
      "\u001b[32m\u001b[1m  No Changes\u001b[22m\u001b[39m to `~/MEGA/git-repos/infodev/Codes/Project.toml`\n",
      "\u001b[32m\u001b[1m  No Changes\u001b[22m\u001b[39m to `~/MEGA/git-repos/infodev/Codes/Manifest.toml`\n"
     ]
    }
   ],
   "source": [
    "using Pkg\n",
    "Pkg.add(\"DataFrames\")\n",
    "Pkg.add(\"CSV\")"
   ]
  },
  {
   "cell_type": "code",
   "execution_count": 94,
   "metadata": {},
   "outputs": [
    {
     "data": {
      "text/latex": [
       "Create new CSV file\n",
       "\n"
      ],
      "text/markdown": [
       "Create new CSV file\n"
      ],
      "text/plain": [
       "  Create new CSV file"
      ]
     },
     "execution_count": 94,
     "metadata": {},
     "output_type": "execute_result"
    }
   ],
   "source": [
    "md\"Create new CSV file\""
   ]
  },
  {
   "cell_type": "code",
   "execution_count": 95,
   "metadata": {},
   "outputs": [],
   "source": [
    "using CSV, DataFrames"
   ]
  },
  {
   "cell_type": "code",
   "execution_count": 96,
   "metadata": {},
   "outputs": [
    {
     "data": {
      "text/latex": [
       "\\texttt{touch} command allows to create a file if it doesn't exist. Otherwise, it changes the file timestamps.\n",
       "\n"
      ],
      "text/markdown": [
       "`touch` command allows to create a file if it doesn't exist. Otherwise, it changes the file timestamps.\n"
      ],
      "text/plain": [
       "  \u001b[36mtouch\u001b[39m command allows to create a file if it doesn't exist. Otherwise, it\n",
       "  changes the file timestamps."
      ]
     },
     "execution_count": 96,
     "metadata": {},
     "output_type": "execute_result"
    }
   ],
   "source": [
    "md\"`touch` command allows to create a file if it doesn't exist. Otherwise, it changes the file timestamps.\""
   ]
  },
  {
   "cell_type": "code",
   "execution_count": 97,
   "metadata": {},
   "outputs": [
    {
     "data": {
      "text/plain": [
       "\"test-file.csv\""
      ]
     },
     "execution_count": 97,
     "metadata": {},
     "output_type": "execute_result"
    }
   ],
   "source": [
    "touch(\"test-file.csv\")"
   ]
  },
  {
   "cell_type": "code",
   "execution_count": 98,
   "metadata": {},
   "outputs": [
    {
     "name": "stdout",
     "output_type": "stream",
     "text": [
      "-rw-rw-r-- 1 mhamdi mhamdi 66 Feb 19 16:32 test-file.csv\n"
     ]
    }
   ],
   "source": [
    ";ls -la test-file.csv"
   ]
  },
  {
   "cell_type": "code",
   "execution_count": 99,
   "metadata": {},
   "outputs": [
    {
     "data": {
      "text/plain": [
       "IOStream(<file test-file.csv>)"
      ]
     },
     "execution_count": 99,
     "metadata": {},
     "output_type": "execute_result"
    }
   ],
   "source": [
    "file = open(\"test-file.csv\", \"w\")"
   ]
  },
  {
   "cell_type": "code",
   "execution_count": 100,
   "metadata": {},
   "outputs": [
    {
     "data": {
      "text/latex": [
       "Let's create some imaginary data\n",
       "\n"
      ],
      "text/markdown": [
       "Let's create some imaginary data\n"
      ],
      "text/plain": [
       "  Let's create some imaginary data"
      ]
     },
     "execution_count": 100,
     "metadata": {},
     "output_type": "execute_result"
    }
   ],
   "source": [
    "md\"Let's create some imaginary data\""
   ]
  },
  {
   "cell_type": "code",
   "execution_count": 101,
   "metadata": {},
   "outputs": [
    {
     "data": {
      "text/html": [
       "<div><div style = \"float: left;\"><span>4×3 DataFrame</span></div><div style = \"clear: both;\"></div></div><div class = \"data-frame\" style = \"overflow-x: scroll;\"><table class = \"data-frame\" style = \"margin-bottom: 6px;\"><thead><tr class = \"header\"><th class = \"rowNumber\" style = \"font-weight: bold; text-align: right;\">Row</th><th style = \"text-align: left;\">Student</th><th style = \"text-align: left;\">Id</th><th style = \"text-align: left;\">Marks</th></tr><tr class = \"subheader headerLastRow\"><th class = \"rowNumber\" style = \"font-weight: bold; text-align: right;\"></th><th title = \"String\" style = \"text-align: left;\">String</th><th title = \"Int64\" style = \"text-align: left;\">Int64</th><th title = \"Float64\" style = \"text-align: left;\">Float64</th></tr></thead><tbody><tr><td class = \"rowNumber\" style = \"font-weight: bold; text-align: right;\">1</td><td style = \"text-align: left;\">Mohamed</td><td style = \"text-align: right;\">1</td><td style = \"text-align: right;\">18.0</td></tr><tr><td class = \"rowNumber\" style = \"font-weight: bold; text-align: right;\">2</td><td style = \"text-align: left;\">Aymen</td><td style = \"text-align: right;\">2</td><td style = \"text-align: right;\">7.0</td></tr><tr><td class = \"rowNumber\" style = \"font-weight: bold; text-align: right;\">3</td><td style = \"text-align: left;\">Rami</td><td style = \"text-align: right;\">3</td><td style = \"text-align: right;\">12.0</td></tr><tr><td class = \"rowNumber\" style = \"font-weight: bold; text-align: right;\">4</td><td style = \"text-align: left;\">Ala</td><td style = \"text-align: right;\">4</td><td style = \"text-align: right;\">5.5</td></tr></tbody></table></div>"
      ],
      "text/latex": [
       "\\begin{tabular}{r|ccc}\n",
       "\t& Student & Id & Marks\\\\\n",
       "\t\\hline\n",
       "\t& String & Int64 & Float64\\\\\n",
       "\t\\hline\n",
       "\t1 & Mohamed & 1 & 18.0 \\\\\n",
       "\t2 & Aymen & 2 & 7.0 \\\\\n",
       "\t3 & Rami & 3 & 12.0 \\\\\n",
       "\t4 & Ala & 4 & 5.5 \\\\\n",
       "\\end{tabular}\n"
      ],
      "text/plain": [
       "\u001b[1m4×3 DataFrame\u001b[0m\n",
       "\u001b[1m Row \u001b[0m│\u001b[1m Student \u001b[0m\u001b[1m Id    \u001b[0m\u001b[1m Marks   \u001b[0m\n",
       "     │\u001b[90m String  \u001b[0m\u001b[90m Int64 \u001b[0m\u001b[90m Float64 \u001b[0m\n",
       "─────┼─────────────────────────\n",
       "   1 │ Mohamed      1     18.0\n",
       "   2 │ Aymen        2      7.0\n",
       "   3 │ Rami         3     12.0\n",
       "   4 │ Ala          4      5.5"
      ]
     },
     "execution_count": 101,
     "metadata": {},
     "output_type": "execute_result"
    }
   ],
   "source": [
    "df = DataFrame(\n",
    "        Student = [\"Mohamed\", \"Aymen\", \"Rami\", \"Ala\"],\n",
    "        Id = [1, 2, 3, 4],\n",
    "        Marks = [18, 7, 12, 5.5]\n",
    "        )"
   ]
  },
  {
   "cell_type": "code",
   "execution_count": 102,
   "metadata": {},
   "outputs": [
    {
     "data": {
      "text/latex": [
       "Write \\texttt{df} to file\n",
       "\n"
      ],
      "text/markdown": [
       "Write `df` to file\n"
      ],
      "text/plain": [
       "  Write \u001b[36mdf\u001b[39m to file"
      ]
     },
     "execution_count": 102,
     "metadata": {},
     "output_type": "execute_result"
    }
   ],
   "source": [
    "md\"Write `df` to file\""
   ]
  },
  {
   "cell_type": "code",
   "execution_count": 103,
   "metadata": {},
   "outputs": [
    {
     "data": {
      "text/plain": [
       "\"test-file.csv\""
      ]
     },
     "execution_count": 103,
     "metadata": {},
     "output_type": "execute_result"
    }
   ],
   "source": [
    "CSV.write(\"test-file.csv\", df)"
   ]
  },
  {
   "cell_type": "code",
   "execution_count": 104,
   "metadata": {},
   "outputs": [
    {
     "data": {
      "text/latex": [
       "Open the CSV file and add some contents. See what happens when we load it again.\n",
       "\n"
      ],
      "text/markdown": [
       "Open the CSV file and add some contents. See what happens when we load it again.\n"
      ],
      "text/plain": [
       "  Open the CSV file and add some contents. See what happens when we load it\n",
       "  again."
      ]
     },
     "execution_count": 104,
     "metadata": {},
     "output_type": "execute_result"
    }
   ],
   "source": [
    "md\"Open the CSV file and add some contents. See what happens when we load it again.\""
   ]
  },
  {
   "cell_type": "code",
   "execution_count": 105,
   "metadata": {},
   "outputs": [
    {
     "data": {
      "text/html": [
       "<div><div style = \"float: left;\"><span>4×3 DataFrame</span></div><div style = \"clear: both;\"></div></div><div class = \"data-frame\" style = \"overflow-x: scroll;\"><table class = \"data-frame\" style = \"margin-bottom: 6px;\"><thead><tr class = \"header\"><th class = \"rowNumber\" style = \"font-weight: bold; text-align: right;\">Row</th><th style = \"text-align: left;\">Student</th><th style = \"text-align: left;\">Id</th><th style = \"text-align: left;\">Marks</th></tr><tr class = \"subheader headerLastRow\"><th class = \"rowNumber\" style = \"font-weight: bold; text-align: right;\"></th><th title = \"String7\" style = \"text-align: left;\">String7</th><th title = \"Int64\" style = \"text-align: left;\">Int64</th><th title = \"Float64\" style = \"text-align: left;\">Float64</th></tr></thead><tbody><tr><td class = \"rowNumber\" style = \"font-weight: bold; text-align: right;\">1</td><td style = \"text-align: left;\">Mohamed</td><td style = \"text-align: right;\">1</td><td style = \"text-align: right;\">18.0</td></tr><tr><td class = \"rowNumber\" style = \"font-weight: bold; text-align: right;\">2</td><td style = \"text-align: left;\">Aymen</td><td style = \"text-align: right;\">2</td><td style = \"text-align: right;\">7.0</td></tr><tr><td class = \"rowNumber\" style = \"font-weight: bold; text-align: right;\">3</td><td style = \"text-align: left;\">Rami</td><td style = \"text-align: right;\">3</td><td style = \"text-align: right;\">12.0</td></tr><tr><td class = \"rowNumber\" style = \"font-weight: bold; text-align: right;\">4</td><td style = \"text-align: left;\">Ala</td><td style = \"text-align: right;\">4</td><td style = \"text-align: right;\">5.5</td></tr></tbody></table></div>"
      ],
      "text/latex": [
       "\\begin{tabular}{r|ccc}\n",
       "\t& Student & Id & Marks\\\\\n",
       "\t\\hline\n",
       "\t& String7 & Int64 & Float64\\\\\n",
       "\t\\hline\n",
       "\t1 & Mohamed & 1 & 18.0 \\\\\n",
       "\t2 & Aymen & 2 & 7.0 \\\\\n",
       "\t3 & Rami & 3 & 12.0 \\\\\n",
       "\t4 & Ala & 4 & 5.5 \\\\\n",
       "\\end{tabular}\n"
      ],
      "text/plain": [
       "\u001b[1m4×3 DataFrame\u001b[0m\n",
       "\u001b[1m Row \u001b[0m│\u001b[1m Student \u001b[0m\u001b[1m Id    \u001b[0m\u001b[1m Marks   \u001b[0m\n",
       "     │\u001b[90m String7 \u001b[0m\u001b[90m Int64 \u001b[0m\u001b[90m Float64 \u001b[0m\n",
       "─────┼─────────────────────────\n",
       "   1 │ Mohamed      1     18.0\n",
       "   2 │ Aymen        2      7.0\n",
       "   3 │ Rami         3     12.0\n",
       "   4 │ Ala          4      5.5"
      ]
     },
     "execution_count": 105,
     "metadata": {},
     "output_type": "execute_result"
    }
   ],
   "source": [
    "CSV.read(\"test-file.csv\", DataFrame)"
   ]
  },
  {
   "cell_type": "markdown",
   "metadata": {},
   "source": [
    "### Logical Arrays\n",
    "Use logical expressions to help extracting elements of interest from ${\\tt Julia}$ arrays."
   ]
  },
  {
   "cell_type": "code",
   "execution_count": 106,
   "metadata": {},
   "outputs": [
    {
     "name": "stdout",
     "output_type": "stream",
     "text": [
      "ComplexF64[1.0 + 0.0im, 2.0 + 0.0im, -5.0 + 0.0im, 7.2 + 0.0im, 0.0 + 3.0im]\n"
     ]
    },
    {
     "data": {
      "text/plain": [
       "Vector{ComplexF64}\u001b[90m (alias for \u001b[39m\u001b[90mArray{Complex{Float64}, 1}\u001b[39m\u001b[90m)\u001b[39m"
      ]
     },
     "execution_count": 106,
     "metadata": {},
     "output_type": "execute_result"
    }
   ],
   "source": [
    "x = [1, 2, -5, 7.2, 3im]\n",
    "println(x)\n",
    "typeof(x)"
   ]
  },
  {
   "cell_type": "code",
   "execution_count": 107,
   "metadata": {},
   "outputs": [
    {
     "name": "stdout",
     "output_type": "stream",
     "text": [
      "ComplexF64[2.0 + 0.0im, 0.0 + 3.0im]"
     ]
    }
   ],
   "source": [
    "idx = [false, true, false, false, true]\n",
    "print(x[idx])"
   ]
  },
  {
   "cell_type": "code",
   "execution_count": 108,
   "metadata": {},
   "outputs": [
    {
     "data": {
      "text/plain": [
       "5×4 Matrix{Float64}:\n",
       " -2.00391e-255  -1.17454e-223   5.0e-324       6.93707e-310\n",
       " -9.17617e-67    5.0e-324       6.93707e-310  -1.98921e-38\n",
       "  5.0e-324       6.937e-310    -7.11175e-71    3.15894e121\n",
       "  6.93702e-310  -1.89771e-64    2.39753e-135   5.0e-324\n",
       " -5.93036e-164   3.08246e25     5.0e-324       6.93707e-310"
      ]
     },
     "execution_count": 108,
     "metadata": {},
     "output_type": "execute_result"
    }
   ],
   "source": [
    "M = Array{Float64, 2}(undef, 5, 4)"
   ]
  },
  {
   "cell_type": "code",
   "execution_count": 109,
   "metadata": {},
   "outputs": [],
   "source": [
    "row_idx = [true, false, true, true, false];\n",
    "col_idx = [false, true, true, false];"
   ]
  },
  {
   "cell_type": "code",
   "execution_count": 110,
   "metadata": {},
   "outputs": [
    {
     "data": {
      "text/plain": [
       "3×4 Matrix{Float64}:\n",
       " -2.00391e-255  -1.17454e-223   5.0e-324      6.93707e-310\n",
       "  5.0e-324       6.937e-310    -7.11175e-71   3.15894e121\n",
       "  6.93702e-310  -1.89771e-64    2.39753e-135  5.0e-324"
      ]
     },
     "execution_count": 110,
     "metadata": {},
     "output_type": "execute_result"
    }
   ],
   "source": [
    "M[row_idx, :]"
   ]
  },
  {
   "cell_type": "code",
   "execution_count": 111,
   "metadata": {},
   "outputs": [
    {
     "data": {
      "text/plain": [
       "5×2 Matrix{Float64}:\n",
       " -1.17454e-223   5.0e-324\n",
       "  5.0e-324       6.93707e-310\n",
       "  6.937e-310    -7.11175e-71\n",
       " -1.89771e-64    2.39753e-135\n",
       "  3.08246e25     5.0e-324"
      ]
     },
     "execution_count": 111,
     "metadata": {},
     "output_type": "execute_result"
    }
   ],
   "source": [
    "M[:, col_idx]"
   ]
  },
  {
   "cell_type": "code",
   "execution_count": 112,
   "metadata": {},
   "outputs": [
    {
     "data": {
      "text/plain": [
       "3×2 Matrix{Float64}:\n",
       " -1.17454e-223   5.0e-324\n",
       "  6.937e-310    -7.11175e-71\n",
       " -1.89771e-64    2.39753e-135"
      ]
     },
     "execution_count": 112,
     "metadata": {},
     "output_type": "execute_result"
    }
   ],
   "source": [
    "M[row_idx, col_idx]"
   ]
  },
  {
   "cell_type": "markdown",
   "metadata": {},
   "source": [
    "### Programming\n",
    "Write programs that execute code based on some condition."
   ]
  },
  {
   "cell_type": "code",
   "execution_count": 113,
   "metadata": {},
   "outputs": [
    {
     "data": {
      "text/latex": [
       "\\textbf{Conditional Evaluation}\n",
       "\n"
      ],
      "text/markdown": [
       "**Conditional Evaluation**\n"
      ],
      "text/plain": [
       "  \u001b[1mConditional Evaluation\u001b[22m"
      ]
     },
     "execution_count": 113,
     "metadata": {},
     "output_type": "execute_result"
    }
   ],
   "source": [
    "md\"**Conditional Evaluation**\""
   ]
  },
  {
   "cell_type": "code",
   "execution_count": 114,
   "metadata": {},
   "outputs": [
    {
     "name": "stdout",
     "output_type": "stream",
     "text": [
      "π is equal to π\n"
     ]
    }
   ],
   "source": [
    "a, b = π, π\n",
    "if a < b\n",
    "    println(\"$a is less than $b\")\n",
    "elseif a > b\n",
    "    println(\"$a is greater than $b\")\n",
    "else\n",
    "    println(\"$a is equal to $b\")\n",
    "end"
   ]
  },
  {
   "cell_type": "code",
   "execution_count": 115,
   "metadata": {},
   "outputs": [
    {
     "data": {
      "text/latex": [
       "\\textbf{\\texttt{While} Loop}\n",
       "\n"
      ],
      "text/markdown": [
       "**`While` Loop**\n"
      ],
      "text/plain": [
       "  \u001b[1m\u001b[36mWhile\u001b[39m Loop\u001b[22m"
      ]
     },
     "execution_count": 115,
     "metadata": {},
     "output_type": "execute_result"
    }
   ],
   "source": [
    "md\"**`While` Loop**\""
   ]
  },
  {
   "cell_type": "code",
   "execution_count": 116,
   "metadata": {},
   "outputs": [
    {
     "name": "stdout",
     "output_type": "stream",
     "text": [
      "Item #1 is Blueberry\n",
      "Item #2 is Orange\n",
      "Item #3 is Banana\n",
      "Item #4 is Raspberry\n",
      "Item #5 is Strawberry\n"
     ]
    }
   ],
   "source": [
    "fruits = [\"Blueberry\", \"Orange\", \"Banana\", \"Raspberry\", \"Strawberry\"]\n",
    "iter = 1\n",
    "while iter ≤ length(fruits)\n",
    "    println(\"Item #$iter is $(fruits[iter])\")\n",
    "    iter +=1\n",
    "end"
   ]
  },
  {
   "cell_type": "code",
   "execution_count": 117,
   "metadata": {},
   "outputs": [
    {
     "data": {
      "text/latex": [
       "\\textbf{\\texttt{For} Loop}\n",
       "\n"
      ],
      "text/markdown": [
       "**`For` Loop**\n"
      ],
      "text/plain": [
       "  \u001b[1m\u001b[36mFor\u001b[39m Loop\u001b[22m"
      ]
     },
     "execution_count": 117,
     "metadata": {},
     "output_type": "execute_result"
    }
   ],
   "source": [
    "md\"**`For` Loop**\""
   ]
  },
  {
   "cell_type": "code",
   "execution_count": 118,
   "metadata": {},
   "outputs": [
    {
     "name": "stdout",
     "output_type": "stream",
     "text": [
      "Item #1 is Broccoli\n",
      "Item #2 is Garlic\n",
      "Item #3 is Mushrooms\n",
      "Item #4 is Potatoes\n",
      "Item #5 is Tomatoes\n"
     ]
    }
   ],
   "source": [
    "vegetables = [\"Broccoli\", \"Garlic\", \"Mushrooms\", \"Potatoes\", \"Tomatoes\"]\n",
    "i = 1\n",
    "for item in vegetables\n",
    "    println(\"Item #$i is $item\")\n",
    "    i += 1\n",
    "end"
   ]
  },
  {
   "cell_type": "markdown",
   "metadata": {},
   "source": [
    "### Final Project\n",
    "Bring together concepts that you have learned with a project."
   ]
  },
  {
   "cell_type": "markdown",
   "metadata": {},
   "source": [
    "This simple project consists of implementing a basic calculator. This latter could have the ability to perform basic arithmetic operations like _addition_, _subtraction_, _multiplication_, and _division_.\n",
    "\n",
    "Here are the steps to be followed:\n",
    "1. Create a function called `calculator()` that takes two arguments, `x` and `y`, and a char operation that specifies which operation to perform.\n",
    "1. Use an `if-else` statement to check the value of operation. Depending on the value of operation, call the appropriate function to perform the calculation.\n",
    "1. Test the calculator function by calling it with different values for `x`, `y`, and operation and printing the result.\n",
    "1. Once the basic calculator is working, we can improve it by adding more functionality such as handling decimals and negative numbers, or implementing more advanced operations such as square root, power, trigonometry and so on.\n",
    "1. Finally, we could also experiment with different input types, such as command line arguments or a graphical user interface."
   ]
  },
  {
   "cell_type": "code",
   "execution_count": 119,
   "metadata": {},
   "outputs": [
    {
     "data": {
      "text/latex": [
       "Here is an example of how the basic calculator function could look like:\n",
       "\n"
      ],
      "text/markdown": [
       "Here is an example of how the basic calculator function could look like:\n"
      ],
      "text/plain": [
       "  Here is an example of how the basic calculator function could look like:"
      ]
     },
     "execution_count": 119,
     "metadata": {},
     "output_type": "execute_result"
    }
   ],
   "source": [
    "md\"Here is an example of how the basic calculator function could look like:\""
   ]
  },
  {
   "cell_type": "code",
   "execution_count": 120,
   "metadata": {},
   "outputs": [
    {
     "data": {
      "text/plain": [
       "calculator (generic function with 1 method)"
      ]
     },
     "execution_count": 120,
     "metadata": {},
     "output_type": "execute_result"
    }
   ],
   "source": [
    "function calculator(x::Number, y::Number, op::Char)\n",
    "    if op == '+'\n",
    "        return x + y\n",
    "    elseif op == '-'\n",
    "        return x - y\n",
    "    elseif op == '*'\n",
    "        return x * y\n",
    "    elseif op in ['/', '÷']\n",
    "        return x / y\n",
    "    else\n",
    "        return \"INVALID OPERATION\"\n",
    "    end\n",
    "end"
   ]
  },
  {
   "cell_type": "code",
   "execution_count": 121,
   "metadata": {},
   "outputs": [
    {
     "name": "stdout",
     "output_type": "stream",
     "text": [
      "Summation is 8\n",
      "Subtraction is 2\n",
      "Multiplication is 15\n",
      "Division is 1.6666666666666667\n",
      "INVALID OPERATION\n"
     ]
    }
   ],
   "source": [
    "println(\"Summation is $(calculator(5, 3, '+'))\")\n",
    "println(\"Subtraction is $(calculator(5, 3, '-'))\")\n",
    "println(\"Multiplication is $(calculator(5, 3, '*'))\")\n",
    "println(\"Division is $(calculator(5, 3, '÷'))\")\n",
    "println(calculator(5, 3, '×'))"
   ]
  },
  {
   "cell_type": "markdown",
   "metadata": {},
   "source": [
    "**Miscallenous**"
   ]
  },
  {
   "cell_type": "code",
   "execution_count": 122,
   "metadata": {
    "tags": []
   },
   "outputs": [
    {
     "name": "stdout",
     "output_type": "stream",
     "text": [
      "Julia Version 1.9.3\n",
      "Commit bed2cd540a (2023-08-24 14:43 UTC)\n",
      "Build Info:\n",
      "\n",
      "    Note: This is an unofficial build, please report bugs to the project\n",
      "    responsible for this build and not to the Julia project unless you can\n",
      "    reproduce the issue using official builds available at https://julialang.org/downloads\n",
      "\n",
      "Platform Info:\n",
      "  OS: Linux (x86_64-linux-gnu)\n",
      "  CPU: 8 × Intel(R) Core(TM) i7-8565U CPU @ 1.80GHz\n",
      "  WORD_SIZE: 64\n",
      "  LIBM: libopenlibm\n",
      "  LLVM: libLLVM-14.0.6 (ORCJIT, skylake)\n",
      "  Threads: 2 on 8 virtual cores\n",
      "Environment:\n",
      "  DYLD_LIBRARY_PATH = /home/mhamdi/torch/install/lib:/home/mhamdi/torch/install/lib:/home/mhamdi/torch/install/lib:\n",
      "  LD_LIBRARY_PATH = /home/mhamdi/torch/install/lib:/home/mhamdi/torch/install/lib:/home/mhamdi/torch/install/lib:\n",
      "  JULIA_IMAGE_THREADS = 1\n"
     ]
    }
   ],
   "source": [
    "md\"Check your version of Julia\"\n",
    "versioninfo()"
   ]
  },
  {
   "cell_type": "code",
   "execution_count": 123,
   "metadata": {
    "tags": []
   },
   "outputs": [
    {
     "data": {
      "text/latex": [
       "The macro \\texttt{@edit} shows the defintion of a function when invoked with specific arguments\n",
       "\n"
      ],
      "text/markdown": [
       "The macro `@edit` shows the defintion of a function when invoked with specific arguments\n"
      ],
      "text/plain": [
       "  The macro \u001b[36m@edit\u001b[39m shows the defintion of a function when invoked with specific\n",
       "  arguments"
      ]
     },
     "execution_count": 123,
     "metadata": {},
     "output_type": "execute_result"
    }
   ],
   "source": [
    "md\"The macro `@edit` shows the defintion of a function when invoked with specific arguments\"\n",
    "# @edit maximum([-1, 0, 1])"
   ]
  },
  {
   "cell_type": "code",
   "execution_count": 124,
   "metadata": {
    "tags": []
   },
   "outputs": [
    {
     "data": {
      "text/latex": [
       "\\begin{tabular}\n",
       "{l | r | l}\n",
       "name & size & summary \\\\\n",
       "\\hline\n",
       "Base &  & Module \\\\\n",
       "Core &  & Module \\\\\n",
       "Foo & 0 bytes & Foo (generic function with 1 method) \\\\\n",
       "M & 200 bytes & 5×4 Matrix\\{Float64\\} \\\\\n",
       "Main &  & Module \\\\\n",
       "PLOTS\\_DEFAULTS & 456 bytes & Dict\\{Symbol, Symbol\\} with 1 entry \\\\\n",
       "a & 0 bytes & Irrational\\{:π\\} \\\\\n",
       "b & 0 bytes & Irrational\\{:π\\} \\\\\n",
       "bar & 0 bytes & bar (generic function with 1 method) \\\\\n",
       "calculator & 0 bytes & calculator (generic function with 1 method) \\\\\n",
       "col\\_idx & 44 bytes & 4-element Vector\\{Bool\\} \\\\\n",
       "df & 915 bytes & 4×3 DataFrame \\\\\n",
       "dict & 503 bytes & Dict\\{String, Int64\\} with 3 entries \\\\\n",
       "f & 0 bytes & f (generic function with 4 methods) \\\\\n",
       "file & 372 bytes & IOStream \\\\\n",
       "foo & 0 bytes & foo (generic function with 4 methods) \\\\\n",
       "fruits & 160 bytes & 5-element Vector\\{String\\} \\\\\n",
       "g & 0 bytes & g (generic function with 1 method) \\\\\n",
       "h & 0 bytes & h (generic function with 1 method) \\\\\n",
       "i & 8 bytes & Int64 \\\\\n",
       "idx & 45 bytes & 5-element Vector\\{Bool\\} \\\\\n",
       "iter & 8 bytes & Int64 \\\\\n",
       "lst & 176 bytes & 5-element Vector\\{Any\\} \\\\\n",
       "mycos & 0 bytes & mycos (generic function with 2 methods) \\\\\n",
       "row\\_idx & 45 bytes & 5-element Vector\\{Bool\\} \\\\\n",
       "showall & 0 bytes & showall (generic function with 1 method) \\\\\n",
       "str & 19 bytes & 11-codeunit String \\\\\n",
       "tmp & 1 byte & UInt8 \\\\\n",
       "var & 80 bytes & 2×4 BitMatrix \\\\\n",
       "vegetables & 159 bytes & 5-element Vector\\{String\\} \\\\\n",
       "x & 120 bytes & 5-element Vector\\{ComplexF64\\} \\\\\n",
       "y & 781.289 KiB & 100000-element Vector\\{Float64\\} \\\\\n",
       "z & 768 bytes & 91-element Vector\\{Float64\\} \\\\\n",
       "\\end{tabular}\n"
      ],
      "text/markdown": [
       "| name           |        size | summary                                     |\n",
       "|:-------------- | -----------:|:------------------------------------------- |\n",
       "| Base           |             | Module                                      |\n",
       "| Core           |             | Module                                      |\n",
       "| Foo            |     0 bytes | Foo (generic function with 1 method)        |\n",
       "| M              |   200 bytes | 5×4 Matrix{Float64}                         |\n",
       "| Main           |             | Module                                      |\n",
       "| PLOTS_DEFAULTS |   456 bytes | Dict{Symbol, Symbol} with 1 entry           |\n",
       "| a              |     0 bytes | Irrational{:π}                              |\n",
       "| b              |     0 bytes | Irrational{:π}                              |\n",
       "| bar            |     0 bytes | bar (generic function with 1 method)        |\n",
       "| calculator     |     0 bytes | calculator (generic function with 1 method) |\n",
       "| col_idx        |    44 bytes | 4-element Vector{Bool}                      |\n",
       "| df             |   915 bytes | 4×3 DataFrame                               |\n",
       "| dict           |   503 bytes | Dict{String, Int64} with 3 entries          |\n",
       "| f              |     0 bytes | f (generic function with 4 methods)         |\n",
       "| file           |   372 bytes | IOStream                                    |\n",
       "| foo            |     0 bytes | foo (generic function with 4 methods)       |\n",
       "| fruits         |   160 bytes | 5-element Vector{String}                    |\n",
       "| g              |     0 bytes | g (generic function with 1 method)          |\n",
       "| h              |     0 bytes | h (generic function with 1 method)          |\n",
       "| i              |     8 bytes | Int64                                       |\n",
       "| idx            |    45 bytes | 5-element Vector{Bool}                      |\n",
       "| iter           |     8 bytes | Int64                                       |\n",
       "| lst            |   176 bytes | 5-element Vector{Any}                       |\n",
       "| mycos          |     0 bytes | mycos (generic function with 2 methods)     |\n",
       "| row_idx        |    45 bytes | 5-element Vector{Bool}                      |\n",
       "| showall        |     0 bytes | showall (generic function with 1 method)    |\n",
       "| str            |    19 bytes | 11-codeunit String                          |\n",
       "| tmp            |      1 byte | UInt8                                       |\n",
       "| var            |    80 bytes | 2×4 BitMatrix                               |\n",
       "| vegetables     |   159 bytes | 5-element Vector{String}                    |\n",
       "| x              |   120 bytes | 5-element Vector{ComplexF64}                |\n",
       "| y              | 781.289 KiB | 100000-element Vector{Float64}              |\n",
       "| z              |   768 bytes | 91-element Vector{Float64}                  |\n"
      ],
      "text/plain": [
       "  name                  size summary                                    \n",
       "  –––––––––––––– ––––––––––– –––––––––––––––––––––––––––––––––––––––––––\n",
       "  Base                       Module                                     \n",
       "  Core                       Module                                     \n",
       "  Foo                0 bytes Foo (generic function with 1 method)       \n",
       "  M                200 bytes 5×4 Matrix{Float64}                        \n",
       "  Main                       Module                                     \n",
       "  PLOTS_DEFAULTS   456 bytes Dict{Symbol, Symbol} with 1 entry          \n",
       "  a                  0 bytes Irrational{:π}                             \n",
       "  b                  0 bytes Irrational{:π}                             \n",
       "  bar                0 bytes bar (generic function with 1 method)       \n",
       "  calculator         0 bytes calculator (generic function with 1 method)\n",
       "  col_idx           44 bytes 4-element Vector{Bool}                     \n",
       "  df               915 bytes 4×3 DataFrame                              \n",
       "  dict             503 bytes Dict{String, Int64} with 3 entries         \n",
       "  f                  0 bytes f (generic function with 4 methods)        \n",
       "  file             372 bytes IOStream                                   \n",
       "  foo                0 bytes foo (generic function with 4 methods)      \n",
       "  fruits           160 bytes 5-element Vector{String}                   \n",
       "  g                  0 bytes g (generic function with 1 method)         \n",
       "  h                  0 bytes h (generic function with 1 method)         \n",
       "  i                  8 bytes Int64                                      \n",
       "  idx               45 bytes 5-element Vector{Bool}                     \n",
       "  iter               8 bytes Int64                                      \n",
       "  lst              176 bytes 5-element Vector{Any}                      \n",
       "  mycos              0 bytes mycos (generic function with 2 methods)    \n",
       "  row_idx           45 bytes 5-element Vector{Bool}                     \n",
       "  showall            0 bytes showall (generic function with 1 method)   \n",
       "  str               19 bytes 11-codeunit String                         \n",
       "  tmp                 1 byte UInt8                                      \n",
       "  var               80 bytes 2×4 BitMatrix                              \n",
       "  vegetables       159 bytes 5-element Vector{String}                   \n",
       "  x                120 bytes 5-element Vector{ComplexF64}               \n",
       "  y              781.289 KiB 100000-element Vector{Float64}             \n",
       "  z                768 bytes 91-element Vector{Float64}                 "
      ]
     },
     "execution_count": 124,
     "metadata": {},
     "output_type": "execute_result"
    }
   ],
   "source": [
    "md\"`varinfo` lists all global variables and their corresponding types in the current scope\"\n",
    "varinfo()"
   ]
  },
  {
   "cell_type": "markdown",
   "metadata": {
    "tags": []
   },
   "source": [
    "_Modules_"
   ]
  },
  {
   "cell_type": "code",
   "execution_count": 125,
   "metadata": {
    "tags": []
   },
   "outputs": [
    {
     "data": {
      "text/plain": [
       "Main.MyModule"
      ]
     },
     "execution_count": 125,
     "metadata": {},
     "output_type": "execute_result"
    }
   ],
   "source": [
    "module MyModule\n",
    "export a\n",
    "a = 0\n",
    "b = true\n",
    "end"
   ]
  },
  {
   "cell_type": "code",
   "execution_count": 126,
   "metadata": {
    "tags": []
   },
   "outputs": [
    {
     "data": {
      "text/latex": [
       "\\begin{tabular}\n",
       "{l | r | l}\n",
       "name & size & summary \\\\\n",
       "\\hline\n",
       "MyModule & 2.304 KiB & Module \\\\\n",
       "a & 8 bytes & Int64 \\\\\n",
       "\\end{tabular}\n"
      ],
      "text/markdown": [
       "| name     |      size | summary |\n",
       "|:-------- | ---------:|:------- |\n",
       "| MyModule | 2.304 KiB | Module  |\n",
       "| a        |   8 bytes | Int64   |\n"
      ],
      "text/plain": [
       "  name          size summary\n",
       "  –––––––– ––––––––– –––––––\n",
       "  MyModule 2.304 KiB Module \n",
       "  a          8 bytes Int64  "
      ]
     },
     "execution_count": 126,
     "metadata": {},
     "output_type": "execute_result"
    }
   ],
   "source": [
    "varinfo(MyModule)"
   ]
  },
  {
   "cell_type": "code",
   "execution_count": 127,
   "metadata": {
    "tags": []
   },
   "outputs": [
    {
     "data": {
      "text/plain": [
       "π = 3.1415926535897..."
      ]
     },
     "execution_count": 127,
     "metadata": {},
     "output_type": "execute_result"
    }
   ],
   "source": [
    "a"
   ]
  },
  {
   "cell_type": "code",
   "execution_count": 128,
   "metadata": {
    "tags": []
   },
   "outputs": [
    {
     "data": {
      "text/plain": [
       "0"
      ]
     },
     "execution_count": 128,
     "metadata": {},
     "output_type": "execute_result"
    }
   ],
   "source": [
    "MyModule.a"
   ]
  },
  {
   "cell_type": "code",
   "execution_count": 129,
   "metadata": {
    "tags": []
   },
   "outputs": [
    {
     "data": {
      "text/plain": [
       "true"
      ]
     },
     "execution_count": 129,
     "metadata": {},
     "output_type": "execute_result"
    }
   ],
   "source": [
    "MyModule.b"
   ]
  },
  {
   "cell_type": "code",
   "execution_count": null,
   "metadata": {},
   "outputs": [],
   "source": []
  }
 ],
 "metadata": {
  "kernelspec": {
   "display_name": "Julia 1.9.3",
   "language": "julia",
   "name": "julia-1.9"
  },
  "language_info": {
   "file_extension": ".jl",
   "mimetype": "application/julia",
   "name": "julia",
   "version": "1.9.3"
  }
 },
 "nbformat": 4,
 "nbformat_minor": 4
}
